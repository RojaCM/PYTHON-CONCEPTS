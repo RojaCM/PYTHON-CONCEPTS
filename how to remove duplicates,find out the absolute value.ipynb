{
  "nbformat": 4,
  "nbformat_minor": 0,
  "metadata": {
    "colab": {
      "name": "Untitled213.ipynb",
      "provenance": [],
      "authorship_tag": "ABX9TyMx9I6GWz5ooO7QDHpeasTu",
      "include_colab_link": true
    },
    "kernelspec": {
      "name": "python3",
      "display_name": "Python 3"
    },
    "language_info": {
      "name": "python"
    }
  },
  "cells": [
    {
      "cell_type": "markdown",
      "metadata": {
        "id": "view-in-github",
        "colab_type": "text"
      },
      "source": [
        "<a href=\"https://colab.research.google.com/github/RojaCM/PYTHON-CONCEPTS/blob/main/how%20to%20remove%20duplicates%2Cfind%20out%20the%20absolute%20value.ipynb\" target=\"_parent\"><img src=\"https://colab.research.google.com/assets/colab-badge.svg\" alt=\"Open In Colab\"/></a>"
      ]
    },
    {
      "cell_type": "markdown",
      "source": [
        "#Remove Duplicates from a Python List Using For Loops\n",
        "\n",
        "The most naive implementation of removing duplicates from a Python list is to use a for loop method. Using this method involves looping over each item in a list and seeing if it already exists in another list."
      ],
      "metadata": {
        "id": "-byyFXc0APx4"
      }
    },
    {
      "cell_type": "code",
      "source": [
        "# Remove Duplicates from a Python list using a For Loop\n",
        "duplicated_list = [1,1,2,1,3,4,1,2,3,4]\n",
        "em=[]\n",
        "for i in duplicated_list:\n",
        "  if i not in em:\n",
        "    em.append(i)"
      ],
      "metadata": {
        "id": "0tLps3j4BLiV"
      },
      "execution_count": 31,
      "outputs": []
    },
    {
      "cell_type": "code",
      "source": [
        "em"
      ],
      "metadata": {
        "colab": {
          "base_uri": "https://localhost:8080/"
        },
        "id": "tKxEUSEDBPkf",
        "outputId": "4da7212a-23dd-4874-9f0e-ca330fc72914"
      },
      "execution_count": 32,
      "outputs": [
        {
          "output_type": "execute_result",
          "data": {
            "text/plain": [
              "[1, 2, 3, 4]"
            ]
          },
          "metadata": {},
          "execution_count": 32
        }
      ]
    },
    {
      "cell_type": "markdown",
      "source": [
        "#Remove Duplicates from a Python List Using a List Comprehension\n",
        "\n",
        "Similar to the method using for loops, you can also use Python list comprehensions to deduplicate a list. The process involved here is a little different than a normal list comprehension, as we’ll be using the comprehension more for looping over the list.\n",
        "\n",
        "Let’s see what this looks like:"
      ],
      "metadata": {
        "id": "BwNrx2WEBPnS"
      }
    },
    {
      "cell_type": "code",
      "source": [
        "# Remove Duplicates from a Python list using a List Comprehension\n",
        "duplicated_list = [1,1,2,1,3,4,1,2,3,4]\n",
        "deduplicated_list = list()\n",
        "\n",
        "[deduplicated_list.append(i) for i in duplicated_list if i not in deduplicated_list]"
      ],
      "metadata": {
        "colab": {
          "base_uri": "https://localhost:8080/"
        },
        "id": "AKMqtl2JBLk3",
        "outputId": "8b7883f1-ddbc-4e1b-e5cb-f7c7adc76be8"
      },
      "execution_count": 33,
      "outputs": [
        {
          "output_type": "execute_result",
          "data": {
            "text/plain": [
              "[None, None, None, None]"
            ]
          },
          "metadata": {},
          "execution_count": 33
        }
      ]
    },
    {
      "cell_type": "code",
      "source": [
        "deduplicated_list"
      ],
      "metadata": {
        "colab": {
          "base_uri": "https://localhost:8080/"
        },
        "id": "ljfNxNqfBLoO",
        "outputId": "b32cb75d-d0e8-4e4d-9eee-53c65e957d75"
      },
      "execution_count": 34,
      "outputs": [
        {
          "output_type": "execute_result",
          "data": {
            "text/plain": [
              "[1, 2, 3, 4]"
            ]
          },
          "metadata": {},
          "execution_count": 34
        }
      ]
    },
    {
      "cell_type": "markdown",
      "source": [
        "Use Python Dictionaries to Remove Duplicates from a List\n",
        "Since Python 3.7, Python dictionaries maintain the original order of items passed into them. While this method will work for versions earlier than Python 3.7, the resulting deduplicated list will not maintain the order of the original list.\n",
        "\n",
        "The reason that converting a list to a dictionary works is that dictionary keys must be unique. One important thing to note is that Python dictionaries require their keys to be hashable, meaning that they must be immutable. if your list contains mutable elements, then this approach will not work."
      ],
      "metadata": {
        "id": "2Xge_bD-HRSZ"
      }
    },
    {
      "cell_type": "code",
      "source": [
        "# Remove Duplicates from a Python list using a dictionary\n",
        "duplicated_list = [1,1,2,1,3,4,1,2,3,4]\n",
        "dictionary = dict.fromkeys(duplicated_list)\n",
        "deduplicated_list = list(dictionary)\n",
        "print(deduplicated_list)\n",
        "# Returns: [1, 2, 3, 4]"
      ],
      "metadata": {
        "colab": {
          "base_uri": "https://localhost:8080/"
        },
        "id": "tXCRWDB3HRee",
        "outputId": "8a36f69a-ef00-4aa0-9e91-673929efe074"
      },
      "execution_count": 35,
      "outputs": [
        {
          "output_type": "stream",
          "name": "stdout",
          "text": [
            "[1, 2, 3, 4]\n"
          ]
        }
      ]
    },
    {
      "cell_type": "markdown",
      "source": [
        "#Use Python Sets to Remove Duplicates from a List\n",
        "Sets are unique Python data structures that are generated using the curly braces {}. They contain only unique items and are unordered and unindexed.\n",
        "\n",
        "Because Python sets are unique, when we create a set based off of another object, such as a list, then duplicate items are removed"
      ],
      "metadata": {
        "id": "C7ExBbUZHRjh"
      }
    },
    {
      "cell_type": "code",
      "source": [
        "a=[4,2,3,4,5,6,4,5,4,5,6]"
      ],
      "metadata": {
        "id": "a9giorPfHRoY"
      },
      "execution_count": 36,
      "outputs": []
    },
    {
      "cell_type": "code",
      "source": [
        "set(a)"
      ],
      "metadata": {
        "colab": {
          "base_uri": "https://localhost:8080/"
        },
        "id": "ozWd0kezHRtO",
        "outputId": "80ed010a-bade-4284-bcb5-6cc06915fbd2"
      },
      "execution_count": 37,
      "outputs": [
        {
          "output_type": "execute_result",
          "data": {
            "text/plain": [
              "{2, 3, 4, 5, 6}"
            ]
          },
          "metadata": {},
          "execution_count": 37
        }
      ]
    },
    {
      "cell_type": "code",
      "source": [
        "list(set(a))"
      ],
      "metadata": {
        "colab": {
          "base_uri": "https://localhost:8080/"
        },
        "id": "LIHiY5DEHRyz",
        "outputId": "f3a3c088-a22a-4ea3-d61f-414431546800"
      },
      "execution_count": 38,
      "outputs": [
        {
          "output_type": "execute_result",
          "data": {
            "text/plain": [
              "[2, 3, 4, 5, 6]"
            ]
          },
          "metadata": {},
          "execution_count": 38
        }
      ]
    },
    {
      "cell_type": "markdown",
      "source": [
        "#Remove Duplicates from a Python List Using Collections\n",
        "If you’re working with an older version of Python that doesn’t support ordered dictionaries (prior to Python 3.6), you can also use the collections library to accomplish a very similar approach."
      ],
      "metadata": {
        "id": "dLX1jH8rQB-X"
      }
    },
    {
      "cell_type": "code",
      "source": [
        "# Remove Duplicates from a Python list using a collections\n",
        "from collections import OrderedDict\n",
        "b=[4,5,6,7,8,8,9,9]"
      ],
      "metadata": {
        "id": "Q3vOKHRLSxvo"
      },
      "execution_count": 39,
      "outputs": []
    },
    {
      "cell_type": "code",
      "source": [
        "list(OrderedDict.fromkeys(b))"
      ],
      "metadata": {
        "colab": {
          "base_uri": "https://localhost:8080/"
        },
        "id": "glH5o6abSx0K",
        "outputId": "a680e318-37ac-404d-c943-8e506c75e335"
      },
      "execution_count": 40,
      "outputs": [
        {
          "output_type": "execute_result",
          "data": {
            "text/plain": [
              "[4, 5, 6, 7, 8, 9]"
            ]
          },
          "metadata": {},
          "execution_count": 40
        }
      ]
    },
    {
      "cell_type": "markdown",
      "source": [
        "#Use Numpy to Remove Duplicates from a Python List\n",
        "The popular Python library numpy has a list-like object called arrays. What’s great about these arrays is that they have a number of helpful methods built into them."
      ],
      "metadata": {
        "id": "TLAtpxVZSx44"
      }
    },
    {
      "cell_type": "code",
      "source": [
        "# Remove Duplicates from a Python list using a numpy array\n",
        "import numpy as np\n",
        "\n",
        "d1=[3,4,4,5,6,4,5]"
      ],
      "metadata": {
        "id": "k8ZKTvIzVN-c"
      },
      "execution_count": 41,
      "outputs": []
    },
    {
      "cell_type": "code",
      "source": [
        "np.unique(np.array(d1)).tolist()"
      ],
      "metadata": {
        "colab": {
          "base_uri": "https://localhost:8080/"
        },
        "id": "F97wAclkVOBv",
        "outputId": "b1d05392-b687-4258-a9e7-0358c1afc431"
      },
      "execution_count": 42,
      "outputs": [
        {
          "output_type": "execute_result",
          "data": {
            "text/plain": [
              "[3, 4, 5, 6]"
            ]
          },
          "metadata": {},
          "execution_count": 42
        }
      ]
    },
    {
      "cell_type": "markdown",
      "source": [
        "#Python Absolute Value: Abs() in Python"
      ],
      "metadata": {
        "id": "9SjWsUEQVOIR"
      }
    },
    {
      "cell_type": "markdown",
      "source": [
        "What is an Absolute Value?\n",
        "An absolute value is the distance between a number and 0 on the number line, meaning that it is the positive number of any integer, float, or complex number.\n",
        "\n",
        "Some unique attributes of absolute numbers are:\n",
        "\n",
        "They are always non-negative (meaning, they are 0 or positive)\n",
        "The absolute value of a negative number is equal to the absolute value of its positive equivalent\n",
        "Absolute numbers are often used in math, but also have many practical applications. For example, if you were to develop a program that was used to calculate the distance travelled over the course of a day, you would want to include “negative distance” (those travelled back). Because of this, you’d need to convert those negative numbers to positive numbers, to properly be able to add them up. This is where absolute numbers come in.\n",
        "\n",
        "Let’s see how you can calculate an absolute value in Python by using the abs() function."
      ],
      "metadata": {
        "id": "buGQ6Z-bLeiL"
      }
    },
    {
      "cell_type": "code",
      "source": [
        "i=-2.5\n",
        "abs(i)"
      ],
      "metadata": {
        "colab": {
          "base_uri": "https://localhost:8080/",
          "height": 182
        },
        "id": "5NUbYxVqLevS",
        "outputId": "3c705c79-3223-44b6-a55a-e18f06d0d387"
      },
      "execution_count": 44,
      "outputs": [
        {
          "output_type": "error",
          "ename": "TypeError",
          "evalue": "ignored",
          "traceback": [
            "\u001b[0;31m---------------------------------------------------------------------------\u001b[0m",
            "\u001b[0;31mTypeError\u001b[0m                                 Traceback (most recent call last)",
            "\u001b[0;32m<ipython-input-44-8311cdbfe35b>\u001b[0m in \u001b[0;36m<module>\u001b[0;34m()\u001b[0m\n\u001b[1;32m      1\u001b[0m \u001b[0mi\u001b[0m\u001b[0;34m=\u001b[0m\u001b[0;34m-\u001b[0m\u001b[0;36m2.5\u001b[0m\u001b[0;34m\u001b[0m\u001b[0;34m\u001b[0m\u001b[0m\n\u001b[0;32m----> 2\u001b[0;31m \u001b[0mabs\u001b[0m\u001b[0;34m(\u001b[0m\u001b[0mi\u001b[0m\u001b[0;34m)\u001b[0m\u001b[0;34m\u001b[0m\u001b[0;34m\u001b[0m\u001b[0m\n\u001b[0m",
            "\u001b[0;31mTypeError\u001b[0m: 'list' object is not callable"
          ]
        }
      ]
    },
    {
      "cell_type": "code",
      "source": [
        "2**2"
      ],
      "metadata": {
        "id": "bkIUyBRQN5MW"
      },
      "execution_count": null,
      "outputs": []
    },
    {
      "cell_type": "code",
      "source": [
        "4**0.5"
      ],
      "metadata": {
        "id": "62eBsjDOVAvt"
      },
      "execution_count": null,
      "outputs": []
    },
    {
      "cell_type": "code",
      "source": [
        "q=-2\n",
        "abs(q)"
      ],
      "metadata": {
        "colab": {
          "base_uri": "https://localhost:8080/",
          "height": 182
        },
        "id": "PHxI2J6pVA0x",
        "outputId": "e1f77106-5c30-44df-f62f-56eba6e36efb"
      },
      "execution_count": 45,
      "outputs": [
        {
          "output_type": "error",
          "ename": "TypeError",
          "evalue": "ignored",
          "traceback": [
            "\u001b[0;31m---------------------------------------------------------------------------\u001b[0m",
            "\u001b[0;31mTypeError\u001b[0m                                 Traceback (most recent call last)",
            "\u001b[0;32m<ipython-input-45-41d51264b772>\u001b[0m in \u001b[0;36m<module>\u001b[0;34m()\u001b[0m\n\u001b[1;32m      1\u001b[0m \u001b[0mq\u001b[0m\u001b[0;34m=\u001b[0m\u001b[0;34m-\u001b[0m\u001b[0;36m2\u001b[0m\u001b[0;34m\u001b[0m\u001b[0;34m\u001b[0m\u001b[0m\n\u001b[0;32m----> 2\u001b[0;31m \u001b[0mabs\u001b[0m\u001b[0;34m(\u001b[0m\u001b[0mq\u001b[0m\u001b[0;34m)\u001b[0m\u001b[0;34m\u001b[0m\u001b[0;34m\u001b[0m\u001b[0m\n\u001b[0m",
            "\u001b[0;31mTypeError\u001b[0m: 'list' object is not callable"
          ]
        }
      ]
    },
    {
      "cell_type": "code",
      "source": [
        "p=2\n",
        "abs(p)"
      ],
      "metadata": {
        "id": "Q-AxxMqoVA6E"
      },
      "execution_count": null,
      "outputs": []
    },
    {
      "cell_type": "code",
      "source": [
        "abs(0)"
      ],
      "metadata": {
        "id": "SxHal_M7N5RK"
      },
      "execution_count": null,
      "outputs": []
    },
    {
      "cell_type": "code",
      "source": [
        "#In terms of passing in a complex number, the magnitude of that number is returned.\n",
        "g=3+4j"
      ],
      "metadata": {
        "id": "SSbwyaFBN5WT"
      },
      "execution_count": null,
      "outputs": []
    },
    {
      "cell_type": "code",
      "source": [
        "abs(g)"
      ],
      "metadata": {
        "id": "GRLS7mt-Vkge"
      },
      "execution_count": null,
      "outputs": []
    },
    {
      "cell_type": "markdown",
      "source": [
        "#Calculate the Python Absolute Value without a Function\n",
        "There may be times when you’re challenged to find the absolute value of a given number without the use of the abs() function. This may come up in coding interviews or other challenge situations.\n",
        "\n",
        "One way that we can accomplish this is to first square the number and then find its square root."
      ],
      "metadata": {
        "id": "c-7KrvOIVkl4"
      }
    },
    {
      "cell_type": "code",
      "source": [
        "h=-2.2"
      ],
      "metadata": {
        "id": "e-U5f0HHWr0o"
      },
      "execution_count": null,
      "outputs": []
    },
    {
      "cell_type": "code",
      "source": [
        "((-2.2)**2)**0.5"
      ],
      "metadata": {
        "id": "R1pDkliSWr61"
      },
      "execution_count": null,
      "outputs": []
    },
    {
      "cell_type": "markdown",
      "source": [
        "#Get the Absolute Value of a Python List\n",
        "There may be many times when you’re presented with a list data structure that contains numbers and you want to convert all the numbers to their absolute values.\n",
        "\n",
        "We can use either a for loop or a list comprehension to accomplish this. Lets first take a look at how to accomplish this using a for loop:"
      ],
      "metadata": {
        "id": "zdros4CVWsAq"
      }
    },
    {
      "cell_type": "code",
      "source": [
        "# Converting a Python lists' values to their absolute values using a for loop\n",
        "sample_list = [-99, 123, -1.34, 3.14]\n",
        "\n",
        "for i in range(len(sample_list)):\n",
        "  sample_list[i]=abs(sample_list[i])\n"
      ],
      "metadata": {
        "id": "CQd0YcyxVkrP"
      },
      "execution_count": null,
      "outputs": []
    },
    {
      "cell_type": "code",
      "source": [
        "sample_list"
      ],
      "metadata": {
        "id": "5Ec4W1HkVirF"
      },
      "execution_count": null,
      "outputs": []
    },
    {
      "cell_type": "code",
      "source": [
        "a=[-7,-8,-9,10]"
      ],
      "metadata": {
        "id": "lpLRQchdVixV"
      },
      "execution_count": null,
      "outputs": []
    },
    {
      "cell_type": "code",
      "source": [
        "# Converting a Python lists' values to their absolute values using a for loop\n",
        "sample_list = [-99, 123, -1.34, 3.14]\n",
        "abs_list = list()\n",
        "for value in sample_list:\n",
        "    absolute = abs(value)\n",
        "    abs_list.append(absolute)\n",
        "print(abs_list)\n",
        "# Returns: [99, 123, 1.34, 3.14]"
      ],
      "metadata": {
        "id": "_aXvAM0_N5bf"
      },
      "execution_count": null,
      "outputs": []
    },
    {
      "cell_type": "markdown",
      "source": [
        "#Now that we have a solid understanding of how to accomplish this using a for loop, let’s convert this into a Python list comprehension."
      ],
      "metadata": {
        "id": "h-67ZeP6ZxFK"
      }
    },
    {
      "cell_type": "code",
      "source": [
        "# Converting a Python lists' values to their absolute values using a list comprehension\n",
        "sample_list = [-99, 123, -1.34, 3.14]\n",
        "abs_list = [abs(item) for item in sample_list]\n",
        "print(abs_list)\n",
        "# Returns: [99, 123, 1.34, 3.14]"
      ],
      "metadata": {
        "id": "70uFnl5eZxLS"
      },
      "execution_count": null,
      "outputs": []
    },
    {
      "cell_type": "code",
      "source": [
        "i=78\n",
        "abs(i)"
      ],
      "metadata": {
        "id": "TZx1MgZkN5g2"
      },
      "execution_count": null,
      "outputs": []
    },
    {
      "cell_type": "markdown",
      "source": [
        "#Get the Absolute Value of a Numpy Array\n",
        "Numpy arrays are list-like structures, but they come with a number of different built-in methods than Python lists do.\n",
        "\n",
        "For example, one the numpy functions, np.abs(), takes a numpy array and converts all of its numbers to their absolute value."
      ],
      "metadata": {
        "id": "KdaO4ZDpezYG"
      }
    },
    {
      "cell_type": "code",
      "source": [
        "# Converting a numpy array to absolute values\n",
        "import numpy as np\n",
        "c=[-9,7,-8,-9,6,5]"
      ],
      "metadata": {
        "id": "XwrVjWxqN5mP"
      },
      "execution_count": 48,
      "outputs": []
    },
    {
      "cell_type": "code",
      "source": [
        "np.abs(np.array(c))"
      ],
      "metadata": {
        "colab": {
          "base_uri": "https://localhost:8080/"
        },
        "id": "AqX_kRK9N5rs",
        "outputId": "ea5504a6-d7d4-4a6e-829f-dbd96745ab70"
      },
      "execution_count": 50,
      "outputs": [
        {
          "output_type": "execute_result",
          "data": {
            "text/plain": [
              "array([9, 7, 8, 9, 6, 5])"
            ]
          },
          "metadata": {},
          "execution_count": 50
        }
      ]
    },
    {
      "cell_type": "markdown",
      "source": [
        "#Convert a Pandas Column to Absolute Values\n",
        "Pandas makes it very easy to work with tabular data, storing the data in a pandas.DataFrame object. Let’s load a Pandas dataframe and learn how to convert a column’s values to their absolute values using built-in functions."
      ],
      "metadata": {
        "id": "r7hT4wXWLeyt"
      }
    },
    {
      "cell_type": "code",
      "source": [
        "# Converting a Pandas dataframe column to its absolute values\n",
        "import pandas as pd\n"
      ],
      "metadata": {
        "id": "2ahT8dsXLe3_"
      },
      "execution_count": 51,
      "outputs": []
    },
    {
      "cell_type": "code",
      "source": [
        "df={'name':['roja','pooja','theja','manju','prema'],\n",
        "    'distance':[-5,8,-9,-5,-4]}"
      ],
      "metadata": {
        "id": "CKJkv5wMVOM8"
      },
      "execution_count": 52,
      "outputs": []
    },
    {
      "cell_type": "code",
      "source": [
        "df"
      ],
      "metadata": {
        "id": "u06c0phrVOQe",
        "colab": {
          "base_uri": "https://localhost:8080/"
        },
        "outputId": "72c6b58f-cc0f-4539-e3d1-6a2964e861fb"
      },
      "execution_count": 53,
      "outputs": [
        {
          "output_type": "execute_result",
          "data": {
            "text/plain": [
              "{'distance': [-5, 8, -9, -5, -4],\n",
              " 'name': ['roja', 'pooja', 'theja', 'manju', 'prema']}"
            ]
          },
          "metadata": {},
          "execution_count": 53
        }
      ]
    },
    {
      "cell_type": "code",
      "source": [
        "df1=pd.DataFrame(df)"
      ],
      "metadata": {
        "id": "QE4gc73gSx9O"
      },
      "execution_count": 54,
      "outputs": []
    },
    {
      "cell_type": "code",
      "source": [
        "df1"
      ],
      "metadata": {
        "id": "N35m9EIlSyBm",
        "colab": {
          "base_uri": "https://localhost:8080/",
          "height": 206
        },
        "outputId": "2bfae392-7422-4bb9-dd40-5a38f59ee92f"
      },
      "execution_count": 55,
      "outputs": [
        {
          "output_type": "execute_result",
          "data": {
            "text/plain": [
              "    name  distance\n",
              "0   roja        -5\n",
              "1  pooja         8\n",
              "2  theja        -9\n",
              "3  manju        -5\n",
              "4  prema        -4"
            ],
            "text/html": [
              "\n",
              "  <div id=\"df-d7aecaa6-9484-41df-ab97-31323e2118fc\">\n",
              "    <div class=\"colab-df-container\">\n",
              "      <div>\n",
              "<style scoped>\n",
              "    .dataframe tbody tr th:only-of-type {\n",
              "        vertical-align: middle;\n",
              "    }\n",
              "\n",
              "    .dataframe tbody tr th {\n",
              "        vertical-align: top;\n",
              "    }\n",
              "\n",
              "    .dataframe thead th {\n",
              "        text-align: right;\n",
              "    }\n",
              "</style>\n",
              "<table border=\"1\" class=\"dataframe\">\n",
              "  <thead>\n",
              "    <tr style=\"text-align: right;\">\n",
              "      <th></th>\n",
              "      <th>name</th>\n",
              "      <th>distance</th>\n",
              "    </tr>\n",
              "  </thead>\n",
              "  <tbody>\n",
              "    <tr>\n",
              "      <th>0</th>\n",
              "      <td>roja</td>\n",
              "      <td>-5</td>\n",
              "    </tr>\n",
              "    <tr>\n",
              "      <th>1</th>\n",
              "      <td>pooja</td>\n",
              "      <td>8</td>\n",
              "    </tr>\n",
              "    <tr>\n",
              "      <th>2</th>\n",
              "      <td>theja</td>\n",
              "      <td>-9</td>\n",
              "    </tr>\n",
              "    <tr>\n",
              "      <th>3</th>\n",
              "      <td>manju</td>\n",
              "      <td>-5</td>\n",
              "    </tr>\n",
              "    <tr>\n",
              "      <th>4</th>\n",
              "      <td>prema</td>\n",
              "      <td>-4</td>\n",
              "    </tr>\n",
              "  </tbody>\n",
              "</table>\n",
              "</div>\n",
              "      <button class=\"colab-df-convert\" onclick=\"convertToInteractive('df-d7aecaa6-9484-41df-ab97-31323e2118fc')\"\n",
              "              title=\"Convert this dataframe to an interactive table.\"\n",
              "              style=\"display:none;\">\n",
              "        \n",
              "  <svg xmlns=\"http://www.w3.org/2000/svg\" height=\"24px\"viewBox=\"0 0 24 24\"\n",
              "       width=\"24px\">\n",
              "    <path d=\"M0 0h24v24H0V0z\" fill=\"none\"/>\n",
              "    <path d=\"M18.56 5.44l.94 2.06.94-2.06 2.06-.94-2.06-.94-.94-2.06-.94 2.06-2.06.94zm-11 1L8.5 8.5l.94-2.06 2.06-.94-2.06-.94L8.5 2.5l-.94 2.06-2.06.94zm10 10l.94 2.06.94-2.06 2.06-.94-2.06-.94-.94-2.06-.94 2.06-2.06.94z\"/><path d=\"M17.41 7.96l-1.37-1.37c-.4-.4-.92-.59-1.43-.59-.52 0-1.04.2-1.43.59L10.3 9.45l-7.72 7.72c-.78.78-.78 2.05 0 2.83L4 21.41c.39.39.9.59 1.41.59.51 0 1.02-.2 1.41-.59l7.78-7.78 2.81-2.81c.8-.78.8-2.07 0-2.86zM5.41 20L4 18.59l7.72-7.72 1.47 1.35L5.41 20z\"/>\n",
              "  </svg>\n",
              "      </button>\n",
              "      \n",
              "  <style>\n",
              "    .colab-df-container {\n",
              "      display:flex;\n",
              "      flex-wrap:wrap;\n",
              "      gap: 12px;\n",
              "    }\n",
              "\n",
              "    .colab-df-convert {\n",
              "      background-color: #E8F0FE;\n",
              "      border: none;\n",
              "      border-radius: 50%;\n",
              "      cursor: pointer;\n",
              "      display: none;\n",
              "      fill: #1967D2;\n",
              "      height: 32px;\n",
              "      padding: 0 0 0 0;\n",
              "      width: 32px;\n",
              "    }\n",
              "\n",
              "    .colab-df-convert:hover {\n",
              "      background-color: #E2EBFA;\n",
              "      box-shadow: 0px 1px 2px rgba(60, 64, 67, 0.3), 0px 1px 3px 1px rgba(60, 64, 67, 0.15);\n",
              "      fill: #174EA6;\n",
              "    }\n",
              "\n",
              "    [theme=dark] .colab-df-convert {\n",
              "      background-color: #3B4455;\n",
              "      fill: #D2E3FC;\n",
              "    }\n",
              "\n",
              "    [theme=dark] .colab-df-convert:hover {\n",
              "      background-color: #434B5C;\n",
              "      box-shadow: 0px 1px 3px 1px rgba(0, 0, 0, 0.15);\n",
              "      filter: drop-shadow(0px 1px 2px rgba(0, 0, 0, 0.3));\n",
              "      fill: #FFFFFF;\n",
              "    }\n",
              "  </style>\n",
              "\n",
              "      <script>\n",
              "        const buttonEl =\n",
              "          document.querySelector('#df-d7aecaa6-9484-41df-ab97-31323e2118fc button.colab-df-convert');\n",
              "        buttonEl.style.display =\n",
              "          google.colab.kernel.accessAllowed ? 'block' : 'none';\n",
              "\n",
              "        async function convertToInteractive(key) {\n",
              "          const element = document.querySelector('#df-d7aecaa6-9484-41df-ab97-31323e2118fc');\n",
              "          const dataTable =\n",
              "            await google.colab.kernel.invokeFunction('convertToInteractive',\n",
              "                                                     [key], {});\n",
              "          if (!dataTable) return;\n",
              "\n",
              "          const docLinkHtml = 'Like what you see? Visit the ' +\n",
              "            '<a target=\"_blank\" href=https://colab.research.google.com/notebooks/data_table.ipynb>data table notebook</a>'\n",
              "            + ' to learn more about interactive tables.';\n",
              "          element.innerHTML = '';\n",
              "          dataTable['output_type'] = 'display_data';\n",
              "          await google.colab.output.renderOutput(dataTable, element);\n",
              "          const docLink = document.createElement('div');\n",
              "          docLink.innerHTML = docLinkHtml;\n",
              "          element.appendChild(docLink);\n",
              "        }\n",
              "      </script>\n",
              "    </div>\n",
              "  </div>\n",
              "  "
            ]
          },
          "metadata": {},
          "execution_count": 55
        }
      ]
    },
    {
      "cell_type": "code",
      "source": [
        "df1['absdistance']=df1['distance'].abs()"
      ],
      "metadata": {
        "id": "fKq29CpZgwkU"
      },
      "execution_count": 56,
      "outputs": []
    },
    {
      "cell_type": "code",
      "source": [
        "df1"
      ],
      "metadata": {
        "colab": {
          "base_uri": "https://localhost:8080/",
          "height": 206
        },
        "id": "EfxbKLltg2i1",
        "outputId": "f5e13cd2-0c92-42fc-d33a-d7fb79c2008f"
      },
      "execution_count": 57,
      "outputs": [
        {
          "output_type": "execute_result",
          "data": {
            "text/plain": [
              "    name  distance  absdistance\n",
              "0   roja        -5            5\n",
              "1  pooja         8            8\n",
              "2  theja        -9            9\n",
              "3  manju        -5            5\n",
              "4  prema        -4            4"
            ],
            "text/html": [
              "\n",
              "  <div id=\"df-3ed17b20-0e0b-4116-b677-d6fe8ef89739\">\n",
              "    <div class=\"colab-df-container\">\n",
              "      <div>\n",
              "<style scoped>\n",
              "    .dataframe tbody tr th:only-of-type {\n",
              "        vertical-align: middle;\n",
              "    }\n",
              "\n",
              "    .dataframe tbody tr th {\n",
              "        vertical-align: top;\n",
              "    }\n",
              "\n",
              "    .dataframe thead th {\n",
              "        text-align: right;\n",
              "    }\n",
              "</style>\n",
              "<table border=\"1\" class=\"dataframe\">\n",
              "  <thead>\n",
              "    <tr style=\"text-align: right;\">\n",
              "      <th></th>\n",
              "      <th>name</th>\n",
              "      <th>distance</th>\n",
              "      <th>absdistance</th>\n",
              "    </tr>\n",
              "  </thead>\n",
              "  <tbody>\n",
              "    <tr>\n",
              "      <th>0</th>\n",
              "      <td>roja</td>\n",
              "      <td>-5</td>\n",
              "      <td>5</td>\n",
              "    </tr>\n",
              "    <tr>\n",
              "      <th>1</th>\n",
              "      <td>pooja</td>\n",
              "      <td>8</td>\n",
              "      <td>8</td>\n",
              "    </tr>\n",
              "    <tr>\n",
              "      <th>2</th>\n",
              "      <td>theja</td>\n",
              "      <td>-9</td>\n",
              "      <td>9</td>\n",
              "    </tr>\n",
              "    <tr>\n",
              "      <th>3</th>\n",
              "      <td>manju</td>\n",
              "      <td>-5</td>\n",
              "      <td>5</td>\n",
              "    </tr>\n",
              "    <tr>\n",
              "      <th>4</th>\n",
              "      <td>prema</td>\n",
              "      <td>-4</td>\n",
              "      <td>4</td>\n",
              "    </tr>\n",
              "  </tbody>\n",
              "</table>\n",
              "</div>\n",
              "      <button class=\"colab-df-convert\" onclick=\"convertToInteractive('df-3ed17b20-0e0b-4116-b677-d6fe8ef89739')\"\n",
              "              title=\"Convert this dataframe to an interactive table.\"\n",
              "              style=\"display:none;\">\n",
              "        \n",
              "  <svg xmlns=\"http://www.w3.org/2000/svg\" height=\"24px\"viewBox=\"0 0 24 24\"\n",
              "       width=\"24px\">\n",
              "    <path d=\"M0 0h24v24H0V0z\" fill=\"none\"/>\n",
              "    <path d=\"M18.56 5.44l.94 2.06.94-2.06 2.06-.94-2.06-.94-.94-2.06-.94 2.06-2.06.94zm-11 1L8.5 8.5l.94-2.06 2.06-.94-2.06-.94L8.5 2.5l-.94 2.06-2.06.94zm10 10l.94 2.06.94-2.06 2.06-.94-2.06-.94-.94-2.06-.94 2.06-2.06.94z\"/><path d=\"M17.41 7.96l-1.37-1.37c-.4-.4-.92-.59-1.43-.59-.52 0-1.04.2-1.43.59L10.3 9.45l-7.72 7.72c-.78.78-.78 2.05 0 2.83L4 21.41c.39.39.9.59 1.41.59.51 0 1.02-.2 1.41-.59l7.78-7.78 2.81-2.81c.8-.78.8-2.07 0-2.86zM5.41 20L4 18.59l7.72-7.72 1.47 1.35L5.41 20z\"/>\n",
              "  </svg>\n",
              "      </button>\n",
              "      \n",
              "  <style>\n",
              "    .colab-df-container {\n",
              "      display:flex;\n",
              "      flex-wrap:wrap;\n",
              "      gap: 12px;\n",
              "    }\n",
              "\n",
              "    .colab-df-convert {\n",
              "      background-color: #E8F0FE;\n",
              "      border: none;\n",
              "      border-radius: 50%;\n",
              "      cursor: pointer;\n",
              "      display: none;\n",
              "      fill: #1967D2;\n",
              "      height: 32px;\n",
              "      padding: 0 0 0 0;\n",
              "      width: 32px;\n",
              "    }\n",
              "\n",
              "    .colab-df-convert:hover {\n",
              "      background-color: #E2EBFA;\n",
              "      box-shadow: 0px 1px 2px rgba(60, 64, 67, 0.3), 0px 1px 3px 1px rgba(60, 64, 67, 0.15);\n",
              "      fill: #174EA6;\n",
              "    }\n",
              "\n",
              "    [theme=dark] .colab-df-convert {\n",
              "      background-color: #3B4455;\n",
              "      fill: #D2E3FC;\n",
              "    }\n",
              "\n",
              "    [theme=dark] .colab-df-convert:hover {\n",
              "      background-color: #434B5C;\n",
              "      box-shadow: 0px 1px 3px 1px rgba(0, 0, 0, 0.15);\n",
              "      filter: drop-shadow(0px 1px 2px rgba(0, 0, 0, 0.3));\n",
              "      fill: #FFFFFF;\n",
              "    }\n",
              "  </style>\n",
              "\n",
              "      <script>\n",
              "        const buttonEl =\n",
              "          document.querySelector('#df-3ed17b20-0e0b-4116-b677-d6fe8ef89739 button.colab-df-convert');\n",
              "        buttonEl.style.display =\n",
              "          google.colab.kernel.accessAllowed ? 'block' : 'none';\n",
              "\n",
              "        async function convertToInteractive(key) {\n",
              "          const element = document.querySelector('#df-3ed17b20-0e0b-4116-b677-d6fe8ef89739');\n",
              "          const dataTable =\n",
              "            await google.colab.kernel.invokeFunction('convertToInteractive',\n",
              "                                                     [key], {});\n",
              "          if (!dataTable) return;\n",
              "\n",
              "          const docLinkHtml = 'Like what you see? Visit the ' +\n",
              "            '<a target=\"_blank\" href=https://colab.research.google.com/notebooks/data_table.ipynb>data table notebook</a>'\n",
              "            + ' to learn more about interactive tables.';\n",
              "          element.innerHTML = '';\n",
              "          dataTable['output_type'] = 'display_data';\n",
              "          await google.colab.output.renderOutput(dataTable, element);\n",
              "          const docLink = document.createElement('div');\n",
              "          docLink.innerHTML = docLinkHtml;\n",
              "          element.appendChild(docLink);\n",
              "        }\n",
              "      </script>\n",
              "    </div>\n",
              "  </div>\n",
              "  "
            ]
          },
          "metadata": {},
          "execution_count": 57
        }
      ]
    },
    {
      "cell_type": "code",
      "source": [
        ""
      ],
      "metadata": {
        "id": "_CzqAJClg3b7"
      },
      "execution_count": null,
      "outputs": []
    },
    {
      "cell_type": "code",
      "source": [
        ""
      ],
      "metadata": {
        "id": "8t8dm5QUg3gp"
      },
      "execution_count": null,
      "outputs": []
    },
    {
      "cell_type": "code",
      "source": [
        ""
      ],
      "metadata": {
        "id": "4QCZW54og3k4"
      },
      "execution_count": null,
      "outputs": []
    },
    {
      "cell_type": "code",
      "source": [
        ""
      ],
      "metadata": {
        "id": "ySjBmzWwg3q2"
      },
      "execution_count": null,
      "outputs": []
    }
  ]
}