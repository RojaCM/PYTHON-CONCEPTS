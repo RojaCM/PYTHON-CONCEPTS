{
  "nbformat": 4,
  "nbformat_minor": 0,
  "metadata": {
    "colab": {
      "name": "Untitled216.ipynb",
      "provenance": [],
      "authorship_tag": "ABX9TyM7U6PlgQPxfohPzTmFLgz/",
      "include_colab_link": true
    },
    "kernelspec": {
      "name": "python3",
      "display_name": "Python 3"
    },
    "language_info": {
      "name": "python"
    }
  },
  "cells": [
    {
      "cell_type": "markdown",
      "metadata": {
        "id": "view-in-github",
        "colab_type": "text"
      },
      "source": [
        "<a href=\"https://colab.research.google.com/github/RojaCM/PYTHON-CONCEPTS/blob/main/How%20to%20shuffle%20a%20lists%20in%20a%20python%2Chow%20to%20find%20the%20intersection%20and%20subtraction%20between%20two%20lists.ipynb\" target=\"_parent\"><img src=\"https://colab.research.google.com/assets/colab-badge.svg\" alt=\"Open In Colab\"/></a>"
      ]
    },
    {
      "cell_type": "markdown",
      "source": [
        "#Python: Shuffle a List (Randomize Python List Elements)"
      ],
      "metadata": {
        "id": "pQkWPLjIdOfV"
      }
    },
    {
      "cell_type": "markdown",
      "source": [
        "Python comes built-in with an incredibly helpful library to generate randomness, called random. Throughout this tutorial, you’ll learn how to use the random.shuffle() and random.sample() functions. Before we dive into how to use them, however, let’s quickly explore what the differences are."
      ],
      "metadata": {
        "id": "JIqEYFAieSWy"
      }
    },
    {
      "cell_type": "markdown",
      "source": [
        "Both functions return a list that is randomly sorted, but how they return them is different:\n",
        "\n",
        "random.shuffle() shuffles the original list, meaning the shuffling can be done in-place\n",
        "\n",
        "random.sample() returns a new shuffled list, based on the original list\n",
        "random.sample() can also be used to shuffle strings and tuples, as it creates a new list, thereby allowing you to work on immutable data types.\n",
        "\n",
        "Now, let’s dive into how to shuffle a list in Python!"
      ],
      "metadata": {
        "id": "dVuvbRoXeTKF"
      }
    },
    {
      "cell_type": "markdown",
      "source": [
        "# #Shuffle a Python List and Re-assign It to Itself\n",
        "The random.shuffle() function makes it easy to shuffle a list’s items in Python. Because the function works in-place, we do not need to reassign the list to itself, but it allows us to easily randomize list elements."
      ],
      "metadata": {
        "id": "Phyg9gPNeTNp"
      }
    },
    {
      "cell_type": "code",
      "source": [
        "import random"
      ],
      "metadata": {
        "id": "Bjz0yxEwfSEh"
      },
      "execution_count": null,
      "outputs": []
    },
    {
      "cell_type": "code",
      "source": [
        "a_list = ['welcome', 'to', 'datagy', 'where', 'you', 'will', 'learn', 'Python', 'and', 'more']"
      ],
      "metadata": {
        "id": "oGmChEFqfcRu"
      },
      "execution_count": null,
      "outputs": []
    },
    {
      "cell_type": "code",
      "source": [
        "random.shuffle(a_list)\n",
        "print(a_list)"
      ],
      "metadata": {
        "colab": {
          "base_uri": "https://localhost:8080/"
        },
        "id": "VE-QGOQ0ffD9",
        "outputId": "8882521e-f769-473d-9406-399d8bb3925c"
      },
      "execution_count": null,
      "outputs": [
        {
          "output_type": "stream",
          "name": "stdout",
          "text": [
            "['to', 'datagy', 'where', 'you', 'more', 'learn', 'Python', 'welcome', 'will', 'and']\n"
          ]
        }
      ]
    },
    {
      "cell_type": "code",
      "source": [
        "a_list"
      ],
      "metadata": {
        "colab": {
          "base_uri": "https://localhost:8080/"
        },
        "id": "hFq4-Vb8ffIB",
        "outputId": "8b87c8e2-d594-423b-8145-1a4890fe08a3"
      },
      "execution_count": null,
      "outputs": [
        {
          "output_type": "execute_result",
          "data": {
            "text/plain": [
              "['to',\n",
              " 'datagy',\n",
              " 'where',\n",
              " 'you',\n",
              " 'more',\n",
              " 'learn',\n",
              " 'Python',\n",
              " 'welcome',\n",
              " 'will',\n",
              " 'and']"
            ]
          },
          "metadata": {},
          "execution_count": 6
        }
      ]
    },
    {
      "cell_type": "code",
      "source": [
        "a_list"
      ],
      "metadata": {
        "colab": {
          "base_uri": "https://localhost:8080/"
        },
        "id": "gWyJ20owffPe",
        "outputId": "bcafa38c-186f-4404-8120-503e6bfd2d17"
      },
      "execution_count": null,
      "outputs": [
        {
          "output_type": "execute_result",
          "data": {
            "text/plain": [
              "['to',\n",
              " 'datagy',\n",
              " 'where',\n",
              " 'you',\n",
              " 'more',\n",
              " 'learn',\n",
              " 'Python',\n",
              " 'welcome',\n",
              " 'will',\n",
              " 'and']"
            ]
          },
          "metadata": {},
          "execution_count": 7
        }
      ]
    },
    {
      "cell_type": "markdown",
      "source": [
        "#Shuffle a Python List and Assign It to a New List\n",
        "The random.sample() function is used to sample a set number of items from a sequence-like object in Python. The function picks these items randomly.\n",
        "\n",
        "Let’s take a quick look at what the function looks like:\n",
        "\n",
        "random.sample(iterable, k)\n",
        "\n",
        "In this case, the iterable will be the list we want to shuffle, and k refers to the number of items we want to select. Because we want to return the full list in a random order, we will pass in the length of the list into the k parameter."
      ],
      "metadata": {
        "id": "hUSUY2TyffU0"
      }
    },
    {
      "cell_type": "code",
      "source": [
        "shuffled=random.sample(a_list,8)"
      ],
      "metadata": {
        "id": "hczIVYJtfua0"
      },
      "execution_count": null,
      "outputs": []
    },
    {
      "cell_type": "code",
      "source": [
        "shuffled"
      ],
      "metadata": {
        "colab": {
          "base_uri": "https://localhost:8080/"
        },
        "id": "rogExTs_fufG",
        "outputId": "ccb4d491-9a1e-46d0-acb3-0578e87b8740"
      },
      "execution_count": null,
      "outputs": [
        {
          "output_type": "execute_result",
          "data": {
            "text/plain": [
              "['you', 'more', 'learn', 'datagy', 'Python', 'to', 'and', 'where']"
            ]
          },
          "metadata": {},
          "execution_count": 16
        }
      ]
    },
    {
      "cell_type": "code",
      "source": [
        "len(a_list)"
      ],
      "metadata": {
        "colab": {
          "base_uri": "https://localhost:8080/"
        },
        "id": "eEqgHYzhg20f",
        "outputId": "643b3b9c-c9eb-4902-b71e-566841d8ae42"
      },
      "execution_count": null,
      "outputs": [
        {
          "output_type": "execute_result",
          "data": {
            "text/plain": [
              "10"
            ]
          },
          "metadata": {},
          "execution_count": 17
        }
      ]
    },
    {
      "cell_type": "code",
      "source": [
        "# Reproducing a randomly shuffled list in Python\n",
        "import random\n",
        "a_list = ['welcome', 'to', 'datagy', 'where', 'you', 'will', 'learn', 'Python', 'and', 'more']\n",
        "\n",
        "random.seed(3)"
      ],
      "metadata": {
        "id": "3oZcO83ag4XP"
      },
      "execution_count": null,
      "outputs": []
    },
    {
      "cell_type": "code",
      "source": [
        "\n",
        "\n",
        "\n",
        "for i in range(5):\n",
        "  random.shuffle(a_list)\n",
        "  print(a_list)"
      ],
      "metadata": {
        "colab": {
          "base_uri": "https://localhost:8080/"
        },
        "id": "BXupIQqoh2G7",
        "outputId": "682d5af1-9b66-4634-d558-706317e43d93"
      },
      "execution_count": null,
      "outputs": [
        {
          "output_type": "stream",
          "name": "stdout",
          "text": [
            "['welcome', 'where', 'more', 'Python', 'you', 'and', 'will', 'to', 'learn', 'datagy']\n",
            "['you', 'datagy', 'will', 'and', 'to', 'Python', 'learn', 'where', 'more', 'welcome']\n",
            "['to', 'learn', 'where', 'will', 'more', 'datagy', 'Python', 'you', 'and', 'welcome']\n",
            "['datagy', 'you', 'to', 'and', 'will', 'Python', 'more', 'welcome', 'learn', 'where']\n",
            "['Python', 'welcome', 'where', 'will', 'to', 'more', 'you', 'learn', 'and', 'datagy']\n"
          ]
        }
      ]
    },
    {
      "cell_type": "code",
      "source": [
        "random.seed(10)\n",
        "a=random.random()"
      ],
      "metadata": {
        "id": "agxYMPJvh4rJ"
      },
      "execution_count": null,
      "outputs": []
    },
    {
      "cell_type": "code",
      "source": [
        "a"
      ],
      "metadata": {
        "colab": {
          "base_uri": "https://localhost:8080/"
        },
        "id": "Y0jr3_CLiCDt",
        "outputId": "720f4c2d-79ca-4e8a-c51b-50e3dfe6953f"
      },
      "execution_count": null,
      "outputs": [
        {
          "output_type": "execute_result",
          "data": {
            "text/plain": [
              "0.5714025946899135"
            ]
          },
          "metadata": {},
          "execution_count": 34
        }
      ]
    },
    {
      "cell_type": "markdown",
      "source": [
        "#Shuffle a Python List of Lists\n",
        "In Python, you’ll often encounter multi-dimensional lists, often referred to as lists of lists. We can easily do this using a for loop. By looping over each list in the list of lists, we can then easily apply the random.shuffle() function to randomize each sublist’s elements."
      ],
      "metadata": {
        "id": "UaVR6IGNi3tJ"
      }
    },
    {
      "cell_type": "code",
      "source": [
        "# Shuffling a list of lists in Python\n",
        "import random\n",
        "a_list = [['apple', 'orange', 'grape'], ['banana', 'melon', 'tangerine'], ['lime', 'lemon', 'strawberry']]\n",
        "\n",
        "for sub_list in a_list:\n",
        "  random.shuffle(sub_list)\n",
        "  print(sub_list)\n"
      ],
      "metadata": {
        "colab": {
          "base_uri": "https://localhost:8080/"
        },
        "id": "UGoLAH7yi3vt",
        "outputId": "a4593e5e-248d-46a4-e1ab-acfa331a0085"
      },
      "execution_count": null,
      "outputs": [
        {
          "output_type": "stream",
          "name": "stdout",
          "text": [
            "['grape', 'apple', 'orange']\n",
            "['banana', 'melon', 'tangerine']\n",
            "['lime', 'lemon', 'strawberry']\n"
          ]
        }
      ]
    },
    {
      "cell_type": "markdown",
      "source": [
        "#Shuffle Multiple Lists with the Same Order of Shuffling\n",
        "Let’s say you have two lists: one that contains the type of fruit and the other the number of that type of fruit you have. You want to shuffle the lists but you want the referential integrity to remain true (meaning that index 0 of both lists would be shuffled to the same index in the shuffled result).\n",
        "\n",
        "In order to accomplish this, we’ll:\n",
        "\n",
        "Merge the two lists in a list of lists using the zip() function\n",
        "Shuffle the list of lists internally\n",
        "Unpack the list of lists into individual lists#"
      ],
      "metadata": {
        "id": "_8EpBxtHi3yh"
      }
    },
    {
      "cell_type": "code",
      "source": [
        "# Shuffling two lists in the same order\n",
        "import random\n",
        "fruits = ['apples', 'grapes', 'oranges', 'bananas']\n",
        "quantities = [50, 40, 60, 70]"
      ],
      "metadata": {
        "id": "2iA2FnIFkOjF"
      },
      "execution_count": null,
      "outputs": []
    },
    {
      "cell_type": "code",
      "source": [
        "merged=list(zip(fruits,quantities))"
      ],
      "metadata": {
        "id": "w2JtDLcOm-mS"
      },
      "execution_count": null,
      "outputs": []
    },
    {
      "cell_type": "code",
      "source": [
        "merged"
      ],
      "metadata": {
        "colab": {
          "base_uri": "https://localhost:8080/"
        },
        "id": "oXH-SWCKm-r6",
        "outputId": "3458c399-324c-4580-c58d-363cb94529ca"
      },
      "execution_count": null,
      "outputs": [
        {
          "output_type": "execute_result",
          "data": {
            "text/plain": [
              "[('apples', 50), ('grapes', 40), ('oranges', 60), ('bananas', 70)]"
            ]
          },
          "metadata": {},
          "execution_count": 43
        }
      ]
    },
    {
      "cell_type": "code",
      "source": [
        "random.shuffle(merged)"
      ],
      "metadata": {
        "id": "iFwxns4Zm-yt"
      },
      "execution_count": null,
      "outputs": []
    },
    {
      "cell_type": "code",
      "source": [
        "merged"
      ],
      "metadata": {
        "colab": {
          "base_uri": "https://localhost:8080/"
        },
        "id": "y3PmTV3pnZz3",
        "outputId": "921c35e3-2031-4663-cb92-b44c3ca3cd0e"
      },
      "execution_count": null,
      "outputs": [
        {
          "output_type": "execute_result",
          "data": {
            "text/plain": [
              "[('oranges', 60), ('apples', 50), ('bananas', 70), ('grapes', 40)]"
            ]
          },
          "metadata": {},
          "execution_count": 45
        }
      ]
    },
    {
      "cell_type": "code",
      "source": [
        "fruits=[i[0] for i in merged]\n",
        "quantities=[i[1] for i in merged]"
      ],
      "metadata": {
        "id": "OskXcoXUndzU"
      },
      "execution_count": null,
      "outputs": []
    },
    {
      "cell_type": "code",
      "source": [
        "fruits"
      ],
      "metadata": {
        "colab": {
          "base_uri": "https://localhost:8080/"
        },
        "id": "ppAGhtjFnd4B",
        "outputId": "95fa8686-84d7-48a6-a486-80e3c944e30d"
      },
      "execution_count": null,
      "outputs": [
        {
          "output_type": "execute_result",
          "data": {
            "text/plain": [
              "['oranges', 'apples', 'bananas', 'grapes']"
            ]
          },
          "metadata": {},
          "execution_count": 48
        }
      ]
    },
    {
      "cell_type": "code",
      "source": [
        "quantities"
      ],
      "metadata": {
        "colab": {
          "base_uri": "https://localhost:8080/"
        },
        "id": "RX_oxTeLnd95",
        "outputId": "99ed1d84-5490-49d8-dee3-bd4a83bf0b3f"
      },
      "execution_count": null,
      "outputs": [
        {
          "output_type": "execute_result",
          "data": {
            "text/plain": [
              "[60, 50, 70, 40]"
            ]
          },
          "metadata": {},
          "execution_count": 49
        }
      ]
    },
    {
      "cell_type": "markdown",
      "source": [
        "#Python: Intersection Between Two Lists\n"
      ],
      "metadata": {
        "id": "f9Y7dtxPnZ5F"
      }
    },
    {
      "cell_type": "markdown",
      "source": [
        "#Using a Python For Loop to Find Intersection Between Two Lists\n",
        "Using a Python for loop is an easy, intuitive way to find the intersection between two lists. The benefit of understandability here comes at a performance hit with lists of much larger\n",
        "What we’ll do, is loop over each item in a list and see if it exists in the other. If it does, then we append it to a new list. If it doesn’t, then we’ll do nothing.\n"
      ],
      "metadata": {
        "id": "g-_hfkOBn-JW"
      }
    },
    {
      "cell_type": "code",
      "source": [
        "# Find intesection between two Python lists using a for loop\n",
        "list1 = ['a', 'b', 'c', 'd', 'e']\n",
        "list2 = ['b', 'd', 'e', 'f', 'g']"
      ],
      "metadata": {
        "id": "2eVs8kOvn-Ot"
      },
      "execution_count": 1,
      "outputs": []
    },
    {
      "cell_type": "code",
      "source": [
        "z=[]\n",
        "for i in list1:\n",
        "  for j in list2:\n",
        "    if j ==i:\n",
        "      z.append(i)"
      ],
      "metadata": {
        "id": "VI3EXeyKn-Td"
      },
      "execution_count": 2,
      "outputs": []
    },
    {
      "cell_type": "code",
      "source": [
        "z"
      ],
      "metadata": {
        "id": "RhbI_6Z6i31v",
        "outputId": "f3c050f2-5b76-4ded-9960-c8a947359329",
        "colab": {
          "base_uri": "https://localhost:8080/"
        }
      },
      "execution_count": 3,
      "outputs": [
        {
          "output_type": "execute_result",
          "data": {
            "text/plain": [
              "['b', 'd', 'e']"
            ]
          },
          "metadata": {},
          "execution_count": 3
        }
      ]
    },
    {
      "cell_type": "code",
      "source": [
        "y=[]\n",
        "for i in list1:\n",
        "  if i in list2:\n",
        "    y.append(i)"
      ],
      "metadata": {
        "id": "SPH3glVsMml7"
      },
      "execution_count": 4,
      "outputs": []
    },
    {
      "cell_type": "code",
      "source": [
        "y"
      ],
      "metadata": {
        "id": "luCMvU1kOuZU",
        "outputId": "4092637d-8500-4207-e01f-70813fb6592f",
        "colab": {
          "base_uri": "https://localhost:8080/"
        }
      },
      "execution_count": 5,
      "outputs": [
        {
          "output_type": "execute_result",
          "data": {
            "text/plain": [
              "['b', 'd', 'e']"
            ]
          },
          "metadata": {},
          "execution_count": 5
        }
      ]
    },
    {
      "cell_type": "markdown",
      "source": [
        "#Using List Comprehensions to find the Intersection Between Two Python Lists\n",
        "In many cases, a Python for loop can be turned into a list comprehension. The benefit of doing this is the ease of coding it out. Python list comprehensions comes with some key benefits:\n",
        "\n",
        "You don’t need to instantiate a new, empty list\n",
        "The code generally only spans a single line, rather than multiple lines"
      ],
      "metadata": {
        "id": "miPt0mJ5OwFk"
      }
    },
    {
      "cell_type": "code",
      "source": [
        "[i for i in list1 if i in list2]"
      ],
      "metadata": {
        "id": "YXupHB52O5iM",
        "outputId": "f929a824-8151-4f71-e915-eb305dc90b68",
        "colab": {
          "base_uri": "https://localhost:8080/"
        }
      },
      "execution_count": 6,
      "outputs": [
        {
          "output_type": "execute_result",
          "data": {
            "text/plain": [
              "['b', 'd', 'e']"
            ]
          },
          "metadata": {},
          "execution_count": 6
        }
      ]
    },
    {
      "cell_type": "markdown",
      "source": [
        "#Using Python Set Operations to find the Intersection Between Two Lists\n",
        "Python sets are similar to lists, but they have a number of key differences. While lists are ordered, sets are unordered; while lists can hold duplicate items, sets cannot.\n",
        "\n",
        "Sets also come with a number of helpful methods. In the example below, we’ll use the .intersection() method to generate a set of items that exist between both sets."
      ],
      "metadata": {
        "id": "ZPILq8I0O5pu"
      }
    },
    {
      "cell_type": "code",
      "source": [
        "# Find intesection between two Python lists using set.intersection()\n",
        "list1 = ['a', 'b', 'c', 'd', 'e']\n",
        "list2 = ['b', 'd', 'e', 'f', 'g']\n",
        "\n",
        "list(set(list1).intersection(set(list2)))"
      ],
      "metadata": {
        "id": "bWa4LcNiO5xm",
        "outputId": "3836564f-7564-40be-b925-bb37bc00fa34",
        "colab": {
          "base_uri": "https://localhost:8080/"
        }
      },
      "execution_count": 7,
      "outputs": [
        {
          "output_type": "execute_result",
          "data": {
            "text/plain": [
              "['b', 'e', 'd']"
            ]
          },
          "metadata": {},
          "execution_count": 7
        }
      ]
    },
    {
      "cell_type": "markdown",
      "source": [
        "#Using the And Operator to Find Python List Intersection\n",
        "In the example above, you learned how to use a set method, the .intersection() method, to find the intersection between two lists. We can also use a boolean method, using the & operator, to find the intersection between two sets.\n",
        "\n",
        "Using this operator evaluates whether items exist in both sets and returns items that meet the criteria."
      ],
      "metadata": {
        "id": "jjvAEKtSZvXE"
      }
    },
    {
      "cell_type": "code",
      "source": [
        "# Find intesection between two Python lists using &\n",
        "list1 = ['a', 'b', 'c', 'd', 'e']\n",
        "list2 = ['b', 'd', 'e', 'f', 'g']"
      ],
      "metadata": {
        "id": "O-XTEx28Zvgc"
      },
      "execution_count": 8,
      "outputs": []
    },
    {
      "cell_type": "code",
      "source": [
        "intersection=list(set(list1)&set(list2))"
      ],
      "metadata": {
        "id": "r_-OHFzoanRd"
      },
      "execution_count": 9,
      "outputs": []
    },
    {
      "cell_type": "code",
      "source": [
        "intersection"
      ],
      "metadata": {
        "id": "2y5crEI2anZG",
        "outputId": "1e87964c-4133-46fd-dfd5-02bd2f232997",
        "colab": {
          "base_uri": "https://localhost:8080/"
        }
      },
      "execution_count": 10,
      "outputs": [
        {
          "output_type": "execute_result",
          "data": {
            "text/plain": [
              "['b', 'e', 'd']"
            ]
          },
          "metadata": {},
          "execution_count": 10
        }
      ]
    },
    {
      "cell_type": "markdown",
      "source": [
        "#Using Numpy to Find the Intersection Between Two Lists\n",
        "Numpy is a helpful library that uses a list-like object called the np.array. These arrays are similar to Python lists but allow us to work with numpy array methods. One of these methods is the intersect1d() method, which, well, allows us to find the intersection between 1 dimensional arrays.\n",
        "\n",
        "Let’s take a look at what this code looks like:"
      ],
      "metadata": {
        "id": "tDZWBqK_anjW"
      }
    },
    {
      "cell_type": "code",
      "source": [
        "# Find intesection between two Python lists using numpy\n",
        "list1 = ['a', 'b', 'c', 'd', 'e']\n",
        "list2 = ['b', 'd', 'e', 'f', 'g']\n"
      ],
      "metadata": {
        "id": "z5ELsClWdF2Q"
      },
      "execution_count": 11,
      "outputs": []
    },
    {
      "cell_type": "code",
      "source": [
        "import numpy as np"
      ],
      "metadata": {
        "id": "0JxkgtbTdF5h"
      },
      "execution_count": 12,
      "outputs": []
    },
    {
      "cell_type": "code",
      "source": [
        "l1=list(np.intersect1d(list1,list2))"
      ],
      "metadata": {
        "id": "HLLm6FzZdF8l"
      },
      "execution_count": 13,
      "outputs": []
    },
    {
      "cell_type": "code",
      "source": [
        "l1"
      ],
      "metadata": {
        "id": "yIkcGx1bdGAF",
        "outputId": "9137d7f8-623d-46bf-b681-cbf488228272",
        "colab": {
          "base_uri": "https://localhost:8080/"
        }
      },
      "execution_count": 14,
      "outputs": [
        {
          "output_type": "execute_result",
          "data": {
            "text/plain": [
              "['b', 'd', 'e']"
            ]
          },
          "metadata": {},
          "execution_count": 14
        }
      ]
    },
    {
      "cell_type": "markdown",
      "source": [
        "#Python: Subtract Two Lists (4 Easy Ways!)"
      ],
      "metadata": {
        "id": "ZUs1ZZINdgpu"
      }
    },
    {
      "cell_type": "markdown",
      "source": [
        "#Use Numpy to Subtract Two Python Lists\n",
        "The popular numpy library is often used for working in data science, and, as such, comes bundled with a ton of different helpful methods to manipulate numerical data. One of the primary advantages that numpy provides is the array object, which is very similar to the Python list object.\n",
        "One of the methods that numpy provides is the subtract() method. The method takes two numpy arrays as input and provides element-wise subtractions between the two lists."
      ],
      "metadata": {
        "id": "QgE_ajT0eH9d"
      }
    },
    {
      "cell_type": "code",
      "source": [
        "# Subtract two lists with numpy\n",
        "import numpy as np\n",
        "list1 = [10, 11, 12]\n",
        "list2 = [1, 2, 3]"
      ],
      "metadata": {
        "id": "Lfu67df2eH_u"
      },
      "execution_count": 15,
      "outputs": []
    },
    {
      "cell_type": "code",
      "source": [
        "list1=np.array(list1)"
      ],
      "metadata": {
        "id": "T75-NhtaeIB5"
      },
      "execution_count": 16,
      "outputs": []
    },
    {
      "cell_type": "code",
      "source": [
        "list2=np.array(list2)"
      ],
      "metadata": {
        "id": "q48DuYbpeIER"
      },
      "execution_count": 17,
      "outputs": []
    },
    {
      "cell_type": "code",
      "source": [
        "sub=np.subtract(list1,list2)"
      ],
      "metadata": {
        "id": "9Ph4DWCceIG0"
      },
      "execution_count": 20,
      "outputs": []
    },
    {
      "cell_type": "code",
      "source": [
        "list(sub)"
      ],
      "metadata": {
        "id": "1rRDYuaoeIJA",
        "outputId": "79f18dbe-db10-43d3-d490-d8fda8ad59c7",
        "colab": {
          "base_uri": "https://localhost:8080/"
        }
      },
      "execution_count": 22,
      "outputs": [
        {
          "output_type": "execute_result",
          "data": {
            "text/plain": [
              "[9, 9, 9]"
            ]
          },
          "metadata": {},
          "execution_count": 22
        }
      ]
    },
    {
      "cell_type": "markdown",
      "source": [
        "#Use Zip to Subtract Two Python Lists\n",
        "The Python zip() function is a built-in utility that makes working with different iterable objects incredibly easy. What the function does is iterate over different objects, element by element. Because of this, the zip() function is the ideal candidate for finding the different between two lists element by element.\n",
        "\n",
        "Let’s take a look at how we can use the Python zip() function to subtract two lists:"
      ],
      "metadata": {
        "id": "jj5FCWsGeILN"
      }
    },
    {
      "cell_type": "code",
      "source": [
        "# Subtract two lists with for loops\n",
        "list1 = [10, 11, 12]\n",
        "list2 = [1, 2, 3]"
      ],
      "metadata": {
        "id": "ybwVs9MXhSMC"
      },
      "execution_count": 23,
      "outputs": []
    },
    {
      "cell_type": "code",
      "source": [
        "sub1=[]\n",
        "for i,j in zip(list1,list2):\n",
        "  sub1.append(i-j)"
      ],
      "metadata": {
        "id": "11ZSKb8LhSQp"
      },
      "execution_count": 26,
      "outputs": []
    },
    {
      "cell_type": "code",
      "source": [
        "list(zip(list1,list2))"
      ],
      "metadata": {
        "id": "IafZltgbg8nK",
        "outputId": "f4f64da0-f55e-45e1-b56d-de89013eb8be",
        "colab": {
          "base_uri": "https://localhost:8080/"
        }
      },
      "execution_count": 25,
      "outputs": [
        {
          "output_type": "execute_result",
          "data": {
            "text/plain": [
              "[(10, 1), (11, 2), (12, 3)]"
            ]
          },
          "metadata": {},
          "execution_count": 25
        }
      ]
    },
    {
      "cell_type": "code",
      "source": [
        "sub1"
      ],
      "metadata": {
        "id": "3FBywSeSg8sI",
        "outputId": "15500aff-eb6c-47fc-bf7b-33422fdb48eb",
        "colab": {
          "base_uri": "https://localhost:8080/"
        }
      },
      "execution_count": 27,
      "outputs": [
        {
          "output_type": "execute_result",
          "data": {
            "text/plain": [
              "[9, 9, 9]"
            ]
          },
          "metadata": {},
          "execution_count": 27
        }
      ]
    },
    {
      "cell_type": "code",
      "source": [
        "#Python For Loops to Subtract Two Lists"
      ],
      "metadata": {
        "id": "HQeHcFRfg8xT"
      },
      "execution_count": null,
      "outputs": []
    },
    {
      "cell_type": "code",
      "source": [
        "list1 = [10, 11, 12]\n",
        "list2 = [1, 2, 3]\n",
        "\n",
        "sub2=[]\n",
        "\n",
        "for i in range(len(list1)):\n",
        "  item=list1[i]-list2[i]\n",
        "  sub2.append(item)"
      ],
      "metadata": {
        "id": "5LDwNDX3eIOk"
      },
      "execution_count": 29,
      "outputs": []
    },
    {
      "cell_type": "code",
      "source": [
        "sub2"
      ],
      "metadata": {
        "id": "neG0r3pRnXQV",
        "outputId": "0d74730a-aefc-4df3-fcb7-543753e32a96",
        "colab": {
          "base_uri": "https://localhost:8080/"
        }
      },
      "execution_count": 30,
      "outputs": [
        {
          "output_type": "execute_result",
          "data": {
            "text/plain": [
              "[9, 9, 9]"
            ]
          },
          "metadata": {},
          "execution_count": 30
        }
      ]
    },
    {
      "cell_type": "markdown",
      "source": [
        "#Python List Comprehensions to Subtract Two Lists\n",
        "Finally, let’s learn how we can use a list comprehension to subtract two lists. This method actually also uses the zip() function to create a new list that subtracts the two lists."
      ],
      "metadata": {
        "id": "g70Y_yqjnaEp"
      }
    },
    {
      "cell_type": "code",
      "source": [
        "# Subtract two lists with zip()\n",
        "list1 = [10, 11, 12]\n",
        "list2 = [1, 2, 3]"
      ],
      "metadata": {
        "id": "GS_0iLsenkEW"
      },
      "execution_count": 33,
      "outputs": []
    },
    {
      "cell_type": "code",
      "source": [
        "sub4=[list1[i]-list2[i] for i in range(len(list1))]"
      ],
      "metadata": {
        "id": "RfZNX5ginkWm"
      },
      "execution_count": 34,
      "outputs": []
    },
    {
      "cell_type": "code",
      "source": [
        "sub4"
      ],
      "metadata": {
        "id": "1-dQbszenkeg",
        "outputId": "95999ea6-92b2-49ea-a866-47739cc23d95",
        "colab": {
          "base_uri": "https://localhost:8080/"
        }
      },
      "execution_count": 35,
      "outputs": [
        {
          "output_type": "execute_result",
          "data": {
            "text/plain": [
              "[9, 9, 9]"
            ]
          },
          "metadata": {},
          "execution_count": 35
        }
      ]
    },
    {
      "cell_type": "code",
      "source": [
        "#using zip function\n",
        "sub5=[i-j for i,j in zip(list1,list2)]"
      ],
      "metadata": {
        "id": "Co2yomKLo53s"
      },
      "execution_count": 37,
      "outputs": []
    },
    {
      "cell_type": "code",
      "source": [
        "sub5"
      ],
      "metadata": {
        "id": "4iQlMGCppDVF",
        "outputId": "a7aacf37-6ba7-46f4-f7c5-310dd16f14e0",
        "colab": {
          "base_uri": "https://localhost:8080/"
        }
      },
      "execution_count": 38,
      "outputs": [
        {
          "output_type": "execute_result",
          "data": {
            "text/plain": [
              "[9, 9, 9]"
            ]
          },
          "metadata": {},
          "execution_count": 38
        }
      ]
    },
    {
      "cell_type": "code",
      "source": [
        ""
      ],
      "metadata": {
        "id": "1PEp7x0wpWjc"
      },
      "execution_count": null,
      "outputs": []
    }
  ]
}