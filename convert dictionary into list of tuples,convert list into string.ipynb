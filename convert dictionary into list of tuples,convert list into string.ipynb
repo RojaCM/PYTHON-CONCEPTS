{
  "nbformat": 4,
  "nbformat_minor": 0,
  "metadata": {
    "colab": {
      "name": "Untitled215.ipynb",
      "provenance": [],
      "authorship_tag": "ABX9TyOEJEcU3VaWwmxQ0lglREEN",
      "include_colab_link": true
    },
    "kernelspec": {
      "name": "python3",
      "display_name": "Python 3"
    },
    "language_info": {
      "name": "python"
    }
  },
  "cells": [
    {
      "cell_type": "markdown",
      "metadata": {
        "id": "view-in-github",
        "colab_type": "text"
      },
      "source": [
        "<a href=\"https://colab.research.google.com/github/RojaCM/PYTHON-CONCEPTS/blob/main/convert%20dictionary%20into%20list%20of%20tuples%2Cconvert%20list%20into%20string.ipynb\" target=\"_parent\"><img src=\"https://colab.research.google.com/assets/colab-badge.svg\" alt=\"Open In Colab\"/></a>"
      ]
    },
    {
      "cell_type": "code",
      "execution_count": 25,
      "metadata": {
        "id": "6xN9PY5ngDKJ"
      },
      "outputs": [],
      "source": [
        "a=[40,80,45,59,50]"
      ]
    },
    {
      "cell_type": "code",
      "source": [
        "a=[80,30,40,69]\n",
        "max=0\n",
        "for i in a:\n",
        "  if i >max:\n",
        "    prev_max=max\n",
        "    max=i\n",
        "max2=0\n",
        "for j in a:\n",
        "  if j !=max and j>max2:\n",
        "    max2=j\n",
        "print(max2)"
      ],
      "metadata": {
        "colab": {
          "base_uri": "https://localhost:8080/"
        },
        "id": "3VXQ_HWdgdxO",
        "outputId": "6b291777-384c-4e38-8e99-e815e3d28c1f"
      },
      "execution_count": 28,
      "outputs": [
        {
          "output_type": "stream",
          "name": "stdout",
          "text": [
            "69\n"
          ]
        }
      ]
    },
    {
      "cell_type": "markdown",
      "source": [
        "#Python: Convert a Dictionary to a List of Tuples (4 Easy Ways)\n",
        "Convert a Python Dictionary to a List of Tuples Using the List Function\n",
        "One of the most straightforward and Pythonic ways to convert a Python dictionary into a list of tuples is to the use the built-in list() function. This function takes an object and generates a list with its items."
      ],
      "metadata": {
        "id": "aB8U5V5cgfBK"
      }
    },
    {
      "cell_type": "code",
      "source": [
        "a={'roj':25,'theja':56,'pooja':45}"
      ],
      "metadata": {
        "id": "x3JU_Kbp-2KO"
      },
      "execution_count": 29,
      "outputs": []
    },
    {
      "cell_type": "code",
      "source": [
        "list(a.items())"
      ],
      "metadata": {
        "colab": {
          "base_uri": "https://localhost:8080/"
        },
        "id": "hUMniUcr-2Vd",
        "outputId": "18751e6b-8c6c-433b-9183-4aff2f496f66"
      },
      "execution_count": 32,
      "outputs": [
        {
          "output_type": "execute_result",
          "data": {
            "text/plain": [
              "[('roj', 25), ('theja', 56), ('pooja', 45)]"
            ]
          },
          "metadata": {},
          "execution_count": 32
        }
      ]
    },
    {
      "cell_type": "markdown",
      "source": [
        "#Convert a Python Dictionary to a List of Tuples Using a List Comprehension\n",
        "Python list comprehensions are elegant ways in which to generate lists based on another iterable object. In order to convert a dictionary in Python to a list of tuples, we will loop over the keys and values and generate tuples."
      ],
      "metadata": {
        "id": "Ylc0EvKh-2YM"
      }
    },
    {
      "cell_type": "code",
      "source": [
        "a={'roj':25,'theja':56,'pooja':45}"
      ],
      "metadata": {
        "id": "GCOOzXMe-2ay"
      },
      "execution_count": 34,
      "outputs": []
    },
    {
      "cell_type": "code",
      "source": [
        "[(i,j) for i,j in a.items()]"
      ],
      "metadata": {
        "colab": {
          "base_uri": "https://localhost:8080/"
        },
        "id": "w-PaypSu-2dL",
        "outputId": "bb0fcb04-e743-4ff2-8d47-15ebc037bb85"
      },
      "execution_count": 35,
      "outputs": [
        {
          "output_type": "execute_result",
          "data": {
            "text/plain": [
              "[('roj', 25), ('theja', 56), ('pooja', 45)]"
            ]
          },
          "metadata": {},
          "execution_count": 35
        }
      ]
    },
    {
      "cell_type": "markdown",
      "source": [
        "#Convert a Python Dictionary to a List of Tuples Using the Zip Function\n",
        "The Python zip() function allows you to iterate in sequence over multiple iterative objects. We can create two iterative objects for a dictionary’s keys and values by using the .keys() and .items() methods. Both of these returns iterable objects, containing either the keys or the values of our dictionary.\n",
        "\n",
        "Let’s take a look at how we can do this in Python:"
      ],
      "metadata": {
        "id": "-FzIo9VR-2f1"
      }
    },
    {
      "cell_type": "code",
      "source": [
        "a={'roj':25,'theja':56,'pooja':45}"
      ],
      "metadata": {
        "id": "oYvPnkCH-2jL"
      },
      "execution_count": 36,
      "outputs": []
    },
    {
      "cell_type": "code",
      "source": [
        "b=a.keys()"
      ],
      "metadata": {
        "id": "hKryTsSAHz6e"
      },
      "execution_count": 37,
      "outputs": []
    },
    {
      "cell_type": "code",
      "source": [
        "c=a.values()"
      ],
      "metadata": {
        "id": "zMyG7iraHz_N"
      },
      "execution_count": 38,
      "outputs": []
    },
    {
      "cell_type": "code",
      "source": [
        "b"
      ],
      "metadata": {
        "colab": {
          "base_uri": "https://localhost:8080/"
        },
        "id": "rdlnDZhlH0DR",
        "outputId": "71699cf7-14e9-4325-abbb-9a32639b2ee5"
      },
      "execution_count": 39,
      "outputs": [
        {
          "output_type": "execute_result",
          "data": {
            "text/plain": [
              "dict_keys(['roj', 'theja', 'pooja'])"
            ]
          },
          "metadata": {},
          "execution_count": 39
        }
      ]
    },
    {
      "cell_type": "code",
      "source": [
        "c"
      ],
      "metadata": {
        "colab": {
          "base_uri": "https://localhost:8080/"
        },
        "id": "EAIYk1rMH6UK",
        "outputId": "14ae28ff-409b-4675-f0e1-62a596373539"
      },
      "execution_count": 40,
      "outputs": [
        {
          "output_type": "execute_result",
          "data": {
            "text/plain": [
              "dict_values([25, 56, 45])"
            ]
          },
          "metadata": {},
          "execution_count": 40
        }
      ]
    },
    {
      "cell_type": "code",
      "source": [
        "[(i,j) for i,j in zip(b,c)]"
      ],
      "metadata": {
        "colab": {
          "base_uri": "https://localhost:8080/"
        },
        "id": "8l_RHHnTH7LX",
        "outputId": "df744ef9-5ca4-4929-bfbd-5f18e68d66ed"
      },
      "execution_count": 42,
      "outputs": [
        {
          "output_type": "execute_result",
          "data": {
            "text/plain": [
              "[('roj', 25), ('theja', 56), ('pooja', 45)]"
            ]
          },
          "metadata": {},
          "execution_count": 42
        }
      ]
    },
    {
      "cell_type": "code",
      "source": [
        "list(zip(b,c))"
      ],
      "metadata": {
        "colab": {
          "base_uri": "https://localhost:8080/"
        },
        "id": "nu95IoHfH9Y6",
        "outputId": "88146fb1-c920-4919-dfa6-db6ed3a24399"
      },
      "execution_count": 44,
      "outputs": [
        {
          "output_type": "execute_result",
          "data": {
            "text/plain": [
              "[('roj', 25), ('theja', 56), ('pooja', 45)]"
            ]
          },
          "metadata": {},
          "execution_count": 44
        }
      ]
    },
    {
      "cell_type": "markdown",
      "source": [
        "#Convert a Python Dictionary to a List of Tuples Using a For Loop\n",
        "A very intuitive way to accomplish converting a Python dict to a list of tuples is to use a Python for loop.\n",
        "\n",
        "Python for-loops allow us to easily iterate over a sequence and perform a provided action as a result."
      ],
      "metadata": {
        "id": "BCtTxZ3lISdh"
      }
    },
    {
      "cell_type": "code",
      "source": [
        "# Convert a Dictionary into a List of Tuples Using a for loop\n",
        "sample_dict = {'john': 30, 'nik': 32, 'datagy': 40}"
      ],
      "metadata": {
        "id": "7s2L-nVkI89O"
      },
      "execution_count": 45,
      "outputs": []
    },
    {
      "cell_type": "code",
      "source": [
        "l=[]\n",
        "for i in sample_dict.keys():\n",
        "  l.append((i,sample_dict.get(i)))"
      ],
      "metadata": {
        "id": "ocxiV_ysI9B2"
      },
      "execution_count": 47,
      "outputs": []
    },
    {
      "cell_type": "code",
      "source": [
        "l"
      ],
      "metadata": {
        "colab": {
          "base_uri": "https://localhost:8080/"
        },
        "id": "Ul9LbDdwI9Gh",
        "outputId": "b45723b5-e7dc-49b3-fb2f-dfca16ee7087"
      },
      "execution_count": 48,
      "outputs": [
        {
          "output_type": "execute_result",
          "data": {
            "text/plain": [
              "[('john', 30), ('nik', 32), ('datagy', 40)]"
            ]
          },
          "metadata": {},
          "execution_count": 48
        }
      ]
    },
    {
      "cell_type": "code",
      "source": [
        "sample_dict.get('roja',0)"
      ],
      "metadata": {
        "colab": {
          "base_uri": "https://localhost:8080/"
        },
        "id": "ATQGOTXrI9L6",
        "outputId": "17784d44-5569-44db-8706-1c95e6c6c370"
      },
      "execution_count": 50,
      "outputs": [
        {
          "output_type": "execute_result",
          "data": {
            "text/plain": [
              "0"
            ]
          },
          "metadata": {},
          "execution_count": 50
        }
      ]
    },
    {
      "cell_type": "markdown",
      "source": [
        "#Learn How to Convert a List to String in Python\n",
        "List to String Python with .join()\n",
        "Let’s explore the join function a little bit. The list you pass into it can contain any of the following: strings, characters, and numbers. The functionMM"
      ],
      "metadata": {
        "id": "bwq6sYiCMGHU"
      }
    },
    {
      "cell_type": "code",
      "source": [
        "#seperator.join('list or iterable')"
      ],
      "metadata": {
        "id": "gJ57gjpvMGMr"
      },
      "execution_count": 53,
      "outputs": []
    },
    {
      "cell_type": "code",
      "source": [
        "our_list = ['You', 'are', 'learning', 'with', 'datagy!']\n",
        "' '.join(our_list)"
      ],
      "metadata": {
        "colab": {
          "base_uri": "https://localhost:8080/",
          "height": 36
        },
        "id": "0mGISWpGMGRf",
        "outputId": "4e94e198-db96-42f8-9432-06360db3fa01"
      },
      "execution_count": 54,
      "outputs": [
        {
          "output_type": "execute_result",
          "data": {
            "text/plain": [
              "'You are learning with datagy!'"
            ],
            "application/vnd.google.colaboratory.intrinsic+json": {
              "type": "string"
            }
          },
          "metadata": {},
          "execution_count": 54
        }
      ]
    },
    {
      "cell_type": "markdown",
      "source": [
        "#Where you might run into issues\n",
        "Earlier, we mentioned that you can convert lists of different data types. However, mixing data types within lists will result in issues. Let’s take a look at an example:"
      ],
      "metadata": {
        "id": "naz88hU3I9RM"
      }
    },
    {
      "cell_type": "code",
      "source": [
        "our_list = ['I','am', 'using', 'Python', 3]"
      ],
      "metadata": {
        "id": "o20JPL4jI9XN"
      },
      "execution_count": 56,
      "outputs": []
    },
    {
      "cell_type": "code",
      "source": [
        "' '.join(our_list)"
      ],
      "metadata": {
        "colab": {
          "base_uri": "https://localhost:8080/",
          "height": 171
        },
        "id": "MsxlzkskS450",
        "outputId": "0717ce8a-cd86-4253-d12d-45a589a44b8b"
      },
      "execution_count": 57,
      "outputs": [
        {
          "output_type": "error",
          "ename": "TypeError",
          "evalue": "ignored",
          "traceback": [
            "\u001b[0;31m---------------------------------------------------------------------------\u001b[0m",
            "\u001b[0;31mTypeError\u001b[0m                                 Traceback (most recent call last)",
            "\u001b[0;32m<ipython-input-57-ddb5fb32cbcf>\u001b[0m in \u001b[0;36m<module>\u001b[0;34m()\u001b[0m\n\u001b[0;32m----> 1\u001b[0;31m \u001b[0;34m' '\u001b[0m\u001b[0;34m.\u001b[0m\u001b[0mjoin\u001b[0m\u001b[0;34m(\u001b[0m\u001b[0mour_list\u001b[0m\u001b[0;34m)\u001b[0m\u001b[0;34m\u001b[0m\u001b[0;34m\u001b[0m\u001b[0m\n\u001b[0m",
            "\u001b[0;31mTypeError\u001b[0m: sequence item 4: expected str instance, int found"
          ]
        }
      ]
    },
    {
      "cell_type": "markdown",
      "source": [
        "# #We can easily fix this by changing all the types to strings:\n"
      ],
      "metadata": {
        "id": "2v9U3FpOS4-V"
      }
    },
    {
      "cell_type": "code",
      "source": [
        "' '.join([str(i) for i in our_list])"
      ],
      "metadata": {
        "colab": {
          "base_uri": "https://localhost:8080/",
          "height": 36
        },
        "id": "WenASSoWIWEL",
        "outputId": "1e49870d-365b-4f4d-fcd4-0b2b5e1b751e"
      },
      "execution_count": 58,
      "outputs": [
        {
          "output_type": "execute_result",
          "data": {
            "text/plain": [
              "'I am using Python 3'"
            ],
            "application/vnd.google.colaboratory.intrinsic+json": {
              "type": "string"
            }
          },
          "metadata": {},
          "execution_count": 58
        }
      ]
    },
    {
      "cell_type": "markdown",
      "source": [
        "#Spaces Between Items\n",
        "In the example below, we replicate our process above but turn the process into a function. You can then assign the resulting string to a variable as shown and print it out:"
      ],
      "metadata": {
        "id": "3NSI1ua-IWI2"
      }
    },
    {
      "cell_type": "code",
      "source": [
        "our_list = ['I','am', 'learning', 'Python', 'with', 'datagy!']"
      ],
      "metadata": {
        "id": "9-QDsop_IWNw"
      },
      "execution_count": 59,
      "outputs": []
    },
    {
      "cell_type": "code",
      "source": [
        "def fun(list1):\n",
        "  return ' '.join(list1)"
      ],
      "metadata": {
        "id": "PNmY5jTzISiI"
      },
      "execution_count": 60,
      "outputs": []
    },
    {
      "cell_type": "code",
      "source": [
        "s=fun(our_list)"
      ],
      "metadata": {
        "id": "WNqRfqwTVppg"
      },
      "execution_count": 61,
      "outputs": []
    },
    {
      "cell_type": "code",
      "source": [
        "s"
      ],
      "metadata": {
        "colab": {
          "base_uri": "https://localhost:8080/",
          "height": 36
        },
        "id": "S9Ckxw96Vpve",
        "outputId": "d2b5531a-7b63-4488-907c-7a6ce22ec589"
      },
      "execution_count": 62,
      "outputs": [
        {
          "output_type": "execute_result",
          "data": {
            "text/plain": [
              "'I am learning Python with datagy!'"
            ],
            "application/vnd.google.colaboratory.intrinsic+json": {
              "type": "string"
            }
          },
          "metadata": {},
          "execution_count": 62
        }
      ]
    },
    {
      "cell_type": "markdown",
      "source": [
        "#Commas Between Items\n",
        "If we wanted to delimit our items with commas, we could use the function below. Similar to our previous example, the result can be assigned to a variable:"
      ],
      "metadata": {
        "id": "cPuSIHX3Vpz3"
      }
    },
    {
      "cell_type": "code",
      "source": [
        "our_list = ['I','am', 'learning', 'Python', 'with', 'datagy!']\n",
        "def commas(list2):\n",
        "  return ','.join(list2)"
      ],
      "metadata": {
        "id": "ByIpR-O-WUYW"
      },
      "execution_count": 63,
      "outputs": []
    },
    {
      "cell_type": "code",
      "source": [
        "r=commas(our_list)"
      ],
      "metadata": {
        "id": "yHNy-Y1FWUd7"
      },
      "execution_count": 64,
      "outputs": []
    },
    {
      "cell_type": "code",
      "source": [
        "r"
      ],
      "metadata": {
        "colab": {
          "base_uri": "https://localhost:8080/",
          "height": 36
        },
        "id": "sA23LoDJWUjm",
        "outputId": "2a4f8c5b-737f-4a09-e3e9-a00417df323d"
      },
      "execution_count": 65,
      "outputs": [
        {
          "output_type": "execute_result",
          "data": {
            "text/plain": [
              "'I,am,learning,Python,with,datagy!'"
            ],
            "application/vnd.google.colaboratory.intrinsic+json": {
              "type": "string"
            }
          },
          "metadata": {},
          "execution_count": 65
        }
      ]
    },
    {
      "cell_type": "code",
      "source": [
        "#New Lines Between Items\n",
        "#In this following example, we’ll show how to separate our string with new lines for each item:\n",
        "\n",
        "our_list = ['I','am', 'learning', 'Python', 'with', 'datagy!']\n",
        "def newline(list2):\n",
        "  return '\\n'.join(list2)"
      ],
      "metadata": {
        "id": "3mPLOz2xWIoz"
      },
      "execution_count": 69,
      "outputs": []
    },
    {
      "cell_type": "code",
      "source": [
        "q=newline(our_list)\n",
        "q"
      ],
      "metadata": {
        "colab": {
          "base_uri": "https://localhost:8080/",
          "height": 36
        },
        "id": "kszVZJWyXB21",
        "outputId": "e2b33350-dfed-4f23-f45e-9a1bb2a09b62"
      },
      "execution_count": 70,
      "outputs": [
        {
          "output_type": "execute_result",
          "data": {
            "text/plain": [
              "'I\\nam\\nlearning\\nPython\\nwith\\ndatagy!'"
            ],
            "application/vnd.google.colaboratory.intrinsic+json": {
              "type": "string"
            }
          },
          "metadata": {},
          "execution_count": 70
        }
      ]
    },
    {
      "cell_type": "code",
      "source": [
        ""
      ],
      "metadata": {
        "id": "uylkYjf0XB8p"
      },
      "execution_count": null,
      "outputs": []
    },
    {
      "cell_type": "code",
      "source": [
        ""
      ],
      "metadata": {
        "id": "2asl-nSHYMew"
      },
      "execution_count": null,
      "outputs": []
    },
    {
      "cell_type": "code",
      "source": [
        ""
      ],
      "metadata": {
        "id": "mD6rZ8jCYMkg"
      },
      "execution_count": null,
      "outputs": []
    },
    {
      "cell_type": "code",
      "source": [
        ""
      ],
      "metadata": {
        "id": "GsNromlMWItc"
      },
      "execution_count": null,
      "outputs": []
    },
    {
      "cell_type": "code",
      "source": [
        ""
      ],
      "metadata": {
        "id": "CEtEdBrtISof"
      },
      "execution_count": null,
      "outputs": []
    }
  ]
}