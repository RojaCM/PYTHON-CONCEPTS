{
  "nbformat": 4,
  "nbformat_minor": 0,
  "metadata": {
    "colab": {
      "name": "Untitled177.ipynb",
      "provenance": [],
      "authorship_tag": "ABX9TyP5DBIDw7l2NmsxUV1tIUX5",
      "include_colab_link": true
    },
    "kernelspec": {
      "name": "python3",
      "display_name": "Python 3"
    },
    "language_info": {
      "name": "python"
    }
  },
  "cells": [
    {
      "cell_type": "markdown",
      "metadata": {
        "id": "view-in-github",
        "colab_type": "text"
      },
      "source": [
        "<a href=\"https://colab.research.google.com/github/RojaCM/PYTHON-CONCEPTS/blob/main/python%20extend().ipynb\" target=\"_parent\"><img src=\"https://colab.research.google.com/assets/colab-badge.svg\" alt=\"Open In Colab\"/></a>"
      ]
    },
    {
      "cell_type": "markdown",
      "source": [
        "Python List extend() : to add multiple elements to a list.\n",
        "Python list extend() method lets you add multiple elements to a list at a once\n",
        "Python list extend() method takes all element from another iterable and add elements to the end of the list\n",
        "\n",
        "list.extend(iterable) - syntax\n"
      ],
      "metadata": {
        "id": "VERTDl8JagQz"
      }
    },
    {
      "cell_type": "code",
      "source": [
        "#How to Add Items to a List with Python Extend\n",
        "\n",
        "l2=[4,5,6]\n",
        "l1=[6,7,8]\n",
        "\n",
        "l1.extend(l2)\n"
      ],
      "metadata": {
        "id": "0DZt0gjjaqns"
      },
      "execution_count": 1,
      "outputs": []
    },
    {
      "cell_type": "code",
      "source": [
        "l1"
      ],
      "metadata": {
        "colab": {
          "base_uri": "https://localhost:8080/"
        },
        "id": "n8_rkWB3aqqB",
        "outputId": "5ebcd6e3-6d26-4818-b8d7-cd5a8ab9ffcc"
      },
      "execution_count": 2,
      "outputs": [
        {
          "output_type": "execute_result",
          "data": {
            "text/plain": [
              "[6, 7, 8, 4, 5, 6]"
            ]
          },
          "metadata": {},
          "execution_count": 2
        }
      ]
    },
    {
      "cell_type": "code",
      "source": [
        "#Appending a single item to a list with list.extend() method :\n",
        "l1.extend([9])\n"
      ],
      "metadata": {
        "id": "k5BtbJsYaqs1"
      },
      "execution_count": 5,
      "outputs": []
    },
    {
      "cell_type": "code",
      "source": [
        "l1"
      ],
      "metadata": {
        "colab": {
          "base_uri": "https://localhost:8080/"
        },
        "id": "7Gm_x9Teaqv7",
        "outputId": "37b29ceb-afd3-4e6b-f392-d101067bf1b8"
      },
      "execution_count": 6,
      "outputs": [
        {
          "output_type": "execute_result",
          "data": {
            "text/plain": [
              "[6, 7, 8, 4, 5, 6, 9]"
            ]
          },
          "metadata": {},
          "execution_count": 6
        }
      ]
    },
    {
      "cell_type": "code",
      "source": [
        "# if we pass a single item like below it will through aerror since int it is not iterbale object ,but extend only allows an iterbale object.so we need to create a list for sinle item also\n",
        "l1.extend(9)"
      ],
      "metadata": {
        "colab": {
          "base_uri": "https://localhost:8080/",
          "height": 200
        },
        "id": "Q_StUS6Waqzf",
        "outputId": "703d33b9-bae1-44c6-c4aa-a30db3f24195"
      },
      "execution_count": 7,
      "outputs": [
        {
          "output_type": "error",
          "ename": "TypeError",
          "evalue": "ignored",
          "traceback": [
            "\u001b[0;31m---------------------------------------------------------------------------\u001b[0m",
            "\u001b[0;31mTypeError\u001b[0m                                 Traceback (most recent call last)",
            "\u001b[0;32m<ipython-input-7-91559916f70b>\u001b[0m in \u001b[0;36m<module>\u001b[0;34m()\u001b[0m\n\u001b[1;32m      1\u001b[0m \u001b[0;31m# if we pass a single item like below it will through aerror since int it is not iterbale object ,but extend only allows an iterbale object.so we need to create a list for sinle item also\u001b[0m\u001b[0;34m\u001b[0m\u001b[0;34m\u001b[0m\u001b[0;34m\u001b[0m\u001b[0m\n\u001b[0;32m----> 2\u001b[0;31m \u001b[0ml1\u001b[0m\u001b[0;34m.\u001b[0m\u001b[0mextend\u001b[0m\u001b[0;34m(\u001b[0m\u001b[0;36m9\u001b[0m\u001b[0;34m)\u001b[0m\u001b[0;34m\u001b[0m\u001b[0;34m\u001b[0m\u001b[0m\n\u001b[0m",
            "\u001b[0;31mTypeError\u001b[0m: 'int' object is not iterable"
          ]
        }
      ]
    },
    {
      "cell_type": "code",
      "source": [
        "#adding/appending a string to the existing list using list.extend() method\n",
        "\n",
        "s1=['welcome','to']\n",
        "s1.extend('legato')"
      ],
      "metadata": {
        "id": "vR4rgkGqaq6V"
      },
      "execution_count": 8,
      "outputs": []
    },
    {
      "cell_type": "code",
      "source": [
        "s1"
      ],
      "metadata": {
        "colab": {
          "base_uri": "https://localhost:8080/"
        },
        "id": "xL-dwrV0fcW4",
        "outputId": "d48d8a39-5f31-4efb-b57a-f1e3c3820564"
      },
      "execution_count": 9,
      "outputs": [
        {
          "output_type": "execute_result",
          "data": {
            "text/plain": [
              "['welcome', 'to', 'l', 'e', 'g', 'a', 't', 'o']"
            ]
          },
          "metadata": {},
          "execution_count": 9
        }
      ]
    },
    {
      "cell_type": "code",
      "source": [
        "s1.extend(['legato'])"
      ],
      "metadata": {
        "id": "7tMPhbFrfcaG"
      },
      "execution_count": 10,
      "outputs": []
    },
    {
      "cell_type": "code",
      "source": [
        "s1"
      ],
      "metadata": {
        "colab": {
          "base_uri": "https://localhost:8080/"
        },
        "id": "0bOZalIufdoW",
        "outputId": "5b8e8239-e093-4a91-dd73-1314cc238f4d"
      },
      "execution_count": 11,
      "outputs": [
        {
          "output_type": "execute_result",
          "data": {
            "text/plain": [
              "['welcome', 'to', 'l', 'e', 'g', 'a', 't', 'o', 'legato']"
            ]
          },
          "metadata": {},
          "execution_count": 11
        }
      ]
    },
    {
      "cell_type": "code",
      "source": [
        "#python list extend v/s list append \n",
        "\n",
        "#list append methos allows to add a single item to a list.where as list extend method will not allow to add single item to a list\n",
        "r1=[1,2,3,4]\n",
        "r1.append(5)\n",
        "\n",
        "\n"
      ],
      "metadata": {
        "id": "8mpUAtAWfdtF"
      },
      "execution_count": 14,
      "outputs": []
    },
    {
      "cell_type": "code",
      "source": [
        "r1"
      ],
      "metadata": {
        "colab": {
          "base_uri": "https://localhost:8080/"
        },
        "id": "Ba__gLgffdxh",
        "outputId": "9cee87fa-acfe-436b-de5b-b44ac49efdf2"
      },
      "execution_count": 13,
      "outputs": [
        {
          "output_type": "execute_result",
          "data": {
            "text/plain": [
              "[1, 2, 3, 4, 5]"
            ]
          },
          "metadata": {},
          "execution_count": 13
        }
      ]
    },
    {
      "cell_type": "code",
      "source": [
        "#append v/s extend\n",
        "r2=[4,5,6]\n",
        "r3=[7,8,9]\n",
        "r4=['a','b','c']\n",
        "\n",
        "r2.append(r4)"
      ],
      "metadata": {
        "id": "MsULBkwVm9qe"
      },
      "execution_count": 15,
      "outputs": []
    },
    {
      "cell_type": "code",
      "source": [
        "r2"
      ],
      "metadata": {
        "colab": {
          "base_uri": "https://localhost:8080/"
        },
        "id": "OWxapradm9vo",
        "outputId": "3ceabf8b-ee7e-4f9e-a6eb-8db597bfb200"
      },
      "execution_count": 16,
      "outputs": [
        {
          "output_type": "execute_result",
          "data": {
            "text/plain": [
              "[4, 5, 6, ['a', 'b', 'c']]"
            ]
          },
          "metadata": {},
          "execution_count": 16
        }
      ]
    },
    {
      "cell_type": "code",
      "source": [
        "r2.extend(r4)"
      ],
      "metadata": {
        "id": "tsyU7bOSm90E"
      },
      "execution_count": 17,
      "outputs": []
    },
    {
      "cell_type": "code",
      "source": [
        "r2"
      ],
      "metadata": {
        "colab": {
          "base_uri": "https://localhost:8080/"
        },
        "id": "fy7KnL8Lm942",
        "outputId": "a9d31bdd-e54e-49f4-92dd-d18339bc40e5"
      },
      "execution_count": 18,
      "outputs": [
        {
          "output_type": "execute_result",
          "data": {
            "text/plain": [
              "[4, 5, 6, ['a', 'b', 'c'], 'a', 'b', 'c']"
            ]
          },
          "metadata": {},
          "execution_count": 18
        }
      ]
    },
    {
      "cell_type": "markdown",
      "source": [
        "We can see that by trying to add multiple items to a list using .append(), that all the items are added as a single list.\n",
        "\n",
        "In order to be able to append each item separately using the .append() method, we would need to use a for loop:"
      ],
      "metadata": {
        "id": "kSjKxpevneRH"
      }
    },
    {
      "cell_type": "code",
      "source": [
        "# Adding Multiple Items with .append()\n",
        "list1_append = [1,2,3]\n",
        "list2 = [4,5,6]\n",
        "\n",
        "for i in list2:\n",
        "  list1_append.append(i)"
      ],
      "metadata": {
        "id": "D3_2kIL4neV5"
      },
      "execution_count": 20,
      "outputs": []
    },
    {
      "cell_type": "code",
      "source": [
        "list1_append"
      ],
      "metadata": {
        "colab": {
          "base_uri": "https://localhost:8080/"
        },
        "id": "K03-6QRWm99k",
        "outputId": "56a45a0c-d516-43b8-ab6c-6577cca88051"
      },
      "execution_count": 21,
      "outputs": [
        {
          "output_type": "execute_result",
          "data": {
            "text/plain": [
              "[1, 2, 3, 4, 5, 6]"
            ]
          },
          "metadata": {},
          "execution_count": 21
        }
      ]
    },
    {
      "cell_type": "code",
      "source": [
        "#Python List Extend vs the Plus (+) Operator\n",
        "\n",
        "#Another common way to add items to add items to the end of a list in Python is to use the + operator. This method concatenates the two lists. Because the operation doesn’t happen place, it creates a new object that combines the two lists.\n",
        "\n",
        "#Let’s take a look at an example of how this works:\n",
        "\n",
        "\n",
        "q1=[1,2,3]\n",
        "q2=[4,5,6]\n",
        "q1=q1+q2\n"
      ],
      "metadata": {
        "id": "LLGcmQoOm-CL"
      },
      "execution_count": 23,
      "outputs": []
    },
    {
      "cell_type": "code",
      "source": [
        "q1"
      ],
      "metadata": {
        "colab": {
          "base_uri": "https://localhost:8080/"
        },
        "id": "xrhwMR1Xfd15",
        "outputId": "22fcf6f7-d0a1-4bdd-dd93-b1c4613e178f"
      },
      "execution_count": 24,
      "outputs": [
        {
          "output_type": "execute_result",
          "data": {
            "text/plain": [
              "[1, 2, 3, 4, 5, 6]"
            ]
          },
          "metadata": {},
          "execution_count": 24
        }
      ]
    },
    {
      "cell_type": "code",
      "source": [
        ""
      ],
      "metadata": {
        "id": "nzxFJB0Mfd6R"
      },
      "execution_count": null,
      "outputs": []
    },
    {
      "cell_type": "code",
      "source": [
        ""
      ],
      "metadata": {
        "id": "NKkGT3vcfd-p"
      },
      "execution_count": null,
      "outputs": []
    },
    {
      "cell_type": "code",
      "source": [
        ""
      ],
      "metadata": {
        "id": "C2tHVBPkaq9z"
      },
      "execution_count": null,
      "outputs": []
    }
  ]
}