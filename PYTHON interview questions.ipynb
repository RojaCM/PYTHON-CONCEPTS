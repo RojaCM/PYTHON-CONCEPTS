{
  "nbformat": 4,
  "nbformat_minor": 0,
  "metadata": {
    "colab": {
      "name": "Untitled194.ipynb",
      "provenance": [],
      "authorship_tag": "ABX9TyNedyza3cJcgnx0jgy5GDrc",
      "include_colab_link": true
    },
    "kernelspec": {
      "name": "python3",
      "display_name": "Python 3"
    },
    "language_info": {
      "name": "python"
    }
  },
  "cells": [
    {
      "cell_type": "markdown",
      "metadata": {
        "id": "view-in-github",
        "colab_type": "text"
      },
      "source": [
        "<a href=\"https://colab.research.google.com/github/RojaCM/PYTHON-CONCEPTS/blob/main/PYTHON%20interview%20questions.ipynb\" target=\"_parent\"><img src=\"https://colab.research.google.com/assets/colab-badge.svg\" alt=\"Open In Colab\"/></a>"
      ]
    },
    {
      "cell_type": "markdown",
      "source": [
        "PYTHON INTERVIEW QUESTIONS"
      ],
      "metadata": {
        "id": "6ZsHLQAwdenq"
      }
    },
    {
      "cell_type": "code",
      "source": [
        "#Yield keyword in python:act as a starndard retrun in a generator.return a value to the function\n",
        "\n",
        "def fun1(idx):\n",
        "  l1=['sun','mon','tue','wed','thu','fri','sat']\n",
        "  yield l1[idx]\n",
        "  yield l1[idx+1]"
      ],
      "metadata": {
        "id": "V-1-DLyQdjAe"
      },
      "execution_count": null,
      "outputs": []
    },
    {
      "cell_type": "code",
      "source": [
        "day = fun1(0)"
      ],
      "metadata": {
        "id": "jaa9o5yMdjCy"
      },
      "execution_count": null,
      "outputs": []
    },
    {
      "cell_type": "code",
      "source": [
        "next(day)"
      ],
      "metadata": {
        "colab": {
          "base_uri": "https://localhost:8080/",
          "height": 36
        },
        "id": "9XDqz4tcdjFP",
        "outputId": "5806fc54-0c9e-4d23-8ec3-d05a564fa28f"
      },
      "execution_count": null,
      "outputs": [
        {
          "output_type": "execute_result",
          "data": {
            "text/plain": [
              "'sun'"
            ],
            "application/vnd.google.colaboratory.intrinsic+json": {
              "type": "string"
            }
          },
          "metadata": {},
          "execution_count": 11
        }
      ]
    },
    {
      "cell_type": "code",
      "source": [
        "next(day)"
      ],
      "metadata": {
        "colab": {
          "base_uri": "https://localhost:8080/",
          "height": 36
        },
        "id": "83642zrudjHh",
        "outputId": "a431ceb7-392e-4f12-fd7d-e8c714da2908"
      },
      "execution_count": null,
      "outputs": [
        {
          "output_type": "execute_result",
          "data": {
            "text/plain": [
              "'mon'"
            ],
            "application/vnd.google.colaboratory.intrinsic+json": {
              "type": "string"
            }
          },
          "metadata": {},
          "execution_count": 12
        }
      ]
    },
    {
      "cell_type": "code",
      "source": [
        "#3) How to convert a list into a string?\n",
        "l1=['sun','mon','tue','wed','thu','fri','sat']\n",
        "new1=''.join(l1)\n",
        "\n"
      ],
      "metadata": {
        "id": "21CtJfvBdjJ5"
      },
      "execution_count": null,
      "outputs": []
    },
    {
      "cell_type": "code",
      "source": [
        "new1"
      ],
      "metadata": {
        "colab": {
          "base_uri": "https://localhost:8080/",
          "height": 36
        },
        "id": "7d8uVUP-djL8",
        "outputId": "0d37b821-5fa8-4534-c70e-d67ce4d8567b"
      },
      "execution_count": null,
      "outputs": [
        {
          "output_type": "execute_result",
          "data": {
            "text/plain": [
              "'sunmontuewedthufrisat'"
            ],
            "application/vnd.google.colaboratory.intrinsic+json": {
              "type": "string"
            }
          },
          "metadata": {},
          "execution_count": 16
        }
      ]
    },
    {
      "cell_type": "code",
      "source": [
        "new1=' '.join(l1)"
      ],
      "metadata": {
        "id": "iBpkhML4djPV"
      },
      "execution_count": null,
      "outputs": []
    },
    {
      "cell_type": "markdown",
      "source": [
        "#4) How to convert a list into a tuple?\n",
        "\n",
        "A) By using Python <tuple()> function we can convert a list into a tuple. But we can’t change the list after turning it into tuple, because it becomes immutable."
      ],
      "metadata": {
        "id": "1ymiLgQPeiaN"
      }
    },
    {
      "cell_type": "code",
      "source": [
        "l1=['sun','mon','tue','wed','thu','fri','sat']\n",
        "l2=tuple(l1)"
      ],
      "metadata": {
        "id": "yUgcIW62eien"
      },
      "execution_count": null,
      "outputs": []
    },
    {
      "cell_type": "code",
      "source": [
        "l2"
      ],
      "metadata": {
        "colab": {
          "base_uri": "https://localhost:8080/"
        },
        "id": "xILwbOwxeii7",
        "outputId": "0b8de1e6-e4c2-4967-d885-72315782b021"
      },
      "execution_count": null,
      "outputs": [
        {
          "output_type": "execute_result",
          "data": {
            "text/plain": [
              "('sun', 'mon', 'tue', 'wed', 'thu', 'fri', 'sat')"
            ]
          },
          "metadata": {},
          "execution_count": 19
        }
      ]
    },
    {
      "cell_type": "markdown",
      "source": [
        "#5) How to convert a list into a set?\n",
        "\n",
        "A) User can convert list into set by using <set()> function."
      ],
      "metadata": {
        "id": "ap3angfbeing"
      }
    },
    {
      "cell_type": "code",
      "source": [
        "l3=set(l1)"
      ],
      "metadata": {
        "id": "P3F4xlGlgAZY"
      },
      "execution_count": null,
      "outputs": []
    },
    {
      "cell_type": "code",
      "source": [
        "l3"
      ],
      "metadata": {
        "colab": {
          "base_uri": "https://localhost:8080/"
        },
        "id": "w_KlicyjgAdw",
        "outputId": "25d1fe15-b889-4db7-ef6c-a4037ba32177"
      },
      "execution_count": null,
      "outputs": [
        {
          "output_type": "execute_result",
          "data": {
            "text/plain": [
              "{'fri', 'mon', 'sat', 'sun', 'thu', 'tue', 'wed'}"
            ]
          },
          "metadata": {},
          "execution_count": 21
        }
      ]
    },
    {
      "cell_type": "markdown",
      "source": [
        "#6) How to count the occurrences of a particular element in the list?\n",
        "\n",
        "A) In Python list, we can count the occurrences of an individual element by using a <count()> function."
      ],
      "metadata": {
        "id": "9e6YbYE0gAiN"
      }
    },
    {
      "cell_type": "code",
      "source": [
        "weekdays = ['sun','mon','tue','wed','thu','fri','sun','mon','mon']\n",
        "print(weekdays.count('mon'))"
      ],
      "metadata": {
        "colab": {
          "base_uri": "https://localhost:8080/"
        },
        "id": "pIMRICAngC9l",
        "outputId": "dae00ac3-a71b-4b55-a7fd-7bc2722ea73b"
      },
      "execution_count": null,
      "outputs": [
        {
          "output_type": "stream",
          "name": "stdout",
          "text": [
            "3\n"
          ]
        }
      ]
    },
    {
      "cell_type": "code",
      "source": [
        "week1=set(weekdays)"
      ],
      "metadata": {
        "id": "ZoNdSprjgDCi"
      },
      "execution_count": null,
      "outputs": []
    },
    {
      "cell_type": "code",
      "source": [
        "week1"
      ],
      "metadata": {
        "colab": {
          "base_uri": "https://localhost:8080/"
        },
        "id": "lStYBez0gW0l",
        "outputId": "eef1ef56-669a-4659-b930-20e7535df407"
      },
      "execution_count": null,
      "outputs": [
        {
          "output_type": "execute_result",
          "data": {
            "text/plain": [
              "{'fri', 'mon', 'sun', 'thu', 'tue', 'wed'}"
            ]
          },
          "metadata": {},
          "execution_count": 25
        }
      ]
    },
    {
      "cell_type": "code",
      "source": [
        "[(i,weekdays.count(i)) for i in set(weekdays)]"
      ],
      "metadata": {
        "colab": {
          "base_uri": "https://localhost:8080/"
        },
        "id": "8q715VzjgW4v",
        "outputId": "17c45c8d-d1ac-49d5-adc0-5a1516c2dec2"
      },
      "execution_count": null,
      "outputs": [
        {
          "output_type": "execute_result",
          "data": {
            "text/plain": [
              "[('mon', 3), ('fri', 1), ('sun', 2), ('thu', 1), ('tue', 1), ('wed', 1)]"
            ]
          },
          "metadata": {},
          "execution_count": 26
        }
      ]
    },
    {
      "cell_type": "code",
      "source": [
        "a = [1, 2, 3]\n",
        "a[-1]"
      ],
      "metadata": {
        "colab": {
          "base_uri": "https://localhost:8080/"
        },
        "id": "7KSeUTmygoUQ",
        "outputId": "28c4aee9-4cdb-4424-ac62-8172d568d85f"
      },
      "execution_count": null,
      "outputs": [
        {
          "output_type": "execute_result",
          "data": {
            "text/plain": [
              "3"
            ]
          },
          "metadata": {},
          "execution_count": 27
        }
      ]
    },
    {
      "cell_type": "code",
      "source": [
        "names = ['Chris', 'Jack', 'John', 'Daman']"
      ],
      "metadata": {
        "id": "loml3u_UgoYX"
      },
      "execution_count": null,
      "outputs": []
    },
    {
      "cell_type": "code",
      "source": [
        "#returns the last element of string based on index\n",
        "names[-1][-2]"
      ],
      "metadata": {
        "colab": {
          "base_uri": "https://localhost:8080/",
          "height": 36
        },
        "id": "kY2N7O_RgW8k",
        "outputId": "427f3994-3517-4b5b-f56a-08cc905aefb4"
      },
      "execution_count": null,
      "outputs": [
        {
          "output_type": "execute_result",
          "data": {
            "text/plain": [
              "'a'"
            ],
            "application/vnd.google.colaboratory.intrinsic+json": {
              "type": "string"
            }
          },
          "metadata": {},
          "execution_count": 33
        }
      ]
    },
    {
      "cell_type": "code",
      "source": [
        "names[-1]"
      ],
      "metadata": {
        "colab": {
          "base_uri": "https://localhost:8080/",
          "height": 36
        },
        "id": "LB8D5YSYgDHG",
        "outputId": "898b60f3-8809-499f-f52a-9c076e83c3cd"
      },
      "execution_count": null,
      "outputs": [
        {
          "output_type": "execute_result",
          "data": {
            "text/plain": [
              "'Daman'"
            ],
            "application/vnd.google.colaboratory.intrinsic+json": {
              "type": "string"
            }
          },
          "metadata": {},
          "execution_count": 32
        }
      ]
    },
    {
      "cell_type": "markdown",
      "source": [
        "#13) What is data type SET in Python and how to work with it?\n",
        "\n",
        "A) The Python data type “set” is a kind of collection. It has been part of Python since version 2.4. A set contains an unordered collection of unique and immutable objects."
      ],
      "metadata": {
        "id": "_mkWLRFdgDMN"
      }
    },
    {
      "cell_type": "code",
      "source": [
        "set1={'python','is','the','easiest','language'}"
      ],
      "metadata": {
        "id": "hw6r4_J9gAm_"
      },
      "execution_count": null,
      "outputs": []
    },
    {
      "cell_type": "code",
      "source": [
        "type(set1)"
      ],
      "metadata": {
        "colab": {
          "base_uri": "https://localhost:8080/"
        },
        "id": "X_hSZgmBgArz",
        "outputId": "2691b9c6-662e-49dd-e8a0-af690ae58386"
      },
      "execution_count": null,
      "outputs": [
        {
          "output_type": "execute_result",
          "data": {
            "text/plain": [
              "set"
            ]
          },
          "metadata": {},
          "execution_count": 37
        }
      ]
    },
    {
      "cell_type": "code",
      "source": [
        "len(set1)"
      ],
      "metadata": {
        "colab": {
          "base_uri": "https://localhost:8080/"
        },
        "id": "pqIcP6Baf609",
        "outputId": "229ccb6f-7c74-4f44-ee68-8f6f8153c972"
      },
      "execution_count": null,
      "outputs": [
        {
          "output_type": "execute_result",
          "data": {
            "text/plain": [
              "5"
            ]
          },
          "metadata": {},
          "execution_count": 38
        }
      ]
    },
    {
      "cell_type": "code",
      "source": [
        "if 'is' in set1:\n",
        "  print('yes')"
      ],
      "metadata": {
        "colab": {
          "base_uri": "https://localhost:8080/"
        },
        "id": "7UVDD9POf64m",
        "outputId": "539f82b4-b62e-42f9-b3fd-40e8ac51b0cc"
      },
      "execution_count": null,
      "outputs": [
        {
          "output_type": "stream",
          "name": "stdout",
          "text": [
            "yes\n"
          ]
        }
      ]
    },
    {
      "cell_type": "code",
      "source": [
        "if 'roja' not in set1:\n",
        "  print('yes that is crct')"
      ],
      "metadata": {
        "colab": {
          "base_uri": "https://localhost:8080/"
        },
        "id": "2S_fVJrvmL42",
        "outputId": "85d105ce-6979-46b3-9b61-8b8a650d323e"
      },
      "execution_count": null,
      "outputs": [
        {
          "output_type": "stream",
          "name": "stdout",
          "text": [
            "yes that is crct\n"
          ]
        }
      ]
    },
    {
      "cell_type": "code",
      "source": [
        "items=set()"
      ],
      "metadata": {
        "id": "odlqCNFzmL9B"
      },
      "execution_count": null,
      "outputs": []
    },
    {
      "cell_type": "code",
      "source": [
        "items.add('roja')\n",
        "items.add('cm')\n",
        "items.add('hnpura')"
      ],
      "metadata": {
        "id": "o0y_SWrEmYYl"
      },
      "execution_count": null,
      "outputs": []
    },
    {
      "cell_type": "code",
      "source": [
        "items"
      ],
      "metadata": {
        "colab": {
          "base_uri": "https://localhost:8080/"
        },
        "id": "wMePlZAcmYbo",
        "outputId": "617ca8bf-ffd1-44ea-ec42-e7593cddbebc"
      },
      "execution_count": null,
      "outputs": [
        {
          "output_type": "execute_result",
          "data": {
            "text/plain": [
              "{'cm', 'hnpura', 'roja'}"
            ]
          },
          "metadata": {},
          "execution_count": 44
        }
      ]
    },
    {
      "cell_type": "code",
      "source": [
        "'roja'+'cm'"
      ],
      "metadata": {
        "colab": {
          "base_uri": "https://localhost:8080/",
          "height": 36
        },
        "id": "ev81FOv-mXUR",
        "outputId": "74d8f4bc-d78c-41e4-8fb9-8d6388b8b40a"
      },
      "execution_count": null,
      "outputs": [
        {
          "output_type": "execute_result",
          "data": {
            "text/plain": [
              "'rojacm'"
            ],
            "application/vnd.google.colaboratory.intrinsic+json": {
              "type": "string"
            }
          },
          "metadata": {},
          "execution_count": 45
        }
      ]
    },
    {
      "cell_type": "markdown",
      "source": [
        "#15) How to generate random numbers in Python?\n",
        "\n",
        "A) We can generate random numbers using different functions in Python. They are:\n",
        "\n",
        "#1. random() – This command returns a floating point number, between 0 and 1.\n",
        "\n",
        "#2. uniform(X, Y) – It returns a floating point number between the values given as X and Y.\n",
        "\n",
        "#3. randint(X, Y) – This command returns a random integer between the values given as X and Y."
      ],
      "metadata": {
        "id": "azIZkvjymXYP"
      }
    },
    {
      "cell_type": "code",
      "source": [
        "import numpy as np"
      ],
      "metadata": {
        "id": "23Kc7mNqmop3"
      },
      "execution_count": null,
      "outputs": []
    },
    {
      "cell_type": "code",
      "source": [
        "import random"
      ],
      "metadata": {
        "id": "xa5r-OwGmouP"
      },
      "execution_count": null,
      "outputs": []
    },
    {
      "cell_type": "code",
      "source": [
        "r=random.random()"
      ],
      "metadata": {
        "id": "13xCMoltmox4"
      },
      "execution_count": null,
      "outputs": []
    },
    {
      "cell_type": "code",
      "source": [
        "r"
      ],
      "metadata": {
        "colab": {
          "base_uri": "https://localhost:8080/"
        },
        "id": "d7K7hHjYmo3B",
        "outputId": "da0bd28e-5231-4004-889d-b8844e05375c"
      },
      "execution_count": null,
      "outputs": [
        {
          "output_type": "execute_result",
          "data": {
            "text/plain": [
              "0.2703097293479838"
            ]
          },
          "metadata": {},
          "execution_count": 57
        }
      ]
    },
    {
      "cell_type": "code",
      "source": [
        "q=random.uniform(45,60)"
      ],
      "metadata": {
        "id": "rzSBniyvmXbH"
      },
      "execution_count": null,
      "outputs": []
    },
    {
      "cell_type": "code",
      "source": [
        "q"
      ],
      "metadata": {
        "colab": {
          "base_uri": "https://localhost:8080/"
        },
        "id": "kUJVZ5nUmF2u",
        "outputId": "c04271d5-e5e1-414a-f869-2c9a54b9439f"
      },
      "execution_count": null,
      "outputs": [
        {
          "output_type": "execute_result",
          "data": {
            "text/plain": [
              "49.48711414824577"
            ]
          },
          "metadata": {},
          "execution_count": 59
        }
      ]
    },
    {
      "cell_type": "code",
      "source": [
        "s=random.randint(45,89)"
      ],
      "metadata": {
        "id": "gpiyYiOqnWgM"
      },
      "execution_count": null,
      "outputs": []
    },
    {
      "cell_type": "code",
      "source": [
        "s"
      ],
      "metadata": {
        "colab": {
          "base_uri": "https://localhost:8080/"
        },
        "id": "HLdPBwp_nWkZ",
        "outputId": "ec431364-c2c9-4234-e52f-292519c8a118"
      },
      "execution_count": null,
      "outputs": [
        {
          "output_type": "execute_result",
          "data": {
            "text/plain": [
              "83"
            ]
          },
          "metadata": {},
          "execution_count": 62
        }
      ]
    },
    {
      "cell_type": "code",
      "source": [
        "t=random.randrange(0,100,4)\n",
        "t"
      ],
      "metadata": {
        "colab": {
          "base_uri": "https://localhost:8080/"
        },
        "id": "otp1_8A6mF6-",
        "outputId": "ba2d32f6-43b5-46bf-c62a-c4975b82672b"
      },
      "execution_count": null,
      "outputs": [
        {
          "output_type": "execute_result",
          "data": {
            "text/plain": [
              "76"
            ]
          },
          "metadata": {},
          "execution_count": 64
        }
      ]
    },
    {
      "cell_type": "code",
      "source": [
        "sum([i for i in range(101)])"
      ],
      "metadata": {
        "colab": {
          "base_uri": "https://localhost:8080/"
        },
        "id": "NVs8unUjmF-z",
        "outputId": "718c8629-e492-47e8-ab76-3df9f0106856"
      },
      "execution_count": null,
      "outputs": [
        {
          "output_type": "execute_result",
          "data": {
            "text/plain": [
              "5050"
            ]
          },
          "metadata": {},
          "execution_count": 66
        }
      ]
    },
    {
      "cell_type": "markdown",
      "source": [
        "#17) How do you set a global variable inside a function?\n",
        "\n",
        "A) Yes, we can use a global variable in other functions by declaring it as global in each function that assigns to it:"
      ],
      "metadata": {
        "id": "Eh7f4IB6oELn"
      }
    },
    {
      "cell_type": "code",
      "source": [
        "globalvar=0\n",
        "def set_gbvar():\n",
        "  global globalvar\n",
        "  globalvar=1"
      ],
      "metadata": {
        "id": "x1oFqYjzoEQV"
      },
      "execution_count": null,
      "outputs": []
    },
    {
      "cell_type": "code",
      "source": [
        "def print_globalvar():\n",
        "  print(globalvar)"
      ],
      "metadata": {
        "id": "1qOXQYuBmGC0"
      },
      "execution_count": null,
      "outputs": []
    },
    {
      "cell_type": "code",
      "source": [
        "set_gbvar()"
      ],
      "metadata": {
        "id": "9A7MeTWPeirs"
      },
      "execution_count": null,
      "outputs": []
    },
    {
      "cell_type": "code",
      "source": [
        "print_globalvar()"
      ],
      "metadata": {
        "colab": {
          "base_uri": "https://localhost:8080/"
        },
        "id": "g5yBaFu6py6l",
        "outputId": "6e21cc1c-65d7-4549-9ef2-6fc097f2afdc"
      },
      "execution_count": null,
      "outputs": [
        {
          "output_type": "stream",
          "name": "stdout",
          "text": [
            "1\n"
          ]
        }
      ]
    },
    {
      "cell_type": "markdown",
      "source": [
        "#19) What is the output, Suppose list1 is [1, 3, 2], What is list1 * 2?\n",
        "\n",
        "A) [1, 3, 2, 1, 3, 2]"
      ],
      "metadata": {
        "id": "URYHYjB2py-n"
      }
    },
    {
      "cell_type": "code",
      "source": [
        "l1=[1,3,4]\n",
        "l1*2"
      ],
      "metadata": {
        "colab": {
          "base_uri": "https://localhost:8080/"
        },
        "id": "lTXbpChXeiwY",
        "outputId": "bcf95cce-b9f6-4d0a-8539-31facc931a51"
      },
      "execution_count": null,
      "outputs": [
        {
          "output_type": "execute_result",
          "data": {
            "text/plain": [
              "[1, 3, 4, 1, 3, 4]"
            ]
          },
          "metadata": {},
          "execution_count": 71
        }
      ]
    },
    {
      "cell_type": "code",
      "source": [
        "#21) Can you write a program to find the average of numbers in a list in Python?\n",
        "n=int(input('enter the number of elements to be added'))"
      ],
      "metadata": {
        "colab": {
          "base_uri": "https://localhost:8080/"
        },
        "id": "mRiRpZ6qqXB6",
        "outputId": "8294bb81-f3bc-4194-a089-65c91b91acbf"
      },
      "execution_count": null,
      "outputs": [
        {
          "name": "stdout",
          "output_type": "stream",
          "text": [
            "enter the number of elements to be added7\n"
          ]
        }
      ]
    },
    {
      "cell_type": "code",
      "source": [
        "n"
      ],
      "metadata": {
        "colab": {
          "base_uri": "https://localhost:8080/"
        },
        "id": "nDV0zPQtrXIq",
        "outputId": "f7229999-6df9-48aa-9a13-87498fb34b6f"
      },
      "execution_count": null,
      "outputs": [
        {
          "output_type": "execute_result",
          "data": {
            "text/plain": [
              "7"
            ]
          },
          "metadata": {},
          "execution_count": 73
        }
      ]
    },
    {
      "cell_type": "code",
      "source": [
        "a=[]\n",
        "for i in range(0,7):\n",
        "  h=int(input('enter the number'))\n",
        "  a.append(h)\n",
        "  avg=sum(a)/n"
      ],
      "metadata": {
        "colab": {
          "base_uri": "https://localhost:8080/"
        },
        "id": "STlimZQwrXMK",
        "outputId": "5c619a9e-adbe-416c-9a3b-5f9b437dc646"
      },
      "execution_count": null,
      "outputs": [
        {
          "name": "stdout",
          "output_type": "stream",
          "text": [
            "enter the number5\n",
            "enter the number6\n",
            "enter the number3\n",
            "enter the number8\n",
            "enter the number2\n",
            "enter the number8\n",
            "enter the number6\n"
          ]
        }
      ]
    },
    {
      "cell_type": "code",
      "source": [
        "avg"
      ],
      "metadata": {
        "colab": {
          "base_uri": "https://localhost:8080/"
        },
        "id": "u5XYEuyVrXSO",
        "outputId": "ab2613d8-ffdc-4bdb-aa0f-b465b1bd0f7f"
      },
      "execution_count": null,
      "outputs": [
        {
          "output_type": "execute_result",
          "data": {
            "text/plain": [
              "5.428571428571429"
            ]
          },
          "metadata": {},
          "execution_count": 77
        }
      ]
    },
    {
      "cell_type": "code",
      "source": [
        "4%10"
      ],
      "metadata": {
        "colab": {
          "base_uri": "https://localhost:8080/"
        },
        "id": "wWVVly7RrXW7",
        "outputId": "718e8ce6-3511-4394-b9b1-1f6158d73d7d"
      },
      "execution_count": null,
      "outputs": [
        {
          "output_type": "execute_result",
          "data": {
            "text/plain": [
              "4"
            ]
          },
          "metadata": {},
          "execution_count": 78
        }
      ]
    },
    {
      "cell_type": "code",
      "source": [
        "\n",
        "#22) Write a program to reverse a number in Python?\n",
        "\n",
        "#A) Python Program to Reverse a Number:\n",
        "\n",
        "\n",
        "n=int(input('enter a number'))"
      ],
      "metadata": {
        "colab": {
          "base_uri": "https://localhost:8080/"
        },
        "id": "HGcJLf8lrXb3",
        "outputId": "4812f416-f9ae-4e31-ccb2-2bbee8ff8a28"
      },
      "execution_count": null,
      "outputs": [
        {
          "name": "stdout",
          "output_type": "stream",
          "text": [
            "enter a number84\n"
          ]
        }
      ]
    },
    {
      "cell_type": "code",
      "source": [
        "n"
      ],
      "metadata": {
        "colab": {
          "base_uri": "https://localhost:8080/"
        },
        "id": "w4_x40EMtPp3",
        "outputId": "d53ab30b-bd4d-4c01-ea93-d73c61de0876"
      },
      "execution_count": null,
      "outputs": [
        {
          "output_type": "execute_result",
          "data": {
            "text/plain": [
              "84"
            ]
          },
          "metadata": {},
          "execution_count": 81
        }
      ]
    },
    {
      "cell_type": "code",
      "source": [
        "rev=0\n",
        "while(n>0):\n",
        "  dig=n%10\n",
        "  rev=rev*10+dig\n",
        "  n=n//10"
      ],
      "metadata": {
        "id": "-xq_0OfatP7x"
      },
      "execution_count": null,
      "outputs": []
    },
    {
      "cell_type": "code",
      "source": [
        "print(rev)"
      ],
      "metadata": {
        "colab": {
          "base_uri": "https://localhost:8080/"
        },
        "id": "ZUE2OehQtTfm",
        "outputId": "8e9db311-c2d7-42c4-954e-be6868a6d916"
      },
      "execution_count": null,
      "outputs": [
        {
          "output_type": "stream",
          "name": "stdout",
          "text": [
            "48\n"
          ]
        }
      ]
    },
    {
      "cell_type": "markdown",
      "source": [
        "#23) Write a program to find the sum of the digits of a number in Python?\n",
        "\n",
        "A) Python Program to Find Sum of the Digits of a Number"
      ],
      "metadata": {
        "id": "7Ar-uM0htTm7"
      }
    },
    {
      "cell_type": "code",
      "source": [
        "num=int(input('enter a number'))\n",
        "tot=0\n",
        "while(num>0):\n",
        "  dig=num%10\n",
        "  tot=tot+dig\n",
        "  num=num//10\n",
        "\n"
      ],
      "metadata": {
        "colab": {
          "base_uri": "https://localhost:8080/"
        },
        "id": "L_-LqFVMtvxX",
        "outputId": "ea56b057-92ec-4a96-d606-312ebf1b5212"
      },
      "execution_count": null,
      "outputs": [
        {
          "name": "stdout",
          "output_type": "stream",
          "text": [
            "enter a number567\n"
          ]
        }
      ]
    },
    {
      "cell_type": "code",
      "source": [
        "tot"
      ],
      "metadata": {
        "colab": {
          "base_uri": "https://localhost:8080/"
        },
        "id": "8tVfIWfetv6b",
        "outputId": "690e2e8b-3eaf-4906-d1f1-919405fbecab"
      },
      "execution_count": null,
      "outputs": [
        {
          "output_type": "execute_result",
          "data": {
            "text/plain": [
              "18"
            ]
          },
          "metadata": {},
          "execution_count": 92
        }
      ]
    },
    {
      "cell_type": "markdown",
      "source": [
        "#24) Write a Python Program to Check if a Number is a Palindrome or not?\n",
        "\n",
        "A) Python Program to Check if a Number is a Palindrome or Not:"
      ],
      "metadata": {
        "id": "kFDd16oEtv_R"
      }
    },
    {
      "cell_type": "code",
      "source": [
        "num3=int(input('enter a number'))\n",
        "temp=num3\n",
        "rev=0\n",
        "while num3>0:\n",
        "  dig=num3%10\n",
        "  rev=rev*10+dig\n",
        "  num3=num3//10\n",
        "if rev==temp:\n",
        "  print('it is a palindrome number')\n",
        "else:\n",
        "  print('it is not a palindrome number')"
      ],
      "metadata": {
        "colab": {
          "base_uri": "https://localhost:8080/"
        },
        "id": "Gbw8cSZ_xgGo",
        "outputId": "5ada0f3d-4984-417f-a669-12fb11c890e8"
      },
      "execution_count": null,
      "outputs": [
        {
          "output_type": "stream",
          "name": "stdout",
          "text": [
            "enter a number788\n",
            "it is not a palindrome number\n"
          ]
        }
      ]
    },
    {
      "cell_type": "code",
      "source": [
        "rev"
      ],
      "metadata": {
        "colab": {
          "base_uri": "https://localhost:8080/"
        },
        "id": "74CsI-MxxgK-",
        "outputId": "517ea5ba-4434-4e75-d9e6-985c15e36165"
      },
      "execution_count": null,
      "outputs": [
        {
          "output_type": "execute_result",
          "data": {
            "text/plain": [
              "887"
            ]
          },
          "metadata": {},
          "execution_count": 99
        }
      ]
    },
    {
      "cell_type": "markdown",
      "source": [
        "#25) Write a Python Program to Count the Number of Digits in a Number?\n",
        "\n",
        "A) Python Program to Count the Number of Digits in a Number:"
      ],
      "metadata": {
        "id": "UiXFJ9CexgPA"
      }
    },
    {
      "cell_type": "code",
      "source": [
        "num4=int(input('enter a number'))\n",
        "count1=0 \n",
        "while num4>0: \n",
        "  count1=count1+1 \n",
        "  num4=num4//10"
      ],
      "metadata": {
        "colab": {
          "base_uri": "https://localhost:8080/"
        },
        "id": "DZRClZg0zert",
        "outputId": "1dae0c78-eb18-4aed-bfc4-f3ff06fa6ac0"
      },
      "execution_count": null,
      "outputs": [
        {
          "name": "stdout",
          "output_type": "stream",
          "text": [
            "enter a number6787\n"
          ]
        }
      ]
    },
    {
      "cell_type": "code",
      "source": [
        "count1"
      ],
      "metadata": {
        "colab": {
          "base_uri": "https://localhost:8080/"
        },
        "id": "lGe9qj-mzew1",
        "outputId": "23a440ba-b88c-4f45-91ef-a806cb560f09"
      },
      "execution_count": null,
      "outputs": [
        {
          "output_type": "execute_result",
          "data": {
            "text/plain": [
              "4"
            ]
          },
          "metadata": {},
          "execution_count": 105
        }
      ]
    },
    {
      "cell_type": "markdown",
      "source": [
        "#26) Write a Python Program to Print Table of a Given Number?\n",
        "\n",
        "A) Python Program to Print Table of a Given Number:"
      ],
      "metadata": {
        "id": "iWKJofvBxgTn"
      }
    },
    {
      "cell_type": "code",
      "source": [
        "n=7\n",
        "for i in range(1,11):\n",
        "  print(f'{n}*{i} is {n*i}')"
      ],
      "metadata": {
        "colab": {
          "base_uri": "https://localhost:8080/"
        },
        "id": "jZKuxHq20z_H",
        "outputId": "8f25712a-f755-4125-a0da-5941b14942da"
      },
      "execution_count": null,
      "outputs": [
        {
          "output_type": "stream",
          "name": "stdout",
          "text": [
            "7*1 is 7\n",
            "7*2 is 14\n",
            "7*3 is 21\n",
            "7*4 is 28\n",
            "7*5 is 35\n",
            "7*6 is 42\n",
            "7*7 is 49\n",
            "7*8 is 56\n",
            "7*9 is 63\n",
            "7*10 is 70\n"
          ]
        }
      ]
    },
    {
      "cell_type": "code",
      "source": [
        "for i in range(1,11):\n",
        "  print(n,\"X\", i,\"=\",n*i)"
      ],
      "metadata": {
        "colab": {
          "base_uri": "https://localhost:8080/"
        },
        "id": "E6vwcK4K00D3",
        "outputId": "8ef2343e-6fb6-4408-b050-f60b0a9db80a"
      },
      "execution_count": null,
      "outputs": [
        {
          "output_type": "stream",
          "name": "stdout",
          "text": [
            "7 X 1 = 7\n",
            "7 X 2 = 14\n",
            "7 X 3 = 21\n",
            "7 X 4 = 28\n",
            "7 X 5 = 35\n",
            "7 X 6 = 42\n",
            "7 X 7 = 49\n",
            "7 X 8 = 56\n",
            "7 X 9 = 63\n",
            "7 X 10 = 70\n"
          ]
        }
      ]
    },
    {
      "cell_type": "markdown",
      "source": [
        "#27) Write a Python Program to Check if a Number is a Prime Number?\n",
        "\n",
        "A) Python Program to Check if a Number is a Prime Number:"
      ],
      "metadata": {
        "id": "x080nbZS00Id"
      }
    },
    {
      "cell_type": "code",
      "source": [
        "num6=int(input('enter a number'))\n",
        "for i in range(2,num6):\n",
        "  if num6 % i==0:\n",
        "    print('the number is a prime')\n",
        "else:\n",
        "    print('the number is not a prime')"
      ],
      "metadata": {
        "colab": {
          "base_uri": "https://localhost:8080/"
        },
        "id": "ly6GVMfD00NB",
        "outputId": "b0223fb1-4dc9-410c-892b-e415ebc5573a"
      },
      "execution_count": null,
      "outputs": [
        {
          "output_type": "stream",
          "name": "stdout",
          "text": [
            "enter a number7\n",
            "the number is not a prime\n"
          ]
        }
      ]
    },
    {
      "cell_type": "code",
      "source": [
        "n=int(input(\"Enter any number: \"))\n"
      ],
      "metadata": {
        "colab": {
          "base_uri": "https://localhost:8080/"
        },
        "id": "6hnisw877er6",
        "outputId": "df7c9a61-4880-42a8-8efc-13b45e0f05b0"
      },
      "execution_count": null,
      "outputs": [
        {
          "name": "stdout",
          "output_type": "stream",
          "text": [
            "Enter any number: 7\n"
          ]
        }
      ]
    },
    {
      "cell_type": "code",
      "source": [
        "\n",
        "a=list(map(int,str(n)))"
      ],
      "metadata": {
        "id": "7PkHecVw8Z5T"
      },
      "execution_count": null,
      "outputs": []
    },
    {
      "cell_type": "code",
      "source": [
        "type(a)"
      ],
      "metadata": {
        "colab": {
          "base_uri": "https://localhost:8080/"
        },
        "id": "smf4eS478Z8h",
        "outputId": "1b01c707-00f8-4f42-e5e6-22be4821f595"
      },
      "execution_count": null,
      "outputs": [
        {
          "output_type": "execute_result",
          "data": {
            "text/plain": [
              "list"
            ]
          },
          "metadata": {},
          "execution_count": 116
        }
      ]
    },
    {
      "cell_type": "code",
      "source": [
        "str(5)"
      ],
      "metadata": {
        "colab": {
          "base_uri": "https://localhost:8080/",
          "height": 36
        },
        "id": "8nFczxai8aC3",
        "outputId": "6c244be0-6f31-4b7f-dd53-2adb15aac492"
      },
      "execution_count": null,
      "outputs": [
        {
          "output_type": "execute_result",
          "data": {
            "text/plain": [
              "'5'"
            ],
            "application/vnd.google.colaboratory.intrinsic+json": {
              "type": "string"
            }
          },
          "metadata": {},
          "execution_count": 119
        }
      ]
    },
    {
      "cell_type": "markdown",
      "source": [
        "#28) Write a Python Program to Check if a Number is an Armstrong Number?\n",
        "\n",
        "A) Python Program to Check if a Number is an Armstrong Number:"
      ],
      "metadata": {
        "id": "fZvR4m478aHR"
      }
    },
    {
      "cell_type": "code",
      "source": [
        "n=int(input(\"Enter any number: \"))\n",
        "a=list(map(int,str(n)))"
      ],
      "metadata": {
        "colab": {
          "base_uri": "https://localhost:8080/"
        },
        "id": "jfnPKdcJ-k2z",
        "outputId": "a28e8c0c-3f02-457f-8a4e-8d1793e522bf"
      },
      "execution_count": null,
      "outputs": [
        {
          "name": "stdout",
          "output_type": "stream",
          "text": [
            "Enter any number: 678\n"
          ]
        }
      ]
    },
    {
      "cell_type": "code",
      "source": [
        "a"
      ],
      "metadata": {
        "colab": {
          "base_uri": "https://localhost:8080/"
        },
        "id": "Yx5SDvqJ-k7J",
        "outputId": "cef03dfc-635b-4829-8e92-7a180ff4a5dd"
      },
      "execution_count": null,
      "outputs": [
        {
          "output_type": "execute_result",
          "data": {
            "text/plain": [
              "[6, 7, 8]"
            ]
          },
          "metadata": {},
          "execution_count": 121
        }
      ]
    },
    {
      "cell_type": "code",
      "source": [
        "str(678)"
      ],
      "metadata": {
        "colab": {
          "base_uri": "https://localhost:8080/",
          "height": 36
        },
        "id": "RRdvoUwp-k-j",
        "outputId": "cd90af46-1c5c-47fb-c8c7-11d7578b3381"
      },
      "execution_count": null,
      "outputs": [
        {
          "output_type": "execute_result",
          "data": {
            "text/plain": [
              "'678'"
            ],
            "application/vnd.google.colaboratory.intrinsic+json": {
              "type": "string"
            }
          },
          "metadata": {},
          "execution_count": 122
        }
      ]
    },
    {
      "cell_type": "code",
      "source": [
        "list1=list(map(int,str(678)))"
      ],
      "metadata": {
        "id": "s_l6_tbS8aL8"
      },
      "execution_count": null,
      "outputs": []
    },
    {
      "cell_type": "code",
      "source": [
        "list1"
      ],
      "metadata": {
        "colab": {
          "base_uri": "https://localhost:8080/"
        },
        "id": "rB-6eaTd8aQY",
        "outputId": "19b0e084-62d2-40b0-a4ea-8f80865ea958"
      },
      "execution_count": null,
      "outputs": [
        {
          "output_type": "execute_result",
          "data": {
            "text/plain": [
              "[6, 7, 8]"
            ]
          },
          "metadata": {},
          "execution_count": 124
        }
      ]
    },
    {
      "cell_type": "code",
      "source": [
        "sum(list1)"
      ],
      "metadata": {
        "colab": {
          "base_uri": "https://localhost:8080/"
        },
        "id": "mfVhqiYL7evm",
        "outputId": "14dc98d0-df77-42d2-a3da-13b8cefce8f6"
      },
      "execution_count": null,
      "outputs": [
        {
          "output_type": "execute_result",
          "data": {
            "text/plain": [
              "21"
            ]
          },
          "metadata": {},
          "execution_count": 125
        }
      ]
    },
    {
      "cell_type": "code",
      "source": [
        "n=input('enter a number')\n",
        "list6=list(map(int,n))\n",
        "sum(list6)"
      ],
      "metadata": {
        "colab": {
          "base_uri": "https://localhost:8080/"
        },
        "id": "F11YYsrN7e1z",
        "outputId": "070229d1-9120-4bf1-c3ca-b39e6139be81"
      },
      "execution_count": null,
      "outputs": [
        {
          "name": "stdout",
          "output_type": "stream",
          "text": [
            "enter a number890\n"
          ]
        },
        {
          "output_type": "execute_result",
          "data": {
            "text/plain": [
              "17"
            ]
          },
          "metadata": {},
          "execution_count": 126
        }
      ]
    },
    {
      "cell_type": "code",
      "source": [
        "#armstrong number\n",
        "n=int(input('enter a number'))\n",
        "list6=list(map(int,str(n)))\n",
        "list7=list(map(lambda x:x**3,list6))\n",
        "if sum(list7)==n:\n",
        "  print('armstrong num')\n",
        "else:\n",
        "  print('not an armstrong num')"
      ],
      "metadata": {
        "colab": {
          "base_uri": "https://localhost:8080/"
        },
        "id": "EMs8ZjTX7e6E",
        "outputId": "ff157ff9-e281-4df9-d402-6600671e8d04"
      },
      "execution_count": null,
      "outputs": [
        {
          "output_type": "stream",
          "name": "stdout",
          "text": [
            "enter a number153\n",
            "armstrong num\n"
          ]
        }
      ]
    },
    {
      "cell_type": "code",
      "source": [
        "list7"
      ],
      "metadata": {
        "colab": {
          "base_uri": "https://localhost:8080/"
        },
        "id": "aAa2cMRv7e-K",
        "outputId": "596d6ced-797c-422e-84b8-87f7ea30d1bc"
      },
      "execution_count": null,
      "outputs": [
        {
          "output_type": "execute_result",
          "data": {
            "text/plain": [
              "[1, 125, 27]"
            ]
          },
          "metadata": {},
          "execution_count": 133
        }
      ]
    },
    {
      "cell_type": "markdown",
      "source": [
        "#29) Write a Python Program to Check if a Number is a Perfect Number?\n",
        "\n",
        "A) Python Program to Check if a Number is a Perfect Numb"
      ],
      "metadata": {
        "id": "mHrzuBTV_4WH"
      }
    },
    {
      "cell_type": "code",
      "source": [
        "number1=int(input('enter a number'))\n",
        "pos_int=[]\n",
        "for i in range(1,number1):\n",
        "  if number1%i==0:\n",
        "    pos_int.append(i)\n",
        "if sum(pos_int)==number1:\n",
        "  print('yes it is perfect number')\n",
        "else:\n",
        "  print('no it is not a perfect number')\n"
      ],
      "metadata": {
        "colab": {
          "base_uri": "https://localhost:8080/"
        },
        "id": "SPgQxgcdCLCs",
        "outputId": "331c23ad-1d5f-42e2-b9f7-02d1e791f164"
      },
      "execution_count": null,
      "outputs": [
        {
          "output_type": "stream",
          "name": "stdout",
          "text": [
            "enter a number10\n",
            "no it is not a perfect number\n"
          ]
        }
      ]
    },
    {
      "cell_type": "code",
      "source": [
        "number1=int(input('enter a number'))\n",
        "pos_int=[]\n",
        "for i in range(1,number1):\n",
        "  if number1%i==0:\n",
        "    pos_int.append(i)\n",
        "if sum(pos_int)==number1:\n",
        "  print('yes it is perfect number')\n",
        "else:\n",
        "  print('no it is not a perfect number')"
      ],
      "metadata": {
        "colab": {
          "base_uri": "https://localhost:8080/"
        },
        "id": "GzNwh_pLCLHZ",
        "outputId": "d7276f3f-be40-4157-9cb6-b4a5c50cf8cd"
      },
      "execution_count": null,
      "outputs": [
        {
          "output_type": "stream",
          "name": "stdout",
          "text": [
            "enter a number7\n",
            "no it is not a perfect number\n"
          ]
        }
      ]
    },
    {
      "cell_type": "code",
      "source": [
        "number1=int(input('enter a number'))\n",
        "pos_int=[]\n",
        "for i in range(1,number1):\n",
        "  if number1%i==0:\n",
        "    pos_int.append(i)\n",
        "if sum(pos_int)==number1:\n",
        "  print('yes it is perfect number')\n",
        "else:\n",
        "  print('no it is not a perfect number')"
      ],
      "metadata": {
        "colab": {
          "base_uri": "https://localhost:8080/"
        },
        "id": "LTEbFYmTCLL1",
        "outputId": "7839ca8f-b6ac-4ebf-b46f-b9c4afa765bb"
      },
      "execution_count": null,
      "outputs": [
        {
          "output_type": "stream",
          "name": "stdout",
          "text": [
            "enter a number6\n",
            "yes it is perfect number\n"
          ]
        }
      ]
    },
    {
      "cell_type": "code",
      "source": [
        "fact(4)"
      ],
      "metadata": {
        "id": "HUVm1Tq1DOhe"
      },
      "execution_count": null,
      "outputs": []
    },
    {
      "cell_type": "markdown",
      "source": [
        "#30) Write a Python Program to Check if a Number is a Strong Number?\n",
        "\n",
        "A) Python Program to Check if a Number is a Strong Number:\n",
        "What makes a number a strong number? Strong number: Strong numbers are the numbers whose sum of factorial of digits is equal to the original number. A strong number is such that the sum of it’s factorial is the number itself, lets take example, A number 145 is strong because factorial of 1, 4, 5 is equals to 145"
      ],
      "metadata": {
        "id": "C_1uajM8DSq1"
      }
    },
    {
      "cell_type": "code",
      "source": [
        "def fun(n):\n",
        "  fact=1\n",
        "  sumnum=[]\n",
        "  for i in range(1,n+1):\n",
        "     fact=fact*i\n",
        "     sumnum.append(fact)\n",
        "  \n"
      ],
      "metadata": {
        "id": "--ZG4k1rDSw6"
      },
      "execution_count": null,
      "outputs": []
    },
    {
      "cell_type": "code",
      "source": [
        "fun(5)"
      ],
      "metadata": {
        "colab": {
          "base_uri": "https://localhost:8080/"
        },
        "id": "vFWUS8seDS2d",
        "outputId": "5c553d5c-d759-4c59-e1f6-a5878554ee2a"
      },
      "execution_count": null,
      "outputs": [
        {
          "output_type": "execute_result",
          "data": {
            "text/plain": [
              "[1, 2, 6, 24, 120]"
            ]
          },
          "metadata": {},
          "execution_count": 157
        }
      ]
    },
    {
      "cell_type": "code",
      "source": [
        "num7=int(input('enter a number'))\n",
        "num8=list(map(int,str(num7)))\n",
        "\n",
        "\n",
        "@fun(5)\n",
        "def fact():\n",
        "  if sum(sumnum)==num7:\n",
        "    print('it is a strong number')\n",
        "  else:\n",
        "    print('it is not a strong number')\n",
        "\n",
        "fact()"
      ],
      "metadata": {
        "colab": {
          "base_uri": "https://localhost:8080/",
          "height": 252
        },
        "id": "a-ZkxRWEIis4",
        "outputId": "e02c646e-7c85-481d-a5ce-b81428fac0da"
      },
      "execution_count": null,
      "outputs": [
        {
          "name": "stdout",
          "output_type": "stream",
          "text": [
            "enter a number145\n"
          ]
        },
        {
          "output_type": "error",
          "ename": "TypeError",
          "evalue": "ignored",
          "traceback": [
            "\u001b[0;31m---------------------------------------------------------------------------\u001b[0m",
            "\u001b[0;31mTypeError\u001b[0m                                 Traceback (most recent call last)",
            "\u001b[0;32m<ipython-input-166-fc80591bacb4>\u001b[0m in \u001b[0;36m<module>\u001b[0;34m()\u001b[0m\n\u001b[1;32m      3\u001b[0m \u001b[0;34m\u001b[0m\u001b[0m\n\u001b[1;32m      4\u001b[0m \u001b[0;34m\u001b[0m\u001b[0m\n\u001b[0;32m----> 5\u001b[0;31m \u001b[0;34m@\u001b[0m\u001b[0mfun\u001b[0m\u001b[0;34m(\u001b[0m\u001b[0;36m5\u001b[0m\u001b[0;34m)\u001b[0m\u001b[0;34m\u001b[0m\u001b[0;34m\u001b[0m\u001b[0m\n\u001b[0m\u001b[1;32m      6\u001b[0m \u001b[0;32mdef\u001b[0m \u001b[0mfact\u001b[0m\u001b[0;34m(\u001b[0m\u001b[0;34m)\u001b[0m\u001b[0;34m:\u001b[0m\u001b[0;34m\u001b[0m\u001b[0;34m\u001b[0m\u001b[0m\n\u001b[1;32m      7\u001b[0m   \u001b[0;32mif\u001b[0m \u001b[0msum\u001b[0m\u001b[0;34m(\u001b[0m\u001b[0msumnum\u001b[0m\u001b[0;34m)\u001b[0m\u001b[0;34m==\u001b[0m\u001b[0mnum7\u001b[0m\u001b[0;34m:\u001b[0m\u001b[0;34m\u001b[0m\u001b[0;34m\u001b[0m\u001b[0m\n",
            "\u001b[0;31mTypeError\u001b[0m: 'NoneType' object is not callable"
          ]
        }
      ]
    },
    {
      "cell_type": "markdown",
      "source": [
        "#31) Write a Python Program to Find the Second Largest Number in a List?\n",
        "\n",
        "A) Python Program to Find the Second Largest Number in a List:"
      ],
      "metadata": {
        "id": "LCL-hRV2IiyR"
      }
    },
    {
      "cell_type": "code",
      "source": [
        "z=int(input('enter a length of the list to be'))\n",
        "list2=[]\n",
        "for i in range(z):\n",
        "  n=int(input('enter a element'+str(i+1)+':'))\n",
        "  list2.append(n)\n",
        "  list2.sort(reverse=True)\n",
        "print('second laregst number is :',list2[1])\n",
        "\n"
      ],
      "metadata": {
        "colab": {
          "base_uri": "https://localhost:8080/"
        },
        "id": "Hutf8sC6Ij4C",
        "outputId": "6cd7e1c4-a93c-4207-b577-f649bfb5b45b"
      },
      "execution_count": null,
      "outputs": [
        {
          "output_type": "stream",
          "name": "stdout",
          "text": [
            "enter a length of the list to be4\n",
            "enter a element1:55\n",
            "enter a element2:33\n",
            "enter a element3:66\n",
            "enter a element4:22\n",
            "second laregst number is : 55\n"
          ]
        }
      ]
    },
    {
      "cell_type": "code",
      "source": [
        "list2"
      ],
      "metadata": {
        "colab": {
          "base_uri": "https://localhost:8080/"
        },
        "id": "BKlLf8sbIj9N",
        "outputId": "09791c5a-93e7-4895-dbb5-a14e45d0f022"
      },
      "execution_count": null,
      "outputs": [
        {
          "output_type": "execute_result",
          "data": {
            "text/plain": [
              "[66, 55, 33, 22]"
            ]
          },
          "metadata": {},
          "execution_count": 177
        }
      ]
    },
    {
      "cell_type": "code",
      "source": [
        "list2[1]"
      ],
      "metadata": {
        "colab": {
          "base_uri": "https://localhost:8080/"
        },
        "id": "tt7zdwL-EmY3",
        "outputId": "ce3f5649-4c02-4bdf-8914-58ce54efb7bf"
      },
      "execution_count": null,
      "outputs": [
        {
          "output_type": "execute_result",
          "data": {
            "text/plain": [
              "55"
            ]
          },
          "metadata": {},
          "execution_count": 178
        }
      ]
    },
    {
      "cell_type": "markdown",
      "source": [
        "#32) Write a Python Program to Swap the First and Last Value of a List?\n",
        "\n",
        "A) Python Program to Swap the First and Last Value of a List:"
      ],
      "metadata": {
        "id": "nJV8czflPPlo"
      }
    },
    {
      "cell_type": "code",
      "source": [
        "x=int(input('enter a length of the list to be'))\n",
        "list3=[]\n",
        "for i in range(x):\n",
        "  n=int(input('enter a element'+str(i+1)+':'))\n",
        "  list3.append(n)\n",
        "temp=list3[0]\n",
        "list3[0]=list3[-1]\n",
        "list3[-1]=temp\n"
      ],
      "metadata": {
        "colab": {
          "base_uri": "https://localhost:8080/"
        },
        "id": "LqThH0sBPhD3",
        "outputId": "ed1cb118-74a7-4587-cfa0-4bb8c5e59b7c"
      },
      "execution_count": null,
      "outputs": [
        {
          "name": "stdout",
          "output_type": "stream",
          "text": [
            "enter a length of the list to be5\n",
            "enter a element1:44\n",
            "enter a element2:55\n",
            "enter a element3:33\n",
            "enter a element4:66\n",
            "enter a element5:88\n"
          ]
        }
      ]
    },
    {
      "cell_type": "code",
      "source": [
        "list3[-1]"
      ],
      "metadata": {
        "colab": {
          "base_uri": "https://localhost:8080/"
        },
        "id": "JWm0uiLqPhIV",
        "outputId": "33f9967b-21cc-420f-ccdb-19239d53f635"
      },
      "execution_count": null,
      "outputs": [
        {
          "output_type": "execute_result",
          "data": {
            "text/plain": [
              "77"
            ]
          },
          "metadata": {},
          "execution_count": 198
        }
      ]
    },
    {
      "cell_type": "code",
      "source": [
        "list3"
      ],
      "metadata": {
        "colab": {
          "base_uri": "https://localhost:8080/"
        },
        "id": "9ZzXCmUMPhMk",
        "outputId": "831ea49b-2f03-41a4-dbd5-b14ac0ac4895"
      },
      "execution_count": null,
      "outputs": [
        {
          "output_type": "execute_result",
          "data": {
            "text/plain": [
              "[88, 55, 33, 66, 44]"
            ]
          },
          "metadata": {},
          "execution_count": 201
        }
      ]
    },
    {
      "cell_type": "markdown",
      "source": [
        "#33) Write a Python Program to Check if a String is a Palindrome or Not?\n",
        "\n",
        "A) Python Program to Check if a String is a Palindrome or Not:"
      ],
      "metadata": {
        "id": "ZaJ5bQjMPPrM"
      }
    },
    {
      "cell_type": "code",
      "source": [
        "str1=input('enter a string')\n",
        "\n",
        "if (str1==str1[::-1]):\n",
        "  print('string is a palindrome')\n",
        "else:\n",
        "  print('string is not a palindrome')\n"
      ],
      "metadata": {
        "colab": {
          "base_uri": "https://localhost:8080/"
        },
        "id": "pUbjGJ8BIV6I",
        "outputId": "4508c2b8-aa45-4963-83fc-429096aa80f6"
      },
      "execution_count": null,
      "outputs": [
        {
          "output_type": "stream",
          "name": "stdout",
          "text": [
            "enter a stringrororo\n",
            "string is not a palindrome\n"
          ]
        }
      ]
    },
    {
      "cell_type": "code",
      "source": [
        "r='roror'"
      ],
      "metadata": {
        "id": "Ey78xgT9IWAF"
      },
      "execution_count": null,
      "outputs": []
    },
    {
      "cell_type": "code",
      "source": [
        "r[::-1]"
      ],
      "metadata": {
        "colab": {
          "base_uri": "https://localhost:8080/",
          "height": 36
        },
        "id": "AN3lRe06EmeV",
        "outputId": "ee42cdd5-2f30-4323-e240-be3e374ad938"
      },
      "execution_count": null,
      "outputs": [
        {
          "output_type": "execute_result",
          "data": {
            "text/plain": [
              "'roror'"
            ],
            "application/vnd.google.colaboratory.intrinsic+json": {
              "type": "string"
            }
          },
          "metadata": {},
          "execution_count": 208
        }
      ]
    },
    {
      "cell_type": "markdown",
      "source": [
        "#34) Write a Python Program to Count the Number of Vowels in a String?\n",
        "\n",
        "A) Python Program to Count the Number of Vowels in a String:MM"
      ],
      "metadata": {
        "id": "Rb7FbZj-EmjS"
      }
    },
    {
      "cell_type": "code",
      "source": [
        "str2=input('enter a string')\n",
        "\n",
        "c=0\n",
        "\n",
        "for i in str2:\n",
        "  if (i=='a' or i=='e' or i=='o' or i=='u' or i=='i'):\n",
        "    c=c+1\n",
        "\n",
        "\n"
      ],
      "metadata": {
        "colab": {
          "base_uri": "https://localhost:8080/"
        },
        "id": "l74HnpkKgxmG",
        "outputId": "f3f17737-f3c6-4d5a-a6ab-9ac14381cab0"
      },
      "execution_count": null,
      "outputs": [
        {
          "name": "stdout",
          "output_type": "stream",
          "text": [
            "enter a stringroja\n"
          ]
        }
      ]
    },
    {
      "cell_type": "code",
      "source": [
        "c"
      ],
      "metadata": {
        "colab": {
          "base_uri": "https://localhost:8080/"
        },
        "id": "0c3rzgR3gxrq",
        "outputId": "0357a4ad-c60d-40fc-a950-a4cedb51ac43"
      },
      "execution_count": null,
      "outputs": [
        {
          "output_type": "execute_result",
          "data": {
            "text/plain": [
              "2"
            ]
          },
          "metadata": {},
          "execution_count": 222
        }
      ]
    },
    {
      "cell_type": "code",
      "source": [
        "len(r)"
      ],
      "metadata": {
        "colab": {
          "base_uri": "https://localhost:8080/"
        },
        "id": "Jhdf4Jabgxwf",
        "outputId": "058671b6-5766-4d25-fdb5-6741585cd10b"
      },
      "execution_count": null,
      "outputs": [
        {
          "output_type": "execute_result",
          "data": {
            "text/plain": [
              "4"
            ]
          },
          "metadata": {},
          "execution_count": 211
        }
      ]
    },
    {
      "cell_type": "markdown",
      "source": [
        "#\n",
        "35) Write a Python Program to Check Common Letters in Two Input Strings?\n",
        "\n",
        "A) Python Program to Check Common Letters in Two Input Strings:"
      ],
      "metadata": {
        "id": "Ni5_3lhBmBwX"
      }
    },
    {
      "cell_type": "code",
      "source": [
        "string1=input('enter a string:')\n",
        "string2=input('enter a string')"
      ],
      "metadata": {
        "colab": {
          "base_uri": "https://localhost:8080/"
        },
        "id": "W356PpqkmFMN",
        "outputId": "eee43d97-67a3-4233-d33a-a03d615fde42"
      },
      "execution_count": null,
      "outputs": [
        {
          "name": "stdout",
          "output_type": "stream",
          "text": [
            "enter a string:roja\n",
            "enter a stringhistory\n"
          ]
        }
      ]
    },
    {
      "cell_type": "code",
      "source": [
        "common=[]\n",
        "for i in string1:\n",
        "  for j in string2:\n",
        "    if i==j:\n",
        "      common.append(i)"
      ],
      "metadata": {
        "id": "716q6T9nmFQh"
      },
      "execution_count": null,
      "outputs": []
    },
    {
      "cell_type": "code",
      "source": [
        "common"
      ],
      "metadata": {
        "colab": {
          "base_uri": "https://localhost:8080/"
        },
        "id": "AqdnNXZomFVA",
        "outputId": "8be63890-ea47-4ba0-889e-6611cafa6a90"
      },
      "execution_count": null,
      "outputs": [
        {
          "output_type": "execute_result",
          "data": {
            "text/plain": [
              "['r', 'o']"
            ]
          },
          "metadata": {},
          "execution_count": 225
        }
      ]
    },
    {
      "cell_type": "code",
      "source": [
        "set(string1)"
      ],
      "metadata": {
        "colab": {
          "base_uri": "https://localhost:8080/"
        },
        "id": "vp0YLu1UmFZy",
        "outputId": "c5b44b26-da11-43a0-cee1-4fc2910f4fa7"
      },
      "execution_count": null,
      "outputs": [
        {
          "output_type": "execute_result",
          "data": {
            "text/plain": [
              "{'a', 'j', 'o', 'r'}"
            ]
          },
          "metadata": {},
          "execution_count": 226
        }
      ]
    },
    {
      "cell_type": "code",
      "source": [
        "set(string2)"
      ],
      "metadata": {
        "colab": {
          "base_uri": "https://localhost:8080/"
        },
        "id": "EBybCbG4nYER",
        "outputId": "4c4f86a0-20fc-4307-8468-c343c3fb50b2"
      },
      "execution_count": null,
      "outputs": [
        {
          "output_type": "execute_result",
          "data": {
            "text/plain": [
              "{'h', 'i', 'o', 'r', 's', 't', 'y'}"
            ]
          },
          "metadata": {},
          "execution_count": 230
        }
      ]
    },
    {
      "cell_type": "code",
      "source": [
        "list(set(string1) & set(string2))"
      ],
      "metadata": {
        "colab": {
          "base_uri": "https://localhost:8080/"
        },
        "id": "QhHRci70nYIz",
        "outputId": "b142df0a-0c46-4e2e-b04e-e34857730653"
      },
      "execution_count": null,
      "outputs": [
        {
          "output_type": "execute_result",
          "data": {
            "text/plain": [
              "['r', 'o']"
            ]
          },
          "metadata": {},
          "execution_count": 231
        }
      ]
    },
    {
      "cell_type": "code",
      "source": [
        "set(string1) & set(string2)"
      ],
      "metadata": {
        "colab": {
          "base_uri": "https://localhost:8080/"
        },
        "id": "fcwr_yPBnYMi",
        "outputId": "fd82a933-67cf-43ce-e9a2-130d1b9e7c5c"
      },
      "execution_count": null,
      "outputs": [
        {
          "output_type": "execute_result",
          "data": {
            "text/plain": [
              "{'o', 'r'}"
            ]
          },
          "metadata": {},
          "execution_count": 232
        }
      ]
    },
    {
      "cell_type": "code",
      "source": [
        ""
      ],
      "metadata": {
        "id": "DemOwuLvmFeZ"
      },
      "execution_count": null,
      "outputs": []
    },
    {
      "cell_type": "code",
      "source": [
        ""
      ],
      "metadata": {
        "id": "JUmog0OKmFjK"
      },
      "execution_count": null,
      "outputs": []
    },
    {
      "cell_type": "code",
      "source": [
        ""
      ],
      "metadata": {
        "id": "_peIzgs-mB1O"
      },
      "execution_count": null,
      "outputs": []
    },
    {
      "cell_type": "code",
      "source": [
        ""
      ],
      "metadata": {
        "id": "enC3HhClmB59"
      },
      "execution_count": null,
      "outputs": []
    },
    {
      "cell_type": "code",
      "source": [
        ""
      ],
      "metadata": {
        "id": "MQAk4XDhgx1p"
      },
      "execution_count": null,
      "outputs": []
    },
    {
      "cell_type": "code",
      "source": [
        ""
      ],
      "metadata": {
        "id": "4fZJFEq2gx69"
      },
      "execution_count": null,
      "outputs": []
    },
    {
      "cell_type": "code",
      "source": [
        ""
      ],
      "metadata": {
        "id": "wjPWERoaDOlp"
      },
      "execution_count": null,
      "outputs": []
    },
    {
      "cell_type": "code",
      "source": [
        ""
      ],
      "metadata": {
        "id": "iL2AxYMxCLUj"
      },
      "execution_count": null,
      "outputs": []
    },
    {
      "cell_type": "code",
      "source": [
        ""
      ],
      "metadata": {
        "id": "54HtIpe2CLYv"
      },
      "execution_count": null,
      "outputs": []
    },
    {
      "cell_type": "code",
      "source": [
        ""
      ],
      "metadata": {
        "id": "x3FeQFpeCLdZ"
      },
      "execution_count": null,
      "outputs": []
    },
    {
      "cell_type": "code",
      "source": [
        ""
      ],
      "metadata": {
        "id": "WSNM4Sd0_4ay"
      },
      "execution_count": null,
      "outputs": []
    },
    {
      "cell_type": "code",
      "source": [
        ""
      ],
      "metadata": {
        "id": "xV7vv6Jc_4ff"
      },
      "execution_count": null,
      "outputs": []
    },
    {
      "cell_type": "code",
      "source": [
        ""
      ],
      "metadata": {
        "id": "23RIQmSP_4kc"
      },
      "execution_count": null,
      "outputs": []
    },
    {
      "cell_type": "code",
      "source": [
        ""
      ],
      "metadata": {
        "id": "MFNhdDy37fCF"
      },
      "execution_count": null,
      "outputs": []
    },
    {
      "cell_type": "code",
      "source": [
        ""
      ],
      "metadata": {
        "id": "ZTi8bcJt7fFc"
      },
      "execution_count": null,
      "outputs": []
    },
    {
      "cell_type": "code",
      "source": [
        ""
      ],
      "metadata": {
        "id": "_gMfT5VQtwEJ"
      },
      "execution_count": null,
      "outputs": []
    },
    {
      "cell_type": "code",
      "source": [
        ""
      ],
      "metadata": {
        "id": "AqvhEvnktwJE"
      },
      "execution_count": null,
      "outputs": []
    },
    {
      "cell_type": "code",
      "source": [
        ""
      ],
      "metadata": {
        "id": "8K9JICZPtwON"
      },
      "execution_count": null,
      "outputs": []
    },
    {
      "cell_type": "code",
      "source": [
        ""
      ],
      "metadata": {
        "id": "dkHLoTGVtwSP"
      },
      "execution_count": null,
      "outputs": []
    },
    {
      "cell_type": "code",
      "source": [
        ""
      ],
      "metadata": {
        "id": "2J2E1Y1GtwW7"
      },
      "execution_count": null,
      "outputs": []
    }
  ]
}