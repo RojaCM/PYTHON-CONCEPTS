{
  "nbformat": 4,
  "nbformat_minor": 0,
  "metadata": {
    "colab": {
      "provenance": [],
      "authorship_tag": "ABX9TyO2k+vBqwway4X2eKrQzvE5",
      "include_colab_link": true
    },
    "kernelspec": {
      "name": "python3",
      "display_name": "Python 3"
    },
    "language_info": {
      "name": "python"
    }
  },
  "cells": [
    {
      "cell_type": "markdown",
      "metadata": {
        "id": "view-in-github",
        "colab_type": "text"
      },
      "source": [
        "<a href=\"https://colab.research.google.com/github/RojaCM/PYTHON-CONCEPTS/blob/main/keywordsrange_extraction.ipynb\" target=\"_parent\"><img src=\"https://colab.research.google.com/assets/colab-badge.svg\" alt=\"Open In Colab\"/></a>"
      ]
    },
    {
      "cell_type": "code",
      "execution_count": 9,
      "metadata": {
        "colab": {
          "base_uri": "https://localhost:8080/"
        },
        "id": "xoLuTQ40wfjH",
        "outputId": "486354cc-2254-429b-ba3a-999bba7b9082"
      },
      "outputs": [
        {
          "output_type": "stream",
          "name": "stdout",
          "text": [
            "Looking in indexes: https://pypi.org/simple, https://us-python.pkg.dev/colab-wheels/public/simple/\n",
            "Requirement already satisfied: keybert in /usr/local/lib/python3.7/dist-packages (0.7.0)\n",
            "Requirement already satisfied: scikit-learn>=0.22.2 in /usr/local/lib/python3.7/dist-packages (from keybert) (1.0.2)\n",
            "Requirement already satisfied: sentence-transformers>=0.3.8 in /usr/local/lib/python3.7/dist-packages (from keybert) (2.2.2)\n",
            "Requirement already satisfied: numpy>=1.18.5 in /usr/local/lib/python3.7/dist-packages (from keybert) (1.21.6)\n",
            "Requirement already satisfied: rich>=10.4.0 in /usr/local/lib/python3.7/dist-packages (from keybert) (12.6.0)\n",
            "Requirement already satisfied: commonmark<0.10.0,>=0.9.0 in /usr/local/lib/python3.7/dist-packages (from rich>=10.4.0->keybert) (0.9.1)\n",
            "Requirement already satisfied: pygments<3.0.0,>=2.6.0 in /usr/local/lib/python3.7/dist-packages (from rich>=10.4.0->keybert) (2.6.1)\n",
            "Requirement already satisfied: typing-extensions<5.0,>=4.0.0 in /usr/local/lib/python3.7/dist-packages (from rich>=10.4.0->keybert) (4.1.1)\n",
            "Requirement already satisfied: scipy>=1.1.0 in /usr/local/lib/python3.7/dist-packages (from scikit-learn>=0.22.2->keybert) (1.7.3)\n",
            "Requirement already satisfied: threadpoolctl>=2.0.0 in /usr/local/lib/python3.7/dist-packages (from scikit-learn>=0.22.2->keybert) (3.1.0)\n",
            "Requirement already satisfied: joblib>=0.11 in /usr/local/lib/python3.7/dist-packages (from scikit-learn>=0.22.2->keybert) (1.2.0)\n",
            "Requirement already satisfied: torchvision in /usr/local/lib/python3.7/dist-packages (from sentence-transformers>=0.3.8->keybert) (0.13.1+cu113)\n",
            "Requirement already satisfied: torch>=1.6.0 in /usr/local/lib/python3.7/dist-packages (from sentence-transformers>=0.3.8->keybert) (1.12.1+cu113)\n",
            "Requirement already satisfied: huggingface-hub>=0.4.0 in /usr/local/lib/python3.7/dist-packages (from sentence-transformers>=0.3.8->keybert) (0.10.1)\n",
            "Requirement already satisfied: nltk in /usr/local/lib/python3.7/dist-packages (from sentence-transformers>=0.3.8->keybert) (3.7)\n",
            "Requirement already satisfied: sentencepiece in /usr/local/lib/python3.7/dist-packages (from sentence-transformers>=0.3.8->keybert) (0.1.97)\n",
            "Requirement already satisfied: tqdm in /usr/local/lib/python3.7/dist-packages (from sentence-transformers>=0.3.8->keybert) (4.64.1)\n",
            "Requirement already satisfied: transformers<5.0.0,>=4.6.0 in /usr/local/lib/python3.7/dist-packages (from sentence-transformers>=0.3.8->keybert) (4.24.0)\n",
            "Requirement already satisfied: pyyaml>=5.1 in /usr/local/lib/python3.7/dist-packages (from huggingface-hub>=0.4.0->sentence-transformers>=0.3.8->keybert) (6.0)\n",
            "Requirement already satisfied: packaging>=20.9 in /usr/local/lib/python3.7/dist-packages (from huggingface-hub>=0.4.0->sentence-transformers>=0.3.8->keybert) (21.3)\n",
            "Requirement already satisfied: filelock in /usr/local/lib/python3.7/dist-packages (from huggingface-hub>=0.4.0->sentence-transformers>=0.3.8->keybert) (3.8.0)\n",
            "Requirement already satisfied: requests in /usr/local/lib/python3.7/dist-packages (from huggingface-hub>=0.4.0->sentence-transformers>=0.3.8->keybert) (2.23.0)\n",
            "Requirement already satisfied: importlib-metadata in /usr/local/lib/python3.7/dist-packages (from huggingface-hub>=0.4.0->sentence-transformers>=0.3.8->keybert) (4.13.0)\n",
            "Requirement already satisfied: pyparsing!=3.0.5,>=2.0.2 in /usr/local/lib/python3.7/dist-packages (from packaging>=20.9->huggingface-hub>=0.4.0->sentence-transformers>=0.3.8->keybert) (3.0.9)\n",
            "Requirement already satisfied: tokenizers!=0.11.3,<0.14,>=0.11.1 in /usr/local/lib/python3.7/dist-packages (from transformers<5.0.0,>=4.6.0->sentence-transformers>=0.3.8->keybert) (0.13.2)\n",
            "Requirement already satisfied: regex!=2019.12.17 in /usr/local/lib/python3.7/dist-packages (from transformers<5.0.0,>=4.6.0->sentence-transformers>=0.3.8->keybert) (2022.6.2)\n",
            "Requirement already satisfied: zipp>=0.5 in /usr/local/lib/python3.7/dist-packages (from importlib-metadata->huggingface-hub>=0.4.0->sentence-transformers>=0.3.8->keybert) (3.10.0)\n",
            "Requirement already satisfied: click in /usr/local/lib/python3.7/dist-packages (from nltk->sentence-transformers>=0.3.8->keybert) (7.1.2)\n",
            "Requirement already satisfied: idna<3,>=2.5 in /usr/local/lib/python3.7/dist-packages (from requests->huggingface-hub>=0.4.0->sentence-transformers>=0.3.8->keybert) (2.10)\n",
            "Requirement already satisfied: certifi>=2017.4.17 in /usr/local/lib/python3.7/dist-packages (from requests->huggingface-hub>=0.4.0->sentence-transformers>=0.3.8->keybert) (2022.9.24)\n",
            "Requirement already satisfied: chardet<4,>=3.0.2 in /usr/local/lib/python3.7/dist-packages (from requests->huggingface-hub>=0.4.0->sentence-transformers>=0.3.8->keybert) (3.0.4)\n",
            "Requirement already satisfied: urllib3!=1.25.0,!=1.25.1,<1.26,>=1.21.1 in /usr/local/lib/python3.7/dist-packages (from requests->huggingface-hub>=0.4.0->sentence-transformers>=0.3.8->keybert) (1.24.3)\n",
            "Requirement already satisfied: pillow!=8.3.*,>=5.3.0 in /usr/local/lib/python3.7/dist-packages (from torchvision->sentence-transformers>=0.3.8->keybert) (7.1.2)\n"
          ]
        }
      ],
      "source": [
        "pip install keybert"
      ]
    },
    {
      "cell_type": "code",
      "source": [
        "from keybert import KeyBERT\n",
        "from sentence_transformers import SentenceTransformer\n",
        "model = SentenceTransformer('multi-qa-MiniLM-L6-cos-v1')"
      ],
      "metadata": {
        "id": "_D4uoIKZwj33"
      },
      "execution_count": 10,
      "outputs": []
    },
    {
      "cell_type": "code",
      "source": [
        "select_range_forkeywords=int(input('enter a number to select the keywords range:'))"
      ],
      "metadata": {
        "colab": {
          "base_uri": "https://localhost:8080/"
        },
        "id": "cceH__YvI8ff",
        "outputId": "0a4ab46f-a79b-4e85-b43f-54fddcd7e2b4"
      },
      "execution_count": 24,
      "outputs": [
        {
          "name": "stdout",
          "output_type": "stream",
          "text": [
            "enter a number to select the keywords range:2\n"
          ]
        }
      ]
    },
    {
      "cell_type": "code",
      "source": [
        "def extract_relevant_keywords(query,select_range_forkeywords):\n",
        "  kw_model=KeyBERT(model)\n",
        "  keywords_score=kw_model.extract_keywords(query,keyphrase_ngram_range=(1,select_range_forkeywords))\n",
        "  keywords = []\n",
        "  scores = []\n",
        "  for i, j in keywords_score:\n",
        "      keywords.append(i)\n",
        "      scores.append(j)\n",
        "\n",
        "  extracted_keywords = []\n",
        "  for keyword, boost in zip(keywords, scores):\n",
        "      extracted_keywords.append(\n",
        "          {\"keyword\": keyword,\n",
        "            \"boost\": boost})\n",
        "\n",
        "  return extracted_keywords"
      ],
      "metadata": {
        "id": "vZWL5m9AwluD"
      },
      "execution_count": 21,
      "outputs": []
    },
    {
      "cell_type": "code",
      "source": [
        "extract_relevant_keywords('Congratulations Ranjan Kumar Sahu | Log Serice Awards - 5 years',select_range_forkeywords)"
      ],
      "metadata": {
        "colab": {
          "base_uri": "https://localhost:8080/"
        },
        "id": "vzqm6xoZIcaW",
        "outputId": "b2a4d425-084a-404e-dab7-5127846dbd33"
      },
      "execution_count": 20,
      "outputs": [
        {
          "output_type": "execute_result",
          "data": {
            "text/plain": [
              "[{'keyword': 'congratulations', 'boost': 0.5013},\n",
              " {'keyword': 'awards', 'boost': 0.4794},\n",
              " {'keyword': 'ranjan', 'boost': 0.4676},\n",
              " {'keyword': 'kumar', 'boost': 0.4651},\n",
              " {'keyword': 'years', 'boost': 0.4052}]"
            ]
          },
          "metadata": {},
          "execution_count": 20
        }
      ]
    },
    {
      "cell_type": "code",
      "source": [
        "extract_relevant_keywords('Congratulations Ranjan Kumar Sahu | Log Serice Awards - 5 years',select_range_forkeywords)"
      ],
      "metadata": {
        "colab": {
          "base_uri": "https://localhost:8080/"
        },
        "id": "i45UINg1I2PP",
        "outputId": "237bb85e-e65e-42d5-d209-2f3f8269f4aa"
      },
      "execution_count": 25,
      "outputs": [
        {
          "output_type": "execute_result",
          "data": {
            "text/plain": [
              "[{'keyword': 'congratulations ranjan', 'boost': 0.7},\n",
              " {'keyword': 'ranjan kumar', 'boost': 0.6228},\n",
              " {'keyword': 'awards years', 'boost': 0.5581},\n",
              " {'keyword': 'kumar sahu', 'boost': 0.533},\n",
              " {'keyword': 'serice awards', 'boost': 0.5145}]"
            ]
          },
          "metadata": {},
          "execution_count": 25
        }
      ]
    },
    {
      "cell_type": "code",
      "source": [
        " kw_model=KeyBERT(model)"
      ],
      "metadata": {
        "id": "AXJr4bH-0EUX"
      },
      "execution_count": 12,
      "outputs": []
    },
    {
      "cell_type": "code",
      "source": [
        "kw_model.extract_keywords('Congratulations Ranjan Kumar Sahu | Log Serice Awards - 5 years',keyphrase_ngram_range=(1,1))"
      ],
      "metadata": {
        "colab": {
          "base_uri": "https://localhost:8080/"
        },
        "id": "YV-L80jPwl23",
        "outputId": "2f392059-273a-45bc-d64c-7feaa6fb1a77"
      },
      "execution_count": 13,
      "outputs": [
        {
          "output_type": "execute_result",
          "data": {
            "text/plain": [
              "[('congratulations', 0.5013),\n",
              " ('awards', 0.4794),\n",
              " ('ranjan', 0.4676),\n",
              " ('kumar', 0.4651),\n",
              " ('years', 0.4052)]"
            ]
          },
          "metadata": {},
          "execution_count": 13
        }
      ]
    },
    {
      "cell_type": "code",
      "source": [
        "kw_model.extract_keywords('Congratulations Ranjan Kumar Sahu | Log Serice Awards - 5 years',keyphrase_ngram_range=(1,2))"
      ],
      "metadata": {
        "colab": {
          "base_uri": "https://localhost:8080/"
        },
        "id": "6rWFNI1bwl56",
        "outputId": "6ab3fc71-84ea-48f0-f3b7-ed3ddc1f4909"
      },
      "execution_count": 14,
      "outputs": [
        {
          "output_type": "execute_result",
          "data": {
            "text/plain": [
              "[('congratulations ranjan', 0.7),\n",
              " ('ranjan kumar', 0.6228),\n",
              " ('awards years', 0.5581),\n",
              " ('kumar sahu', 0.533),\n",
              " ('serice awards', 0.5145)]"
            ]
          },
          "metadata": {},
          "execution_count": 14
        }
      ]
    },
    {
      "cell_type": "code",
      "source": [
        "kw_model.extract_keywords('Congratulations Ranjan Kumar Sahu | Log Serice Awards - 5 years',keyphrase_ngram_range=(1,3))"
      ],
      "metadata": {
        "colab": {
          "base_uri": "https://localhost:8080/"
        },
        "id": "XyAHmpe3wl8X",
        "outputId": "e5dbc892-c5a8-4438-ec37-b016087fdad0"
      },
      "execution_count": 15,
      "outputs": [
        {
          "output_type": "execute_result",
          "data": {
            "text/plain": [
              "[('congratulations ranjan kumar', 0.7923),\n",
              " ('congratulations ranjan', 0.7),\n",
              " ('ranjan kumar sahu', 0.6815),\n",
              " ('ranjan kumar', 0.6228),\n",
              " ('serice awards years', 0.5973)]"
            ]
          },
          "metadata": {},
          "execution_count": 15
        }
      ]
    },
    {
      "cell_type": "code",
      "source": [
        "kw_model.extract_keywords('Congratulations Ranjan Kumar Sahu | Log Serice Awards - 5 years',keyphrase_ngram_range=(2,3))"
      ],
      "metadata": {
        "colab": {
          "base_uri": "https://localhost:8080/"
        },
        "id": "gbDO6C6jwl-_",
        "outputId": "9041ee25-1e13-455b-8762-388077423156"
      },
      "execution_count": 16,
      "outputs": [
        {
          "output_type": "execute_result",
          "data": {
            "text/plain": [
              "[('congratulations ranjan kumar', 0.7923),\n",
              " ('congratulations ranjan', 0.7),\n",
              " ('ranjan kumar sahu', 0.6815),\n",
              " ('ranjan kumar', 0.6228),\n",
              " ('serice awards years', 0.5973)]"
            ]
          },
          "metadata": {},
          "execution_count": 16
        }
      ]
    },
    {
      "cell_type": "code",
      "source": [],
      "metadata": {
        "id": "zF82oahawmB2"
      },
      "execution_count": null,
      "outputs": []
    },
    {
      "cell_type": "code",
      "source": [],
      "metadata": {
        "id": "WWATVOydwmD1"
      },
      "execution_count": null,
      "outputs": []
    },
    {
      "cell_type": "code",
      "source": [],
      "metadata": {
        "id": "J1RRgSqxwmHU"
      },
      "execution_count": null,
      "outputs": []
    }
  ]
}