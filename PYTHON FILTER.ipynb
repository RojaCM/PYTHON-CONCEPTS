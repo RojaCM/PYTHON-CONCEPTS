{
  "nbformat": 4,
  "nbformat_minor": 0,
  "metadata": {
    "colab": {
      "name": "Untitled175.ipynb",
      "provenance": [],
      "authorship_tag": "ABX9TyOng3r6dw2LGfBnCxVQk1l1",
      "include_colab_link": true
    },
    "kernelspec": {
      "name": "python3",
      "display_name": "Python 3"
    },
    "language_info": {
      "name": "python"
    }
  },
  "cells": [
    {
      "cell_type": "markdown",
      "metadata": {
        "id": "view-in-github",
        "colab_type": "text"
      },
      "source": [
        "<a href=\"https://colab.research.google.com/github/RojaCM/PYTHON-CONCEPTS/blob/main/PYTHON%20FILTER.ipynb\" target=\"_parent\"><img src=\"https://colab.research.google.com/assets/colab-badge.svg\" alt=\"Open In Colab\"/></a>"
      ]
    },
    {
      "cell_type": "markdown",
      "source": [
        "PYTHON FILTER FUNCTION()\n",
        "\n",
        "TO FILTER AN ITEMS IN AN ITERABLE SUCH AS LIST,TUPLE,DICTIONARY ETC ,TO INCLUDE THE ITEMS THAT MEET A CONDITION.\n"
      ],
      "metadata": {
        "id": "HC93d60wZduI"
      }
    },
    {
      "cell_type": "markdown",
      "source": [
        "SYNTAX\n",
        "\n",
        "filter(function -#the function to make filter the items,\n",
        "       iterable - #the iterable to filter)"
      ],
      "metadata": {
        "id": "kgllobxPapU5"
      }
    },
    {
      "cell_type": "markdown",
      "source": [
        "Filtering Lists in Python Without the filter Function\n",
        "\n",
        "Say that we have the following list: [1,2,3,4,5,6,7,8,9] and we want to filter the list to only include items that are larger than 5. Let’s see how we’d do this in Python using a for loop:"
      ],
      "metadata": {
        "id": "IFASTAMja-7Z"
      }
    },
    {
      "cell_type": "code",
      "source": [
        "n1=[1,2,3,4,5,6,7,8,9]\n",
        "n2=[]\n",
        "for i in n1:\n",
        "  if i>=5:\n",
        "    n2.append(i)\n"
      ],
      "metadata": {
        "id": "Cp3oerL4a_HO"
      },
      "execution_count": null,
      "outputs": []
    },
    {
      "cell_type": "code",
      "source": [
        "n2"
      ],
      "metadata": {
        "colab": {
          "base_uri": "https://localhost:8080/"
        },
        "id": "BBPBrzvIa_MM",
        "outputId": "38775306-9f1f-4ce3-f770-3cf3dd744677"
      },
      "execution_count": null,
      "outputs": [
        {
          "output_type": "execute_result",
          "data": {
            "text/plain": [
              "[5, 6, 7, 8, 9]"
            ]
          },
          "metadata": {},
          "execution_count": 2
        }
      ]
    },
    {
      "cell_type": "markdown",
      "source": [
        "Filtering Lists in Python With the filter Function : \n",
        "You may recall that the filter() function takes both a function and an iterable object as its arguments. Because of this, we need to define a function that returns a boolean value based on the filter criteria we want. We can then pass this function into the filter() function."
      ],
      "metadata": {
        "id": "CxQJ3aiga_Pi"
      }
    },
    {
      "cell_type": "code",
      "source": [
        "# Exploring how to use the Python filter() Function\n",
        "\n",
        "def valuegreater5(x):\n",
        "  if x>5:\n",
        "    return x"
      ],
      "metadata": {
        "id": "yGnIOSFWeOGP"
      },
      "execution_count": null,
      "outputs": []
    },
    {
      "cell_type": "code",
      "source": [
        "filterlist=list(filter(valuegreater5,n1))"
      ],
      "metadata": {
        "id": "AYpb6nAieOI3"
      },
      "execution_count": null,
      "outputs": []
    },
    {
      "cell_type": "code",
      "source": [
        "filterlist"
      ],
      "metadata": {
        "colab": {
          "base_uri": "https://localhost:8080/"
        },
        "id": "OOHUIzzce8lM",
        "outputId": "83142af1-ca9d-4331-ac25-f558074c6243"
      },
      "execution_count": null,
      "outputs": [
        {
          "output_type": "execute_result",
          "data": {
            "text/plain": [
              "[6, 7, 8, 9]"
            ]
          },
          "metadata": {},
          "execution_count": 6
        }
      ]
    },
    {
      "cell_type": "markdown",
      "source": [
        "Using Anonymous Lambda Functions with Python filter : Why would you want to do? In many cases, you won’t need to use the function you’re using to filter for anything else. Because of this, using a lambda function removes a lot of the ambiguity of what the function is meant to be used for."
      ],
      "metadata": {
        "id": "BFyZYFpSfAKK"
      }
    },
    {
      "cell_type": "code",
      "source": [
        "# Using lambda Functions in the Python filter() Function\n",
        "values = [1,2,3,4,5,6,7,8,9]\n",
        "listvalues=list(filter(lambda x:x>5,values))"
      ],
      "metadata": {
        "id": "Si6utqDTfAS8"
      },
      "execution_count": null,
      "outputs": []
    },
    {
      "cell_type": "code",
      "source": [
        "listvalues"
      ],
      "metadata": {
        "colab": {
          "base_uri": "https://localhost:8080/"
        },
        "id": "oSdWE55dfAXb",
        "outputId": "50e6b61d-c840-45d4-dba2-799d69edb175"
      },
      "execution_count": null,
      "outputs": [
        {
          "output_type": "execute_result",
          "data": {
            "text/plain": [
              "[6, 7, 8, 9]"
            ]
          },
          "metadata": {},
          "execution_count": 8
        }
      ]
    },
    {
      "cell_type": "code",
      "source": [
        "# Using the Python filter() Function to Filter a List to Only Even Numbers\n",
        "values = [1,2,3,4,5,6,7,8,9]\n",
        "list2=[i for i in values if i%2==0]"
      ],
      "metadata": {
        "id": "HDPEWfBXfAcB"
      },
      "execution_count": null,
      "outputs": []
    },
    {
      "cell_type": "code",
      "source": [
        "list2"
      ],
      "metadata": {
        "colab": {
          "base_uri": "https://localhost:8080/"
        },
        "id": "ksOzXh9wnAOT",
        "outputId": "fee54268-b3d2-427b-a7f1-d32eee701a8a"
      },
      "execution_count": null,
      "outputs": [
        {
          "output_type": "execute_result",
          "data": {
            "text/plain": [
              "[2, 4, 6, 8]"
            ]
          },
          "metadata": {},
          "execution_count": 10
        }
      ]
    },
    {
      "cell_type": "code",
      "source": [
        "list3=list(filter(lambda x:x%2==0,values))"
      ],
      "metadata": {
        "id": "5qi7r4NgnAvR"
      },
      "execution_count": null,
      "outputs": []
    },
    {
      "cell_type": "code",
      "source": [
        "list3"
      ],
      "metadata": {
        "colab": {
          "base_uri": "https://localhost:8080/"
        },
        "id": "6hEmAt-enJbD",
        "outputId": "669bb36b-1d08-4ed5-89c4-17ad3869a8f3"
      },
      "execution_count": null,
      "outputs": [
        {
          "output_type": "execute_result",
          "data": {
            "text/plain": [
              "[2, 4, 6, 8]"
            ]
          },
          "metadata": {},
          "execution_count": 12
        }
      ]
    },
    {
      "cell_type": "markdown",
      "source": [
        "Filtering Words Longer than n Characters in a Python List :  we will learn how to filter a strings to only include strings that are longer than a given length "
      ],
      "metadata": {
        "id": "TJ3P5JAbnLTk"
      }
    },
    {
      "cell_type": "code",
      "source": [
        "# Filtering a List of Strings\n",
        "strings = ['hello', 'world', 'yes', 'no', 'maybe']\n",
        "\n",
        "retunlist=list(filter(lambda x:len(x)>3,strings))"
      ],
      "metadata": {
        "id": "HXbVQO4znLbW"
      },
      "execution_count": null,
      "outputs": []
    },
    {
      "cell_type": "code",
      "source": [
        "retunlist"
      ],
      "metadata": {
        "colab": {
          "base_uri": "https://localhost:8080/"
        },
        "id": "hdbPwpaWnLfv",
        "outputId": "dd85a5b5-63aa-4df5-a587-52230922c4a0"
      },
      "execution_count": null,
      "outputs": [
        {
          "output_type": "execute_result",
          "data": {
            "text/plain": [
              "['hello', 'world', 'maybe']"
            ]
          },
          "metadata": {},
          "execution_count": 16
        }
      ]
    },
    {
      "cell_type": "code",
      "source": [
        "# Filtering a List of Dictionaries with the Python filter() Function\n",
        "ages = [\n",
        "    {'name': 'Evan', 'age': 25},\n",
        "    {'name': 'John', 'age': 30},\n",
        "    {'name': 'Jane', 'age': 27},\n",
        "    {'name': 'Jack', 'age': 32},\n",
        "]\n",
        "\n",
        "filtered=list(filter(lambda x:x['age']>25,ages))\n",
        "\n",
        "\n",
        "filtered\n",
        "\n"
      ],
      "metadata": {
        "colab": {
          "base_uri": "https://localhost:8080/"
        },
        "id": "AjO3eIxbnLkK",
        "outputId": "259920fa-6946-48ad-8322-acd3579bad94"
      },
      "execution_count": null,
      "outputs": [
        {
          "output_type": "execute_result",
          "data": {
            "text/plain": [
              "[{'age': 30, 'name': 'John'},\n",
              " {'age': 27, 'name': 'Jane'},\n",
              " {'age': 32, 'name': 'Jack'}]"
            ]
          },
          "metadata": {},
          "execution_count": 18
        }
      ]
    },
    {
      "cell_type": "markdown",
      "source": [
        "Filtering a List of Tuples with Python filter:\n",
        "we can access a given index and evaluate if it meets a condition. In the example below, we have a list of tuples that contain dates and their respective sale amounts. We can filter our list to only tuples where the sale amount is greater or equal to 150."
      ],
      "metadata": {
        "id": "SQByjZoXnLoY"
      }
    },
    {
      "cell_type": "code",
      "source": [
        "# Filtering a List of Tuples with filter()\n",
        "sales = [\n",
        "    ('2022-06-01', 150),\n",
        "    ('2022-06-02', 100),\n",
        "    ('2022-06-03', 125),\n",
        "    ('2022-06-04', 75),\n",
        "    ('2022-06-05', 155),\n",
        "    ('2022-06-06', 180)\n",
        "]\n",
        "\n",
        "filtered=list(filter(lambda x:x[1]>100,sales))"
      ],
      "metadata": {
        "id": "NPQt3-KGp-Zs"
      },
      "execution_count": null,
      "outputs": []
    },
    {
      "cell_type": "code",
      "source": [
        "filtered"
      ],
      "metadata": {
        "colab": {
          "base_uri": "https://localhost:8080/"
        },
        "id": "XnMgWFKzp-eD",
        "outputId": "ca74ce2c-0e71-4343-dac9-0aa4967cbaef"
      },
      "execution_count": null,
      "outputs": [
        {
          "output_type": "execute_result",
          "data": {
            "text/plain": [
              "[('2022-06-01', 150),\n",
              " ('2022-06-03', 125),\n",
              " ('2022-06-05', 155),\n",
              " ('2022-06-06', 180)]"
            ]
          },
          "metadata": {},
          "execution_count": 20
        }
      ]
    },
    {
      "cell_type": "code",
      "source": [
        "filtered1=tuple(filter(lambda x:x[1]>100,sales))"
      ],
      "metadata": {
        "id": "34_3is4xp-iJ"
      },
      "execution_count": null,
      "outputs": []
    },
    {
      "cell_type": "code",
      "source": [
        "filtered1"
      ],
      "metadata": {
        "colab": {
          "base_uri": "https://localhost:8080/"
        },
        "id": "mFOD2k4sqxLJ",
        "outputId": "0e7b764e-2f20-4e30-ad7d-dbcff1739f95"
      },
      "execution_count": null,
      "outputs": [
        {
          "output_type": "execute_result",
          "data": {
            "text/plain": [
              "(('2022-06-01', 150),\n",
              " ('2022-06-03', 125),\n",
              " ('2022-06-05', 155),\n",
              " ('2022-06-06', 180))"
            ]
          },
          "metadata": {},
          "execution_count": 23
        }
      ]
    },
    {
      "cell_type": "code",
      "source": [
        ""
      ],
      "metadata": {
        "id": "VCDWeO0Fp-mW"
      },
      "execution_count": null,
      "outputs": []
    },
    {
      "cell_type": "code",
      "source": [
        ""
      ],
      "metadata": {
        "id": "0qNOBITpq5LO"
      },
      "execution_count": null,
      "outputs": []
    },
    {
      "cell_type": "code",
      "source": [
        ""
      ],
      "metadata": {
        "id": "l2RNoxOAq5P2"
      },
      "execution_count": null,
      "outputs": []
    },
    {
      "cell_type": "code",
      "source": [
        ""
      ],
      "metadata": {
        "id": "qnoJzc83q5UP"
      },
      "execution_count": null,
      "outputs": []
    },
    {
      "cell_type": "code",
      "source": [
        ""
      ],
      "metadata": {
        "id": "3qVsgd08p-rO"
      },
      "execution_count": null,
      "outputs": []
    }
  ]
}