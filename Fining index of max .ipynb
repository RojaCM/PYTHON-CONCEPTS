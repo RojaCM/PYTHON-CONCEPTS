{
  "nbformat": 4,
  "nbformat_minor": 0,
  "metadata": {
    "colab": {
      "name": "Untitled202.ipynb",
      "provenance": [],
      "authorship_tag": "ABX9TyNdiwVzWqpnfVrhUf01Xx+K",
      "include_colab_link": true
    },
    "kernelspec": {
      "name": "python3",
      "display_name": "Python 3"
    },
    "language_info": {
      "name": "python"
    }
  },
  "cells": [
    {
      "cell_type": "markdown",
      "metadata": {
        "id": "view-in-github",
        "colab_type": "text"
      },
      "source": [
        "<a href=\"https://colab.research.google.com/github/RojaCM/PYTHON-CONCEPTS/blob/main/Fining%20index%20of%20max%20.ipynb\" target=\"_parent\"><img src=\"https://colab.research.google.com/assets/colab-badge.svg\" alt=\"Open In Colab\"/></a>"
      ]
    },
    {
      "cell_type": "markdown",
      "source": [
        "#Python IndexError: List Index Out of Range Error Explained\n",
        "\n",
        "The IndexError is one of the most common Python runtime errors that you’ll encounter in your programming journey. For the most part, these these errors are quite easy to resolve, once you understand why they occur."
      ],
      "metadata": {
        "id": "d2b_iCLyjxmP"
      }
    },
    {
      "cell_type": "code",
      "source": [
        "l1=[1,2,3,4,5,6,7]"
      ],
      "metadata": {
        "id": "6d_b8MQDj3mD"
      },
      "execution_count": null,
      "outputs": []
    },
    {
      "cell_type": "code",
      "source": [
        "l1.index(5)"
      ],
      "metadata": {
        "colab": {
          "base_uri": "https://localhost:8080/"
        },
        "id": "81P1Xh7Gj3op",
        "outputId": "6bafec54-f8b7-4ea5-9b98-639f95f3295e"
      },
      "execution_count": null,
      "outputs": [
        {
          "output_type": "execute_result",
          "data": {
            "text/plain": [
              "4"
            ]
          },
          "metadata": {},
          "execution_count": 2
        }
      ]
    },
    {
      "cell_type": "code",
      "source": [
        "l1[::-1]"
      ],
      "metadata": {
        "colab": {
          "base_uri": "https://localhost:8080/"
        },
        "id": "zW1587nzj3sO",
        "outputId": "99e3afa5-8fa8-456d-9dfb-3911bc0c967f"
      },
      "execution_count": null,
      "outputs": [
        {
          "output_type": "execute_result",
          "data": {
            "text/plain": [
              "[7, 6, 5, 4, 3, 2, 1]"
            ]
          },
          "metadata": {},
          "execution_count": 4
        }
      ]
    },
    {
      "cell_type": "code",
      "source": [
        "l1.index(9)"
      ],
      "metadata": {
        "colab": {
          "base_uri": "https://localhost:8080/",
          "height": 171
        },
        "id": "4ixEznQqnh7-",
        "outputId": "15993a4f-2791-464e-e105-424ab450b52f"
      },
      "execution_count": null,
      "outputs": [
        {
          "output_type": "error",
          "ename": "ValueError",
          "evalue": "ignored",
          "traceback": [
            "\u001b[0;31m---------------------------------------------------------------------------\u001b[0m",
            "\u001b[0;31mValueError\u001b[0m                                Traceback (most recent call last)",
            "\u001b[0;32m<ipython-input-5-b448738b9c0a>\u001b[0m in \u001b[0;36m<module>\u001b[0;34m()\u001b[0m\n\u001b[0;32m----> 1\u001b[0;31m \u001b[0ml1\u001b[0m\u001b[0;34m.\u001b[0m\u001b[0mindex\u001b[0m\u001b[0;34m(\u001b[0m\u001b[0;36m9\u001b[0m\u001b[0;34m)\u001b[0m\u001b[0;34m\u001b[0m\u001b[0;34m\u001b[0m\u001b[0m\n\u001b[0m",
            "\u001b[0;31mValueError\u001b[0m: 9 is not in list"
          ]
        }
      ]
    },
    {
      "cell_type": "code",
      "source": [
        "l1[9]"
      ],
      "metadata": {
        "colab": {
          "base_uri": "https://localhost:8080/",
          "height": 171
        },
        "id": "LjZF3AXVnh-f",
        "outputId": "5a0bce4b-ef74-410b-bb08-31806ef93a2f"
      },
      "execution_count": null,
      "outputs": [
        {
          "output_type": "error",
          "ename": "IndexError",
          "evalue": "ignored",
          "traceback": [
            "\u001b[0;31m---------------------------------------------------------------------------\u001b[0m",
            "\u001b[0;31mIndexError\u001b[0m                                Traceback (most recent call last)",
            "\u001b[0;32m<ipython-input-6-a33ac40df313>\u001b[0m in \u001b[0;36m<module>\u001b[0;34m()\u001b[0m\n\u001b[0;32m----> 1\u001b[0;31m \u001b[0ml1\u001b[0m\u001b[0;34m[\u001b[0m\u001b[0;36m9\u001b[0m\u001b[0;34m]\u001b[0m\u001b[0;34m\u001b[0m\u001b[0;34m\u001b[0m\u001b[0m\n\u001b[0m",
            "\u001b[0;31mIndexError\u001b[0m: list index out of range"
          ]
        }
      ]
    },
    {
      "cell_type": "code",
      "source": [
        "l1[0]"
      ],
      "metadata": {
        "colab": {
          "base_uri": "https://localhost:8080/"
        },
        "id": "AYOcq2uwniAt",
        "outputId": "20ba58f7-4bd0-47b0-e81a-d80e7c3755a9"
      },
      "execution_count": null,
      "outputs": [
        {
          "output_type": "execute_result",
          "data": {
            "text/plain": [
              "1"
            ]
          },
          "metadata": {},
          "execution_count": 7
        }
      ]
    },
    {
      "cell_type": "markdown",
      "source": [
        "#Python IndexError with For Loop\n",
        "You may encounter the Python IndexError while running a Python for loop. This is particularly common when you try to loop over the list using the range() function."
      ],
      "metadata": {
        "id": "UdpoAAFuniDd"
      }
    },
    {
      "cell_type": "code",
      "source": [
        "for i in range(len(l1)+1):\n",
        "  print(l1[i])"
      ],
      "metadata": {
        "colab": {
          "base_uri": "https://localhost:8080/",
          "height": 317
        },
        "id": "Nuj1F8can7bE",
        "outputId": "0f57d288-bf61-4f79-a6a1-a605c2ef5af2"
      },
      "execution_count": null,
      "outputs": [
        {
          "output_type": "stream",
          "name": "stdout",
          "text": [
            "1\n",
            "2\n",
            "3\n",
            "4\n",
            "5\n",
            "6\n",
            "7\n"
          ]
        },
        {
          "output_type": "error",
          "ename": "IndexError",
          "evalue": "ignored",
          "traceback": [
            "\u001b[0;31m---------------------------------------------------------------------------\u001b[0m",
            "\u001b[0;31mIndexError\u001b[0m                                Traceback (most recent call last)",
            "\u001b[0;32m<ipython-input-10-0440c3f784cf>\u001b[0m in \u001b[0;36m<module>\u001b[0;34m()\u001b[0m\n\u001b[1;32m      1\u001b[0m \u001b[0;32mfor\u001b[0m \u001b[0mi\u001b[0m \u001b[0;32min\u001b[0m \u001b[0mrange\u001b[0m\u001b[0;34m(\u001b[0m\u001b[0mlen\u001b[0m\u001b[0;34m(\u001b[0m\u001b[0ml1\u001b[0m\u001b[0;34m)\u001b[0m\u001b[0;34m+\u001b[0m\u001b[0;36m1\u001b[0m\u001b[0;34m)\u001b[0m\u001b[0;34m:\u001b[0m\u001b[0;34m\u001b[0m\u001b[0;34m\u001b[0m\u001b[0m\n\u001b[0;32m----> 2\u001b[0;31m   \u001b[0mprint\u001b[0m\u001b[0;34m(\u001b[0m\u001b[0ml1\u001b[0m\u001b[0;34m[\u001b[0m\u001b[0mi\u001b[0m\u001b[0;34m]\u001b[0m\u001b[0;34m)\u001b[0m\u001b[0;34m\u001b[0m\u001b[0;34m\u001b[0m\u001b[0m\n\u001b[0m",
            "\u001b[0;31mIndexError\u001b[0m: list index out of range"
          ]
        }
      ]
    },
    {
      "cell_type": "code",
      "source": [
        "#Python IndexError with While Loop\n",
        "\n",
        "l1\n",
        "\n",
        "i=0\n",
        "while i<=len(l1):\n",
        "  print(l1[i])\n",
        "  i+=1\n"
      ],
      "metadata": {
        "colab": {
          "base_uri": "https://localhost:8080/",
          "height": 353
        },
        "id": "wW-LeG5Xn7hS",
        "outputId": "f9c1b2e8-730a-473b-c4b3-ba9237825497"
      },
      "execution_count": null,
      "outputs": [
        {
          "output_type": "stream",
          "name": "stdout",
          "text": [
            "1\n",
            "2\n",
            "3\n",
            "4\n",
            "5\n",
            "6\n",
            "7\n"
          ]
        },
        {
          "output_type": "error",
          "ename": "IndexError",
          "evalue": "ignored",
          "traceback": [
            "\u001b[0;31m---------------------------------------------------------------------------\u001b[0m",
            "\u001b[0;31mIndexError\u001b[0m                                Traceback (most recent call last)",
            "\u001b[0;32m<ipython-input-11-c4b4a1f26f73>\u001b[0m in \u001b[0;36m<module>\u001b[0;34m()\u001b[0m\n\u001b[1;32m      5\u001b[0m \u001b[0mi\u001b[0m\u001b[0;34m=\u001b[0m\u001b[0;36m0\u001b[0m\u001b[0;34m\u001b[0m\u001b[0;34m\u001b[0m\u001b[0m\n\u001b[1;32m      6\u001b[0m \u001b[0;32mwhile\u001b[0m \u001b[0mi\u001b[0m\u001b[0;34m<=\u001b[0m\u001b[0mlen\u001b[0m\u001b[0;34m(\u001b[0m\u001b[0ml1\u001b[0m\u001b[0;34m)\u001b[0m\u001b[0;34m:\u001b[0m\u001b[0;34m\u001b[0m\u001b[0;34m\u001b[0m\u001b[0m\n\u001b[0;32m----> 7\u001b[0;31m   \u001b[0mprint\u001b[0m\u001b[0;34m(\u001b[0m\u001b[0ml1\u001b[0m\u001b[0;34m[\u001b[0m\u001b[0mi\u001b[0m\u001b[0;34m]\u001b[0m\u001b[0;34m)\u001b[0m\u001b[0;34m\u001b[0m\u001b[0;34m\u001b[0m\u001b[0m\n\u001b[0m\u001b[1;32m      8\u001b[0m   \u001b[0mi\u001b[0m\u001b[0;34m+=\u001b[0m\u001b[0;36m1\u001b[0m\u001b[0;34m\u001b[0m\u001b[0;34m\u001b[0m\u001b[0m\n",
            "\u001b[0;31mIndexError\u001b[0m: list index out of range"
          ]
        }
      ]
    },
    {
      "cell_type": "code",
      "source": [
        "\n",
        "l1\n",
        "\n",
        "i=0\n",
        "while i<len(l1):\n",
        "  print(l1[i])\n",
        "  i+=1"
      ],
      "metadata": {
        "colab": {
          "base_uri": "https://localhost:8080/"
        },
        "id": "NW-qMqMan7k0",
        "outputId": "64d5aafa-e6a6-4b2c-f1bc-165beb1940be"
      },
      "execution_count": null,
      "outputs": [
        {
          "output_type": "stream",
          "name": "stdout",
          "text": [
            "1\n",
            "2\n",
            "3\n",
            "4\n",
            "5\n",
            "6\n",
            "7\n"
          ]
        }
      ]
    },
    {
      "cell_type": "code",
      "source": [
        "for i in l1:\n",
        "  print(i)"
      ],
      "metadata": {
        "colab": {
          "base_uri": "https://localhost:8080/"
        },
        "id": "NfFms7rDj30d",
        "outputId": "2a8be4d1-62af-4da3-f190-76766bf84ced"
      },
      "execution_count": null,
      "outputs": [
        {
          "output_type": "stream",
          "name": "stdout",
          "text": [
            "1\n",
            "2\n",
            "3\n",
            "4\n",
            "5\n",
            "6\n",
            "7\n"
          ]
        }
      ]
    },
    {
      "cell_type": "code",
      "source": [
        "for i,j in enumerate(l1):\n",
        "  print(i,j)"
      ],
      "metadata": {
        "colab": {
          "base_uri": "https://localhost:8080/"
        },
        "id": "P2HoeJRIj33A",
        "outputId": "cbdb5919-6b2e-40c2-84de-785a1fb06e50"
      },
      "execution_count": null,
      "outputs": [
        {
          "output_type": "stream",
          "name": "stdout",
          "text": [
            "0 1\n",
            "1 2\n",
            "2 3\n",
            "3 4\n",
            "4 5\n",
            "5 6\n",
            "6 7\n"
          ]
        }
      ]
    },
    {
      "cell_type": "markdown",
      "source": [
        "#Python: Get Index of Max Item in List\n",
        "Find the Max Value in a Python List\n",
        "Before we dive into how to find the index of the max value in a list, lets begin by learning how to simply find the max value of an item in a list."
      ],
      "metadata": {
        "id": "mTtNh5B8j35U"
      }
    },
    {
      "cell_type": "code",
      "source": [
        "l2=[55,66,77,88,99]"
      ],
      "metadata": {
        "id": "EZJpUhgDtnzr"
      },
      "execution_count": null,
      "outputs": []
    },
    {
      "cell_type": "code",
      "source": [
        "max(l2)"
      ],
      "metadata": {
        "colab": {
          "base_uri": "https://localhost:8080/"
        },
        "id": "Ywu_WoWstn4S",
        "outputId": "d8b81b43-5ebb-4b76-a946-990451137038"
      },
      "execution_count": null,
      "outputs": [
        {
          "output_type": "execute_result",
          "data": {
            "text/plain": [
              "99"
            ]
          },
          "metadata": {},
          "execution_count": 16
        }
      ]
    },
    {
      "cell_type": "code",
      "source": [
        "l3=[66,77,88,999,999]"
      ],
      "metadata": {
        "id": "uFm4MjBbylGL"
      },
      "execution_count": null,
      "outputs": []
    },
    {
      "cell_type": "code",
      "source": [
        "max(l3)"
      ],
      "metadata": {
        "colab": {
          "base_uri": "https://localhost:8080/"
        },
        "id": "MaNpKJTVy_lY",
        "outputId": "bfdf93e2-9c50-469a-a262-427e668ee6cc"
      },
      "execution_count": null,
      "outputs": [
        {
          "output_type": "execute_result",
          "data": {
            "text/plain": [
              "999"
            ]
          },
          "metadata": {},
          "execution_count": 18
        }
      ]
    },
    {
      "cell_type": "code",
      "source": [
        "#Find Index of Max Item in Python List using index\n",
        "# Get Index of Max Value from a List\n",
        "a_list = [10, 11, 14, 23, 9, 3, 35, 22]\n",
        "a_list.index(max(a_list))"
      ],
      "metadata": {
        "colab": {
          "base_uri": "https://localhost:8080/"
        },
        "id": "YDZcBjZzy_pl",
        "outputId": "bfa5340f-1806-4ed1-9894-a3d4af4de3c3"
      },
      "execution_count": null,
      "outputs": [
        {
          "output_type": "execute_result",
          "data": {
            "text/plain": [
              "6"
            ]
          },
          "metadata": {},
          "execution_count": 19
        }
      ]
    },
    {
      "cell_type": "code",
      "source": [
        "a_list.index(10)"
      ],
      "metadata": {
        "colab": {
          "base_uri": "https://localhost:8080/"
        },
        "id": "4vnGJRKRzAHg",
        "outputId": "da6e032e-7cfa-42c1-f9f2-0ae35a3f4389"
      },
      "execution_count": null,
      "outputs": [
        {
          "output_type": "execute_result",
          "data": {
            "text/plain": [
              "0"
            ]
          },
          "metadata": {},
          "execution_count": 21
        }
      ]
    },
    {
      "cell_type": "code",
      "source": [
        "#Find Index of Max Item in Python List with a For Loop\n",
        "# Get Indices of the Max Value from a List using a for loop\n",
        "a_list = [10, 11, 35, 14, 23, 9, 3, 35, 22]\n",
        "maxval=max(a_list)\n",
        "idx=[]\n",
        "for i in range(len(a_list)):\n",
        "  if a_list[i]==maxval:\n",
        "    idx.append(i)\n",
        "   \n"
      ],
      "metadata": {
        "id": "CLxbNtJyzALj"
      },
      "execution_count": null,
      "outputs": []
    },
    {
      "cell_type": "code",
      "source": [
        "idx"
      ],
      "metadata": {
        "colab": {
          "base_uri": "https://localhost:8080/"
        },
        "id": "XRYbTCDk2s9k",
        "outputId": "d5a47ebc-0bff-4ccc-dcaf-075bdd737ec1"
      },
      "execution_count": null,
      "outputs": [
        {
          "output_type": "execute_result",
          "data": {
            "text/plain": [
              "[2, 7]"
            ]
          },
          "metadata": {},
          "execution_count": 26
        }
      ]
    },
    {
      "cell_type": "code",
      "source": [
        "# Get Indices of the Max Value from a List using enumerate()\n",
        "\n",
        "[idx for idx,value in enumerate(a_list) if value==max(a_list)]"
      ],
      "metadata": {
        "colab": {
          "base_uri": "https://localhost:8080/"
        },
        "id": "XIQU5jXv2tB3",
        "outputId": "e59104c1-fca2-4bf4-988e-0f2ea58cd5f0"
      },
      "execution_count": null,
      "outputs": [
        {
          "output_type": "execute_result",
          "data": {
            "text/plain": [
              "[2, 7]"
            ]
          },
          "metadata": {},
          "execution_count": 27
        }
      ]
    },
    {
      "cell_type": "markdown",
      "source": [
        "#Find Index of Max Item in Python List using numpy\n",
        "In this final section, you’ll learn how to use numpy in order to find the indices of the items with the highest values in a given Python list.\n",
        "\n",
        "numpy works well with one of its own data types, arrays, which are list-like structures. One of the benefits of these arrays is that they come with many built-in functions and methods that normal lists do not.\n",
        "\n",
        "One of these functions is the argmax() function, which allows us to find the first instance of the largest value in the array."
      ],
      "metadata": {
        "id": "lxAj8RCK4RqJ"
      }
    },
    {
      "cell_type": "code",
      "source": [
        "import numpy as np\n",
        "a_list = [10, 11, 35, 14, 23, 9, 3, 35, 22]\n",
        "an_array=np.array(a_list)"
      ],
      "metadata": {
        "id": "ZokB4-WG4Ruh"
      },
      "execution_count": null,
      "outputs": []
    },
    {
      "cell_type": "code",
      "source": [
        "np.argmax(an_array)"
      ],
      "metadata": {
        "colab": {
          "base_uri": "https://localhost:8080/"
        },
        "id": "m4azZwO84RyZ",
        "outputId": "aebe949d-83b1-4241-c2ea-3696e628ab59"
      },
      "execution_count": null,
      "outputs": [
        {
          "output_type": "execute_result",
          "data": {
            "text/plain": [
              "2"
            ]
          },
          "metadata": {},
          "execution_count": 30
        }
      ]
    },
    {
      "cell_type": "markdown",
      "source": [
        "#Python: Combine Lists – Merge Lists (8 Ways):\n",
        "combine the python lists using '+' operator "
      ],
      "metadata": {
        "id": "xCDmz-_V4TYz"
      }
    },
    {
      "cell_type": "code",
      "source": [
        "l1=[3,4,5,6,7]\n",
        "l2=[6,7,8,9]"
      ],
      "metadata": {
        "id": "arnCUf-S4Td8"
      },
      "execution_count": null,
      "outputs": []
    },
    {
      "cell_type": "code",
      "source": [
        "l1+l2"
      ],
      "metadata": {
        "colab": {
          "base_uri": "https://localhost:8080/"
        },
        "id": "pLGVMmp64Tia",
        "outputId": "8091fd31-7e72-44bd-80af-5e391c85455e"
      },
      "execution_count": null,
      "outputs": [
        {
          "output_type": "execute_result",
          "data": {
            "text/plain": [
              "[3, 4, 5, 6, 7, 6, 7, 8, 9]"
            ]
          },
          "metadata": {},
          "execution_count": 32
        }
      ]
    },
    {
      "cell_type": "code",
      "source": [
        ""
      ],
      "metadata": {
        "colab": {
          "base_uri": "https://localhost:8080/",
          "height": 171
        },
        "id": "eigT8OFn4ToK",
        "outputId": "f89c39cc-b1d7-41d2-e8be-72770ef32679"
      },
      "execution_count": null,
      "outputs": [
        {
          "output_type": "error",
          "ename": "TypeError",
          "evalue": "ignored",
          "traceback": [
            "\u001b[0;31m---------------------------------------------------------------------------\u001b[0m",
            "\u001b[0;31mTypeError\u001b[0m                                 Traceback (most recent call last)",
            "\u001b[0;32m<ipython-input-33-bd77ec8884ac>\u001b[0m in \u001b[0;36m<module>\u001b[0;34m()\u001b[0m\n\u001b[0;32m----> 1\u001b[0;31m \u001b[0ml1\u001b[0m\u001b[0;34m*\u001b[0m\u001b[0ml2\u001b[0m\u001b[0;34m\u001b[0m\u001b[0;34m\u001b[0m\u001b[0m\n\u001b[0m",
            "\u001b[0;31mTypeError\u001b[0m: can't multiply sequence by non-int of type 'list'"
          ]
        }
      ]
    },
    {
      "cell_type": "code",
      "source": [
        "def fun1():\n",
        "     try:\n",
        "        for i in range(10):\n",
        "          yield i\n",
        "     except StopIteration:\n",
        "           print('finshed')"
      ],
      "metadata": {
        "id": "HURw_2Mw2tF7"
      },
      "execution_count": null,
      "outputs": []
    },
    {
      "cell_type": "code",
      "source": [
        "M1=fun1()"
      ],
      "metadata": {
        "id": "DYpcWhaA2tKu"
      },
      "execution_count": null,
      "outputs": []
    },
    {
      "cell_type": "code",
      "source": [
        "print(next(M1))\n",
        "print(next(M1))\n",
        "print(next(M1))"
      ],
      "metadata": {
        "colab": {
          "base_uri": "https://localhost:8080/"
        },
        "id": "xti3Izke2tPK",
        "outputId": "814175fd-f6bc-4096-8b2e-6b7df83e4fb6"
      },
      "execution_count": null,
      "outputs": [
        {
          "output_type": "stream",
          "name": "stdout",
          "text": [
            "0\n",
            "1\n",
            "2\n"
          ]
        }
      ]
    },
    {
      "cell_type": "markdown",
      "source": [
        "Similarly, we can create a new list by unpacking all items from the lists we want to combine. By using the * operator, we can access all the items in both lists and unpack them into a third.\n",
        "\n",
        "Let’s see what this would look like:"
      ],
      "metadata": {
        "id": "5Lseq56b2tTn"
      }
    },
    {
      "cell_type": "code",
      "source": [
        "l1"
      ],
      "metadata": {
        "colab": {
          "base_uri": "https://localhost:8080/"
        },
        "id": "aFY1OHGcaUdX",
        "outputId": "634248d2-1143-40e2-9d40-b41c2f4d8a1b"
      },
      "execution_count": null,
      "outputs": [
        {
          "output_type": "execute_result",
          "data": {
            "text/plain": [
              "[3, 4, 5, 6, 7]"
            ]
          },
          "metadata": {},
          "execution_count": 44
        }
      ]
    },
    {
      "cell_type": "code",
      "source": [
        "l2"
      ],
      "metadata": {
        "colab": {
          "base_uri": "https://localhost:8080/"
        },
        "id": "bc-Ut_uAaUhK",
        "outputId": "2ce7c41a-f2cd-4397-bafa-f5657c1729c8"
      },
      "execution_count": null,
      "outputs": [
        {
          "output_type": "execute_result",
          "data": {
            "text/plain": [
              "[6, 7, 8, 9]"
            ]
          },
          "metadata": {},
          "execution_count": 45
        }
      ]
    },
    {
      "cell_type": "code",
      "source": [
        "l3=[*l1,*l2]"
      ],
      "metadata": {
        "id": "prO3jdIqaUk8"
      },
      "execution_count": null,
      "outputs": []
    },
    {
      "cell_type": "code",
      "source": [
        "l3"
      ],
      "metadata": {
        "colab": {
          "base_uri": "https://localhost:8080/"
        },
        "id": "v5BUDrBWaUpZ",
        "outputId": "0fed7665-333a-4669-c40b-247b6370d814"
      },
      "execution_count": null,
      "outputs": [
        {
          "output_type": "execute_result",
          "data": {
            "text/plain": [
              "[3, 4, 5, 6, 7, 6, 7, 8, 9]"
            ]
          },
          "metadata": {},
          "execution_count": 47
        }
      ]
    },
    {
      "cell_type": "markdown",
      "source": [
        "#Combine Python Lists Alternating Using Zip\n",
        "When you combine Python lists, you may want to add items in an alternating method. For example, you may want to add the first item from both lists, then the second item, and so on."
      ],
      "metadata": {
        "id": "G_8EBe4zaUt4"
      }
    },
    {
      "cell_type": "code",
      "source": [
        "# Merge Two Lists in Alternating Fashion\n",
        "list1 = ['1a', '2a', '3a']\n",
        "list2 = ['1b', '2b', '3b']\n",
        "\n",
        "for i in zip(list1,list2):\n",
        "  print(i)\n"
      ],
      "metadata": {
        "colab": {
          "base_uri": "https://localhost:8080/"
        },
        "id": "xK2rOfTiaUyh",
        "outputId": "dfde96db-f322-44b1-b698-04ca3ef6094f"
      },
      "execution_count": null,
      "outputs": [
        {
          "output_type": "stream",
          "name": "stdout",
          "text": [
            "('1a', '1b')\n",
            "('2a', '2b')\n",
            "('3a', '3b')\n"
          ]
        }
      ]
    },
    {
      "cell_type": "code",
      "source": [
        "[j for i in zip(list1,list2) for j in i]"
      ],
      "metadata": {
        "colab": {
          "base_uri": "https://localhost:8080/"
        },
        "id": "nQ2Q1_tHaU2z",
        "outputId": "b2c24e82-1a21-440c-aab4-b6516066e611"
      },
      "execution_count": null,
      "outputs": [
        {
          "output_type": "execute_result",
          "data": {
            "text/plain": [
              "['1a', '1b', '2a', '2b', '3a', '3b']"
            ]
          },
          "metadata": {},
          "execution_count": 49
        }
      ]
    },
    {
      "cell_type": "code",
      "source": [
        "#Combine Python Lists without Duplicates\n",
        "list1 = [1, 2, 3, 4]\n",
        "list2 = [4, 5, 6, 7]"
      ],
      "metadata": {
        "id": "38GQ-oHg2tYT"
      },
      "execution_count": null,
      "outputs": []
    },
    {
      "cell_type": "code",
      "source": [
        "list(set(list1+list2))"
      ],
      "metadata": {
        "colab": {
          "base_uri": "https://localhost:8080/"
        },
        "id": "ngNhZBNudvYE",
        "outputId": "611d6469-b3b6-4f68-c92b-80d473ffa6db"
      },
      "execution_count": null,
      "outputs": [
        {
          "output_type": "execute_result",
          "data": {
            "text/plain": [
              "[1, 2, 3, 4, 5, 6, 7]"
            ]
          },
          "metadata": {},
          "execution_count": 51
        }
      ]
    },
    {
      "cell_type": "markdown",
      "source": [
        "#Python Concatenate Arrays\n",
        "numpy, the popular Python data science library, has a list-like data structure called numpy arrays. These arrays have a number of different methods to making working with them easier.\n",
        "\n",
        "One of these methods is the np.concactenate() method, which, well, concatenates two lists."
      ],
      "metadata": {
        "id": "Bm6ysXikdvc9"
      }
    },
    {
      "cell_type": "code",
      "source": [
        "# Concactenate Python Arrays\n",
        "import numpy as np\n",
        "l5=[6,7,8]\n",
        "l6=[2,3,4]"
      ],
      "metadata": {
        "id": "kxi4mz5sfL7-"
      },
      "execution_count": null,
      "outputs": []
    },
    {
      "cell_type": "code",
      "source": [
        "l7=np.array(l5)"
      ],
      "metadata": {
        "id": "5Ht8pz2qfMAu"
      },
      "execution_count": null,
      "outputs": []
    },
    {
      "cell_type": "code",
      "source": [
        "l8=np.array(l6)"
      ],
      "metadata": {
        "id": "LfWLSA92fMFK"
      },
      "execution_count": null,
      "outputs": []
    },
    {
      "cell_type": "code",
      "source": [
        "list1 = [1,2,3]\n",
        "list2 = [4,5,6]\n",
        "array1 = np.array(list1)\n",
        "array2 = np.array(list2)\n",
        "array3 = np.concatenate((array1, array2))\n",
        "print(array3)"
      ],
      "metadata": {
        "colab": {
          "base_uri": "https://localhost:8080/"
        },
        "id": "gg2deLnZfMJf",
        "outputId": "ed79f047-9185-4875-e8e3-c0d88f09867f"
      },
      "execution_count": null,
      "outputs": [
        {
          "output_type": "stream",
          "name": "stdout",
          "text": [
            "[1 2 3 4 5 6]\n"
          ]
        }
      ]
    },
    {
      "cell_type": "markdown",
      "source": [
        "#Combine Python Lists with a For Loop\n",
        "Combine Python Lists with a For Loop\n",
        "In this section, you’ll learn how to use a for loop to append items from one list to another. While this isn’t really approach that’s necessary in most cases, it does give you flexibility in terms of what items to include.\n",
        "\n",
        "For example, using a for loop, you can skip certain items.\n",
        "\n",
        "Let’s take a look at two examples: (1) where you combine all items, and (2) where you combine conditionally:"
      ],
      "metadata": {
        "id": "5i0HSGIbdvg6"
      }
    },
    {
      "cell_type": "code",
      "source": [
        "# Combine Two Python Lists with a For Loop\n",
        "list1 = ['datagy', 'is', 'a', 'site']\n",
        "list2 = ['to', 'learn', 'python']\n",
        "\n",
        "for i in list2:\n",
        "  list1.append(i)"
      ],
      "metadata": {
        "id": "6pyb1r8SjSmP"
      },
      "execution_count": null,
      "outputs": []
    },
    {
      "cell_type": "code",
      "source": [
        "list1"
      ],
      "metadata": {
        "colab": {
          "base_uri": "https://localhost:8080/"
        },
        "id": "U59GgWxqjSqL",
        "outputId": "fbc19087-f554-4690-89bb-bc563389d5e7"
      },
      "execution_count": null,
      "outputs": [
        {
          "output_type": "execute_result",
          "data": {
            "text/plain": [
              "['datagy', 'is', 'a', 'site', 'to', 'learn', 'python']"
            ]
          },
          "metadata": {},
          "execution_count": 62
        }
      ]
    },
    {
      "cell_type": "code",
      "source": [
        "#combine items conditonally\n",
        "for i in list2:\n",
        "  if len(i)>3:\n",
        "    list1.append(i)"
      ],
      "metadata": {
        "id": "WvzCRbufjStg"
      },
      "execution_count": null,
      "outputs": []
    },
    {
      "cell_type": "code",
      "source": [
        "list1"
      ],
      "metadata": {
        "colab": {
          "base_uri": "https://localhost:8080/"
        },
        "id": "aEYwHJqclodw",
        "outputId": "f6227910-5551-41ab-852e-23adc220f27d"
      },
      "execution_count": null,
      "outputs": [
        {
          "output_type": "execute_result",
          "data": {
            "text/plain": [
              "['datagy', 'is', 'a', 'site', 'to', 'learn', 'python', 'learn', 'python']"
            ]
          },
          "metadata": {},
          "execution_count": 64
        }
      ]
    },
    {
      "cell_type": "markdown",
      "source": [
        "#Combine Python Lists with a List Comprehension\n",
        "We can also use a Python list comprehension to combine two lists in Python. This approach uses list comprehensions a little unconventionally: we really only use the list comprehension to loop over a list an append to another list."
      ],
      "metadata": {
        "id": "Al4eRlQ8loiX"
      }
    },
    {
      "cell_type": "code",
      "source": [
        "[list1.append(i) for i in list2]"
      ],
      "metadata": {
        "colab": {
          "base_uri": "https://localhost:8080/"
        },
        "id": "oYgO9ubqmYpo",
        "outputId": "bacb1030-29e1-48a9-f5a1-cb62bfa0a56c"
      },
      "execution_count": null,
      "outputs": [
        {
          "output_type": "execute_result",
          "data": {
            "text/plain": [
              "[None, None, None]"
            ]
          },
          "metadata": {},
          "execution_count": 65
        }
      ]
    },
    {
      "cell_type": "code",
      "source": [
        "list2"
      ],
      "metadata": {
        "colab": {
          "base_uri": "https://localhost:8080/"
        },
        "id": "GO0oRUycmYtH",
        "outputId": "ffb8a19d-5b3c-4c9b-b018-908ff8e83222"
      },
      "execution_count": null,
      "outputs": [
        {
          "output_type": "execute_result",
          "data": {
            "text/plain": [
              "['to', 'learn', 'python']"
            ]
          },
          "metadata": {},
          "execution_count": 66
        }
      ]
    },
    {
      "cell_type": "code",
      "source": [
        "list1"
      ],
      "metadata": {
        "colab": {
          "base_uri": "https://localhost:8080/"
        },
        "id": "PZmHdFBGmYwH",
        "outputId": "9c3c7435-852e-4ab1-d0df-35e2f4c3a5f7"
      },
      "execution_count": null,
      "outputs": [
        {
          "output_type": "execute_result",
          "data": {
            "text/plain": [
              "['datagy',\n",
              " 'is',\n",
              " 'a',\n",
              " 'site',\n",
              " 'to',\n",
              " 'learn',\n",
              " 'python',\n",
              " 'learn',\n",
              " 'python',\n",
              " 'to',\n",
              " 'learn',\n",
              " 'python']"
            ]
          },
          "metadata": {},
          "execution_count": 67
        }
      ]
    },
    {
      "cell_type": "code",
      "source": [
        "m1=[4,5,6]\n",
        "m2=[7,8,9]"
      ],
      "metadata": {
        "id": "eLt3u6GGlonM"
      },
      "execution_count": null,
      "outputs": []
    },
    {
      "cell_type": "code",
      "source": [
        "[m1.append(i) for i in m2]"
      ],
      "metadata": {
        "colab": {
          "base_uri": "https://localhost:8080/"
        },
        "id": "AAb9d0FJlor4",
        "outputId": "231462b0-2051-4450-c648-7afeb238c3a3"
      },
      "execution_count": null,
      "outputs": [
        {
          "output_type": "execute_result",
          "data": {
            "text/plain": [
              "[None, None, None]"
            ]
          },
          "metadata": {},
          "execution_count": 69
        }
      ]
    },
    {
      "cell_type": "code",
      "source": [
        "m1"
      ],
      "metadata": {
        "colab": {
          "base_uri": "https://localhost:8080/"
        },
        "id": "W_uLscHnjSwP",
        "outputId": "8f49c00e-214b-4b1f-cc37-33fe50601447"
      },
      "execution_count": null,
      "outputs": [
        {
          "output_type": "execute_result",
          "data": {
            "text/plain": [
              "[4, 5, 6, 7, 8, 9]"
            ]
          },
          "metadata": {},
          "execution_count": 70
        }
      ]
    },
    {
      "cell_type": "code",
      "source": [
        "m3=[4,5,6,7]\n",
        "m4=[4,5,7,8]"
      ],
      "metadata": {
        "id": "X8tmYy9PjORA"
      },
      "execution_count": null,
      "outputs": []
    },
    {
      "cell_type": "code",
      "source": [
        "[i for i in m3 if i in m4]"
      ],
      "metadata": {
        "colab": {
          "base_uri": "https://localhost:8080/"
        },
        "id": "8JpB7aNlsgWF",
        "outputId": "cb943f70-bc10-417a-a232-ba3e6a8f39b9"
      },
      "execution_count": null,
      "outputs": [
        {
          "output_type": "execute_result",
          "data": {
            "text/plain": [
              "[4, 5, 7]"
            ]
          },
          "metadata": {},
          "execution_count": 72
        }
      ]
    },
    {
      "cell_type": "code",
      "source": [
        "m5=list(set(m3).intersection(m4))"
      ],
      "metadata": {
        "id": "7YCWnyehsgax"
      },
      "execution_count": null,
      "outputs": []
    },
    {
      "cell_type": "code",
      "source": [
        "m5"
      ],
      "metadata": {
        "colab": {
          "base_uri": "https://localhost:8080/"
        },
        "id": "mtispv75sgfW",
        "outputId": "24c601d9-8394-4313-d6ad-cf54b730e86c"
      },
      "execution_count": null,
      "outputs": [
        {
          "output_type": "execute_result",
          "data": {
            "text/plain": [
              "[4, 5, 7]"
            ]
          },
          "metadata": {},
          "execution_count": 74
        }
      ]
    },
    {
      "cell_type": "markdown",
      "source": [
        "#Combine Python Lists with Unique Elements Only"
      ],
      "metadata": {
        "id": "QjdsPZidsgkI"
      }
    },
    {
      "cell_type": "code",
      "source": [
        "m6=m3+m4"
      ],
      "metadata": {
        "id": "tPS4KhwguhGV"
      },
      "execution_count": null,
      "outputs": []
    },
    {
      "cell_type": "code",
      "source": [
        "m6"
      ],
      "metadata": {
        "colab": {
          "base_uri": "https://localhost:8080/"
        },
        "id": "jY0xdhIHuhSH",
        "outputId": "660392c6-d8c3-42be-aaa1-62fd21318efa"
      },
      "execution_count": null,
      "outputs": [
        {
          "output_type": "execute_result",
          "data": {
            "text/plain": [
              "[4, 5, 6, 7, 4, 5, 7, 8]"
            ]
          },
          "metadata": {},
          "execution_count": 76
        }
      ]
    },
    {
      "cell_type": "code",
      "source": [
        "m7=list(set(m3).intersection(set(m4)))"
      ],
      "metadata": {
        "id": "ulxGdHIouhaD"
      },
      "execution_count": null,
      "outputs": []
    },
    {
      "cell_type": "code",
      "source": [
        "m7"
      ],
      "metadata": {
        "colab": {
          "base_uri": "https://localhost:8080/"
        },
        "id": "0inCeG71uhfq",
        "outputId": "aad960de-3f07-40a1-e016-fc1032b34114"
      },
      "execution_count": null,
      "outputs": [
        {
          "output_type": "execute_result",
          "data": {
            "text/plain": [
              "[4, 5, 7]"
            ]
          },
          "metadata": {},
          "execution_count": 80
        }
      ]
    },
    {
      "cell_type": "code",
      "source": [
        "[i for i in m6 if i not in m7]"
      ],
      "metadata": {
        "colab": {
          "base_uri": "https://localhost:8080/"
        },
        "id": "QXmyMcb_uhk5",
        "outputId": "862d2401-d48a-4c0c-e1a9-935bcac5ca4b"
      },
      "execution_count": null,
      "outputs": [
        {
          "output_type": "execute_result",
          "data": {
            "text/plain": [
              "[6, 8]"
            ]
          },
          "metadata": {},
          "execution_count": 82
        }
      ]
    },
    {
      "cell_type": "code",
      "source": [
        ""
      ],
      "metadata": {
        "id": "ZihskEppsgtg"
      },
      "execution_count": null,
      "outputs": []
    },
    {
      "cell_type": "code",
      "source": [
        ""
      ],
      "metadata": {
        "id": "blIp3_SFjOVI"
      },
      "execution_count": null,
      "outputs": []
    },
    {
      "cell_type": "code",
      "source": [
        ""
      ],
      "metadata": {
        "id": "tBFBWlsDjOZG"
      },
      "execution_count": null,
      "outputs": []
    },
    {
      "cell_type": "code",
      "source": [
        ""
      ],
      "metadata": {
        "id": "GmF45g65dvlr"
      },
      "execution_count": null,
      "outputs": []
    },
    {
      "cell_type": "code",
      "source": [
        ""
      ],
      "metadata": {
        "id": "qq0xKCz2dvup"
      },
      "execution_count": null,
      "outputs": []
    },
    {
      "cell_type": "code",
      "source": [
        ""
      ],
      "metadata": {
        "id": "QLpkL-UUdvyp"
      },
      "execution_count": null,
      "outputs": []
    },
    {
      "cell_type": "code",
      "source": [
        ""
      ],
      "metadata": {
        "id": "G3v_6lPdylKh"
      },
      "execution_count": null,
      "outputs": []
    },
    {
      "cell_type": "code",
      "source": [
        ""
      ],
      "metadata": {
        "id": "c4Lb8O_KylOe"
      },
      "execution_count": null,
      "outputs": []
    },
    {
      "cell_type": "code",
      "source": [
        ""
      ],
      "metadata": {
        "id": "o2haC8yMylS-"
      },
      "execution_count": null,
      "outputs": []
    },
    {
      "cell_type": "code",
      "source": [
        ""
      ],
      "metadata": {
        "id": "b5ocx4omylXd"
      },
      "execution_count": null,
      "outputs": []
    },
    {
      "cell_type": "code",
      "source": [
        ""
      ],
      "metadata": {
        "id": "dz6EjaTkylcC"
      },
      "execution_count": null,
      "outputs": []
    },
    {
      "cell_type": "code",
      "source": [
        ""
      ],
      "metadata": {
        "id": "Auw3IAP9ylhC"
      },
      "execution_count": null,
      "outputs": []
    }
  ]
}