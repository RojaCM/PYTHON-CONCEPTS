{
  "cells": [
    {
      "cell_type": "markdown",
      "metadata": {
        "id": "view-in-github",
        "colab_type": "text"
      },
      "source": [
        "<a href=\"https://colab.research.google.com/github/RojaCM/PYTHON-CONCEPTS/blob/main/Replace%20an%20item%20in%20a%20list.ipynb\" target=\"_parent\"><img src=\"https://colab.research.google.com/assets/colab-badge.svg\" alt=\"Open In Colab\"/></a>"
      ]
    },
    {
      "cell_type": "code",
      "execution_count": null,
      "metadata": {
        "id": "xLoYrhchdNKo"
      },
      "outputs": [],
      "source": [
        "a=['sun','mon','tue','wed','thu','fri','sat']"
      ]
    },
    {
      "cell_type": "code",
      "execution_count": null,
      "metadata": {
        "colab": {
          "base_uri": "https://localhost:8080/",
          "height": 36
        },
        "id": "IRNee3gzdu9n",
        "outputId": "f62c06a9-dedc-48c9-9f6c-26cf2ba858f3"
      },
      "outputs": [
        {
          "data": {
            "application/vnd.google.colaboratory.intrinsic+json": {
              "type": "string"
            },
            "text/plain": [
              "'sunmontuewedthufrisat'"
            ]
          },
          "execution_count": 3,
          "metadata": {},
          "output_type": "execute_result"
        }
      ],
      "source": [
        "''.join(a)"
      ]
    },
    {
      "cell_type": "code",
      "execution_count": null,
      "metadata": {
        "id": "l4PBGRBEdxYr"
      },
      "outputs": [],
      "source": [
        "s='python'"
      ]
    },
    {
      "cell_type": "code",
      "execution_count": null,
      "metadata": {
        "colab": {
          "base_uri": "https://localhost:8080/"
        },
        "id": "kOPFFHO1epg2",
        "outputId": "93e96cf0-c62a-453c-d9ae-b06df5109dd6"
      },
      "outputs": [
        {
          "data": {
            "text/plain": [
              "str"
            ]
          },
          "execution_count": 5,
          "metadata": {},
          "output_type": "execute_result"
        }
      ],
      "source": [
        "type(s)"
      ]
    },
    {
      "cell_type": "code",
      "execution_count": null,
      "metadata": {
        "colab": {
          "base_uri": "https://localhost:8080/"
        },
        "id": "zjh7jhfaeqn4",
        "outputId": "6e9aef50-1e62-4db0-b029-ff3b94829cdb"
      },
      "outputs": [
        {
          "name": "stdout",
          "output_type": "stream",
          "text": [
            "character--> p has index---> 0\n",
            "character--> y has index---> 1\n",
            "character--> t has index---> 2\n",
            "character--> h has index---> 3\n",
            "character--> o has index---> 4\n",
            "character--> n has index---> 5\n"
          ]
        }
      ],
      "source": [
        "for idx,val in enumerate(s):\n",
        "  print('character-->',val,'has index--->',idx)"
      ]
    },
    {
      "cell_type": "code",
      "execution_count": null,
      "metadata": {
        "id": "APlmB8UWeqyD"
      },
      "outputs": [],
      "source": [
        "s[:]"
      ]
    },
    {
      "cell_type": "code",
      "execution_count": null,
      "metadata": {
        "colab": {
          "background_save": true
        },
        "id": "aQlJboMOeq2q",
        "outputId": "ca416f9a-9738-403a-c424-9c28ebb554e7"
      },
      "outputs": [
        {
          "data": {
            "application/vnd.google.colaboratory.intrinsic+json": {
              "type": "string"
            },
            "text/plain": [
              "'nohtyp'"
            ]
          },
          "execution_count": null,
          "metadata": {},
          "output_type": "execute_result"
        }
      ],
      "source": [
        "s[]"
      ]
    },
    {
      "cell_type": "code",
      "execution_count": 1,
      "metadata": {
        "id": "LMtg77JTeq7G"
      },
      "outputs": [],
      "source": [
        "a=[4,5,6,3,4,7,8,9]"
      ]
    },
    {
      "cell_type": "code",
      "execution_count": 2,
      "metadata": {
        "id": "Pq-1_dhXeq_1"
      },
      "outputs": [],
      "source": [
        "a.reverse()"
      ]
    },
    {
      "cell_type": "code",
      "execution_count": 3,
      "metadata": {
        "id": "JO7dDImuerGM",
        "colab": {
          "base_uri": "https://localhost:8080/"
        },
        "outputId": "3fc8ba98-9a12-4fcb-c03b-c8679fcd344a"
      },
      "outputs": [
        {
          "output_type": "execute_result",
          "data": {
            "text/plain": [
              "[9, 8, 7, 4, 3, 6, 5, 4]"
            ]
          },
          "metadata": {},
          "execution_count": 3
        }
      ],
      "source": [
        "a"
      ]
    },
    {
      "cell_type": "code",
      "source": [
        "b=reversed(a)"
      ],
      "metadata": {
        "id": "gRnD2miNvjT9"
      },
      "execution_count": 4,
      "outputs": []
    },
    {
      "cell_type": "code",
      "source": [
        "b"
      ],
      "metadata": {
        "colab": {
          "base_uri": "https://localhost:8080/"
        },
        "id": "4pEekm4kvjiM",
        "outputId": "af308f55-7f80-4414-d997-8ae10abf828b"
      },
      "execution_count": 5,
      "outputs": [
        {
          "output_type": "execute_result",
          "data": {
            "text/plain": [
              "<list_reverseiterator at 0x7fc2bb8a4390>"
            ]
          },
          "metadata": {},
          "execution_count": 5
        }
      ]
    },
    {
      "cell_type": "code",
      "source": [
        "list(b)"
      ],
      "metadata": {
        "colab": {
          "base_uri": "https://localhost:8080/"
        },
        "id": "txB8df2SvjnK",
        "outputId": "b183d1b2-62db-47bb-d720-4e171cb4c3dc"
      },
      "execution_count": 6,
      "outputs": [
        {
          "output_type": "execute_result",
          "data": {
            "text/plain": [
              "[4, 5, 6, 3, 4, 7, 8, 9]"
            ]
          },
          "metadata": {},
          "execution_count": 6
        }
      ]
    },
    {
      "cell_type": "markdown",
      "source": [
        "#Python: Replace Item in List (6 Different Ways)"
      ],
      "metadata": {
        "id": "YsdEr__gvjsG"
      }
    },
    {
      "cell_type": "markdown",
      "source": [
        "Python lists are ordered, meaning that we can access (and modify) items when we know their index position. Python list indices start at 0 and go all the way to the length of the list minus 1.\n",
        "\n",
        "You can also access items from their negative index. The negative index begins at -1 for the last item and goes from there"
      ],
      "metadata": {
        "id": "PgL4WHBTBRwJ"
      }
    },
    {
      "cell_type": "code",
      "source": [
        "b=[2,3,4,5,6,7,8,9]"
      ],
      "metadata": {
        "id": "0RST9sJ4BR1F"
      },
      "execution_count": 7,
      "outputs": []
    },
    {
      "cell_type": "code",
      "source": [
        "b[1]=78"
      ],
      "metadata": {
        "id": "5JdMRKbgBR5y"
      },
      "execution_count": 8,
      "outputs": []
    },
    {
      "cell_type": "code",
      "source": [
        "b"
      ],
      "metadata": {
        "colab": {
          "base_uri": "https://localhost:8080/"
        },
        "id": "Gzmd9bHIBR-M",
        "outputId": "f7b7d706-6cc4-4fc2-9f90-a503b278c3cd"
      },
      "execution_count": 9,
      "outputs": [
        {
          "output_type": "execute_result",
          "data": {
            "text/plain": [
              "[2, 78, 4, 5, 6, 7, 8, 9]"
            ]
          },
          "metadata": {},
          "execution_count": 9
        }
      ]
    },
    {
      "cell_type": "code",
      "source": [
        "b[-1]=98"
      ],
      "metadata": {
        "id": "bNZXxO-ABSCn"
      },
      "execution_count": 10,
      "outputs": []
    },
    {
      "cell_type": "code",
      "source": [
        "b"
      ],
      "metadata": {
        "colab": {
          "base_uri": "https://localhost:8080/"
        },
        "id": "HgcsJI74BSG_",
        "outputId": "0900548b-2006-4285-a85d-f48c2714f4b0"
      },
      "execution_count": 11,
      "outputs": [
        {
          "output_type": "execute_result",
          "data": {
            "text/plain": [
              "[2, 78, 4, 5, 6, 7, 8, 98]"
            ]
          },
          "metadata": {},
          "execution_count": 11
        }
      ]
    },
    {
      "cell_type": "markdown",
      "source": [
        "Replace a Particular Value in a List in Python Using a For Loop\n",
        "Python lists allow us to easily also modify particular values. One way that we can do this is by using a for loop."
      ],
      "metadata": {
        "id": "tWjLDVAdBSLe"
      }
    },
    {
      "cell_type": "markdown",
      "source": [
        "one of the key attributes of Python lists is that they can contain duplicate values. Because of this, we can loop over each item in the list and check its value. If the value is one we want to replace, then we replace it.\n",
        "\n",
        "Let’s see what this looks like. In our list, the word apple is misspelled. We want to replace the misspelled version with the corrected version."
      ],
      "metadata": {
        "id": "OTQF2rpEHOGw"
      }
    },
    {
      "cell_type": "code",
      "source": [
        "a_list=['aple','banana','orange','aple','grape','aple']\n",
        "\n",
        "for i in range(len(a_list)):\n",
        "  if a_list[i]=='aple':\n",
        "    a_list[i]='apple'"
      ],
      "metadata": {
        "id": "d980OpDVHOLb"
      },
      "execution_count": 13,
      "outputs": []
    },
    {
      "cell_type": "code",
      "source": [
        "a_list"
      ],
      "metadata": {
        "colab": {
          "base_uri": "https://localhost:8080/"
        },
        "id": "p2bAA-V2HOP-",
        "outputId": "9b81f17e-7101-4bf0-9de6-34c8cc2b9a28"
      },
      "execution_count": 14,
      "outputs": [
        {
          "output_type": "execute_result",
          "data": {
            "text/plain": [
              "['apple', 'banana', 'orange', 'apple', 'grape', 'apple']"
            ]
          },
          "metadata": {},
          "execution_count": 14
        }
      ]
    },
    {
      "cell_type": "markdown",
      "source": [
        "#Replace a Particular Value in a List in Python Using a List Comprehension:\n",
        "\n",
        "One of the key attributes of Python list comprehensions is that we can often turn for loops into much shorter comprehensions. Let’s see how we can use a list comprehension in Python to replace an item in a list"
      ],
      "metadata": {
        "id": "RHy2h17ZHOUu"
      }
    },
    {
      "cell_type": "code",
      "source": [
        "[apple if a_list[i]=='aple' else a_list[i] for i in range(len(a_list))]"
      ],
      "metadata": {
        "colab": {
          "base_uri": "https://localhost:8080/"
        },
        "id": "QJi5nESfHOZn",
        "outputId": "824b9aa1-f06d-4318-b8f0-316ef8a8e784"
      },
      "execution_count": 16,
      "outputs": [
        {
          "output_type": "execute_result",
          "data": {
            "text/plain": [
              "['apple', 'banana', 'orange', 'apple', 'grape', 'apple']"
            ]
          },
          "metadata": {},
          "execution_count": 16
        }
      ]
    },
    {
      "cell_type": "code",
      "source": [
        "#CHANGE ALL VALUES IN A LIST IN PYTHON USING A FUNCTION\n",
        "\n",
        "def replace_values(list_to_replace,item_to_replace,item_to_replace_with):\n",
        "  return [item_to_replace_with if item==item_to_replace else item  for item in list_to_replace]"
      ],
      "metadata": {
        "id": "rbneOuXEHOfF"
      },
      "execution_count": 18,
      "outputs": []
    },
    {
      "cell_type": "code",
      "source": [
        "list1=['ab','b','c','d','ab','ef','ab']"
      ],
      "metadata": {
        "id": "XjmMcvgFHE2h"
      },
      "execution_count": 19,
      "outputs": []
    },
    {
      "cell_type": "code",
      "source": [
        "replaced_list=replace_values(list1,'ab','abc')"
      ],
      "metadata": {
        "id": "C5BfDQrOQY6G"
      },
      "execution_count": 21,
      "outputs": []
    },
    {
      "cell_type": "code",
      "source": [
        "replaced_list"
      ],
      "metadata": {
        "colab": {
          "base_uri": "https://localhost:8080/"
        },
        "id": "NgzoX-uoQY-_",
        "outputId": "c78c099f-b05a-4607-a34c-4d4366d15fa0"
      },
      "execution_count": 22,
      "outputs": [
        {
          "output_type": "execute_result",
          "data": {
            "text/plain": [
              "['abc', 'b', 'c', 'd', 'abc', 'ef', 'abc']"
            ]
          },
          "metadata": {},
          "execution_count": 22
        }
      ]
    },
    {
      "cell_type": "markdown",
      "source": [
        "#Replace multiple values in a list in python\n",
        "there may be many times when you want to replace not just a single item but multiple items "
      ],
      "metadata": {
        "id": "BDdu3t4jQZEr"
      }
    },
    {
      "cell_type": "code",
      "source": [
        "# Replace multiple items in a Python list with the same value\n",
        "a_list1 = ['aple', 'ornge', 'aple', 'banana', 'grape', 'aple']\n",
        "\n",
        "for i in range(len(a_list1)):\n",
        "  if a_list1[i] in ['aple','ornge']:\n",
        "    a_list1[i]='typo'\n",
        "    "
      ],
      "metadata": {
        "id": "gkXPMG4vRl3e"
      },
      "execution_count": 23,
      "outputs": []
    },
    {
      "cell_type": "code",
      "source": [
        "a_list1"
      ],
      "metadata": {
        "colab": {
          "base_uri": "https://localhost:8080/"
        },
        "id": "RgW-oCXHRl8b",
        "outputId": "f15b07f2-607e-4c6b-adb5-44154ecac252"
      },
      "execution_count": 24,
      "outputs": [
        {
          "output_type": "execute_result",
          "data": {
            "text/plain": [
              "['typo', 'typo', 'typo', 'banana', 'grape', 'typo']"
            ]
          },
          "metadata": {},
          "execution_count": 24
        }
      ]
    },
    {
      "cell_type": "code",
      "source": [
        ""
      ],
      "metadata": {
        "id": "nwHsiu2uRmBB"
      },
      "execution_count": null,
      "outputs": []
    },
    {
      "cell_type": "code",
      "source": [
        ""
      ],
      "metadata": {
        "id": "wtPhP7AKRmGE"
      },
      "execution_count": null,
      "outputs": []
    },
    {
      "cell_type": "code",
      "source": [
        ""
      ],
      "metadata": {
        "id": "4qORWom-RmMJ"
      },
      "execution_count": null,
      "outputs": []
    },
    {
      "cell_type": "code",
      "source": [
        ""
      ],
      "metadata": {
        "id": "yQJwDjhAQZKY"
      },
      "execution_count": null,
      "outputs": []
    },
    {
      "cell_type": "code",
      "source": [
        ""
      ],
      "metadata": {
        "id": "q0GNgd5uHE7Q"
      },
      "execution_count": null,
      "outputs": []
    },
    {
      "cell_type": "code",
      "source": [
        ""
      ],
      "metadata": {
        "id": "6plhCJieBSQX"
      },
      "execution_count": null,
      "outputs": []
    },
    {
      "cell_type": "code",
      "source": [
        ""
      ],
      "metadata": {
        "id": "4pIiaix6BSVi"
      },
      "execution_count": null,
      "outputs": []
    },
    {
      "cell_type": "code",
      "source": [
        ""
      ],
      "metadata": {
        "id": "VJ4dCN3PyVQc"
      },
      "execution_count": null,
      "outputs": []
    },
    {
      "cell_type": "code",
      "source": [
        ""
      ],
      "metadata": {
        "id": "HQ0X0mwnyVVC"
      },
      "execution_count": null,
      "outputs": []
    },
    {
      "cell_type": "code",
      "source": [
        ""
      ],
      "metadata": {
        "id": "tp3bUlFCyVZ4"
      },
      "execution_count": null,
      "outputs": []
    },
    {
      "cell_type": "code",
      "source": [
        ""
      ],
      "metadata": {
        "id": "lgU-5ltIyVfj"
      },
      "execution_count": null,
      "outputs": []
    }
  ],
  "metadata": {
    "colab": {
      "name": "Untitled208.ipynb",
      "provenance": [],
      "authorship_tag": "ABX9TyMS5jofhdmlk83tL/3H672c",
      "include_colab_link": true
    },
    "kernelspec": {
      "display_name": "Python 3",
      "name": "python3"
    },
    "language_info": {
      "name": "python"
    }
  },
  "nbformat": 4,
  "nbformat_minor": 0
}