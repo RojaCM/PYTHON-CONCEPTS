{
  "nbformat": 4,
  "nbformat_minor": 0,
  "metadata": {
    "colab": {
      "name": "Untitled174.ipynb",
      "provenance": [],
      "authorship_tag": "ABX9TyMh0L2EHNvBBKhZH6cPm6GE",
      "include_colab_link": true
    },
    "kernelspec": {
      "name": "python3",
      "display_name": "Python 3"
    },
    "language_info": {
      "name": "python"
    }
  },
  "cells": [
    {
      "cell_type": "markdown",
      "metadata": {
        "id": "view-in-github",
        "colab_type": "text"
      },
      "source": [
        "<a href=\"https://colab.research.google.com/github/RojaCM/PYTHON-CONCEPTS/blob/main/PYTHON%20map().ipynb\" target=\"_parent\"><img src=\"https://colab.research.google.com/assets/colab-badge.svg\" alt=\"Open In Colab\"/></a>"
      ]
    },
    {
      "cell_type": "markdown",
      "source": [
        "MAP FUNCTION :\n",
        "TRANSFORMING ITERABLES WITHOUT LOOPS\n",
        "Python function allows you to process,trasform or map ,items in an iterbale without needing to use a loop to iterate."
      ],
      "metadata": {
        "id": "v7OiN6qd-EHe"
      }
    },
    {
      "cell_type": "markdown",
      "source": [
        "The Python map() function allows you to transform all items in an iterable object, such as a Python list, without explicitly needing to loop over each item. The function takes two inputs: a function to use to map each item and an iterable to transform."
      ],
      "metadata": {
        "id": "2CI0EMJd-ZcV"
      }
    },
    {
      "cell_type": "markdown",
      "source": [
        "# Understanding the Python map() function\n",
        "map(\n",
        "    func,       # The function to be applied\n",
        "    \n",
        "    iterable    # The object to be iterated over\n",
        ")"
      ],
      "metadata": {
        "id": "ZAtdvHl4-Zem"
      }
    },
    {
      "cell_type": "code",
      "source": [
        "l1=['roja','pooja','priya','chandu','mahesh']"
      ],
      "metadata": {
        "id": "W1KCoJbv-ZhS"
      },
      "execution_count": 1,
      "outputs": []
    },
    {
      "cell_type": "code",
      "source": [
        "l2=map(len,l1)"
      ],
      "metadata": {
        "id": "toBBI0Os-Zjy"
      },
      "execution_count": 2,
      "outputs": []
    },
    {
      "cell_type": "code",
      "source": [
        "list(l2)"
      ],
      "metadata": {
        "id": "xd9y86Bd-ZmZ",
        "colab": {
          "base_uri": "https://localhost:8080/"
        },
        "outputId": "7b6705c9-9464-4da2-f014-7108258ca24a"
      },
      "execution_count": 3,
      "outputs": [
        {
          "output_type": "execute_result",
          "data": {
            "text/plain": [
              "[4, 5, 5, 6, 6]"
            ]
          },
          "metadata": {},
          "execution_count": 3
        }
      ]
    },
    {
      "cell_type": "markdown",
      "source": [
        "How to Use Python map() With Custom Functions"
      ],
      "metadata": {
        "id": "oXMy__qyCiqb"
      }
    },
    {
      "cell_type": "code",
      "source": [
        "def cube(num):\n",
        "  return num**3"
      ],
      "metadata": {
        "id": "BV5DaaH-Cit2"
      },
      "execution_count": 4,
      "outputs": []
    },
    {
      "cell_type": "code",
      "source": [
        "n1=[3,4,5,6,7,8]"
      ],
      "metadata": {
        "id": "4OpRqUfcCizu"
      },
      "execution_count": 5,
      "outputs": []
    },
    {
      "cell_type": "code",
      "source": [
        "l1=list(map(cube,n1))"
      ],
      "metadata": {
        "id": "cfrg6phc-Znm"
      },
      "execution_count": 7,
      "outputs": []
    },
    {
      "cell_type": "code",
      "source": [
        "l1"
      ],
      "metadata": {
        "colab": {
          "base_uri": "https://localhost:8080/"
        },
        "id": "cxGub5ZGMUA_",
        "outputId": "0f6a1d5c-965f-44fd-d088-d343738530b6"
      },
      "execution_count": 8,
      "outputs": [
        {
          "output_type": "execute_result",
          "data": {
            "text/plain": [
              "[27, 64, 125, 216, 343, 512]"
            ]
          },
          "metadata": {},
          "execution_count": 8
        }
      ]
    },
    {
      "cell_type": "markdown",
      "source": [
        "How to Use Python map() With Lambda Functions :\n",
        "when we want to make transformation single time ,we can make use of lambda function"
      ],
      "metadata": {
        "id": "RA_cDAVBMUgb"
      }
    },
    {
      "cell_type": "code",
      "source": [
        "l2=list(map(lambda x:x**3,n1))"
      ],
      "metadata": {
        "id": "vM_Lin3rMXky"
      },
      "execution_count": 11,
      "outputs": []
    },
    {
      "cell_type": "code",
      "source": [
        "l2"
      ],
      "metadata": {
        "colab": {
          "base_uri": "https://localhost:8080/"
        },
        "id": "QxENfFRUMXqg",
        "outputId": "ecad8a1c-2d7c-4823-bf2c-eb76117cd5b2"
      },
      "execution_count": 12,
      "outputs": [
        {
          "output_type": "execute_result",
          "data": {
            "text/plain": [
              "[27, 64, 125, 216, 343, 512]"
            ]
          },
          "metadata": {},
          "execution_count": 12
        }
      ]
    },
    {
      "cell_type": "markdown",
      "source": [
        "How to Use Python map() With Lambda Functions: one of the great things about python map() function is that it can process multiple iterable function at once,\n",
        "this is done by passing in multiple arguments follwoing the tarsnformation function as an argument"
      ],
      "metadata": {
        "id": "adJl0iKOMXz2"
      }
    },
    {
      "cell_type": "code",
      "source": [
        "#using multiple iterables using python map() function\n",
        "a1=[45,67,8,9,7,6]\n",
        "a2=[5,6,77,88,9,3]\n",
        "a3=list(map(lambda x,y:x+y,a1,a2))"
      ],
      "metadata": {
        "id": "PxenaEOMMX5v"
      },
      "execution_count": 13,
      "outputs": []
    },
    {
      "cell_type": "code",
      "source": [
        "a3"
      ],
      "metadata": {
        "colab": {
          "base_uri": "https://localhost:8080/"
        },
        "id": "ze0185z1MX_2",
        "outputId": "8bdae4ef-0ffc-472f-8ba1-f8c604a85249"
      },
      "execution_count": 14,
      "outputs": [
        {
          "output_type": "execute_result",
          "data": {
            "text/plain": [
              "[50, 73, 85, 97, 16, 9]"
            ]
          },
          "metadata": {},
          "execution_count": 14
        }
      ]
    },
    {
      "cell_type": "code",
      "source": [
        "def add(a,b):\n",
        "  return a+b"
      ],
      "metadata": {
        "id": "JLSNbGTIUBRL"
      },
      "execution_count": 16,
      "outputs": []
    },
    {
      "cell_type": "code",
      "source": [
        "a4=list(map(add,a1,a2))"
      ],
      "metadata": {
        "id": "22GnM7P6UBW2"
      },
      "execution_count": 17,
      "outputs": []
    },
    {
      "cell_type": "code",
      "source": [
        "a4"
      ],
      "metadata": {
        "colab": {
          "base_uri": "https://localhost:8080/"
        },
        "id": "Zu2NX0LxUBbI",
        "outputId": "e369938e-70fe-41fa-b875-6416f1de7be5"
      },
      "execution_count": 18,
      "outputs": [
        {
          "output_type": "execute_result",
          "data": {
            "text/plain": [
              "[50, 73, 85, 97, 16, 9]"
            ]
          },
          "metadata": {},
          "execution_count": 18
        }
      ]
    },
    {
      "cell_type": "markdown",
      "source": [
        "Using String Methods in Python map() : we can also apply python string methods to a each item in the list using the python map() function.\n",
        "it allows you to apply the string style of transformations to each item in python"
      ],
      "metadata": {
        "id": "MYA-uU8dUBgE"
      }
    },
    {
      "cell_type": "code",
      "source": [
        "a5=['roja','teju','pooja']"
      ],
      "metadata": {
        "id": "H3GxBl8cVXd3"
      },
      "execution_count": 19,
      "outputs": []
    },
    {
      "cell_type": "code",
      "source": [
        "a6=list(map(str.upper,a5))"
      ],
      "metadata": {
        "id": "9pN5ejdSVXj7"
      },
      "execution_count": 20,
      "outputs": []
    },
    {
      "cell_type": "code",
      "source": [
        "a6"
      ],
      "metadata": {
        "colab": {
          "base_uri": "https://localhost:8080/"
        },
        "id": "PL2G-7S6VXoe",
        "outputId": "2d59138d-f3fe-4927-deb8-eb34104bcd9a"
      },
      "execution_count": 21,
      "outputs": [
        {
          "output_type": "execute_result",
          "data": {
            "text/plain": [
              "['ROJA', 'TEJU', 'POOJA']"
            ]
          },
          "metadata": {},
          "execution_count": 21
        }
      ]
    },
    {
      "cell_type": "markdown",
      "source": [
        "In this case, our string method didn’t have a parameter. There may be times, however, when you need to pass in a parameter. For example, when you want to use the replace() method, you need to pass in arguments. For this, we can use a lambda function:"
      ],
      "metadata": {
        "id": "KW7RhusdUBlA"
      }
    },
    {
      "cell_type": "code",
      "source": [
        "# Using String Methods with Arguments in Python map()\n",
        "words = ['hello!', '!world', 'ho!w', 'ar!e', 'you!']\n",
        "\n",
        "l7=list(map(lambda x:x.replace('!',' '),words))"
      ],
      "metadata": {
        "id": "wGZlf-13X2Xn"
      },
      "execution_count": 22,
      "outputs": []
    },
    {
      "cell_type": "code",
      "source": [
        "l7"
      ],
      "metadata": {
        "colab": {
          "base_uri": "https://localhost:8080/"
        },
        "id": "wwtzJeBcYrMa",
        "outputId": "8d9fc089-ce68-4681-e60a-11900f161ac4"
      },
      "execution_count": 23,
      "outputs": [
        {
          "output_type": "execute_result",
          "data": {
            "text/plain": [
              "['hello ', ' world', 'ho w', 'ar e', 'you ']"
            ]
          },
          "metadata": {},
          "execution_count": 23
        }
      ]
    },
    {
      "cell_type": "markdown",
      "source": [
        "Using Python map() with Dictionaries\n",
        "\n",
        "So far, we’ve only looked at working with lists in the Python map() function. However, you can also work with other iterables such as dictionaries. This works in the same way, though you need to decide whether or not to access keys or values in the dictionaries.\n",
        "\n",
        "Let’s take a look at an example. Say we have a list of dictionaries that contain lengths and widths for different rectangles and we want to create a new key that contains their area. In order to do this, we could write the following:\n",
        "\n"
      ],
      "metadata": {
        "id": "ngMCba0LYrQW"
      }
    },
    {
      "cell_type": "code",
      "source": [
        "list1=[{'length':4,'width':2},\n",
        "       {'length':5,'width':4}]"
      ],
      "metadata": {
        "id": "Ky8VYIWMYrW9"
      },
      "execution_count": 25,
      "outputs": []
    },
    {
      "cell_type": "code",
      "source": [
        "list2=list(map(lambda x:x['length']*x['width'],list1))"
      ],
      "metadata": {
        "id": "5oh3kRPuX2c3"
      },
      "execution_count": 26,
      "outputs": []
    },
    {
      "cell_type": "code",
      "source": [
        "list2"
      ],
      "metadata": {
        "colab": {
          "base_uri": "https://localhost:8080/"
        },
        "id": "mQxYXApKbghM",
        "outputId": "3bdacf1c-c05f-4302-e660-2512f22e0c78"
      },
      "execution_count": 27,
      "outputs": [
        {
          "output_type": "execute_result",
          "data": {
            "text/plain": [
              "[8, 20]"
            ]
          },
          "metadata": {},
          "execution_count": 27
        }
      ]
    },
    {
      "cell_type": "code",
      "source": [
        "for i in list1:\n",
        "  print(i)"
      ],
      "metadata": {
        "colab": {
          "base_uri": "https://localhost:8080/"
        },
        "id": "EnlediIrbhjF",
        "outputId": "0ea80805-de24-4962-9e8d-935bfc9c7d43"
      },
      "execution_count": 30,
      "outputs": [
        {
          "output_type": "stream",
          "name": "stdout",
          "text": [
            "{'length': 4, 'width': 2}\n",
            "{'length': 5, 'width': 4}\n"
          ]
        }
      ]
    },
    {
      "cell_type": "markdown",
      "source": [
        "Using Python map() with Tuples\n",
        "Similarly, we can apply the Python map() function on tuples. Because this looks very similar to applying it to Python lists, let’s take a look at a more interesting example. Imagine we have a tuple that contains some values. We want to return a tuple of tuples that contains the original value and the value squared.\n",
        "\n",
        "Let’s see how we can do this:"
      ],
      "metadata": {
        "id": "Oh9XLhvkbhr2"
      }
    },
    {
      "cell_type": "code",
      "source": [
        "# Using Python map() with Tuples\n",
        "values=(1,4,5,6,7)\n",
        "values2=tuple(map(lambda x:(x,x**2),values))"
      ],
      "metadata": {
        "id": "yvQVyWWccNjh"
      },
      "execution_count": 32,
      "outputs": []
    },
    {
      "cell_type": "code",
      "source": [
        "values2"
      ],
      "metadata": {
        "colab": {
          "base_uri": "https://localhost:8080/"
        },
        "id": "s6XofIMzcNmy",
        "outputId": "bd0596c1-0e82-42e8-c992-5ae71d891281"
      },
      "execution_count": 33,
      "outputs": [
        {
          "output_type": "execute_result",
          "data": {
            "text/plain": [
              "((1, 1), (4, 16), (5, 25), (6, 36), (7, 49))"
            ]
          },
          "metadata": {},
          "execution_count": 33
        }
      ]
    },
    {
      "cell_type": "code",
      "source": [
        "l=[1,2,3,4,56,78]\n",
        "m=[4,56,3,5,8]\n",
        "N=[i for i in l if i in m]\n"
      ],
      "metadata": {
        "id": "Z2AtXNXGcNtx"
      },
      "execution_count": 37,
      "outputs": []
    },
    {
      "cell_type": "code",
      "source": [
        "N"
      ],
      "metadata": {
        "colab": {
          "base_uri": "https://localhost:8080/"
        },
        "id": "DbVHL2tDcNyc",
        "outputId": "b7e9f314-0d53-4658-e462-12725be353e3"
      },
      "execution_count": 38,
      "outputs": [
        {
          "output_type": "execute_result",
          "data": {
            "text/plain": [
              "[3, 4, 56]"
            ]
          },
          "metadata": {},
          "execution_count": 38
        }
      ]
    },
    {
      "cell_type": "code",
      "source": [
        ""
      ],
      "metadata": {
        "id": "DQ4MSo9ucN22"
      },
      "execution_count": null,
      "outputs": []
    },
    {
      "cell_type": "code",
      "source": [
        ""
      ],
      "metadata": {
        "id": "xJ7wtneudX4F"
      },
      "execution_count": null,
      "outputs": []
    },
    {
      "cell_type": "code",
      "source": [
        ""
      ],
      "metadata": {
        "id": "NbkJvCmWdX7N"
      },
      "execution_count": null,
      "outputs": []
    },
    {
      "cell_type": "code",
      "source": [
        ""
      ],
      "metadata": {
        "id": "-x8oziqhdYB3"
      },
      "execution_count": null,
      "outputs": []
    },
    {
      "cell_type": "code",
      "source": [
        ""
      ],
      "metadata": {
        "id": "4MX9zmubcN7I"
      },
      "execution_count": null,
      "outputs": []
    },
    {
      "cell_type": "code",
      "source": [
        ""
      ],
      "metadata": {
        "id": "WnAIzEUGbhwp"
      },
      "execution_count": null,
      "outputs": []
    },
    {
      "cell_type": "code",
      "source": [
        ""
      ],
      "metadata": {
        "id": "vMSr6aSPbh01"
      },
      "execution_count": null,
      "outputs": []
    }
  ]
}