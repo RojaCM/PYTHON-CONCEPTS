{
  "nbformat": 4,
  "nbformat_minor": 0,
  "metadata": {
    "colab": {
      "name": "Untitled216.ipynb",
      "provenance": [],
      "authorship_tag": "ABX9TyOstnM7UlNYX+WQGvi2H1un",
      "include_colab_link": true
    },
    "kernelspec": {
      "name": "python3",
      "display_name": "Python 3"
    },
    "language_info": {
      "name": "python"
    }
  },
  "cells": [
    {
      "cell_type": "markdown",
      "metadata": {
        "id": "view-in-github",
        "colab_type": "text"
      },
      "source": [
        "<a href=\"https://colab.research.google.com/github/RojaCM/PYTHON-CONCEPTS/blob/main/How%20to%20shuffle%20a%20lists%20in%20a%20python.ipynb\" target=\"_parent\"><img src=\"https://colab.research.google.com/assets/colab-badge.svg\" alt=\"Open In Colab\"/></a>"
      ]
    },
    {
      "cell_type": "markdown",
      "source": [
        "#Python: Shuffle a List (Randomize Python List Elements)"
      ],
      "metadata": {
        "id": "pQkWPLjIdOfV"
      }
    },
    {
      "cell_type": "markdown",
      "source": [
        "Python comes built-in with an incredibly helpful library to generate randomness, called random. Throughout this tutorial, you’ll learn how to use the random.shuffle() and random.sample() functions. Before we dive into how to use them, however, let’s quickly explore what the differences are."
      ],
      "metadata": {
        "id": "JIqEYFAieSWy"
      }
    },
    {
      "cell_type": "markdown",
      "source": [
        "Both functions return a list that is randomly sorted, but how they return them is different:\n",
        "\n",
        "random.shuffle() shuffles the original list, meaning the shuffling can be done in-place\n",
        "\n",
        "random.sample() returns a new shuffled list, based on the original list\n",
        "random.sample() can also be used to shuffle strings and tuples, as it creates a new list, thereby allowing you to work on immutable data types.\n",
        "\n",
        "Now, let’s dive into how to shuffle a list in Python!"
      ],
      "metadata": {
        "id": "dVuvbRoXeTKF"
      }
    },
    {
      "cell_type": "markdown",
      "source": [
        "# #Shuffle a Python List and Re-assign It to Itself\n",
        "The random.shuffle() function makes it easy to shuffle a list’s items in Python. Because the function works in-place, we do not need to reassign the list to itself, but it allows us to easily randomize list elements."
      ],
      "metadata": {
        "id": "Phyg9gPNeTNp"
      }
    },
    {
      "cell_type": "code",
      "source": [
        "import random"
      ],
      "metadata": {
        "id": "Bjz0yxEwfSEh"
      },
      "execution_count": 1,
      "outputs": []
    },
    {
      "cell_type": "code",
      "source": [
        "a_list = ['welcome', 'to', 'datagy', 'where', 'you', 'will', 'learn', 'Python', 'and', 'more']"
      ],
      "metadata": {
        "id": "oGmChEFqfcRu"
      },
      "execution_count": 2,
      "outputs": []
    },
    {
      "cell_type": "code",
      "source": [
        "random.shuffle(a_list)\n",
        "print(a_list)"
      ],
      "metadata": {
        "colab": {
          "base_uri": "https://localhost:8080/"
        },
        "id": "VE-QGOQ0ffD9",
        "outputId": "8882521e-f769-473d-9406-399d8bb3925c"
      },
      "execution_count": 5,
      "outputs": [
        {
          "output_type": "stream",
          "name": "stdout",
          "text": [
            "['to', 'datagy', 'where', 'you', 'more', 'learn', 'Python', 'welcome', 'will', 'and']\n"
          ]
        }
      ]
    },
    {
      "cell_type": "code",
      "source": [
        "a_list"
      ],
      "metadata": {
        "colab": {
          "base_uri": "https://localhost:8080/"
        },
        "id": "hFq4-Vb8ffIB",
        "outputId": "8b87c8e2-d594-423b-8145-1a4890fe08a3"
      },
      "execution_count": 6,
      "outputs": [
        {
          "output_type": "execute_result",
          "data": {
            "text/plain": [
              "['to',\n",
              " 'datagy',\n",
              " 'where',\n",
              " 'you',\n",
              " 'more',\n",
              " 'learn',\n",
              " 'Python',\n",
              " 'welcome',\n",
              " 'will',\n",
              " 'and']"
            ]
          },
          "metadata": {},
          "execution_count": 6
        }
      ]
    },
    {
      "cell_type": "code",
      "source": [
        "a_list"
      ],
      "metadata": {
        "colab": {
          "base_uri": "https://localhost:8080/"
        },
        "id": "gWyJ20owffPe",
        "outputId": "bcafa38c-186f-4404-8120-503e6bfd2d17"
      },
      "execution_count": 7,
      "outputs": [
        {
          "output_type": "execute_result",
          "data": {
            "text/plain": [
              "['to',\n",
              " 'datagy',\n",
              " 'where',\n",
              " 'you',\n",
              " 'more',\n",
              " 'learn',\n",
              " 'Python',\n",
              " 'welcome',\n",
              " 'will',\n",
              " 'and']"
            ]
          },
          "metadata": {},
          "execution_count": 7
        }
      ]
    },
    {
      "cell_type": "markdown",
      "source": [
        "#Shuffle a Python List and Assign It to a New List\n",
        "The random.sample() function is used to sample a set number of items from a sequence-like object in Python. The function picks these items randomly.\n",
        "\n",
        "Let’s take a quick look at what the function looks like:\n",
        "\n",
        "random.sample(iterable, k)\n",
        "\n",
        "In this case, the iterable will be the list we want to shuffle, and k refers to the number of items we want to select. Because we want to return the full list in a random order, we will pass in the length of the list into the k parameter."
      ],
      "metadata": {
        "id": "hUSUY2TyffU0"
      }
    },
    {
      "cell_type": "code",
      "source": [
        "shuffled=random.sample(a_list,8)"
      ],
      "metadata": {
        "id": "hczIVYJtfua0"
      },
      "execution_count": 15,
      "outputs": []
    },
    {
      "cell_type": "code",
      "source": [
        "shuffled"
      ],
      "metadata": {
        "colab": {
          "base_uri": "https://localhost:8080/"
        },
        "id": "rogExTs_fufG",
        "outputId": "ccb4d491-9a1e-46d0-acb3-0578e87b8740"
      },
      "execution_count": 16,
      "outputs": [
        {
          "output_type": "execute_result",
          "data": {
            "text/plain": [
              "['you', 'more', 'learn', 'datagy', 'Python', 'to', 'and', 'where']"
            ]
          },
          "metadata": {},
          "execution_count": 16
        }
      ]
    },
    {
      "cell_type": "code",
      "source": [
        "len(a_list)"
      ],
      "metadata": {
        "colab": {
          "base_uri": "https://localhost:8080/"
        },
        "id": "eEqgHYzhg20f",
        "outputId": "643b3b9c-c9eb-4902-b71e-566841d8ae42"
      },
      "execution_count": 17,
      "outputs": [
        {
          "output_type": "execute_result",
          "data": {
            "text/plain": [
              "10"
            ]
          },
          "metadata": {},
          "execution_count": 17
        }
      ]
    },
    {
      "cell_type": "code",
      "source": [
        "# Reproducing a randomly shuffled list in Python\n",
        "import random\n",
        "a_list = ['welcome', 'to', 'datagy', 'where', 'you', 'will', 'learn', 'Python', 'and', 'more']\n",
        "\n",
        "random.seed(3)"
      ],
      "metadata": {
        "id": "3oZcO83ag4XP"
      },
      "execution_count": 18,
      "outputs": []
    },
    {
      "cell_type": "code",
      "source": [
        "\n",
        "\n",
        "\n",
        "for i in range(5):\n",
        "  random.shuffle(a_list)\n",
        "  print(a_list)"
      ],
      "metadata": {
        "colab": {
          "base_uri": "https://localhost:8080/"
        },
        "id": "BXupIQqoh2G7",
        "outputId": "682d5af1-9b66-4634-d558-706317e43d93"
      },
      "execution_count": 30,
      "outputs": [
        {
          "output_type": "stream",
          "name": "stdout",
          "text": [
            "['welcome', 'where', 'more', 'Python', 'you', 'and', 'will', 'to', 'learn', 'datagy']\n",
            "['you', 'datagy', 'will', 'and', 'to', 'Python', 'learn', 'where', 'more', 'welcome']\n",
            "['to', 'learn', 'where', 'will', 'more', 'datagy', 'Python', 'you', 'and', 'welcome']\n",
            "['datagy', 'you', 'to', 'and', 'will', 'Python', 'more', 'welcome', 'learn', 'where']\n",
            "['Python', 'welcome', 'where', 'will', 'to', 'more', 'you', 'learn', 'and', 'datagy']\n"
          ]
        }
      ]
    },
    {
      "cell_type": "code",
      "source": [
        "random.seed(10)\n",
        "a=random.random()"
      ],
      "metadata": {
        "id": "agxYMPJvh4rJ"
      },
      "execution_count": 33,
      "outputs": []
    },
    {
      "cell_type": "code",
      "source": [
        "a"
      ],
      "metadata": {
        "colab": {
          "base_uri": "https://localhost:8080/"
        },
        "id": "Y0jr3_CLiCDt",
        "outputId": "720f4c2d-79ca-4e8a-c51b-50e3dfe6953f"
      },
      "execution_count": 34,
      "outputs": [
        {
          "output_type": "execute_result",
          "data": {
            "text/plain": [
              "0.5714025946899135"
            ]
          },
          "metadata": {},
          "execution_count": 34
        }
      ]
    },
    {
      "cell_type": "markdown",
      "source": [
        "#Shuffle a Python List of Lists\n",
        "In Python, you’ll often encounter multi-dimensional lists, often referred to as lists of lists. We can easily do this using a for loop. By looping over each list in the list of lists, we can then easily apply the random.shuffle() function to randomize each sublist’s elements."
      ],
      "metadata": {
        "id": "UaVR6IGNi3tJ"
      }
    },
    {
      "cell_type": "code",
      "source": [
        "# Shuffling a list of lists in Python\n",
        "import random\n",
        "a_list = [['apple', 'orange', 'grape'], ['banana', 'melon', 'tangerine'], ['lime', 'lemon', 'strawberry']]\n",
        "\n",
        "for sub_list in a_list:\n",
        "  random.shuffle(sub_list)\n",
        "  print(sub_list)\n"
      ],
      "metadata": {
        "colab": {
          "base_uri": "https://localhost:8080/"
        },
        "id": "UGoLAH7yi3vt",
        "outputId": "a4593e5e-248d-46a4-e1ab-acfa331a0085"
      },
      "execution_count": 39,
      "outputs": [
        {
          "output_type": "stream",
          "name": "stdout",
          "text": [
            "['grape', 'apple', 'orange']\n",
            "['banana', 'melon', 'tangerine']\n",
            "['lime', 'lemon', 'strawberry']\n"
          ]
        }
      ]
    },
    {
      "cell_type": "markdown",
      "source": [
        "#Shuffle Multiple Lists with the Same Order of Shuffling\n",
        "Let’s say you have two lists: one that contains the type of fruit and the other the number of that type of fruit you have. You want to shuffle the lists but you want the referential integrity to remain true (meaning that index 0 of both lists would be shuffled to the same index in the shuffled result).\n",
        "\n",
        "In order to accomplish this, we’ll:\n",
        "\n",
        "Merge the two lists in a list of lists using the zip() function\n",
        "Shuffle the list of lists internally\n",
        "Unpack the list of lists into individual lists#"
      ],
      "metadata": {
        "id": "_8EpBxtHi3yh"
      }
    },
    {
      "cell_type": "code",
      "source": [
        "# Shuffling two lists in the same order\n",
        "import random\n",
        "fruits = ['apples', 'grapes', 'oranges', 'bananas']\n",
        "quantities = [50, 40, 60, 70]"
      ],
      "metadata": {
        "id": "2iA2FnIFkOjF"
      },
      "execution_count": 41,
      "outputs": []
    },
    {
      "cell_type": "code",
      "source": [
        "merged=list(zip(fruits,quantities))"
      ],
      "metadata": {
        "id": "w2JtDLcOm-mS"
      },
      "execution_count": 42,
      "outputs": []
    },
    {
      "cell_type": "code",
      "source": [
        "merged"
      ],
      "metadata": {
        "colab": {
          "base_uri": "https://localhost:8080/"
        },
        "id": "oXH-SWCKm-r6",
        "outputId": "3458c399-324c-4580-c58d-363cb94529ca"
      },
      "execution_count": 43,
      "outputs": [
        {
          "output_type": "execute_result",
          "data": {
            "text/plain": [
              "[('apples', 50), ('grapes', 40), ('oranges', 60), ('bananas', 70)]"
            ]
          },
          "metadata": {},
          "execution_count": 43
        }
      ]
    },
    {
      "cell_type": "code",
      "source": [
        "random.shuffle(merged)"
      ],
      "metadata": {
        "id": "iFwxns4Zm-yt"
      },
      "execution_count": 44,
      "outputs": []
    },
    {
      "cell_type": "code",
      "source": [
        "merged"
      ],
      "metadata": {
        "colab": {
          "base_uri": "https://localhost:8080/"
        },
        "id": "y3PmTV3pnZz3",
        "outputId": "921c35e3-2031-4663-cb92-b44c3ca3cd0e"
      },
      "execution_count": 45,
      "outputs": [
        {
          "output_type": "execute_result",
          "data": {
            "text/plain": [
              "[('oranges', 60), ('apples', 50), ('bananas', 70), ('grapes', 40)]"
            ]
          },
          "metadata": {},
          "execution_count": 45
        }
      ]
    },
    {
      "cell_type": "code",
      "source": [
        "fruits=[i[0] for i in merged]\n",
        "quantities=[i[1] for i in merged]"
      ],
      "metadata": {
        "id": "OskXcoXUndzU"
      },
      "execution_count": 47,
      "outputs": []
    },
    {
      "cell_type": "code",
      "source": [
        "fruits"
      ],
      "metadata": {
        "colab": {
          "base_uri": "https://localhost:8080/"
        },
        "id": "ppAGhtjFnd4B",
        "outputId": "95fa8686-84d7-48a6-a486-80e3c944e30d"
      },
      "execution_count": 48,
      "outputs": [
        {
          "output_type": "execute_result",
          "data": {
            "text/plain": [
              "['oranges', 'apples', 'bananas', 'grapes']"
            ]
          },
          "metadata": {},
          "execution_count": 48
        }
      ]
    },
    {
      "cell_type": "code",
      "source": [
        "quantities"
      ],
      "metadata": {
        "colab": {
          "base_uri": "https://localhost:8080/"
        },
        "id": "RX_oxTeLnd95",
        "outputId": "99ed1d84-5490-49d8-dee3-bd4a83bf0b3f"
      },
      "execution_count": 49,
      "outputs": [
        {
          "output_type": "execute_result",
          "data": {
            "text/plain": [
              "[60, 50, 70, 40]"
            ]
          },
          "metadata": {},
          "execution_count": 49
        }
      ]
    },
    {
      "cell_type": "code",
      "source": [
        ""
      ],
      "metadata": {
        "id": "f9Y7dtxPnZ5F"
      },
      "execution_count": null,
      "outputs": []
    },
    {
      "cell_type": "code",
      "source": [
        ""
      ],
      "metadata": {
        "id": "g-_hfkOBn-JW"
      },
      "execution_count": null,
      "outputs": []
    },
    {
      "cell_type": "code",
      "source": [
        ""
      ],
      "metadata": {
        "id": "2eVs8kOvn-Ot"
      },
      "execution_count": null,
      "outputs": []
    },
    {
      "cell_type": "code",
      "source": [
        ""
      ],
      "metadata": {
        "id": "VI3EXeyKn-Td"
      },
      "execution_count": null,
      "outputs": []
    },
    {
      "cell_type": "code",
      "source": [
        ""
      ],
      "metadata": {
        "id": "RhbI_6Z6i31v"
      },
      "execution_count": null,
      "outputs": []
    }
  ]
}