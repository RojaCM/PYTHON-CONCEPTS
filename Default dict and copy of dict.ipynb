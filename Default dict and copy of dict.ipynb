{
  "nbformat": 4,
  "nbformat_minor": 0,
  "metadata": {
    "colab": {
      "provenance": [],
      "authorship_tag": "ABX9TyMhLuHdhMcgikQ6yIB+5tlt",
      "include_colab_link": true
    },
    "kernelspec": {
      "name": "python3",
      "display_name": "Python 3"
    },
    "language_info": {
      "name": "python"
    }
  },
  "cells": [
    {
      "cell_type": "markdown",
      "metadata": {
        "id": "view-in-github",
        "colab_type": "text"
      },
      "source": [
        "<a href=\"https://colab.research.google.com/github/RojaCM/PYTHON-CONCEPTS/blob/main/Default%20dict%20and%20copy%20of%20dict.ipynb\" target=\"_parent\"><img src=\"https://colab.research.google.com/assets/colab-badge.svg\" alt=\"Open In Colab\"/></a>"
      ]
    },
    {
      "cell_type": "markdown",
      "source": [
        "#How to Copy a Python Dictionary Using the = Operator\n",
        "When we attempt to copy a dictionary using the = operator, it may seem like we are creating a copy of the dictionary. However, we are really only creating an association to the original dictionary. In fact, we’re only assigning the same dictionary to a second variable."
      ],
      "metadata": {
        "id": "LgHOW4ZSwOF2"
      }
    },
    {
      "cell_type": "code",
      "source": [
        "# Assigning a Dictionary Using the = Operator\n",
        "original = {'a': 1, 'b': 2, 'c': [1,2,3]}"
      ],
      "metadata": {
        "id": "vkmx3J9Vy8eA"
      },
      "execution_count": 1,
      "outputs": []
    },
    {
      "cell_type": "code",
      "source": [
        "copied = original"
      ],
      "metadata": {
        "id": "tMrazujczCGE"
      },
      "execution_count": 2,
      "outputs": []
    },
    {
      "cell_type": "code",
      "source": [
        "id(copied)"
      ],
      "metadata": {
        "colab": {
          "base_uri": "https://localhost:8080/"
        },
        "id": "991oi8iLzCRW",
        "outputId": "5320187c-8366-4084-9a92-3c0f9dfa7bd6"
      },
      "execution_count": 3,
      "outputs": [
        {
          "output_type": "execute_result",
          "data": {
            "text/plain": [
              "140436011132640"
            ]
          },
          "metadata": {},
          "execution_count": 3
        }
      ]
    },
    {
      "cell_type": "code",
      "source": [
        "id(original)"
      ],
      "metadata": {
        "colab": {
          "base_uri": "https://localhost:8080/"
        },
        "id": "5alwlFx-zDrW",
        "outputId": "150fee1e-6b9e-478e-9b7b-b4a82da0167f"
      },
      "execution_count": 4,
      "outputs": [
        {
          "output_type": "execute_result",
          "data": {
            "text/plain": [
              "140436011132640"
            ]
          },
          "metadata": {},
          "execution_count": 4
        }
      ]
    },
    {
      "cell_type": "markdown",
      "source": [
        "#How to Copy a Python Dictionary Using copy\n",
        "The simplest way to create a copy of a Python dictionary is to use the .copy() method. This method returns a shallow copy of the dictionary. Let’s break down what a shallow copy means:"
      ],
      "metadata": {
        "id": "W9SkH7PhzDwk"
      }
    },
    {
      "cell_type": "markdown",
      "source": [
        "#In a shallow copy, as little as possible is duplicated.\n",
        "#This means that items are created as references to the original items.\n",
        "#When primitive data types (such as integers and strings) are modified, the reference to the original dictionary are broken.\n",
        "#When non-primitive data types are modified, the values are modified in both locations."
      ],
      "metadata": {
        "id": "62R-ikxN1z4E"
      }
    },
    {
      "cell_type": "code",
      "source": [
        "# Copying a Dictionary using .copy()\n",
        "original = {'a': 1, 'b': 2, 'c': [1, 2, 3]}"
      ],
      "metadata": {
        "id": "lyi_u68p17kb"
      },
      "execution_count": 5,
      "outputs": []
    },
    {
      "cell_type": "code",
      "source": [
        "copied_dict=original.copy()"
      ],
      "metadata": {
        "id": "OwzYECjb17tc"
      },
      "execution_count": 6,
      "outputs": []
    },
    {
      "cell_type": "code",
      "source": [
        "copied_dict"
      ],
      "metadata": {
        "colab": {
          "base_uri": "https://localhost:8080/"
        },
        "id": "deGyHxKo17zm",
        "outputId": "b6caf5d1-8d3d-4e56-c918-df2ac245c297"
      },
      "execution_count": 7,
      "outputs": [
        {
          "output_type": "execute_result",
          "data": {
            "text/plain": [
              "{'a': 1, 'b': 2, 'c': [1, 2, 3]}"
            ]
          },
          "metadata": {},
          "execution_count": 7
        }
      ]
    },
    {
      "cell_type": "markdown",
      "source": [
        "#We can see that the dictionary was successfully copied. Let’s see what happens when we modify an item in the copied dictionary. Let’s modify the value of key b in our copied dictionary:\n"
      ],
      "metadata": {
        "id": "CPie2wDe174l"
      }
    },
    {
      "cell_type": "code",
      "source": [
        "original"
      ],
      "metadata": {
        "colab": {
          "base_uri": "https://localhost:8080/"
        },
        "id": "rfZ1J0p62JX5",
        "outputId": "0302a215-80b0-4c3e-f246-ba84745f2d54"
      },
      "execution_count": 8,
      "outputs": [
        {
          "output_type": "execute_result",
          "data": {
            "text/plain": [
              "{'a': 1, 'b': 2, 'c': [1, 2, 3]}"
            ]
          },
          "metadata": {},
          "execution_count": 8
        }
      ]
    },
    {
      "cell_type": "code",
      "source": [
        "copied_dict['b']=724"
      ],
      "metadata": {
        "id": "amxuv97I2JdY"
      },
      "execution_count": 10,
      "outputs": []
    },
    {
      "cell_type": "code",
      "source": [
        "copied_dict"
      ],
      "metadata": {
        "colab": {
          "base_uri": "https://localhost:8080/"
        },
        "id": "XepCSUsG2YVF",
        "outputId": "3f798111-c9a9-46bc-ca31-bd8ed2d554a9"
      },
      "execution_count": 11,
      "outputs": [
        {
          "output_type": "execute_result",
          "data": {
            "text/plain": [
              "{'a': 1, 'b': 724, 'c': [1, 2, 3]}"
            ]
          },
          "metadata": {},
          "execution_count": 11
        }
      ]
    },
    {
      "cell_type": "code",
      "source": [
        "original"
      ],
      "metadata": {
        "colab": {
          "base_uri": "https://localhost:8080/"
        },
        "id": "9nSW798P2YaL",
        "outputId": "257e5f60-614e-412c-8c27-e2454de2d96e"
      },
      "execution_count": 12,
      "outputs": [
        {
          "output_type": "execute_result",
          "data": {
            "text/plain": [
              "{'a': 1, 'b': 2, 'c': [1, 2, 3]}"
            ]
          },
          "metadata": {},
          "execution_count": 12
        }
      ]
    },
    {
      "cell_type": "markdown",
      "source": [
        "We can see that using the .copy() method, we were able to modify the value in the new dictionary and have the old value remain the same"
      ],
      "metadata": {
        "id": "iwEbz9fv2elk"
      }
    },
    {
      "cell_type": "markdown",
      "source": [
        "Let’s see what happens when we modify the list value in our copied dictionary:"
      ],
      "metadata": {
        "id": "RvAiQJmS20TJ"
      }
    },
    {
      "cell_type": "code",
      "source": [
        "# Modifying a non-primitive data type in a copied dictionary\n",
        "original = {'a': 1, 'b': 2, 'c': [1,2,3]}"
      ],
      "metadata": {
        "id": "vCsyb_np34gd"
      },
      "execution_count": 13,
      "outputs": []
    },
    {
      "cell_type": "code",
      "source": [
        "copied_dict1=original.copy()"
      ],
      "metadata": {
        "id": "j8uXYiAR398w"
      },
      "execution_count": 14,
      "outputs": []
    },
    {
      "cell_type": "code",
      "source": [
        "copied_dict1['c']=[1,7,5]"
      ],
      "metadata": {
        "id": "9uzoHAUm3-B9"
      },
      "execution_count": 15,
      "outputs": []
    },
    {
      "cell_type": "code",
      "source": [
        "copied_dict1"
      ],
      "metadata": {
        "colab": {
          "base_uri": "https://localhost:8080/"
        },
        "id": "_hIjdVxF4Bp5",
        "outputId": "03cd5fdf-384e-46fc-9ee6-ecb839c49923"
      },
      "execution_count": 16,
      "outputs": [
        {
          "output_type": "execute_result",
          "data": {
            "text/plain": [
              "{'a': 1, 'b': 2, 'c': [1, 7, 5]}"
            ]
          },
          "metadata": {},
          "execution_count": 16
        }
      ]
    },
    {
      "cell_type": "code",
      "source": [
        "original"
      ],
      "metadata": {
        "colab": {
          "base_uri": "https://localhost:8080/"
        },
        "id": "wW2lYbt54ByI",
        "outputId": "f973405e-408c-4dd8-ddd8-5ed6a818a451"
      },
      "execution_count": 17,
      "outputs": [
        {
          "output_type": "execute_result",
          "data": {
            "text/plain": [
              "{'a': 1, 'b': 2, 'c': [1, 2, 3]}"
            ]
          },
          "metadata": {},
          "execution_count": 17
        }
      ]
    },
    {
      "cell_type": "markdown",
      "source": [
        "#How to Deep Copy a Python Dictionary\n",
        "If we want to create a duplicate of a dictionary that breaks all links to the original, we can create a deep copy of the dictionary. In order to do this, we first need to import the copy module, which comes with a function deepcopy().\n",
        "\n",
        "Let’s see how we can use this function to create a deep duplicate of the dictionary:"
      ],
      "metadata": {
        "id": "K__r8Duv4IFy"
      }
    },
    {
      "cell_type": "code",
      "source": [
        "# Creating a Deep Copy of a Dictionary in Python\n",
        "from copy import deepcopy\n",
        "original1 = {'a': [1,2,3], 'b': 2, 'c': [1, 2, 3]}"
      ],
      "metadata": {
        "id": "bcbGeqod4KaD"
      },
      "execution_count": 18,
      "outputs": []
    },
    {
      "cell_type": "code",
      "source": [
        "copied2=deepcopy(original1)"
      ],
      "metadata": {
        "id": "eihGl9ko4KfV"
      },
      "execution_count": 20,
      "outputs": []
    },
    {
      "cell_type": "code",
      "source": [
        "# Modifying a Non-Primitive Data Type in a Deep Copy\n",
        "copied2['c'].append(4)"
      ],
      "metadata": {
        "id": "UKeM3gtB5xgP"
      },
      "execution_count": 22,
      "outputs": []
    },
    {
      "cell_type": "code",
      "source": [
        "copied2"
      ],
      "metadata": {
        "colab": {
          "base_uri": "https://localhost:8080/"
        },
        "id": "y30_cx9o51zG",
        "outputId": "326dc785-e10f-4f19-e2bf-9e8b9dd1c4e1"
      },
      "execution_count": 23,
      "outputs": [
        {
          "output_type": "execute_result",
          "data": {
            "text/plain": [
              "{'a': [1, 2, 3], 'b': 2, 'c': [1, 2, 3, 4]}"
            ]
          },
          "metadata": {},
          "execution_count": 23
        }
      ]
    },
    {
      "cell_type": "code",
      "source": [
        "original1"
      ],
      "metadata": {
        "colab": {
          "base_uri": "https://localhost:8080/"
        },
        "id": "gT-gllX_514B",
        "outputId": "3f53dd73-9929-45d2-fc60-31768f497e27"
      },
      "execution_count": 24,
      "outputs": [
        {
          "output_type": "execute_result",
          "data": {
            "text/plain": [
              "{'a': [1, 2, 3], 'b': 2, 'c': [1, 2, 3]}"
            ]
          },
          "metadata": {},
          "execution_count": 24
        }
      ]
    },
    {
      "cell_type": "markdown",
      "source": [
        "#Python Defaultdict: Overview and Examples"
      ],
      "metadata": {
        "id": "Mt_2-7JP6Kmb"
      }
    },
    {
      "cell_type": "markdown",
      "source": [
        "In this tutorial, you’ll learn about the Python defaultdict objects, which is part of the collections library. The object overrides the default dictionary behavior of throwing a KeyError when you try to access a key that doesn’t exist."
      ],
      "metadata": {
        "id": "aXT-4rgp6KvX"
      }
    },
    {
      "cell_type": "markdown",
      "source": [
        "#How Do Python Dictionaries Handle Missing Keys?\n",
        "Python dictionaries are important data structures that store data in key:value pairs. Dictionaries are referred to as associative arrays because each key is associated with a value. When we try to access a key’s value in a Python dictionary, we can access its value directly using square brackets around its key."
      ],
      "metadata": {
        "id": "ntuUCb3B8-0e"
      }
    },
    {
      "cell_type": "code",
      "source": [
        "# Accessing a Key's Value from a Python Dictionary\n",
        "data = {'Name': 'Nik', 'Location': 'Toronto', 'Age': 33}"
      ],
      "metadata": {
        "id": "XHPz6LXl8-8K"
      },
      "execution_count": 25,
      "outputs": []
    },
    {
      "cell_type": "code",
      "source": [
        "data['Name']"
      ],
      "metadata": {
        "colab": {
          "base_uri": "https://localhost:8080/",
          "height": 36
        },
        "id": "VByXwaEM9SxS",
        "outputId": "29a10cd1-2340-4ec0-bf64-d7d505ce66a1"
      },
      "execution_count": 27,
      "outputs": [
        {
          "output_type": "execute_result",
          "data": {
            "text/plain": [
              "'Nik'"
            ],
            "application/vnd.google.colaboratory.intrinsic+json": {
              "type": "string"
            }
          },
          "metadata": {},
          "execution_count": 27
        }
      ]
    },
    {
      "cell_type": "code",
      "source": [
        "# Accessing a Missing Key's Value from a Python Dictionary\n",
        "data['age']"
      ],
      "metadata": {
        "colab": {
          "base_uri": "https://localhost:8080/",
          "height": 182
        },
        "id": "_6O9vOpS9Trd",
        "outputId": "f92a62e1-4dad-48bb-e1c9-1ea4ec41443a"
      },
      "execution_count": 28,
      "outputs": [
        {
          "output_type": "error",
          "ename": "KeyError",
          "evalue": "ignored",
          "traceback": [
            "\u001b[0;31m---------------------------------------------------------------------------\u001b[0m",
            "\u001b[0;31mKeyError\u001b[0m                                  Traceback (most recent call last)",
            "\u001b[0;32m<ipython-input-28-b2c631314422>\u001b[0m in \u001b[0;36m<module>\u001b[0;34m\u001b[0m\n\u001b[1;32m      1\u001b[0m \u001b[0;31m# Accessing a Missing Key's Value from a Python Dictionary\u001b[0m\u001b[0;34m\u001b[0m\u001b[0;34m\u001b[0m\u001b[0;34m\u001b[0m\u001b[0m\n\u001b[0;32m----> 2\u001b[0;31m \u001b[0mdata\u001b[0m\u001b[0;34m[\u001b[0m\u001b[0;34m'age'\u001b[0m\u001b[0;34m]\u001b[0m\u001b[0;34m\u001b[0m\u001b[0;34m\u001b[0m\u001b[0m\n\u001b[0m",
            "\u001b[0;31mKeyError\u001b[0m: 'age'"
          ]
        }
      ]
    },
    {
      "cell_type": "markdown",
      "source": [
        "#Using .get() to Handle Missing Dictionary Keys\n",
        "We can use the dictionary .get() method to prevent a KeyError from being raised when a dictionary key doesn’t exist. If we try to access a key’s value that doesn’t exist using the .get() method, the method simply returns the None value"
      ],
      "metadata": {
        "id": "sDtKoGuP9VXi"
      }
    },
    {
      "cell_type": "code",
      "source": [
        "# Using .get() to Prevent a KeyError\n",
        "data"
      ],
      "metadata": {
        "colab": {
          "base_uri": "https://localhost:8080/"
        },
        "id": "JsXgG5bz-PED",
        "outputId": "ff8328ba-5962-427a-cf4f-4ebc2cefc7e6"
      },
      "execution_count": 29,
      "outputs": [
        {
          "output_type": "execute_result",
          "data": {
            "text/plain": [
              "{'Name': 'Nik', 'Location': 'Toronto', 'Age': 33}"
            ]
          },
          "metadata": {},
          "execution_count": 29
        }
      ]
    },
    {
      "cell_type": "code",
      "source": [
        "a=data.get('age')"
      ],
      "metadata": {
        "id": "vUv7SSSt-PJD"
      },
      "execution_count": 31,
      "outputs": []
    },
    {
      "cell_type": "code",
      "source": [
        "print(a)"
      ],
      "metadata": {
        "colab": {
          "base_uri": "https://localhost:8080/"
        },
        "id": "9qSy3MBf-PS8",
        "outputId": "335cdd57-5625-46b5-8cf5-abf6f5c4e1bf"
      },
      "execution_count": 33,
      "outputs": [
        {
          "output_type": "stream",
          "name": "stdout",
          "text": [
            "None\n"
          ]
        }
      ]
    },
    {
      "cell_type": "markdown",
      "source": [
        "#Using try-except to Handle Missing Dictionary Keys\n",
        "Similar to the example above, we can wrap accessing our dictionary values in a try-except block. This allows us to directly handle the KeyError that is raised when a key doesn’t exist."
      ],
      "metadata": {
        "id": "QtvhqQ1g-U89"
      }
    },
    {
      "cell_type": "code",
      "source": [
        "#Using try-except to Handle Missing Keys\n",
        "data = {'Name': 'Nik', 'Location': 'Toronto', 'Age': 33}"
      ],
      "metadata": {
        "id": "dbVSWnK_-0kB"
      },
      "execution_count": 34,
      "outputs": []
    },
    {
      "cell_type": "code",
      "source": [
        "try:\n",
        "  data['age']\n",
        "except KeyError:\n",
        "  print('age key is not present')"
      ],
      "metadata": {
        "colab": {
          "base_uri": "https://localhost:8080/"
        },
        "id": "nXgwsZvn-0pw",
        "outputId": "06897190-b0dd-4f5b-d505-2faab2c387ed"
      },
      "execution_count": 36,
      "outputs": [
        {
          "output_type": "stream",
          "name": "stdout",
          "text": [
            "age key is not present\n"
          ]
        }
      ]
    },
    {
      "cell_type": "markdown",
      "source": [
        "#Using .defaultvalue() to Handle Missing Dictionary Keys\n",
        "Python dictionaries also provide a method, .defaultvalue(), which allows us to set, well, a default value for a key. This method sets the default value when a key doesn’t exist and returns that value."
      ],
      "metadata": {
        "id": "n6YE8g9j-0wV"
      }
    },
    {
      "cell_type": "code",
      "source": [
        "# Using .setdefault() to Set a Default Value for a Missing Key\n",
        "data = {'Name': 'Nik', 'Location': 'Toronto', 'Age': 33}"
      ],
      "metadata": {
        "id": "vHX0aaUT_oHa"
      },
      "execution_count": 37,
      "outputs": []
    },
    {
      "cell_type": "code",
      "source": [
        "data.setdefault('Hobbies','playing')"
      ],
      "metadata": {
        "colab": {
          "base_uri": "https://localhost:8080/",
          "height": 36
        },
        "id": "-cM8CcDnBrRY",
        "outputId": "a8db01f4-b863-4b8e-f88b-8838c2013694"
      },
      "execution_count": 38,
      "outputs": [
        {
          "output_type": "execute_result",
          "data": {
            "text/plain": [
              "'playing'"
            ],
            "application/vnd.google.colaboratory.intrinsic+json": {
              "type": "string"
            }
          },
          "metadata": {},
          "execution_count": 38
        }
      ]
    },
    {
      "cell_type": "code",
      "source": [
        "data['Hobbies']"
      ],
      "metadata": {
        "colab": {
          "base_uri": "https://localhost:8080/",
          "height": 36
        },
        "id": "a_lexH9sBrYX",
        "outputId": "15445713-49be-437d-ba3b-9ca43b7cb4fc"
      },
      "execution_count": 40,
      "outputs": [
        {
          "output_type": "execute_result",
          "data": {
            "text/plain": [
              "'playing'"
            ],
            "application/vnd.google.colaboratory.intrinsic+json": {
              "type": "string"
            }
          },
          "metadata": {},
          "execution_count": 40
        }
      ]
    },
    {
      "cell_type": "markdown",
      "source": [
        "# the defaultdict comes in. It provides a clean, safe way of providing default values for any missing key without needing to create it first."
      ],
      "metadata": {
        "id": "46yWXs8PBrd6"
      }
    },
    {
      "cell_type": "markdown",
      "source": [
        "#Python defaultdict\n",
        "The Python defaultdict is a class belonging to the collections library, which is part of the standard Python library. "
      ],
      "metadata": {
        "id": "lPy-A-8uCq5N"
      }
    },
    {
      "cell_type": "code",
      "source": [
        "from collections import defaultdict"
      ],
      "metadata": {
        "id": "d5-WVUEYCtpu"
      },
      "execution_count": 1,
      "outputs": []
    },
    {
      "cell_type": "markdown",
      "source": [
        "The defaultdict class is a subclass of the Python dict class. This means it shares many of the same attributes of the dictionary class, but also modifies and extends some of its functionality.\n",
        "\n",
        "The main changes to the dictionary class are:\n",
        "\n",
        "defaultdict overrides the __missing__(), meaning that no KeyError is raised when a key doesn’t exist\n",
        "It adds a required instantiation variable, .default_factory, which must be provided\n",
        "What does this mean for you? In short, the defaultdict provides ways of providing default values for dictionaries, when a key doesn’t exist. The .default_factory callable can take any valid callable (such as list, int, etc.) or None and will use that as the default type to create when no key exists."
      ],
      "metadata": {
        "id": "MSuyhTaiCtzw"
      }
    },
    {
      "cell_type": "code",
      "source": [
        "# Creating our first defaultdict\n",
        "default=defaultdict()"
      ],
      "metadata": {
        "id": "-0nrEQiYCt5e"
      },
      "execution_count": 4,
      "outputs": []
    },
    {
      "cell_type": "code",
      "source": [
        "default['Name']='Roja'"
      ],
      "metadata": {
        "id": "ivmyyW1PCt_J"
      },
      "execution_count": 5,
      "outputs": []
    },
    {
      "cell_type": "code",
      "source": [
        "default"
      ],
      "metadata": {
        "colab": {
          "base_uri": "https://localhost:8080/"
        },
        "id": "L_wZpbv6CuEZ",
        "outputId": "c0f0973a-fd57-423d-d6fe-32e80ebb8355"
      },
      "execution_count": 6,
      "outputs": [
        {
          "output_type": "execute_result",
          "data": {
            "text/plain": [
              "defaultdict(None, {'Name': 'Roja'})"
            ]
          },
          "metadata": {},
          "execution_count": 6
        }
      ]
    },
    {
      "cell_type": "code",
      "source": [
        "# Creating our first defaultdict\n",
        "default1=defaultdict(int)"
      ],
      "metadata": {
        "id": "i16G1m2XCuJ_"
      },
      "execution_count": 7,
      "outputs": []
    },
    {
      "cell_type": "code",
      "source": [
        "default1['age']='Roja'"
      ],
      "metadata": {
        "id": "9hN1lNqNuTZE"
      },
      "execution_count": 8,
      "outputs": []
    },
    {
      "cell_type": "code",
      "source": [
        "default1"
      ],
      "metadata": {
        "colab": {
          "base_uri": "https://localhost:8080/"
        },
        "id": "0kx395_CuTfn",
        "outputId": "26475716-3525-41d8-cded-87a620f2ddf2"
      },
      "execution_count": 9,
      "outputs": [
        {
          "output_type": "execute_result",
          "data": {
            "text/plain": [
              "defaultdict(int, {'age': 'Roja'})"
            ]
          },
          "metadata": {},
          "execution_count": 9
        }
      ]
    },
    {
      "cell_type": "code",
      "source": [
        "default1['Name']"
      ],
      "metadata": {
        "colab": {
          "base_uri": "https://localhost:8080/"
        },
        "id": "y6QqaGB9uTmL",
        "outputId": "80f95bf3-26e1-4e21-8158-52fae54ba208"
      },
      "execution_count": 10,
      "outputs": [
        {
          "output_type": "execute_result",
          "data": {
            "text/plain": [
              "0"
            ]
          },
          "metadata": {},
          "execution_count": 10
        }
      ]
    },
    {
      "cell_type": "code",
      "source": [
        "default['age']"
      ],
      "metadata": {
        "colab": {
          "base_uri": "https://localhost:8080/",
          "height": 165
        },
        "id": "X3YysxTEvDQN",
        "outputId": "5dd845d9-79ea-4c20-b758-89a64e062f68"
      },
      "execution_count": 11,
      "outputs": [
        {
          "output_type": "error",
          "ename": "KeyError",
          "evalue": "ignored",
          "traceback": [
            "\u001b[0;31m---------------------------------------------------------------------------\u001b[0m",
            "\u001b[0;31mKeyError\u001b[0m                                  Traceback (most recent call last)",
            "\u001b[0;32m<ipython-input-11-878c21605b01>\u001b[0m in \u001b[0;36m<module>\u001b[0;34m\u001b[0m\n\u001b[0;32m----> 1\u001b[0;31m \u001b[0mdefault\u001b[0m\u001b[0;34m[\u001b[0m\u001b[0;34m'age'\u001b[0m\u001b[0;34m]\u001b[0m\u001b[0;34m\u001b[0m\u001b[0;34m\u001b[0m\u001b[0m\n\u001b[0m",
            "\u001b[0;31mKeyError\u001b[0m: 'age'"
          ]
        }
      ]
    },
    {
      "cell_type": "markdown",
      "source": [
        "#Count Items in a List Using Python defaultdict\n",
        "One of the creative uses for the defaultdict object is the ability to effectively count items in an iterable and return the counts in a dictionary. Before we dive into how to implement this with the defaultdict object, let’s take a look at how we can implement this with a regular dictionary."
      ],
      "metadata": {
        "id": "2rQQbaLevPvo"
      }
    },
    {
      "cell_type": "code",
      "source": [
        "# Counting Items in a List\n",
        "names = ['Nik', 'Kate', 'Evan', 'Kyra', 'John', 'Nik', 'Kate', 'Nik']"
      ],
      "metadata": {
        "id": "IbUEPN60xYW4"
      },
      "execution_count": 12,
      "outputs": []
    },
    {
      "cell_type": "code",
      "source": [
        "count1={}\n",
        "for i in names:\n",
        "  if i in count1:\n",
        "    count1[i]+=1\n",
        "  else:\n",
        "    count1[i] =1"
      ],
      "metadata": {
        "id": "neb9hmwmxYca"
      },
      "execution_count": 22,
      "outputs": []
    },
    {
      "cell_type": "code",
      "source": [
        "count1"
      ],
      "metadata": {
        "colab": {
          "base_uri": "https://localhost:8080/"
        },
        "id": "24RmtJ_GxYka",
        "outputId": "fef05dd1-abe8-49a2-b12f-9e9d5729af82"
      },
      "execution_count": 23,
      "outputs": [
        {
          "output_type": "execute_result",
          "data": {
            "text/plain": [
              "{'Nik': 3, 'Kate': 2, 'Evan': 1, 'Kyra': 1, 'John': 1}"
            ]
          },
          "metadata": {},
          "execution_count": 23
        }
      ]
    },
    {
      "cell_type": "code",
      "source": [
        "df=defaultdict(int)"
      ],
      "metadata": {
        "id": "-qHylqcQvTDf"
      },
      "execution_count": 26,
      "outputs": []
    },
    {
      "cell_type": "code",
      "source": [
        "df['nim']"
      ],
      "metadata": {
        "colab": {
          "base_uri": "https://localhost:8080/"
        },
        "id": "lT0XOTvovTJb",
        "outputId": "2fc264a3-1f2c-428c-82cb-44649daca0bc"
      },
      "execution_count": 27,
      "outputs": [
        {
          "output_type": "execute_result",
          "data": {
            "text/plain": [
              "0"
            ]
          },
          "metadata": {},
          "execution_count": 27
        }
      ]
    },
    {
      "cell_type": "code",
      "source": [
        "df1=defaultdict(int)\n",
        "for i in names:\n",
        "  df1[i]+=1"
      ],
      "metadata": {
        "id": "qc07X4GtvP10"
      },
      "execution_count": 30,
      "outputs": []
    },
    {
      "cell_type": "code",
      "source": [
        "df1"
      ],
      "metadata": {
        "colab": {
          "base_uri": "https://localhost:8080/"
        },
        "id": "QQ8mBZs2zPbp",
        "outputId": "0649d720-ee4a-413d-f7c4-87e7d5d47643"
      },
      "execution_count": 31,
      "outputs": [
        {
          "output_type": "execute_result",
          "data": {
            "text/plain": [
              "defaultdict(int, {'Nik': 3, 'Kate': 2, 'Evan': 1, 'Kyra': 1, 'John': 1})"
            ]
          },
          "metadata": {},
          "execution_count": 31
        }
      ]
    },
    {
      "cell_type": "markdown",
      "source": [
        "Group Data with Python defaultdict\n",
        "We can use the defaultdict object to group data based on other data structures. With this, we can iterate over some object, such as a list of tuples, another dictionary, or a set of lists to group data in meaningful ways."
      ],
      "metadata": {
        "id": "rTd_XaCjzPhV"
      }
    },
    {
      "cell_type": "code",
      "source": [
        "# Grouping Items with Dictionaries\n",
        "people = {'Nik': 'Toronto', 'Kate': 'Toronto', 'Evan': 'London', 'Kyra': 'New York', 'Jane': 'New York'}"
      ],
      "metadata": {
        "id": "oH59-Ch_zWWN"
      },
      "execution_count": 32,
      "outputs": []
    },
    {
      "cell_type": "code",
      "source": [
        "new_dict={}\n",
        "\n",
        "for i,j in people.items():\n",
        "  if j in new_dict.keys():\n",
        "    new_dict[j].append(i)\n",
        "  else:\n",
        "    new_dict[j]=[i]"
      ],
      "metadata": {
        "id": "o9fUmbe0zWck"
      },
      "execution_count": 47,
      "outputs": []
    },
    {
      "cell_type": "code",
      "source": [
        "new_dict"
      ],
      "metadata": {
        "colab": {
          "base_uri": "https://localhost:8080/"
        },
        "id": "4BVRwLmkzWhk",
        "outputId": "297afff9-1be6-47cc-db19-1bf917f34081"
      },
      "execution_count": 48,
      "outputs": [
        {
          "output_type": "execute_result",
          "data": {
            "text/plain": [
              "{'Toronto': ['Nik', 'Kate'], 'London': ['Evan'], 'New York': ['Kyra', 'Jane']}"
            ]
          },
          "metadata": {},
          "execution_count": 48
        }
      ]
    },
    {
      "cell_type": "code",
      "source": [
        "# Grouping Items with Dictionaries with defaultdict\n",
        "from collections import defaultdict\n",
        "people = {'Nik': 'Toronto', 'Kate': 'Toronto', 'Evan': 'London', 'Kyra': 'New York', 'Jane': 'New York'}"
      ],
      "metadata": {
        "id": "W4bonCd1zWnk"
      },
      "execution_count": 49,
      "outputs": []
    },
    {
      "cell_type": "code",
      "source": [
        "df_dict1=defaultdict(list)"
      ],
      "metadata": {
        "id": "oSD3HETHvDV4"
      },
      "execution_count": 66,
      "outputs": []
    },
    {
      "cell_type": "code",
      "source": [
        "for i,j in people.items():\n",
        "  df_dict1[j].append(i)"
      ],
      "metadata": {
        "id": "kp7gdYhpDu7Y"
      },
      "execution_count": 67,
      "outputs": []
    },
    {
      "cell_type": "code",
      "source": [
        "df_dict1"
      ],
      "metadata": {
        "colab": {
          "base_uri": "https://localhost:8080/"
        },
        "id": "cQk5QtJID1m2",
        "outputId": "fb7e6303-3495-4ab8-c2b4-8be541d77cce"
      },
      "execution_count": 59,
      "outputs": [
        {
          "output_type": "execute_result",
          "data": {
            "text/plain": [
              "defaultdict(list, {'Toronto': 'Nik'})"
            ]
          },
          "metadata": {},
          "execution_count": 59
        }
      ]
    },
    {
      "cell_type": "code",
      "source": [
        "locations = defaultdict(list)\n",
        "\n",
        "for person, location in people.items():\n",
        "    locations[location].append(person)"
      ],
      "metadata": {
        "id": "OV_oPjkhD1r8"
      },
      "execution_count": 63,
      "outputs": []
    },
    {
      "cell_type": "code",
      "source": [
        "locations"
      ],
      "metadata": {
        "colab": {
          "base_uri": "https://localhost:8080/"
        },
        "id": "cJxxRkCXEKJP",
        "outputId": "4083dd28-7eff-4686-dc92-1cf12d8eb9be"
      },
      "execution_count": 64,
      "outputs": [
        {
          "output_type": "execute_result",
          "data": {
            "text/plain": [
              "defaultdict(list,\n",
              "            {'Toronto': ['Nik', 'Kate'],\n",
              "             'London': ['Evan'],\n",
              "             'New York': ['Kyra', 'Jane']})"
            ]
          },
          "metadata": {},
          "execution_count": 64
        }
      ]
    },
    {
      "cell_type": "code",
      "source": [
        "df_dict2 = defaultdict(list)\n",
        "\n",
        "for person, location in people.items():\n",
        "    df_dict2[location].append(person)"
      ],
      "metadata": {
        "id": "sA3IHq3yEKPU"
      },
      "execution_count": 65,
      "outputs": []
    },
    {
      "cell_type": "code",
      "source": [
        "df_dict2"
      ],
      "metadata": {
        "colab": {
          "base_uri": "https://localhost:8080/"
        },
        "id": "91UNrbViD1wq",
        "outputId": "4ec92bf6-100e-4398-9796-f5c5bf5019f2"
      },
      "execution_count": 68,
      "outputs": [
        {
          "output_type": "execute_result",
          "data": {
            "text/plain": [
              "defaultdict(list,\n",
              "            {'Toronto': ['Nik', 'Kate'],\n",
              "             'London': ['Evan'],\n",
              "             'New York': ['Kyra', 'Jane']})"
            ]
          },
          "metadata": {},
          "execution_count": 68
        }
      ]
    },
    {
      "cell_type": "markdown",
      "source": [
        "#Accumulate Data with Python defaultdict\n",
        "In this final section, you’ll learn how to accumulate data with the Python defaultdict. This example is quite similar to the counting example, except we’ll instantiate a float as the default value. Imagine that you’re keeping track of your spending in different categories and want add up total spent across these categories.\n",
        "\n",
        "Your data is stored in a list of tuples, where the first value is the category and the second is the amount spent. Let’s take a look at how we can make this work:"
      ],
      "metadata": {
        "id": "J5PF5vYnD11v"
      }
    },
    {
      "cell_type": "code",
      "source": [
        "# Accumulating Data with defaultdict\n",
        "from collections import defaultdict\n",
        "data = [('Groceries', 12.34), ('Entertainment', 5.40), ('Groceries', 53.45), \n",
        "        ('Video Games', 65.32), ('Groceries', 33.12), ('Entertainment', 15.44), \n",
        "        ('Groceries', 34.45), ('Video Games', 32.22)]\n",
        "\n",
        "data_dict=defaultdict(float)\n",
        "for i,j in data:\n",
        "  data_dict[i]+=j"
      ],
      "metadata": {
        "id": "gx4rW_jlGepm"
      },
      "execution_count": 79,
      "outputs": []
    },
    {
      "cell_type": "code",
      "source": [
        "data_dict"
      ],
      "metadata": {
        "colab": {
          "base_uri": "https://localhost:8080/"
        },
        "id": "c2AUINbtHgX8",
        "outputId": "c8645e25-a24a-458d-f457-4cc4abb8ba13"
      },
      "execution_count": 80,
      "outputs": [
        {
          "output_type": "execute_result",
          "data": {
            "text/plain": [
              "defaultdict(float,\n",
              "            {'Groceries': 133.36,\n",
              "             'Entertainment': 20.84,\n",
              "             'Video Games': 97.53999999999999})"
            ]
          },
          "metadata": {},
          "execution_count": 80
        }
      ]
    },
    {
      "cell_type": "code",
      "source": [
        "data1=defaultdict(float)"
      ],
      "metadata": {
        "id": "RwsjxIvMGexO"
      },
      "execution_count": 71,
      "outputs": []
    },
    {
      "cell_type": "code",
      "source": [
        "total_dict={}\n",
        "for i,j in data:\n",
        "  if i in total_dict:\n",
        "    total_dict[i]+=j\n",
        "  else:\n",
        "    total_dict[i]=j "
      ],
      "metadata": {
        "id": "VrfYLnSUGe1b"
      },
      "execution_count": 77,
      "outputs": []
    },
    {
      "cell_type": "code",
      "source": [
        "total_dict"
      ],
      "metadata": {
        "colab": {
          "base_uri": "https://localhost:8080/"
        },
        "id": "eiLJpywIGe5Z",
        "outputId": "f5a4cc0d-6dab-4611-a26f-98af5c44f58a"
      },
      "execution_count": 78,
      "outputs": [
        {
          "output_type": "execute_result",
          "data": {
            "text/plain": [
              "{'Groceries': 133.36, 'Entertainment': 20.84, 'Video Games': 97.53999999999999}"
            ]
          },
          "metadata": {},
          "execution_count": 78
        }
      ]
    },
    {
      "cell_type": "code",
      "source": [],
      "metadata": {
        "id": "2kQAFEejGe91"
      },
      "execution_count": null,
      "outputs": []
    },
    {
      "cell_type": "code",
      "source": [],
      "metadata": {
        "id": "VphLG2oWGfCT"
      },
      "execution_count": null,
      "outputs": []
    },
    {
      "cell_type": "code",
      "source": [],
      "metadata": {
        "id": "nZMW3uzTGfGt"
      },
      "execution_count": null,
      "outputs": []
    },
    {
      "cell_type": "code",
      "source": [],
      "metadata": {
        "id": "u2Uwx8-OFfi2"
      },
      "execution_count": null,
      "outputs": []
    },
    {
      "cell_type": "code",
      "source": [],
      "metadata": {
        "id": "pqzRzSjIFfne"
      },
      "execution_count": null,
      "outputs": []
    },
    {
      "cell_type": "code",
      "source": [],
      "metadata": {
        "id": "tvRB95iiFfsF"
      },
      "execution_count": null,
      "outputs": []
    },
    {
      "cell_type": "code",
      "source": [],
      "metadata": {
        "id": "_ppGkbNrFfwo"
      },
      "execution_count": null,
      "outputs": []
    },
    {
      "cell_type": "code",
      "source": [],
      "metadata": {
        "id": "CTzwFoXMDvA2"
      },
      "execution_count": null,
      "outputs": []
    },
    {
      "cell_type": "code",
      "source": [],
      "metadata": {
        "id": "rtNYMJl2CuP5"
      },
      "execution_count": null,
      "outputs": []
    },
    {
      "cell_type": "code",
      "source": [],
      "metadata": {
        "id": "LQqMCqmqCrAb"
      },
      "execution_count": null,
      "outputs": []
    },
    {
      "cell_type": "code",
      "source": [],
      "metadata": {
        "id": "a87pFFvECrGx"
      },
      "execution_count": null,
      "outputs": []
    },
    {
      "cell_type": "code",
      "source": [],
      "metadata": {
        "id": "ZTxrUCx7CrMm"
      },
      "execution_count": null,
      "outputs": []
    },
    {
      "cell_type": "code",
      "source": [],
      "metadata": {
        "id": "IqIksv34CrSS"
      },
      "execution_count": null,
      "outputs": []
    },
    {
      "cell_type": "code",
      "source": [],
      "metadata": {
        "id": "QYlm6TMfCrYY"
      },
      "execution_count": null,
      "outputs": []
    },
    {
      "cell_type": "code",
      "source": [],
      "metadata": {
        "id": "UKY1ZsdKBrjZ"
      },
      "execution_count": null,
      "outputs": []
    },
    {
      "cell_type": "code",
      "source": [],
      "metadata": {
        "id": "US9WUYQY_oQe"
      },
      "execution_count": null,
      "outputs": []
    },
    {
      "cell_type": "code",
      "source": [],
      "metadata": {
        "id": "EkdMuqsZ_oVq"
      },
      "execution_count": null,
      "outputs": []
    },
    {
      "cell_type": "code",
      "source": [],
      "metadata": {
        "id": "lTSsaBxI_obI"
      },
      "execution_count": null,
      "outputs": []
    },
    {
      "cell_type": "code",
      "source": [],
      "metadata": {
        "id": "wldj-WJJ_ogm"
      },
      "execution_count": null,
      "outputs": []
    },
    {
      "cell_type": "code",
      "source": [],
      "metadata": {
        "id": "vJcsePuK_omE"
      },
      "execution_count": null,
      "outputs": []
    },
    {
      "cell_type": "code",
      "source": [],
      "metadata": {
        "id": "5V_SYlns_orc"
      },
      "execution_count": null,
      "outputs": []
    },
    {
      "cell_type": "code",
      "source": [],
      "metadata": {
        "id": "MyUPZpXS-02Z"
      },
      "execution_count": null,
      "outputs": []
    },
    {
      "cell_type": "code",
      "source": [],
      "metadata": {
        "id": "VhJiPS-o-aal"
      },
      "execution_count": null,
      "outputs": []
    },
    {
      "cell_type": "code",
      "source": [],
      "metadata": {
        "id": "SDVJqqKN-afi"
      },
      "execution_count": null,
      "outputs": []
    },
    {
      "cell_type": "code",
      "source": [],
      "metadata": {
        "id": "RV6EjkcO-alV"
      },
      "execution_count": null,
      "outputs": []
    },
    {
      "cell_type": "code",
      "source": [],
      "metadata": {
        "id": "IAsWCh_1-VCs"
      },
      "execution_count": null,
      "outputs": []
    },
    {
      "cell_type": "code",
      "source": [],
      "metadata": {
        "id": "0_w88A5Y-VJK"
      },
      "execution_count": null,
      "outputs": []
    },
    {
      "cell_type": "code",
      "source": [],
      "metadata": {
        "id": "rSJT2Lwc-PX2"
      },
      "execution_count": null,
      "outputs": []
    },
    {
      "cell_type": "code",
      "source": [],
      "metadata": {
        "id": "BQiijqQV-PdO"
      },
      "execution_count": null,
      "outputs": []
    },
    {
      "cell_type": "code",
      "source": [],
      "metadata": {
        "id": "7xh3faMr-PiV"
      },
      "execution_count": null,
      "outputs": []
    },
    {
      "cell_type": "code",
      "source": [],
      "metadata": {
        "id": "tyrw8KYi-Pnt"
      },
      "execution_count": null,
      "outputs": []
    },
    {
      "cell_type": "code",
      "source": [],
      "metadata": {
        "id": "epJeOAkX-PtH"
      },
      "execution_count": null,
      "outputs": []
    },
    {
      "cell_type": "code",
      "source": [],
      "metadata": {
        "id": "PcDShHcR9VdM"
      },
      "execution_count": null,
      "outputs": []
    },
    {
      "cell_type": "code",
      "source": [],
      "metadata": {
        "id": "7GQzOz_P9Vi7"
      },
      "execution_count": null,
      "outputs": []
    },
    {
      "cell_type": "code",
      "source": [],
      "metadata": {
        "id": "W-gFAzHB9Vup"
      },
      "execution_count": null,
      "outputs": []
    },
    {
      "cell_type": "code",
      "source": [],
      "metadata": {
        "id": "la4F4whL9Txf"
      },
      "execution_count": null,
      "outputs": []
    },
    {
      "cell_type": "code",
      "source": [],
      "metadata": {
        "id": "b1bl_WuD9T3S"
      },
      "execution_count": null,
      "outputs": []
    },
    {
      "cell_type": "code",
      "source": [],
      "metadata": {
        "id": "MGv7AFZq8_Aj"
      },
      "execution_count": null,
      "outputs": []
    },
    {
      "cell_type": "code",
      "source": [],
      "metadata": {
        "id": "ujI9sf-g8_GQ"
      },
      "execution_count": null,
      "outputs": []
    },
    {
      "cell_type": "code",
      "source": [],
      "metadata": {
        "id": "ikM6eyJm8_Lk"
      },
      "execution_count": null,
      "outputs": []
    },
    {
      "cell_type": "code",
      "source": [],
      "metadata": {
        "id": "sLLMiQM06K06"
      },
      "execution_count": null,
      "outputs": []
    },
    {
      "cell_type": "code",
      "source": [],
      "metadata": {
        "id": "RgtdCh8s6K6J"
      },
      "execution_count": null,
      "outputs": []
    },
    {
      "cell_type": "code",
      "source": [],
      "metadata": {
        "id": "7WlFGQkp6K_l"
      },
      "execution_count": null,
      "outputs": []
    },
    {
      "cell_type": "code",
      "source": [],
      "metadata": {
        "id": "OTpp2pfQ6Ijk"
      },
      "execution_count": null,
      "outputs": []
    },
    {
      "cell_type": "code",
      "source": [],
      "metadata": {
        "id": "lS77mjU3518q"
      },
      "execution_count": null,
      "outputs": []
    },
    {
      "cell_type": "code",
      "source": [],
      "metadata": {
        "id": "oPsRFpiP52CA"
      },
      "execution_count": null,
      "outputs": []
    },
    {
      "cell_type": "code",
      "source": [],
      "metadata": {
        "id": "e1GdvXsL5xm3"
      },
      "execution_count": null,
      "outputs": []
    },
    {
      "cell_type": "code",
      "source": [],
      "metadata": {
        "id": "V5TZXBt85xs6"
      },
      "execution_count": null,
      "outputs": []
    },
    {
      "cell_type": "code",
      "source": [],
      "metadata": {
        "id": "Yn-QGJyN5xyy"
      },
      "execution_count": null,
      "outputs": []
    },
    {
      "cell_type": "code",
      "source": [],
      "metadata": {
        "id": "I5Lu2MIT4Kj9"
      },
      "execution_count": null,
      "outputs": []
    },
    {
      "cell_type": "code",
      "source": [],
      "metadata": {
        "id": "ggL-MWTw4KpJ"
      },
      "execution_count": null,
      "outputs": []
    },
    {
      "cell_type": "code",
      "source": [],
      "metadata": {
        "id": "SVOLe0GA4Kuz"
      },
      "execution_count": null,
      "outputs": []
    },
    {
      "cell_type": "code",
      "source": [],
      "metadata": {
        "id": "p9gta_da4IO8"
      },
      "execution_count": null,
      "outputs": []
    },
    {
      "cell_type": "code",
      "source": [],
      "metadata": {
        "id": "F_nYFvS54IU8"
      },
      "execution_count": null,
      "outputs": []
    },
    {
      "cell_type": "code",
      "source": [],
      "metadata": {
        "id": "h9UbKxSj4Ia9"
      },
      "execution_count": null,
      "outputs": []
    },
    {
      "cell_type": "code",
      "source": [],
      "metadata": {
        "id": "ipuj1sbD4IhE"
      },
      "execution_count": null,
      "outputs": []
    },
    {
      "cell_type": "code",
      "source": [],
      "metadata": {
        "id": "jjoFBEKA3-GA"
      },
      "execution_count": null,
      "outputs": []
    },
    {
      "cell_type": "code",
      "source": [],
      "metadata": {
        "id": "k0DYzmVN3-YN"
      },
      "execution_count": null,
      "outputs": []
    },
    {
      "cell_type": "code",
      "source": [],
      "metadata": {
        "id": "mOW-NgkH3-fN"
      },
      "execution_count": null,
      "outputs": []
    },
    {
      "cell_type": "code",
      "source": [],
      "metadata": {
        "id": "UHn6M4mA34kW"
      },
      "execution_count": null,
      "outputs": []
    },
    {
      "cell_type": "code",
      "source": [],
      "metadata": {
        "id": "C-DaJw1W34t7"
      },
      "execution_count": null,
      "outputs": []
    },
    {
      "cell_type": "code",
      "source": [],
      "metadata": {
        "id": "U5Dzgp18340z"
      },
      "execution_count": null,
      "outputs": []
    },
    {
      "cell_type": "code",
      "source": [],
      "metadata": {
        "id": "n0jJp_j_20X0"
      },
      "execution_count": null,
      "outputs": []
    },
    {
      "cell_type": "code",
      "source": [],
      "metadata": {
        "id": "7DB3oq_O20cZ"
      },
      "execution_count": null,
      "outputs": []
    },
    {
      "cell_type": "code",
      "source": [],
      "metadata": {
        "id": "pdblaQ9i20h7"
      },
      "execution_count": null,
      "outputs": []
    },
    {
      "cell_type": "code",
      "source": [],
      "metadata": {
        "id": "mTfmww7t20oC"
      },
      "execution_count": null,
      "outputs": []
    },
    {
      "cell_type": "code",
      "source": [],
      "metadata": {
        "id": "jNNXe4D620t2"
      },
      "execution_count": null,
      "outputs": []
    },
    {
      "cell_type": "code",
      "source": [],
      "metadata": {
        "id": "wXHcCB3Q2gMF"
      },
      "execution_count": null,
      "outputs": []
    },
    {
      "cell_type": "code",
      "source": [],
      "metadata": {
        "id": "pjVDSv9-2gR7"
      },
      "execution_count": null,
      "outputs": []
    },
    {
      "cell_type": "code",
      "source": [],
      "metadata": {
        "id": "iwilMNQt2gXd"
      },
      "execution_count": null,
      "outputs": []
    },
    {
      "cell_type": "code",
      "source": [],
      "metadata": {
        "id": "Ys5OxeOY2gdk"
      },
      "execution_count": null,
      "outputs": []
    },
    {
      "cell_type": "code",
      "source": [],
      "metadata": {
        "id": "7pSWgY0E2erF"
      },
      "execution_count": null,
      "outputs": []
    },
    {
      "cell_type": "code",
      "source": [],
      "metadata": {
        "id": "6Y5UgPvA2exi"
      },
      "execution_count": null,
      "outputs": []
    },
    {
      "cell_type": "code",
      "source": [],
      "metadata": {
        "id": "v1pupI802Jh1"
      },
      "execution_count": null,
      "outputs": []
    },
    {
      "cell_type": "code",
      "source": [],
      "metadata": {
        "id": "7e9n8qdn2JnH"
      },
      "execution_count": null,
      "outputs": []
    },
    {
      "cell_type": "code",
      "source": [],
      "metadata": {
        "id": "_VOnr2ky2Jsw"
      },
      "execution_count": null,
      "outputs": []
    },
    {
      "cell_type": "code",
      "source": [],
      "metadata": {
        "id": "9LxdjzgF2Jyk"
      },
      "execution_count": null,
      "outputs": []
    },
    {
      "cell_type": "code",
      "source": [],
      "metadata": {
        "id": "hK9t8_ws179d"
      },
      "execution_count": null,
      "outputs": []
    },
    {
      "cell_type": "code",
      "source": [],
      "metadata": {
        "id": "KqsmytpO18CF"
      },
      "execution_count": null,
      "outputs": []
    },
    {
      "cell_type": "code",
      "source": [],
      "metadata": {
        "id": "_UobJZbc18I3"
      },
      "execution_count": null,
      "outputs": []
    },
    {
      "cell_type": "code",
      "source": [],
      "metadata": {
        "id": "bGBKQFLZ11nk"
      },
      "execution_count": null,
      "outputs": []
    },
    {
      "cell_type": "code",
      "source": [],
      "metadata": {
        "id": "4CwRVN1z11uc"
      },
      "execution_count": null,
      "outputs": []
    },
    {
      "cell_type": "code",
      "source": [],
      "metadata": {
        "id": "bSx1C1GG11z-"
      },
      "execution_count": null,
      "outputs": []
    },
    {
      "cell_type": "code",
      "source": [],
      "metadata": {
        "id": "rblOPLbC115X"
      },
      "execution_count": null,
      "outputs": []
    },
    {
      "cell_type": "code",
      "source": [],
      "metadata": {
        "id": "vRKMHnQZ11-Y"
      },
      "execution_count": null,
      "outputs": []
    },
    {
      "cell_type": "code",
      "source": [],
      "metadata": {
        "id": "DIBu4Fir12Ek"
      },
      "execution_count": null,
      "outputs": []
    },
    {
      "cell_type": "code",
      "source": [],
      "metadata": {
        "id": "8xdgus-C10IE"
      },
      "execution_count": null,
      "outputs": []
    },
    {
      "cell_type": "code",
      "source": [],
      "metadata": {
        "id": "Ctd57trF10M9"
      },
      "execution_count": null,
      "outputs": []
    },
    {
      "cell_type": "code",
      "source": [],
      "metadata": {
        "id": "TgqiE79P10V2"
      },
      "execution_count": null,
      "outputs": []
    },
    {
      "cell_type": "code",
      "source": [],
      "metadata": {
        "id": "lAilyFbpzMIp"
      },
      "execution_count": null,
      "outputs": []
    },
    {
      "cell_type": "code",
      "source": [],
      "metadata": {
        "id": "AgiunaXczMOa"
      },
      "execution_count": null,
      "outputs": []
    },
    {
      "cell_type": "code",
      "source": [],
      "metadata": {
        "id": "gEisM_djzMVx"
      },
      "execution_count": null,
      "outputs": []
    },
    {
      "cell_type": "code",
      "source": [],
      "metadata": {
        "id": "ZgP77XdBzD2A"
      },
      "execution_count": null,
      "outputs": []
    },
    {
      "cell_type": "code",
      "source": [],
      "metadata": {
        "id": "yNUhI6uBzD6h"
      },
      "execution_count": null,
      "outputs": []
    },
    {
      "cell_type": "code",
      "source": [],
      "metadata": {
        "id": "bJ_mY7bzzCXS"
      },
      "execution_count": null,
      "outputs": []
    },
    {
      "cell_type": "code",
      "source": [],
      "metadata": {
        "id": "hbUN3t7BzCb9"
      },
      "execution_count": null,
      "outputs": []
    }
  ]
}