{
  "nbformat": 4,
  "nbformat_minor": 0,
  "metadata": {
    "colab": {
      "name": "Untitled188.ipynb",
      "provenance": [],
      "authorship_tag": "ABX9TyOYXvCBowTkYK4wR5bx556i",
      "include_colab_link": true
    },
    "kernelspec": {
      "name": "python3",
      "display_name": "Python 3"
    },
    "language_info": {
      "name": "python"
    }
  },
  "cells": [
    {
      "cell_type": "markdown",
      "metadata": {
        "id": "view-in-github",
        "colab_type": "text"
      },
      "source": [
        "<a href=\"https://colab.research.google.com/github/RojaCM/PYTHON-CONCEPTS/blob/main/PREPEND%20to%20a%20list%20-%20add%20items%20in%20the%20beginning.ipynb\" target=\"_parent\"><img src=\"https://colab.research.google.com/assets/colab-badge.svg\" alt=\"Open In Colab\"/></a>"
      ]
    },
    {
      "cell_type": "markdown",
      "source": [
        "Prepend to a Python a List (Append at beginning)\n",
        "\n",
        "In this tutorial, you’ll learn how to use Python to prepend a list. While Python has a method to append values to the end of a list, there is no prepend method. By the end of this tutorial, you’ll have learned how to use the .insert() method and how to concatenate two lists to prepend.\n",
        "\n",
        "You’ll also learn how to use the deque object to insert values at the front of a list. In many cases, this is the preferred method, as it’s significantly more memory efficient than other methods."
      ],
      "metadata": {
        "id": "doeXJ1DJWVpc"
      }
    },
    {
      "cell_type": "markdown",
      "source": [
        "The Problem with Prepending a Python List\n",
        "Python lists are a mutable container data type, meaning that they can be altered. Because of this, it can be tempting to add an item to a list. However, depending on the size of your list, this process can be immensely memory intensive.\n",
        "\n",
        "The reason for this is that there is no “room” at the beginning of the list. When you add an item to the front of a list, Python needs to shift all other items forward. Later in this tutorial, you’ll learn about the deque data structure, which represents a double-ended queue. In these deque objects, items can be inserted freely at the beginning or end."
      ],
      "metadata": {
        "id": "BqoYFZDWWsIo"
      }
    },
    {
      "cell_type": "code",
      "source": [
        "#Using Insert to Prepend to a Python List :\n",
        "\n",
        "#insert method takes two parameters \n",
        "#1.the position we need to insert an element\n",
        "#2.the item needs to be added\n",
        "\n",
        "# Using .insert() to prepend to a Python list\n",
        "words = ['welcome', 'to', 'datagy']\n",
        "\n",
        "words.insert(0,'hello')"
      ],
      "metadata": {
        "id": "gp0qDR6qWsMC"
      },
      "execution_count": 2,
      "outputs": []
    },
    {
      "cell_type": "code",
      "source": [
        "words"
      ],
      "metadata": {
        "colab": {
          "base_uri": "https://localhost:8080/"
        },
        "id": "n8wztNawWsoY",
        "outputId": "a7df9d7a-8882-4955-e5c5-1108e1f011e5"
      },
      "execution_count": 3,
      "outputs": [
        {
          "output_type": "execute_result",
          "data": {
            "text/plain": [
              "['hello', 'welcome', 'to', 'datagy']"
            ]
          },
          "metadata": {},
          "execution_count": 3
        }
      ]
    },
    {
      "cell_type": "code",
      "source": [
        "#Using the + Operator to Prepend to a Python List\n",
        "\n",
        "l1=['welcome','to','MLclass']\n",
        "l2=['hello']\n",
        "\n",
        "l2+l1"
      ],
      "metadata": {
        "colab": {
          "base_uri": "https://localhost:8080/"
        },
        "id": "vpBpCXbiWsrb",
        "outputId": "77827146-3177-4c8f-b30d-acf667b5dd22"
      },
      "execution_count": 5,
      "outputs": [
        {
          "output_type": "execute_result",
          "data": {
            "text/plain": [
              "['hello', 'welcome', 'to', 'MLclass']"
            ]
          },
          "metadata": {},
          "execution_count": 5
        }
      ]
    },
    {
      "cell_type": "code",
      "source": [
        "l1=['welcome','to','MLclass']\n",
        "l2=['hello']\n",
        "\n",
        "l2+=l1"
      ],
      "metadata": {
        "id": "j4V0glOhZtFK"
      },
      "execution_count": 6,
      "outputs": []
    },
    {
      "cell_type": "code",
      "source": [
        "l2"
      ],
      "metadata": {
        "colab": {
          "base_uri": "https://localhost:8080/"
        },
        "id": "7e6M7JQuaWr9",
        "outputId": "e4ece8ce-f987-4a8b-b618-84cf869a9d03"
      },
      "execution_count": 7,
      "outputs": [
        {
          "output_type": "execute_result",
          "data": {
            "text/plain": [
              "['hello', 'welcome', 'to', 'MLclass']"
            ]
          },
          "metadata": {},
          "execution_count": 7
        }
      ]
    },
    {
      "cell_type": "markdown",
      "source": [
        "Using List Slicing to Prepend to a Python List : \n",
        "Using List Slicing to Prepend to a Python List\n",
        "This method can feel a bit awkward, but it can also be a useful way to assign an item to the front of a list. We assign a list with a single value to the slice of [:0] of another list. This forces the item to be added before the 0th item.\n",
        "\n",
        "Let’s take a look at an example:"
      ],
      "metadata": {
        "id": "5k1W1Q6aaWw7"
      }
    },
    {
      "cell_type": "code",
      "source": [
        "# Using List Slicing to prepend to a Python List\n",
        "words = ['welcome', 'to', 'datagy']\n",
        "words[:0]=['hello']\n",
        "words"
      ],
      "metadata": {
        "colab": {
          "base_uri": "https://localhost:8080/"
        },
        "id": "1IG1qJVzfmI_",
        "outputId": "da9b1f28-3ae2-4990-f4d7-5082cb4c43f3"
      },
      "execution_count": 9,
      "outputs": [
        {
          "output_type": "execute_result",
          "data": {
            "text/plain": [
              "['hello', 'welcome', 'to', 'datagy']"
            ]
          },
          "metadata": {},
          "execution_count": 9
        }
      ]
    },
    {
      "cell_type": "markdown",
      "source": [
        "Using a DEQUE CLASS TO PREPEND TO A PYTHON LIST :\n",
        "Part of the incredibly versatile collections library is the deque class. This class represents a double-ended queue, which represent stacks or queues from other languages. The benefit of this is that the class allows you to prepend items to the left, without the memory implications of shifting all values.\n"
      ],
      "metadata": {
        "id": "ld5ZuB7-fmN_"
      }
    },
    {
      "cell_type": "code",
      "source": [
        "from collections import deque\n",
        "\n",
        "words=deque(['roja','cm'])\n",
        "words.appendleft('hello')"
      ],
      "metadata": {
        "id": "DnBPjn_sZtJ2"
      },
      "execution_count": 11,
      "outputs": []
    },
    {
      "cell_type": "code",
      "source": [
        "words"
      ],
      "metadata": {
        "colab": {
          "base_uri": "https://localhost:8080/"
        },
        "id": "RD4XR7SfZtOr",
        "outputId": "7df61ed8-435a-46c3-a891-e5af3cce1ec4"
      },
      "execution_count": 12,
      "outputs": [
        {
          "output_type": "execute_result",
          "data": {
            "text/plain": [
              "deque(['hello', 'roja', 'cm'])"
            ]
          },
          "metadata": {},
          "execution_count": 12
        }
      ]
    },
    {
      "cell_type": "markdown",
      "source": [
        "Conclusion\n",
        "In this tutorial, you learned how to prepend to a Python list. You first learned why prepending to a list can be a troublesome idea. Then, you learned how to use three different list methods, including .insert(), the + operator, and list indexing to prepend to a list. Finally, you learned how to use the collections deque object to prepend to a list in a memory-efficient manner."
      ],
      "metadata": {
        "id": "twPJJkv7Wst-"
      }
    },
    {
      "cell_type": "code",
      "source": [
        ""
      ],
      "metadata": {
        "id": "7jfeDWqPj5tg"
      },
      "execution_count": null,
      "outputs": []
    },
    {
      "cell_type": "code",
      "source": [
        ""
      ],
      "metadata": {
        "id": "LR5sEpI0j5x3"
      },
      "execution_count": null,
      "outputs": []
    },
    {
      "cell_type": "code",
      "source": [
        ""
      ],
      "metadata": {
        "id": "KLVAy5TJj52V"
      },
      "execution_count": null,
      "outputs": []
    },
    {
      "cell_type": "code",
      "source": [
        ""
      ],
      "metadata": {
        "id": "CqCpWhsmWsxI"
      },
      "execution_count": null,
      "outputs": []
    },
    {
      "cell_type": "code",
      "source": [
        ""
      ],
      "metadata": {
        "id": "XACBfvecWsz-"
      },
      "execution_count": null,
      "outputs": []
    },
    {
      "cell_type": "code",
      "source": [
        ""
      ],
      "metadata": {
        "id": "2zDv6d4AWs21"
      },
      "execution_count": null,
      "outputs": []
    },
    {
      "cell_type": "code",
      "source": [
        ""
      ],
      "metadata": {
        "id": "OoCEiZdnWs6e"
      },
      "execution_count": null,
      "outputs": []
    },
    {
      "cell_type": "code",
      "source": [
        ""
      ],
      "metadata": {
        "id": "60aprwNVWs_g"
      },
      "execution_count": null,
      "outputs": []
    },
    {
      "cell_type": "code",
      "source": [
        ""
      ],
      "metadata": {
        "id": "8UJ1LzQzWtCv"
      },
      "execution_count": null,
      "outputs": []
    }
  ]
}