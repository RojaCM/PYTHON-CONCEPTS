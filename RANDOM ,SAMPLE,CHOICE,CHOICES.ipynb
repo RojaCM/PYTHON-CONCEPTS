{
  "nbformat": 4,
  "nbformat_minor": 0,
  "metadata": {
    "colab": {
      "name": "Untitled200.ipynb",
      "provenance": [],
      "authorship_tag": "ABX9TyMFlYuJh23hNlwalWuJeLlp",
      "include_colab_link": true
    },
    "kernelspec": {
      "name": "python3",
      "display_name": "Python 3"
    },
    "language_info": {
      "name": "python"
    }
  },
  "cells": [
    {
      "cell_type": "markdown",
      "metadata": {
        "id": "view-in-github",
        "colab_type": "text"
      },
      "source": [
        "<a href=\"https://colab.research.google.com/github/RojaCM/PYTHON-CONCEPTS/blob/main/RANDOM%20%2CSAMPLE%2CCHOICE%2CCHOICES.ipynb\" target=\"_parent\"><img src=\"https://colab.research.google.com/assets/colab-badge.svg\" alt=\"Open In Colab\"/></a>"
      ]
    },
    {
      "cell_type": "markdown",
      "source": [
        "#Python: Select Random Element from a List\n",
        "\n",
        "Random module:\n",
        "Python comes built-in with a module for working with pseudo-random numbers called random.\n",
        "\n",
        "The module comes with a number of helpful functions that allow us to randomly select or sample from a Python list. It also provides a seed generator which allows us to easily replicate our results time and time again, allowing is the opportunity to review results or troubleshoot any problems in our code.\n",
        "---\n",
        "\n"
      ],
      "metadata": {
        "id": "nUbAJsWxCRTZ"
      }
    },
    {
      "cell_type": "markdown",
      "source": [
        "#Pick a Random Element from a List in Python\n",
        "The simplest way to use Python to select a single random element from a list in Python is to use the random.choice() function. The function takes a single parameter – a sequence. In this case, our sequence will be a list, though we could also use a tuple.\n",
        "\n",
        "choice(iterable)"
      ],
      "metadata": {
        "id": "OGRAsE_9Dxs4"
      }
    },
    {
      "cell_type": "code",
      "source": [
        "l1=[2,3,4,5,6,7,8,9,33,11,55]"
      ],
      "metadata": {
        "id": "fr7amz0CDxvF"
      },
      "execution_count": 1,
      "outputs": []
    },
    {
      "cell_type": "code",
      "source": [
        "import random"
      ],
      "metadata": {
        "id": "rG1vNdUaDxxj"
      },
      "execution_count": 3,
      "outputs": []
    },
    {
      "cell_type": "markdown",
      "source": [
        "The function expects the function to be non-empty. So,what happens when we pass in an empty list? The function will raise an IndexError and the program will fail unless the error is handled."
      ],
      "metadata": {
        "id": "BWo7SKNPGIzh"
      }
    },
    {
      "cell_type": "code",
      "source": [
        "l=[]\n",
        "random.choice(l)"
      ],
      "metadata": {
        "colab": {
          "base_uri": "https://localhost:8080/",
          "height": 317
        },
        "id": "yH7q6NQDGI4D",
        "outputId": "190659f3-8f4d-4d2b-aa04-1e835401e357"
      },
      "execution_count": 7,
      "outputs": [
        {
          "output_type": "error",
          "ename": "IndexError",
          "evalue": "ignored",
          "traceback": [
            "\u001b[0;31m---------------------------------------------------------------------------\u001b[0m",
            "\u001b[0;31mIndexError\u001b[0m                                Traceback (most recent call last)",
            "\u001b[0;32m<ipython-input-7-a77cd5420ecd>\u001b[0m in \u001b[0;36m<module>\u001b[0;34m()\u001b[0m\n\u001b[1;32m      1\u001b[0m \u001b[0ml\u001b[0m\u001b[0;34m=\u001b[0m\u001b[0;34m[\u001b[0m\u001b[0;34m]\u001b[0m\u001b[0;34m\u001b[0m\u001b[0;34m\u001b[0m\u001b[0m\n\u001b[0;32m----> 2\u001b[0;31m \u001b[0mrandom\u001b[0m\u001b[0;34m.\u001b[0m\u001b[0mchoice\u001b[0m\u001b[0;34m(\u001b[0m\u001b[0ml\u001b[0m\u001b[0;34m)\u001b[0m\u001b[0;34m\u001b[0m\u001b[0;34m\u001b[0m\u001b[0m\n\u001b[0m",
            "\u001b[0;32m/usr/lib/python3.7/random.py\u001b[0m in \u001b[0;36mchoice\u001b[0;34m(self, seq)\u001b[0m\n\u001b[1;32m    259\u001b[0m             \u001b[0mi\u001b[0m \u001b[0;34m=\u001b[0m \u001b[0mself\u001b[0m\u001b[0;34m.\u001b[0m\u001b[0m_randbelow\u001b[0m\u001b[0;34m(\u001b[0m\u001b[0mlen\u001b[0m\u001b[0;34m(\u001b[0m\u001b[0mseq\u001b[0m\u001b[0;34m)\u001b[0m\u001b[0;34m)\u001b[0m\u001b[0;34m\u001b[0m\u001b[0;34m\u001b[0m\u001b[0m\n\u001b[1;32m    260\u001b[0m         \u001b[0;32mexcept\u001b[0m \u001b[0mValueError\u001b[0m\u001b[0;34m:\u001b[0m\u001b[0;34m\u001b[0m\u001b[0;34m\u001b[0m\u001b[0m\n\u001b[0;32m--> 261\u001b[0;31m             \u001b[0;32mraise\u001b[0m \u001b[0mIndexError\u001b[0m\u001b[0;34m(\u001b[0m\u001b[0;34m'Cannot choose from an empty sequence'\u001b[0m\u001b[0;34m)\u001b[0m \u001b[0;32mfrom\u001b[0m \u001b[0;32mNone\u001b[0m\u001b[0;34m\u001b[0m\u001b[0;34m\u001b[0m\u001b[0m\n\u001b[0m\u001b[1;32m    262\u001b[0m         \u001b[0;32mreturn\u001b[0m \u001b[0mseq\u001b[0m\u001b[0;34m[\u001b[0m\u001b[0mi\u001b[0m\u001b[0;34m]\u001b[0m\u001b[0;34m\u001b[0m\u001b[0;34m\u001b[0m\u001b[0m\n\u001b[1;32m    263\u001b[0m \u001b[0;34m\u001b[0m\u001b[0m\n",
            "\u001b[0;31mIndexError\u001b[0m: Cannot choose from an empty sequence"
          ]
        }
      ]
    },
    {
      "cell_type": "markdown",
      "source": [
        "#pick random Elements from a List in Python without Replacement:\n",
        "In this section, you’ll learn how to use Python to select multiple random elements from a list without replacement. What does it mean to select without replacement? Sampling without replacement refers to only being able to pick a certain element a single time.\n",
        "\n",
        "To use Python to select random elements without replacement, we can use the random.sample() function. The function accepts two parameters: the list to sample from and the number of items to sample.\n",
        "\n",
        "Let’s see how we can use the random.sample() method to select multiple random elements from a list:"
      ],
      "metadata": {
        "id": "dWy6Qd2LIIZz"
      }
    },
    {
      "cell_type": "markdown",
      "source": [
        "LIST.SAMPLE(ITERABLE,NUMBER OF ITEMS TO SAMPLE)"
      ],
      "metadata": {
        "id": "hTNf3nBuIIf-"
      }
    },
    {
      "cell_type": "code",
      "source": [
        "random.sample(l1,4)"
      ],
      "metadata": {
        "colab": {
          "base_uri": "https://localhost:8080/"
        },
        "id": "l-uBoteGF6qV",
        "outputId": "1d43def4-cac8-401c-b7c4-eb3980ffee5d"
      },
      "execution_count": 9,
      "outputs": [
        {
          "output_type": "execute_result",
          "data": {
            "text/plain": [
              "[55, 8, 9, 33]"
            ]
          },
          "metadata": {},
          "execution_count": 9
        }
      ]
    },
    {
      "cell_type": "code",
      "source": [
        "random.sample(l1,4)"
      ],
      "metadata": {
        "colab": {
          "base_uri": "https://localhost:8080/"
        },
        "id": "IkWgQ8IsDxzt",
        "outputId": "af7f3766-aaac-4160-829b-52dd352e76a8"
      },
      "execution_count": 10,
      "outputs": [
        {
          "output_type": "execute_result",
          "data": {
            "text/plain": [
              "[11, 8, 5, 55]"
            ]
          },
          "metadata": {},
          "execution_count": 10
        }
      ]
    },
    {
      "cell_type": "markdown",
      "source": [
        "We can see that by passing in the value of 2 (for the keyword argument, k) that two items are returned.\n",
        "\n",
        "What happens if we pass in a value for k that exceeds the number of items in our list? Python will raise a ValueError. Let’s see what this looks like:"
      ],
      "metadata": {
        "id": "LTPrGwr7Frm3"
      }
    },
    {
      "cell_type": "code",
      "source": [
        "random.sample(l1,18)"
      ],
      "metadata": {
        "colab": {
          "base_uri": "https://localhost:8080/",
          "height": 299
        },
        "id": "742bDX1fLuwj",
        "outputId": "aecdfc90-b83f-4933-c064-704274144031"
      },
      "execution_count": 11,
      "outputs": [
        {
          "output_type": "error",
          "ename": "ValueError",
          "evalue": "ignored",
          "traceback": [
            "\u001b[0;31m---------------------------------------------------------------------------\u001b[0m",
            "\u001b[0;31mValueError\u001b[0m                                Traceback (most recent call last)",
            "\u001b[0;32m<ipython-input-11-1b52063af361>\u001b[0m in \u001b[0;36m<module>\u001b[0;34m()\u001b[0m\n\u001b[0;32m----> 1\u001b[0;31m \u001b[0mrandom\u001b[0m\u001b[0;34m.\u001b[0m\u001b[0msample\u001b[0m\u001b[0;34m(\u001b[0m\u001b[0ml1\u001b[0m\u001b[0;34m,\u001b[0m\u001b[0;36m18\u001b[0m\u001b[0;34m)\u001b[0m\u001b[0;34m\u001b[0m\u001b[0;34m\u001b[0m\u001b[0m\n\u001b[0m",
            "\u001b[0;32m/usr/lib/python3.7/random.py\u001b[0m in \u001b[0;36msample\u001b[0;34m(self, population, k)\u001b[0m\n\u001b[1;32m    319\u001b[0m         \u001b[0mn\u001b[0m \u001b[0;34m=\u001b[0m \u001b[0mlen\u001b[0m\u001b[0;34m(\u001b[0m\u001b[0mpopulation\u001b[0m\u001b[0;34m)\u001b[0m\u001b[0;34m\u001b[0m\u001b[0;34m\u001b[0m\u001b[0m\n\u001b[1;32m    320\u001b[0m         \u001b[0;32mif\u001b[0m \u001b[0;32mnot\u001b[0m \u001b[0;36m0\u001b[0m \u001b[0;34m<=\u001b[0m \u001b[0mk\u001b[0m \u001b[0;34m<=\u001b[0m \u001b[0mn\u001b[0m\u001b[0;34m:\u001b[0m\u001b[0;34m\u001b[0m\u001b[0;34m\u001b[0m\u001b[0m\n\u001b[0;32m--> 321\u001b[0;31m             \u001b[0;32mraise\u001b[0m \u001b[0mValueError\u001b[0m\u001b[0;34m(\u001b[0m\u001b[0;34m\"Sample larger than population or is negative\"\u001b[0m\u001b[0;34m)\u001b[0m\u001b[0;34m\u001b[0m\u001b[0;34m\u001b[0m\u001b[0m\n\u001b[0m\u001b[1;32m    322\u001b[0m         \u001b[0mresult\u001b[0m \u001b[0;34m=\u001b[0m \u001b[0;34m[\u001b[0m\u001b[0;32mNone\u001b[0m\u001b[0;34m]\u001b[0m \u001b[0;34m*\u001b[0m \u001b[0mk\u001b[0m\u001b[0;34m\u001b[0m\u001b[0;34m\u001b[0m\u001b[0m\n\u001b[1;32m    323\u001b[0m         \u001b[0msetsize\u001b[0m \u001b[0;34m=\u001b[0m \u001b[0;36m21\u001b[0m        \u001b[0;31m# size of a small set minus size of an empty list\u001b[0m\u001b[0;34m\u001b[0m\u001b[0;34m\u001b[0m\u001b[0m\n",
            "\u001b[0;31mValueError\u001b[0m: Sample larger than population or is negative"
          ]
        }
      ]
    },
    {
      "cell_type": "markdown",
      "source": [
        "We can also use the random.sample() function to randomize the items in our list. We can do this by simply sampling all the items in the list."
      ],
      "metadata": {
        "id": "ZjEJp5ZzLu0p"
      }
    },
    {
      "cell_type": "code",
      "source": [
        "#random.sample to randomize the list\n",
        "random.sample(l1,len(l1))"
      ],
      "metadata": {
        "colab": {
          "base_uri": "https://localhost:8080/"
        },
        "id": "CxshEZZnL3tX",
        "outputId": "6a8bd821-907d-4f59-a958-7ac56e36153b"
      },
      "execution_count": 13,
      "outputs": [
        {
          "output_type": "execute_result",
          "data": {
            "text/plain": [
              "[4, 33, 7, 6, 11, 5, 8, 2, 55, 3, 9]"
            ]
          },
          "metadata": {},
          "execution_count": 13
        }
      ]
    },
    {
      "cell_type": "markdown",
      "source": [
        "PICK RANDOM ELEMENTS FROM A LIST WITH REPLACEMENT"
      ],
      "metadata": {
        "id": "FH9LD-ZJL3xx"
      }
    },
    {
      "cell_type": "markdown",
      "source": [
        "THERE ALSO MAY BE TIMES THAT YOU WANT TO CHOOSE RANDOM ITEMS FROM A LIST WITH REPLACEMENT.THIS MEANS THE ITEM CAN BE CHOSEN MANY TIMES /MORE THAN A SINGLE TIME.\n",
        "\n",
        "In order to choose items randomly with replacement, we can use the random.choices() method. Similar to the random.sample() function, the function accepts a list and a number of elements, k. Since we can choose an item more than once, the value for k can actually exceed the number of items in the list."
      ],
      "metadata": {
        "id": "51TeSidHNuBj"
      }
    },
    {
      "cell_type": "markdown",
      "source": [
        "RANDOM.CHOICES(LIST,NUMBER OF ELEMENTS TO SELECT)"
      ],
      "metadata": {
        "id": "F1eXhysoNzzD"
      }
    },
    {
      "cell_type": "code",
      "source": [
        "random.choices(l1,k=5)"
      ],
      "metadata": {
        "colab": {
          "base_uri": "https://localhost:8080/"
        },
        "id": "exLMmt5MNz3t",
        "outputId": "95675eaa-f825-4a20-8c3a-786dd6a8ef00"
      },
      "execution_count": 16,
      "outputs": [
        {
          "output_type": "execute_result",
          "data": {
            "text/plain": [
              "[55, 4, 3, 11, 3]"
            ]
          },
          "metadata": {},
          "execution_count": 16
        }
      ]
    },
    {
      "cell_type": "code",
      "source": [
        "l1"
      ],
      "metadata": {
        "colab": {
          "base_uri": "https://localhost:8080/"
        },
        "id": "VjVn6-hdRIqY",
        "outputId": "f497e776-92ca-4cfd-86fb-9fa5b5296db0"
      },
      "execution_count": 15,
      "outputs": [
        {
          "output_type": "execute_result",
          "data": {
            "text/plain": [
              "[2, 3, 4, 5, 6, 7, 8, 9, 33, 11, 55]"
            ]
          },
          "metadata": {},
          "execution_count": 15
        }
      ]
    },
    {
      "cell_type": "code",
      "source": [
        "random.choices(l1,k=17)"
      ],
      "metadata": {
        "colab": {
          "base_uri": "https://localhost:8080/"
        },
        "id": "a5etnWPmReMY",
        "outputId": "682f659d-b62e-41d0-b403-2cbd8439f04a"
      },
      "execution_count": 18,
      "outputs": [
        {
          "output_type": "execute_result",
          "data": {
            "text/plain": [
              "[5, 9, 11, 2, 9, 11, 3, 6, 5, 9, 6, 33, 3, 9, 8, 11, 55]"
            ]
          },
          "metadata": {},
          "execution_count": 18
        }
      ]
    },
    {
      "cell_type": "markdown",
      "source": [
        "PICK WEIGHTED RANDOM ELEMENTS FROM A LIST WITH REPLACEMENT:\n",
        "There may be times when you want certain items to carry more weight than other items. This means that when selecting random items, you may want some items to have a higher likelihood of being chosen.\n",
        "\n",
        "We can change the weights of our items by passing in an array into the weights= parameter. Before diving into how this works, we can imagine that by default an array of equal weights is used. By changing the relative weights, we can specify how much more likely we want an item to be chosen.\n",
        "\n",
        "Let’s see how we can use Python to give an item a ten times higher likelihood of being chosen than other items in a list:"
      ],
      "metadata": {
        "id": "K_dZCELLReRg"
      }
    },
    {
      "cell_type": "code",
      "source": [
        "# Choosing random items from a list with replacement and weights\n",
        "import random\n",
        "\n",
        "random_items = random.choices(l1, k=4, weights=[10, 1, 1, 1,1,1,1,1,1,1,1])\n",
        "print(random_items)"
      ],
      "metadata": {
        "colab": {
          "base_uri": "https://localhost:8080/"
        },
        "id": "CrnDKhHUSeQU",
        "outputId": "b58195a2-6787-4b14-a509-522902130bac"
      },
      "execution_count": 31,
      "outputs": [
        {
          "output_type": "stream",
          "name": "stdout",
          "text": [
            "[2, 8, 6, 11]\n"
          ]
        }
      ]
    },
    {
      "cell_type": "code",
      "source": [
        "l1"
      ],
      "metadata": {
        "colab": {
          "base_uri": "https://localhost:8080/"
        },
        "id": "X_UgEG0QT7Lu",
        "outputId": "085b7374-7994-422f-fd5e-d8222fcc8338"
      },
      "execution_count": 32,
      "outputs": [
        {
          "output_type": "execute_result",
          "data": {
            "text/plain": [
              "[2, 3, 4, 5, 6, 7, 8, 9, 33, 11, 55]"
            ]
          },
          "metadata": {},
          "execution_count": 32
        }
      ]
    },
    {
      "cell_type": "markdown",
      "source": [
        "#Using Random Seed to Reproduce Results when Selecting Random Elements\n",
        "A very useful element in developing random results, is (ironically) the ability to reproduce results. This can help others replicate your results and can help significantly in troubleshooting your work as well.\n",
        "\n",
        "The Python random module includes the concept of a “seed”, which generates a random number generator. This allows us to replicate results.\n",
        "\n",
        "Let’s see how we can use the random seed() function to reproduce our results:"
      ],
      "metadata": {
        "id": "wpjWrA3ZT7QP"
      }
    },
    {
      "cell_type": "code",
      "source": [
        "random.seed(1)"
      ],
      "metadata": {
        "id": "N30NL7BzXSK6"
      },
      "execution_count": 42,
      "outputs": []
    },
    {
      "cell_type": "code",
      "source": [
        "random.sample(l1,k=5)"
      ],
      "metadata": {
        "colab": {
          "base_uri": "https://localhost:8080/"
        },
        "id": "HrEFXZnPXSPg",
        "outputId": "c639fcb3-3c6c-4c90-dc34-abbedbee6fe6"
      },
      "execution_count": 43,
      "outputs": [
        {
          "output_type": "execute_result",
          "data": {
            "text/plain": [
              "[4, 11, 3, 6, 2]"
            ]
          },
          "metadata": {},
          "execution_count": 43
        }
      ]
    },
    {
      "cell_type": "markdown",
      "source": [
        "RANDOM.CHOICE(ITERABLE) -- TO CHOSE SINGLE RANDOM ELEMENT FROM list\n",
        "RANDOM.SAMPLE(ITERABLE,K) - TO SELECT RANDOM ELEMENTS FROM LIST WITHOUT REPLACEMENT\n",
        "RANDOM.CHOICES((ITERABLE,K)- TO SELECT RANDOM ELEMENTS FROM LIST WITHOUT REPLACEMENT\n",
        "RANDOM.CHOICES(ITERABLE,K,WIEGHT=[LEN OF ITERABLE])"
      ],
      "metadata": {
        "id": "hDVkHaqHT7Uj"
      }
    },
    {
      "cell_type": "code",
      "source": [
        ""
      ],
      "metadata": {
        "id": "9Lk_yTULT7Yq"
      },
      "execution_count": null,
      "outputs": []
    },
    {
      "cell_type": "code",
      "source": [
        ""
      ],
      "metadata": {
        "id": "ptXlVDOPT7c9"
      },
      "execution_count": null,
      "outputs": []
    },
    {
      "cell_type": "code",
      "source": [
        ""
      ],
      "metadata": {
        "id": "GeEnck-3T7hX"
      },
      "execution_count": null,
      "outputs": []
    },
    {
      "cell_type": "code",
      "source": [
        ""
      ],
      "metadata": {
        "id": "hTY7grFFT7ly"
      },
      "execution_count": null,
      "outputs": []
    },
    {
      "cell_type": "code",
      "source": [
        ""
      ],
      "metadata": {
        "id": "jUG-Ch21T7pq"
      },
      "execution_count": null,
      "outputs": []
    },
    {
      "cell_type": "code",
      "source": [
        ""
      ],
      "metadata": {
        "id": "cQCkA2JQT7tI"
      },
      "execution_count": null,
      "outputs": []
    },
    {
      "cell_type": "code",
      "source": [
        ""
      ],
      "metadata": {
        "id": "wCn-65KpT7w4"
      },
      "execution_count": null,
      "outputs": []
    },
    {
      "cell_type": "code",
      "source": [
        ""
      ],
      "metadata": {
        "id": "OQeoCNDzSeUc"
      },
      "execution_count": null,
      "outputs": []
    },
    {
      "cell_type": "code",
      "source": [
        ""
      ],
      "metadata": {
        "id": "0RvJTcAPSeYe"
      },
      "execution_count": null,
      "outputs": []
    },
    {
      "cell_type": "code",
      "source": [
        ""
      ],
      "metadata": {
        "id": "FRL3MTs2Secx"
      },
      "execution_count": null,
      "outputs": []
    },
    {
      "cell_type": "code",
      "source": [
        ""
      ],
      "metadata": {
        "id": "-WjI9gdHSeg8"
      },
      "execution_count": null,
      "outputs": []
    },
    {
      "cell_type": "code",
      "source": [
        ""
      ],
      "metadata": {
        "id": "1Gj31boaSekl"
      },
      "execution_count": null,
      "outputs": []
    },
    {
      "cell_type": "code",
      "source": [
        ""
      ],
      "metadata": {
        "id": "cUaIneX5ReVz"
      },
      "execution_count": null,
      "outputs": []
    },
    {
      "cell_type": "code",
      "source": [
        ""
      ],
      "metadata": {
        "id": "J9YUevdARIua"
      },
      "execution_count": null,
      "outputs": []
    },
    {
      "cell_type": "code",
      "source": [
        ""
      ],
      "metadata": {
        "id": "IHrdPIRJRIyv"
      },
      "execution_count": null,
      "outputs": []
    },
    {
      "cell_type": "code",
      "source": [
        ""
      ],
      "metadata": {
        "id": "DYQ7PXssRI3I"
      },
      "execution_count": null,
      "outputs": []
    },
    {
      "cell_type": "code",
      "source": [
        ""
      ],
      "metadata": {
        "id": "xv06TRx6Nz8I"
      },
      "execution_count": null,
      "outputs": []
    },
    {
      "cell_type": "code",
      "source": [
        ""
      ],
      "metadata": {
        "id": "3TyuZVlqN0BC"
      },
      "execution_count": null,
      "outputs": []
    },
    {
      "cell_type": "code",
      "source": [
        ""
      ],
      "metadata": {
        "id": "j_vhgNOUN0G4"
      },
      "execution_count": null,
      "outputs": []
    },
    {
      "cell_type": "code",
      "source": [
        ""
      ],
      "metadata": {
        "id": "OhOCrPSPN0MR"
      },
      "execution_count": null,
      "outputs": []
    },
    {
      "cell_type": "code",
      "source": [
        ""
      ],
      "metadata": {
        "id": "9CSz3_9zN0Rb"
      },
      "execution_count": null,
      "outputs": []
    },
    {
      "cell_type": "code",
      "source": [
        ""
      ],
      "metadata": {
        "id": "lgIWHCviN0YN"
      },
      "execution_count": null,
      "outputs": []
    },
    {
      "cell_type": "code",
      "source": [
        ""
      ],
      "metadata": {
        "id": "aAmZgxg-N0c0"
      },
      "execution_count": null,
      "outputs": []
    },
    {
      "cell_type": "code",
      "source": [
        ""
      ],
      "metadata": {
        "id": "6XsNwtzpNuF6"
      },
      "execution_count": null,
      "outputs": []
    },
    {
      "cell_type": "code",
      "source": [
        ""
      ],
      "metadata": {
        "id": "CAfFZhsXNuJd"
      },
      "execution_count": null,
      "outputs": []
    },
    {
      "cell_type": "code",
      "source": [
        "B"
      ],
      "metadata": {
        "id": "tTqK-LvKNuMt"
      },
      "execution_count": null,
      "outputs": []
    },
    {
      "cell_type": "code",
      "source": [
        ""
      ],
      "metadata": {
        "id": "mbiWno9oNWH4"
      },
      "execution_count": null,
      "outputs": []
    },
    {
      "cell_type": "code",
      "source": [
        ""
      ],
      "metadata": {
        "id": "LkUg6SOINWMJ"
      },
      "execution_count": null,
      "outputs": []
    },
    {
      "cell_type": "code",
      "source": [
        "b"
      ],
      "metadata": {
        "id": "7LVC__P_NWPq"
      },
      "execution_count": null,
      "outputs": []
    },
    {
      "cell_type": "code",
      "source": [
        ""
      ],
      "metadata": {
        "id": "5z1D6NMjNU5T"
      },
      "execution_count": null,
      "outputs": []
    },
    {
      "cell_type": "code",
      "source": [
        ""
      ],
      "metadata": {
        "id": "xrZ9RNnDNU9h"
      },
      "execution_count": null,
      "outputs": []
    },
    {
      "cell_type": "code",
      "source": [
        ""
      ],
      "metadata": {
        "id": "BlB0mlCbNVBj"
      },
      "execution_count": null,
      "outputs": []
    },
    {
      "cell_type": "code",
      "source": [
        ""
      ],
      "metadata": {
        "id": "x6fEitMrLu44"
      },
      "execution_count": null,
      "outputs": []
    },
    {
      "cell_type": "code",
      "source": [
        ""
      ],
      "metadata": {
        "id": "qrMDaSvwLu89"
      },
      "execution_count": null,
      "outputs": []
    },
    {
      "cell_type": "code",
      "source": [
        ""
      ],
      "metadata": {
        "id": "-dkn4xySLvBk"
      },
      "execution_count": null,
      "outputs": []
    },
    {
      "cell_type": "code",
      "source": [
        ""
      ],
      "metadata": {
        "id": "RqrjI6j5LvF8"
      },
      "execution_count": null,
      "outputs": []
    },
    {
      "cell_type": "code",
      "source": [
        ""
      ],
      "metadata": {
        "id": "2Bpa9gydLvKL"
      },
      "execution_count": null,
      "outputs": []
    },
    {
      "cell_type": "code",
      "source": [
        ""
      ],
      "metadata": {
        "id": "YmPsn4sBFrra"
      },
      "execution_count": null,
      "outputs": []
    },
    {
      "cell_type": "code",
      "source": [
        ""
      ],
      "metadata": {
        "id": "VjXyDl7kFrwO"
      },
      "execution_count": null,
      "outputs": []
    },
    {
      "cell_type": "code",
      "source": [
        ""
      ],
      "metadata": {
        "id": "2S0VUDTuFr04"
      },
      "execution_count": null,
      "outputs": []
    },
    {
      "cell_type": "code",
      "source": [
        ""
      ],
      "metadata": {
        "id": "pV_WoxzSFr5n"
      },
      "execution_count": null,
      "outputs": []
    },
    {
      "cell_type": "code",
      "source": [
        ""
      ],
      "metadata": {
        "id": "B_Pg4Zu7Fr-e"
      },
      "execution_count": null,
      "outputs": []
    },
    {
      "cell_type": "code",
      "source": [
        ""
      ],
      "metadata": {
        "id": "n5rijicBDx2A"
      },
      "execution_count": null,
      "outputs": []
    },
    {
      "cell_type": "code",
      "source": [
        ""
      ],
      "metadata": {
        "id": "2j_1qSQcDx4V"
      },
      "execution_count": null,
      "outputs": []
    },
    {
      "cell_type": "code",
      "source": [
        ""
      ],
      "metadata": {
        "id": "YHPSBCWqDx6d"
      },
      "execution_count": null,
      "outputs": []
    },
    {
      "cell_type": "code",
      "source": [
        ""
      ],
      "metadata": {
        "id": "5HA8pAC_Dx8x"
      },
      "execution_count": null,
      "outputs": []
    },
    {
      "cell_type": "code",
      "source": [
        ""
      ],
      "metadata": {
        "id": "k1ob1l-6Dx_G"
      },
      "execution_count": null,
      "outputs": []
    },
    {
      "cell_type": "code",
      "source": [
        ""
      ],
      "metadata": {
        "id": "ao_rqRShDyBb"
      },
      "execution_count": null,
      "outputs": []
    },
    {
      "cell_type": "code",
      "source": [
        ""
      ],
      "metadata": {
        "id": "ganC51OdDyEI"
      },
      "execution_count": null,
      "outputs": []
    },
    {
      "cell_type": "code",
      "source": [
        ""
      ],
      "metadata": {
        "id": "77tDNHG2DyHo"
      },
      "execution_count": null,
      "outputs": []
    }
  ]
}