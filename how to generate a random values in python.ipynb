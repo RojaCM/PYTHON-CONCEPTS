{
  "nbformat": 4,
  "nbformat_minor": 0,
  "metadata": {
    "colab": {
      "name": "Untitled182.ipynb",
      "provenance": [],
      "authorship_tag": "ABX9TyN+sbNVmyOPMB/10V+Sf5zy",
      "include_colab_link": true
    },
    "kernelspec": {
      "name": "python3",
      "display_name": "Python 3"
    },
    "language_info": {
      "name": "python"
    }
  },
  "cells": [
    {
      "cell_type": "markdown",
      "metadata": {
        "id": "view-in-github",
        "colab_type": "text"
      },
      "source": [
        "<a href=\"https://colab.research.google.com/github/RojaCM/PYTHON-CONCEPTS/blob/main/how%20to%20generate%20a%20random%20values%20in%20python.ipynb\" target=\"_parent\"><img src=\"https://colab.research.google.com/assets/colab-badge.svg\" alt=\"Open In Colab\"/></a>"
      ]
    },
    {
      "cell_type": "markdown",
      "source": [
        "Generate Random Numbers in Python"
      ],
      "metadata": {
        "id": "DBUplntjazJV"
      }
    },
    {
      "cell_type": "markdown",
      "source": [
        "Generate Random Floating Point Value in Python :\n",
        "Python comes with a package, random, built in. This means that you don’t need to install any additional libraries. The library makes it incredibly easy to generate random numbers. Let’s first see how to create a random floating point between 0 and 1."
      ],
      "metadata": {
        "id": "Zxrz3OOla28v"
      }
    },
    {
      "cell_type": "markdown",
      "source": [
        "#the random function used to generate the random float number between 0 and 1"
      ],
      "metadata": {
        "id": "y1WhzsfXa3AH"
      }
    },
    {
      "cell_type": "code",
      "source": [
        "import random"
      ],
      "metadata": {
        "id": "ndU7lPlYbqiw"
      },
      "execution_count": 1,
      "outputs": []
    },
    {
      "cell_type": "code",
      "source": [
        "r=random.random()"
      ],
      "metadata": {
        "id": "vd1TmKABbqlN"
      },
      "execution_count": 6,
      "outputs": []
    },
    {
      "cell_type": "code",
      "source": [
        "r"
      ],
      "metadata": {
        "colab": {
          "base_uri": "https://localhost:8080/"
        },
        "id": "OVh6V4adbqnv",
        "outputId": "126c07a1-6e6c-46ac-e295-4ae9c6dbc1f7"
      },
      "execution_count": 7,
      "outputs": [
        {
          "output_type": "execute_result",
          "data": {
            "text/plain": [
              "0.5836552142816156"
            ]
          },
          "metadata": {},
          "execution_count": 7
        }
      ]
    },
    {
      "cell_type": "markdown",
      "source": [
        "Generate a Random Float Between 2 Numbers\n",
        "While the random() function generates a random float between 0 and 1. However, there may be times you want to generate a random float between any two values. For this, you can use the .uniform() function. Let’s see how this works:"
      ],
      "metadata": {
        "id": "UiwCjbUVbqqT"
      }
    },
    {
      "cell_type": "code",
      "source": [
        "# Generating a random float between two numbers\n",
        "import random\n",
        "r=random.uniform(10,20)"
      ],
      "metadata": {
        "id": "ckOhxVFEbqsy"
      },
      "execution_count": 8,
      "outputs": []
    },
    {
      "cell_type": "code",
      "source": [
        "r"
      ],
      "metadata": {
        "colab": {
          "base_uri": "https://localhost:8080/"
        },
        "id": "35-SLuvdbqwO",
        "outputId": "5238a888-0d08-4cc0-bbe0-9a5c0f886895"
      },
      "execution_count": 9,
      "outputs": [
        {
          "output_type": "execute_result",
          "data": {
            "text/plain": [
              "16.288170442070516"
            ]
          },
          "metadata": {},
          "execution_count": 9
        }
      ]
    },
    {
      "cell_type": "markdown",
      "source": [
        "Generate Random Integer in Python\n",
        "The random library makes it equally easy to generate random integer values in Python. For this, you can use the randint() function, which accepts two parameters:\n",
        "\n",
        "a= is the low end of the range, which can be selected\n",
        "b= is the high end of the range, which can also be selected\n",
        "Let’s see how we can generate a random integer in Python:"
      ],
      "metadata": {
        "id": "8mbL79tifZut"
      }
    },
    {
      "cell_type": "code",
      "source": [
        "a=random.randint(0,100)\n",
        "a"
      ],
      "metadata": {
        "colab": {
          "base_uri": "https://localhost:8080/"
        },
        "id": "59ric3UifZ17",
        "outputId": "8073e1a5-a81b-403a-8e45-9eff56a38de0"
      },
      "execution_count": 12,
      "outputs": [
        {
          "output_type": "execute_result",
          "data": {
            "text/plain": [
              "46"
            ]
          },
          "metadata": {},
          "execution_count": 12
        }
      ]
    },
    {
      "cell_type": "markdown",
      "source": [
        "Generate Random Numbers Between Two Values in Python\n",
        "In the example above, we used 0 as the starting point. However, if we wanted to generate a random number between two values, we can simply specify a different value as the starting point (including negative values).\n",
        "\n",
        "Let’s repeat this example by picking a random integer between -100 and 100:"
      ],
      "metadata": {
        "id": "b8OjkCApfZ63"
      }
    },
    {
      "cell_type": "code",
      "source": [
        "b=random.randint(-100,200)\n",
        "b"
      ],
      "metadata": {
        "colab": {
          "base_uri": "https://localhost:8080/"
        },
        "id": "wXkaGM4XfZ_M",
        "outputId": "b8fa8f8d-88fc-4483-eb1a-4dba4edf29a7"
      },
      "execution_count": 15,
      "outputs": [
        {
          "output_type": "execute_result",
          "data": {
            "text/plain": [
              "-46"
            ]
          },
          "metadata": {},
          "execution_count": 15
        }
      ]
    },
    {
      "cell_type": "markdown",
      "source": [
        "RANDRANGE FUNCTION - TO generate the random numbers between the values at particular steps.\n",
        "In this section, you’ll learn how to generate random numbers between two values that increase at particular steps. This means that say you wanted to choose a random number between, say, 0 and 100, but only in multiples of 3.\n",
        "\n",
        "For this, you can use the randrange() function. Let’s see how this works:"
      ],
      "metadata": {
        "id": "8CugRqgAfaD6"
      }
    },
    {
      "cell_type": "code",
      "source": [
        "# Choosing a Random Value from a Range\n",
        "import random\n",
        "print(random.randrange(0,29,3))\n"
      ],
      "metadata": {
        "colab": {
          "base_uri": "https://localhost:8080/"
        },
        "id": "lcTF6AOriHyW",
        "outputId": "f86440d4-3051-42ea-8a58-067781542823"
      },
      "execution_count": 19,
      "outputs": [
        {
          "output_type": "stream",
          "name": "stdout",
          "text": [
            "12\n"
          ]
        }
      ]
    },
    {
      "cell_type": "markdown",
      "source": [
        "Generate a List of Random Numbers in Python\n",
        "In this section, you’ll learn how to generate a list of random numbers in Python. Because this can be done in different ways, we’ll split this section into multiple parts. By the end of this, you’ll learn how to select a list of random floats, random integers, and random integers without repetition."
      ],
      "metadata": {
        "id": "qAzMuGlqiH0m"
      }
    },
    {
      "cell_type": "markdown",
      "source": [
        "1.Generate a List of Random Floats\n",
        "In order to generate a list of random floats, we can simply call the .random() or .uniform() functions multiple times. We can use either a for loop or a list comprehension.\n",
        "\n",
        "In the examples below, we’ll use a Python list comprehension to generate two lists: one with random floats between 0 and 1 and the other with random floats between two specified numbers:\n"
      ],
      "metadata": {
        "id": "rhktRrRmiH3K"
      }
    },
    {
      "cell_type": "code",
      "source": [
        "# Generate a list of random floats between 0 and 1\n",
        "import random\n",
        "\n",
        "num=[random.random() for i in range(4)]"
      ],
      "metadata": {
        "id": "xdXQTmbtiH5i"
      },
      "execution_count": 20,
      "outputs": []
    },
    {
      "cell_type": "code",
      "source": [
        "num"
      ],
      "metadata": {
        "colab": {
          "base_uri": "https://localhost:8080/"
        },
        "id": "OHZRZDfafaIl",
        "outputId": "5a31f61b-93b7-474a-c17a-f06760a82845"
      },
      "execution_count": 21,
      "outputs": [
        {
          "output_type": "execute_result",
          "data": {
            "text/plain": [
              "[0.35529541909573314,\n",
              " 0.6218654438327821,\n",
              " 0.5939200578913506,\n",
              " 0.5658098686519137]"
            ]
          },
          "metadata": {},
          "execution_count": 21
        }
      ]
    },
    {
      "cell_type": "code",
      "source": [
        "# Generate a list of random floats between 10 and 30\n",
        "import random\n",
        "\n",
        "num1=[random.uniform(10,30) for i in range(3)]\n",
        "num1"
      ],
      "metadata": {
        "colab": {
          "base_uri": "https://localhost:8080/"
        },
        "id": "jsZvpD3AjOlK",
        "outputId": "f8a71759-8cc7-4ffc-970b-977d4e6e0b8a"
      },
      "execution_count": 23,
      "outputs": [
        {
          "output_type": "execute_result",
          "data": {
            "text/plain": [
              "[24.94068882302075, 22.130863987132678, 14.134320283325374]"
            ]
          },
          "metadata": {},
          "execution_count": 23
        }
      ]
    },
    {
      "cell_type": "code",
      "source": [
        "#Generate a List of Random Integers\n",
        "\n",
        "num2=[random.randint(40,100) for i in range(5)]\n",
        "num2\n"
      ],
      "metadata": {
        "colab": {
          "base_uri": "https://localhost:8080/"
        },
        "id": "nEWI4fosjOnW",
        "outputId": "356d4cad-b683-42bf-8bfd-015e1b40ed5b"
      },
      "execution_count": 25,
      "outputs": [
        {
          "output_type": "execute_result",
          "data": {
            "text/plain": [
              "[75, 43, 92, 90, 89]"
            ]
          },
          "metadata": {},
          "execution_count": 25
        }
      ]
    },
    {
      "cell_type": "markdown",
      "source": [
        "#Generate a List of Random Integers without Substitution : random.sample()\n",
        "In this section, you’ll learn how to generate a list of random integers without substitution. This means that you can select a number once, and only once. In order to do this, you can use the random.sample() function.\n"
      ],
      "metadata": {
        "id": "g1YW8JVNjoiW"
      }
    },
    {
      "cell_type": "code",
      "source": [
        "#The function expects a list of values and the number of values to select.\n",
        "\n",
        "#random.sample(list of values ,number of values to select)\n",
        "\n",
        "# So, say you wanted to select five values without substitution between 0 and 15, you could write:\n",
        "\n",
        "n=random.sample(range(11,30),k=6)\n",
        "n"
      ],
      "metadata": {
        "colab": {
          "base_uri": "https://localhost:8080/"
        },
        "id": "c_aldYehjom1",
        "outputId": "a71ed14e-9c45-409d-d991-73ea3734a922"
      },
      "execution_count": 27,
      "outputs": [
        {
          "output_type": "execute_result",
          "data": {
            "text/plain": [
              "[16, 25, 29, 21, 12, 20]"
            ]
          },
          "metadata": {},
          "execution_count": 27
        }
      ]
    },
    {
      "cell_type": "markdown",
      "source": [
        "Generate a Random (Normal) Gaussian Distribution in Python - GAUSS FUNCTION"
      ],
      "metadata": {
        "id": "Bfoaw-bAjosH"
      }
    },
    {
      "cell_type": "markdown",
      "source": [
        "The random library also allows you to select a random value that follows a normal Gaussian distribution. In order to do this, you can use the gauss() function, which accepts both the mean and the standard deviation of the distribution.\n",
        "\n",
        "Let’s see how you can generate a random value from a distribution with the mean of 10 and a standard deviation of 1:"
      ],
      "metadata": {
        "id": "B1SazoUTjOpu"
      }
    },
    {
      "cell_type": "code",
      "source": [
        "# Selecting a random number from a Normal Distribution\n",
        "import random\n",
        "\n",
        "random_gaussian=random.gauss(10,3)"
      ],
      "metadata": {
        "id": "jnBTckI9jOr8"
      },
      "execution_count": 28,
      "outputs": []
    },
    {
      "cell_type": "code",
      "source": [
        "random_gaussian"
      ],
      "metadata": {
        "colab": {
          "base_uri": "https://localhost:8080/"
        },
        "id": "xmypZnW2jOt7",
        "outputId": "14b941d4-5d0f-4af8-aec5-ae4a311b1a23"
      },
      "execution_count": 29,
      "outputs": [
        {
          "output_type": "execute_result",
          "data": {
            "text/plain": [
              "11.71405566897468"
            ]
          },
          "metadata": {},
          "execution_count": 29
        }
      ]
    },
    {
      "cell_type": "markdown",
      "source": [
        "#Create Reproducible Random Numbers in Python: - random.seed()\n",
        "There will be many times when you want to generate a random number, but also want to be able to reproduce your result. This is where the random.seed() function come in. This allows you to set a seed that you can reproduce at any time.\n",
        "\n",
        "Let’s see how we can do this:\n"
      ],
      "metadata": {
        "id": "wvi1lyIbjOwY"
      }
    },
    {
      "cell_type": "code",
      "source": [
        "random.seed(100)\n",
        "n=random.random()\n",
        "n"
      ],
      "metadata": {
        "colab": {
          "base_uri": "https://localhost:8080/"
        },
        "id": "yjexdz7rjOyj",
        "outputId": "8ad7b3cd-beff-4a6d-9160-c7976902af52"
      },
      "execution_count": 34,
      "outputs": [
        {
          "output_type": "execute_result",
          "data": {
            "text/plain": [
              "0.1456692551041303"
            ]
          },
          "metadata": {},
          "execution_count": 34
        }
      ]
    },
    {
      "cell_type": "markdown",
      "source": [
        "#random.random()\n",
        "#random.seed()\n",
        "random.uniform()\n",
        "\n",
        "random.randint(lower,upper)\n",
        "\n",
        "random.randrange(start,stop,interval)\n",
        "\n",
        "random.sample(list of values,number of values to select)-no duplicates\n",
        "\n",
        "random.gauss(mean,sd)"
      ],
      "metadata": {
        "id": "oU9ICYLRtTlT"
      }
    },
    {
      "cell_type": "code",
      "source": [
        ""
      ],
      "metadata": {
        "id": "0ZIh5e_PtTqa"
      },
      "execution_count": null,
      "outputs": []
    },
    {
      "cell_type": "code",
      "source": [
        ""
      ],
      "metadata": {
        "id": "LSr68hC4tTtx"
      },
      "execution_count": null,
      "outputs": []
    },
    {
      "cell_type": "code",
      "source": [
        ""
      ],
      "metadata": {
        "id": "ygcMmnU0tTwu"
      },
      "execution_count": null,
      "outputs": []
    },
    {
      "cell_type": "code",
      "source": [
        ""
      ],
      "metadata": {
        "id": "mmJ4YgYBtT2O"
      },
      "execution_count": null,
      "outputs": []
    },
    {
      "cell_type": "code",
      "source": [
        ""
      ],
      "metadata": {
        "id": "8eefJWBFtVyp"
      },
      "execution_count": null,
      "outputs": []
    },
    {
      "cell_type": "code",
      "source": [
        ""
      ],
      "metadata": {
        "id": "H1tsVWEctV23"
      },
      "execution_count": null,
      "outputs": []
    },
    {
      "cell_type": "code",
      "source": [
        ""
      ],
      "metadata": {
        "id": "G5ntm5_-tV61"
      },
      "execution_count": null,
      "outputs": []
    }
  ]
}