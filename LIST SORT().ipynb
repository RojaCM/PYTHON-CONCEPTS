{
  "nbformat": 4,
  "nbformat_minor": 0,
  "metadata": {
    "colab": {
      "name": "Untitled176.ipynb",
      "provenance": [],
      "authorship_tag": "ABX9TyM+GeEXFAFa5oBGlPmpjdY3",
      "include_colab_link": true
    },
    "kernelspec": {
      "name": "python3",
      "display_name": "Python 3"
    },
    "language_info": {
      "name": "python"
    }
  },
  "cells": [
    {
      "cell_type": "markdown",
      "metadata": {
        "id": "view-in-github",
        "colab_type": "text"
      },
      "source": [
        "<a href=\"https://colab.research.google.com/github/RojaCM/PYTHON-CONCEPTS/blob/main/LIST%20SORT().ipynb\" target=\"_parent\"><img src=\"https://colab.research.google.com/assets/colab-badge.svg\" alt=\"Open In Colab\"/></a>"
      ]
    },
    {
      "cell_type": "markdown",
      "source": [
        "SORT () : We can modify the order of the list items using sort() function.\n",
        "Used to sort the elements in a list in a given order either ascending or descending.\n",
        "\n",
        "SYNTAX:\n",
        "\n",
        "list.sort(key=none,reverse=False)\n",
        "\n",
        "key= specifies the function of one argument that is used to compare against another list element. By default, the parameter is set to None, which means that the list items are sorted directly, without calculating a separate key value.\n",
        "reverse= specifies the order in which to sort values. By default, the argument is set to False, meaning that the data are sorted in ascending order."
      ],
      "metadata": {
        "id": "FkxS-Dvw6wLy"
      }
    },
    {
      "cell_type": "markdown",
      "source": [
        "Sort a Python List in Ascending Order : "
      ],
      "metadata": {
        "id": "-lvAYdtj9zzE"
      }
    },
    {
      "cell_type": "code",
      "source": [
        "# Sorting a List in Ascending Order\n",
        "name = ['d', 'a', 't', 'a', 'g', 'y']\n",
        "name.sort()"
      ],
      "metadata": {
        "id": "aTHMfXvF9z1k"
      },
      "execution_count": 1,
      "outputs": []
    },
    {
      "cell_type": "code",
      "source": [
        "name"
      ],
      "metadata": {
        "colab": {
          "base_uri": "https://localhost:8080/"
        },
        "id": "-aBmqzfY9z4Q",
        "outputId": "a5993bde-2caa-414b-fa08-3f53670629bb"
      },
      "execution_count": 2,
      "outputs": [
        {
          "output_type": "execute_result",
          "data": {
            "text/plain": [
              "['a', 'a', 'd', 'g', 't', 'y']"
            ]
          },
          "metadata": {},
          "execution_count": 2
        }
      ]
    },
    {
      "cell_type": "markdown",
      "source": [
        "Sort a Python List in Descending Order :we need to pass parameter reverse as TRUE\n"
      ],
      "metadata": {
        "id": "5KMijLbZ9z6p"
      }
    },
    {
      "cell_type": "code",
      "source": [
        "# Sorting a List in Descending Order\n",
        "name = ['d', 'a', 't', 'a', 'g', 'y']\n",
        "name.sort(reverse=True)\n",
        "print(name)"
      ],
      "metadata": {
        "colab": {
          "base_uri": "https://localhost:8080/"
        },
        "id": "1wtP6ON-9z88",
        "outputId": "eb690fb3-d076-470d-d4dd-7edc7722086d"
      },
      "execution_count": 5,
      "outputs": [
        {
          "output_type": "stream",
          "name": "stdout",
          "text": [
            "['y', 't', 'g', 'd', 'a', 'a']\n"
          ]
        }
      ]
    },
    {
      "cell_type": "code",
      "source": [
        "#Sort a Python List in Custom Order with Key :\n",
        "# Seeing Sort Order with Capital Letters\n",
        "\n",
        "a=['D','a','h','E','r','L']\n",
        "a.sort()"
      ],
      "metadata": {
        "id": "Z2zgta929z_K"
      },
      "execution_count": 7,
      "outputs": []
    },
    {
      "cell_type": "code",
      "source": [
        "a"
      ],
      "metadata": {
        "colab": {
          "base_uri": "https://localhost:8080/"
        },
        "id": "fXYE29Nd_h77",
        "outputId": "eac76816-70bd-42b8-fe88-89e462df08bc"
      },
      "execution_count": 8,
      "outputs": [
        {
          "output_type": "execute_result",
          "data": {
            "text/plain": [
              "['D', 'E', 'L', 'a', 'h', 'r']"
            ]
          },
          "metadata": {},
          "execution_count": 8
        }
      ]
    },
    {
      "cell_type": "code",
      "source": [
        "a.sort(reverse=True)"
      ],
      "metadata": {
        "id": "DqNOvE1zASFl"
      },
      "execution_count": 9,
      "outputs": []
    },
    {
      "cell_type": "code",
      "source": [
        "a"
      ],
      "metadata": {
        "colab": {
          "base_uri": "https://localhost:8080/"
        },
        "id": "HUA2AungAS6v",
        "outputId": "ed1e4b38-3a1e-44ca-d8be-a6aef7e7cae2"
      },
      "execution_count": 10,
      "outputs": [
        {
          "output_type": "execute_result",
          "data": {
            "text/plain": [
              "['r', 'h', 'a', 'L', 'E', 'D']"
            ]
          },
          "metadata": {},
          "execution_count": 10
        }
      ]
    },
    {
      "cell_type": "code",
      "source": [
        "a.sort(key=str.lower)"
      ],
      "metadata": {
        "id": "9074zjDOAS_I"
      },
      "execution_count": 11,
      "outputs": []
    },
    {
      "cell_type": "code",
      "source": [
        "a"
      ],
      "metadata": {
        "colab": {
          "base_uri": "https://localhost:8080/"
        },
        "id": "yHRxuIH3B7c1",
        "outputId": "32b44a2c-6ea0-44e7-98d1-1a1ee3aa2f2f"
      },
      "execution_count": 12,
      "outputs": [
        {
          "output_type": "execute_result",
          "data": {
            "text/plain": [
              "['a', 'D', 'E', 'h', 'L', 'r']"
            ]
          },
          "metadata": {},
          "execution_count": 12
        }
      ]
    },
    {
      "cell_type": "code",
      "source": [
        "#to sort a list of strings by their last letter\n",
        "words = ['apple', 'banana', 'grapefruit', 'plum']\n",
        "\n",
        "words.sort()"
      ],
      "metadata": {
        "id": "jWY4bvV4B7hX"
      },
      "execution_count": 14,
      "outputs": []
    },
    {
      "cell_type": "code",
      "source": [
        "words"
      ],
      "metadata": {
        "colab": {
          "base_uri": "https://localhost:8080/"
        },
        "id": "pYetaMwaCG-A",
        "outputId": "1ace9291-2bb4-4a24-e5d9-8e30a05ab89d"
      },
      "execution_count": 15,
      "outputs": [
        {
          "output_type": "execute_result",
          "data": {
            "text/plain": [
              "['apple', 'banana', 'grapefruit', 'plum']"
            ]
          },
          "metadata": {},
          "execution_count": 15
        }
      ]
    },
    {
      "cell_type": "code",
      "source": [
        "def get_last(word):\n",
        "    return word[-1]\n",
        "\n",
        "\n",
        "words.sort(key=get_last)"
      ],
      "metadata": {
        "id": "gXP1IdiTCHB6"
      },
      "execution_count": 20,
      "outputs": []
    },
    {
      "cell_type": "code",
      "source": [
        "words"
      ],
      "metadata": {
        "colab": {
          "base_uri": "https://localhost:8080/"
        },
        "id": "AmRWl65LCHIL",
        "outputId": "305dca67-757a-409d-f313-8336184aa4d1"
      },
      "execution_count": 21,
      "outputs": [
        {
          "output_type": "execute_result",
          "data": {
            "text/plain": [
              "['banana', 'apple', 'plum', 'grapefruit']"
            ]
          },
          "metadata": {},
          "execution_count": 21
        }
      ]
    },
    {
      "cell_type": "code",
      "source": [
        "#Sort a Python List in a Custom Order with Lambda :\n",
        "# Sorting a List with a Lambda Function\n",
        "words = ['apple', 'banana', 'grapefruit', 'plum']\n",
        "words.sort(key=lambda x:x[-1])"
      ],
      "metadata": {
        "id": "txjVMbFhCHN6"
      },
      "execution_count": 22,
      "outputs": []
    },
    {
      "cell_type": "code",
      "source": [
        "words"
      ],
      "metadata": {
        "colab": {
          "base_uri": "https://localhost:8080/"
        },
        "id": "ZA57PLK2B7lc",
        "outputId": "de71c55d-bf32-44db-8fb8-f313668f0c0b"
      },
      "execution_count": 23,
      "outputs": [
        {
          "output_type": "execute_result",
          "data": {
            "text/plain": [
              "['banana', 'apple', 'plum', 'grapefruit']"
            ]
          },
          "metadata": {},
          "execution_count": 23
        }
      ]
    },
    {
      "cell_type": "code",
      "source": [
        "#Sort a Python List of Lists :\n",
        "\n",
        "# Sorting a List of Lists by Their Length\n",
        "lists = [[1,2,3], [4, 5], [6], [7,8,9, 10]]\n",
        "\n",
        "lists.sort(key=len)"
      ],
      "metadata": {
        "id": "d2WYMSLsB7qB"
      },
      "execution_count": 24,
      "outputs": []
    },
    {
      "cell_type": "code",
      "source": [
        "lists"
      ],
      "metadata": {
        "colab": {
          "base_uri": "https://localhost:8080/"
        },
        "id": "GeERtHvjATDN",
        "outputId": "c4e5f155-5d58-4113-9b33-c90be4db4ff5"
      },
      "execution_count": 25,
      "outputs": [
        {
          "output_type": "execute_result",
          "data": {
            "text/plain": [
              "[[6], [4, 5], [1, 2, 3], [7, 8, 9, 10]]"
            ]
          },
          "metadata": {},
          "execution_count": 25
        }
      ]
    },
    {
      "cell_type": "markdown",
      "source": [
        "Sort a Python List of Tuples :\n",
        "For example, imagine we have a tuple that contains (country, number_of_medals), we can sort our list of countries in the order of most to least medals. Let’s see how we can do this:"
      ],
      "metadata": {
        "id": "aoSyG-5NATHv"
      }
    },
    {
      "cell_type": "code",
      "source": [
        "# Sorting a List of Tuples\n",
        "countries = [('Spain', 10), ('Portugal', 3), ('Italy', 5), ('Germany', 23), ('France', 12)]\n",
        "countries.sort(key=lambda x:x[1],reverse=True)"
      ],
      "metadata": {
        "id": "JFWyv5GnATMa"
      },
      "execution_count": 26,
      "outputs": []
    },
    {
      "cell_type": "code",
      "source": [
        "countries"
      ],
      "metadata": {
        "colab": {
          "base_uri": "https://localhost:8080/"
        },
        "id": "xlDTr893ASJt",
        "outputId": "d7b87ff7-cd9b-4dc8-bd05-8850ecc75fe2"
      },
      "execution_count": 27,
      "outputs": [
        {
          "output_type": "execute_result",
          "data": {
            "text/plain": [
              "[('Germany', 23), ('France', 12), ('Spain', 10), ('Italy', 5), ('Portugal', 3)]"
            ]
          },
          "metadata": {},
          "execution_count": 27
        }
      ]
    },
    {
      "cell_type": "code",
      "source": [
        "#Sort a Python List of Dictionaries:\n",
        "# A List of Dictionaries Containing People\n",
        "people = [\n",
        "    {'Name': 'Nik', 'Age': '33', 'City': 'London'}, \n",
        "    {'Name': 'Kate', 'Age': '32', 'City': 'Paris'}, \n",
        "    {'Name': 'Mike', 'Age': '23', 'City': 'Berlin'}]"
      ],
      "metadata": {
        "id": "Co-qwGkaASN1"
      },
      "execution_count": 28,
      "outputs": []
    },
    {
      "cell_type": "code",
      "source": [
        "people.sort(key=lambda x:x.get('Age'))"
      ],
      "metadata": {
        "id": "8FhjNcNXICBJ"
      },
      "execution_count": 29,
      "outputs": []
    },
    {
      "cell_type": "code",
      "source": [
        "people"
      ],
      "metadata": {
        "colab": {
          "base_uri": "https://localhost:8080/"
        },
        "id": "-gtHsgH8ICHX",
        "outputId": "4e3445f4-3740-4efe-c9b5-315537cffe59"
      },
      "execution_count": 30,
      "outputs": [
        {
          "output_type": "execute_result",
          "data": {
            "text/plain": [
              "[{'Age': '23', 'City': 'Berlin', 'Name': 'Mike'},\n",
              " {'Age': '32', 'City': 'Paris', 'Name': 'Kate'},\n",
              " {'Age': '33', 'City': 'London', 'Name': 'Nik'}]"
            ]
          },
          "metadata": {},
          "execution_count": 30
        }
      ]
    },
    {
      "cell_type": "code",
      "source": [
        ""
      ],
      "metadata": {
        "id": "hnRoOXCCJM4s"
      },
      "execution_count": null,
      "outputs": []
    },
    {
      "cell_type": "markdown",
      "source": [
        "get method used to access the value of the key in a dictionary()"
      ],
      "metadata": {
        "id": "EgGY76FmICLj"
      }
    },
    {
      "cell_type": "code",
      "source": [
        "b={'roja':25,'hhh':34,'iiii':76}"
      ],
      "metadata": {
        "id": "ynx536IOJB06"
      },
      "execution_count": 31,
      "outputs": []
    },
    {
      "cell_type": "code",
      "source": [
        "b.get('hhh')"
      ],
      "metadata": {
        "colab": {
          "base_uri": "https://localhost:8080/"
        },
        "id": "Ce708rUdJB4r",
        "outputId": "0d99e40e-85df-4b5c-dc76-c4987c402e04"
      },
      "execution_count": 32,
      "outputs": [
        {
          "output_type": "execute_result",
          "data": {
            "text/plain": [
              "34"
            ]
          },
          "metadata": {},
          "execution_count": 32
        }
      ]
    },
    {
      "cell_type": "code",
      "source": [
        "b.get('roja')"
      ],
      "metadata": {
        "colab": {
          "base_uri": "https://localhost:8080/"
        },
        "id": "ApbODSybJB8d",
        "outputId": "2738d5e7-2f2e-4f71-fd5e-64a438c86f0f"
      },
      "execution_count": 34,
      "outputs": [
        {
          "output_type": "execute_result",
          "data": {
            "text/plain": [
              "25"
            ]
          },
          "metadata": {},
          "execution_count": 34
        }
      ]
    },
    {
      "cell_type": "code",
      "source": [
        ""
      ],
      "metadata": {
        "id": "uhP7EKVkJXPQ"
      },
      "execution_count": null,
      "outputs": []
    },
    {
      "cell_type": "code",
      "source": [
        ""
      ],
      "metadata": {
        "id": "8rKrSVnHJdf2"
      },
      "execution_count": null,
      "outputs": []
    },
    {
      "cell_type": "code",
      "source": [
        ""
      ],
      "metadata": {
        "id": "xgD0uHsqJdkG"
      },
      "execution_count": null,
      "outputs": []
    },
    {
      "cell_type": "code",
      "source": [
        ""
      ],
      "metadata": {
        "id": "nkZYTcjTJdo7"
      },
      "execution_count": null,
      "outputs": []
    },
    {
      "cell_type": "code",
      "source": [
        ""
      ],
      "metadata": {
        "id": "VcRdKZ8NJXU-"
      },
      "execution_count": null,
      "outputs": []
    },
    {
      "cell_type": "code",
      "source": [
        ""
      ],
      "metadata": {
        "id": "pHjCHlLjICQQ"
      },
      "execution_count": null,
      "outputs": []
    },
    {
      "cell_type": "code",
      "source": [
        ""
      ],
      "metadata": {
        "id": "YDA7MZ0M_iAO"
      },
      "execution_count": null,
      "outputs": []
    },
    {
      "cell_type": "code",
      "source": [
        ""
      ],
      "metadata": {
        "id": "1yFs_xp0_iEV"
      },
      "execution_count": null,
      "outputs": []
    },
    {
      "cell_type": "code",
      "source": [
        ""
      ],
      "metadata": {
        "id": "S28JoweB_iIr"
      },
      "execution_count": null,
      "outputs": []
    },
    {
      "cell_type": "code",
      "source": [
        ""
      ],
      "metadata": {
        "id": "CmeLrdAj_iNj"
      },
      "execution_count": null,
      "outputs": []
    },
    {
      "cell_type": "code",
      "source": [
        ""
      ],
      "metadata": {
        "id": "7mIHv9R5_iSR"
      },
      "execution_count": null,
      "outputs": []
    },
    {
      "cell_type": "code",
      "source": [
        ""
      ],
      "metadata": {
        "id": "IDJe4NSh90B3"
      },
      "execution_count": null,
      "outputs": []
    },
    {
      "cell_type": "code",
      "source": [
        ""
      ],
      "metadata": {
        "id": "QhH7p4J290EP"
      },
      "execution_count": null,
      "outputs": []
    },
    {
      "cell_type": "code",
      "source": [
        ""
      ],
      "metadata": {
        "id": "wv34jyRw90G2"
      },
      "execution_count": null,
      "outputs": []
    }
  ]
}