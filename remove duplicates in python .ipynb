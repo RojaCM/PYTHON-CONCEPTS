{
  "nbformat": 4,
  "nbformat_minor": 0,
  "metadata": {
    "colab": {
      "name": "Untitled190.ipynb",
      "provenance": [],
      "authorship_tag": "ABX9TyNRQequ2On7itvyjHCq1OP7",
      "include_colab_link": true
    },
    "kernelspec": {
      "name": "python3",
      "display_name": "Python 3"
    },
    "language_info": {
      "name": "python"
    }
  },
  "cells": [
    {
      "cell_type": "markdown",
      "metadata": {
        "id": "view-in-github",
        "colab_type": "text"
      },
      "source": [
        "<a href=\"https://colab.research.google.com/github/RojaCM/PYTHON-CONCEPTS/blob/main/remove%20duplicates%20in%20python%20.ipynb\" target=\"_parent\"><img src=\"https://colab.research.google.com/assets/colab-badge.svg\" alt=\"Open In Colab\"/></a>"
      ]
    },
    {
      "cell_type": "markdown",
      "source": [
        "#Find Duplicates in a Python List\n",
        "Let’s start this tutorial by covering off how to find duplicates in a list in Python. We can do this by making use of both the set() function and the list.count() method.\n",
        "\n",
        "The .count() method takes a single argument, the item you want to count, and returns the number of times that item appears in a list. Because of this, we can create a lists comprehension that only returns items that exist more than once. Let’s see how this works and then break it down a bit further:"
      ],
      "metadata": {
        "id": "NDtBwLTuADfL"
      }
    },
    {
      "cell_type": "code",
      "source": [
        "# Finding Duplicate Items in a Python List\n",
        "numbers = [1, 2, 3, 2, 5, 3, 3, 5, 6, 3, 4, 5, 7]\n",
        "\n",
        "dups=[i for i in numbers if numbers.count(i)>1]\n",
        "dups"
      ],
      "metadata": {
        "colab": {
          "base_uri": "https://localhost:8080/"
        },
        "id": "ms-Xk3q3EEQz",
        "outputId": "5ab60149-ce30-4c9d-ecd7-98592d4a172e"
      },
      "execution_count": 24,
      "outputs": [
        {
          "output_type": "execute_result",
          "data": {
            "text/plain": [
              "[2, 3, 2, 5, 3, 3, 5, 3, 5]"
            ]
          },
          "metadata": {},
          "execution_count": 24
        }
      ]
    },
    {
      "cell_type": "code",
      "source": [
        "dups\n",
        "#unique duplicates\n",
        "dups1=list(set(dups))"
      ],
      "metadata": {
        "id": "0dWY2tx3EETY"
      },
      "execution_count": 8,
      "outputs": []
    },
    {
      "cell_type": "code",
      "source": [
        "dups1"
      ],
      "metadata": {
        "colab": {
          "base_uri": "https://localhost:8080/"
        },
        "id": "2MSlUGV-EEWd",
        "outputId": "0efa84a3-bfb6-4ee4-bd71-9fc510b11555"
      },
      "execution_count": 9,
      "outputs": [
        {
          "output_type": "execute_result",
          "data": {
            "text/plain": [
              "[2, 3, 5]"
            ]
          },
          "metadata": {},
          "execution_count": 9
        }
      ]
    },
    {
      "cell_type": "markdown",
      "source": [
        "#How to Find Duplicates in a List and Count Them in Python\n",
        "how to count duplicate items in Python lists. This allows you to turn a list of items into a dictionary where the key is the list item and the corresponding value is the number of times the item is duplicated.\n",
        "\n",
        "\n",
        "In order to accomplish this, we’ll make use of the Counter class from the collections module. We’ll then filter our resulting dictionary using a dictionary comprehension. Let’s take a look at the code and then we’ll break down the steps line by line:\n",
        "\n"
      ],
      "metadata": {
        "id": "3YnFjo_SEEaB"
      }
    },
    {
      "cell_type": "code",
      "source": [
        "from collections import Counter\n",
        "\n",
        "counts=dict(Counter(numbers))"
      ],
      "metadata": {
        "id": "9aQLMcrVHpeg"
      },
      "execution_count": 11,
      "outputs": []
    },
    {
      "cell_type": "code",
      "source": [
        "counts"
      ],
      "metadata": {
        "colab": {
          "base_uri": "https://localhost:8080/"
        },
        "id": "6zU2ugukHphF",
        "outputId": "d3aac8cc-a7b7-495c-873e-0b0bcbc18674"
      },
      "execution_count": 12,
      "outputs": [
        {
          "output_type": "execute_result",
          "data": {
            "text/plain": [
              "{1: 1, 2: 2, 3: 4, 4: 1, 5: 3, 6: 1, 7: 1}"
            ]
          },
          "metadata": {},
          "execution_count": 12
        }
      ]
    },
    {
      "cell_type": "code",
      "source": [
        "dups2=[(key,value) for key,value in counts.items() if value>1]"
      ],
      "metadata": {
        "id": "_THSXTgXHplG"
      },
      "execution_count": 19,
      "outputs": []
    },
    {
      "cell_type": "code",
      "source": [
        "dups2"
      ],
      "metadata": {
        "colab": {
          "base_uri": "https://localhost:8080/"
        },
        "id": "QV9_ljq8HpnU",
        "outputId": "800b3a50-ff31-4505-db0d-56430d9325c5"
      },
      "execution_count": 17,
      "outputs": [
        {
          "output_type": "execute_result",
          "data": {
            "text/plain": [
              "[(2, 2), (3, 4), (5, 3)]"
            ]
          },
          "metadata": {},
          "execution_count": 17
        }
      ]
    },
    {
      "cell_type": "code",
      "source": [
        "dups3={key:value for key,value in counts.items() if value>1}"
      ],
      "metadata": {
        "id": "B2VIumxcLStl"
      },
      "execution_count": 21,
      "outputs": []
    },
    {
      "cell_type": "code",
      "source": [
        "dups3"
      ],
      "metadata": {
        "colab": {
          "base_uri": "https://localhost:8080/"
        },
        "id": "0N6CwnGCLSxj",
        "outputId": "8566c0eb-e67b-4ed2-c54f-29839f50f398"
      },
      "execution_count": 22,
      "outputs": [
        {
          "output_type": "execute_result",
          "data": {
            "text/plain": [
              "{2: 2, 3: 4, 5: 3}"
            ]
          },
          "metadata": {},
          "execution_count": 22
        }
      ]
    },
    {
      "cell_type": "markdown",
      "source": [
        "#How to Remove Duplicates from a List in Python\n",
        "Removing duplicates in a Python list is made easy by using the set() function. Because sets in Python cannot have duplicate items, when we convert a list to a set, it removes any duplicates in that list. We can then turn the set back into a list, using the list() function."
      ],
      "metadata": {
        "id": "oVL6QTqSLS1o"
      }
    },
    {
      "cell_type": "code",
      "source": [
        "# Remove Duplicates from a List in Python\n",
        "numbers = [1, 2, 3, 2, 5, 3, 3, 5, 6, 3, 4, 5, 7]\n",
        "dupr=list(set(numbers))"
      ],
      "metadata": {
        "id": "FOtdB_EML2sn"
      },
      "execution_count": 25,
      "outputs": []
    },
    {
      "cell_type": "code",
      "source": [
        "dupr"
      ],
      "metadata": {
        "colab": {
          "base_uri": "https://localhost:8080/"
        },
        "id": "EpgGvusyL2xJ",
        "outputId": "4836b9a8-c7ca-4caf-c748-f9d6770bb678"
      },
      "execution_count": 26,
      "outputs": [
        {
          "output_type": "execute_result",
          "data": {
            "text/plain": [
              "[1, 2, 3, 4, 5, 6, 7]"
            ]
          },
          "metadata": {},
          "execution_count": 26
        }
      ]
    },
    {
      "cell_type": "markdown",
      "source": [
        "#How to Remove Duplicates in a List of Dictionaries in Python\n",
        "Let’s take a look at how we can remove duplicates from a list of dictionaries in Python. You’ll often encounter data from the web in formats that resembles lists of dictionaries. Being able to remove the duplicates from these lists is an important skill to simplify your data."
      ],
      "metadata": {
        "id": "w9yOg21NL22K"
      }
    },
    {
      "cell_type": "markdown",
      "source": [
        "# Remove Duplicates from a List of Dictionaries\n"
      ],
      "metadata": {
        "id": "Z7Zx5m8QLS5-"
      }
    },
    {
      "cell_type": "code",
      "source": [
        "items = [{'name':'Nik'}, {'name': 'Kate'}, {'name':'James'}, {'name':'Nik'}, {'name': 'Kate'}]"
      ],
      "metadata": {
        "id": "mR5_1uOmHpoN"
      },
      "execution_count": 27,
      "outputs": []
    },
    {
      "cell_type": "code",
      "source": [
        "unique_items=[]\n",
        "for item in items:\n",
        "  if item not in unique_items:\n",
        "    unique_items.append(item)"
      ],
      "metadata": {
        "id": "GdomJphgHpqK"
      },
      "execution_count": 28,
      "outputs": []
    },
    {
      "cell_type": "code",
      "source": [
        "unique_items"
      ],
      "metadata": {
        "colab": {
          "base_uri": "https://localhost:8080/"
        },
        "id": "OIOAkxnRHps0",
        "outputId": "96a4659c-0a06-42bc-da0e-1404e7ca73cb"
      },
      "execution_count": 29,
      "outputs": [
        {
          "output_type": "execute_result",
          "data": {
            "text/plain": [
              "[{'name': 'Nik'}, {'name': 'Kate'}, {'name': 'James'}]"
            ]
          },
          "metadata": {},
          "execution_count": 29
        }
      ]
    },
    {
      "cell_type": "code",
      "source": [
        "numbers"
      ],
      "metadata": {
        "colab": {
          "base_uri": "https://localhost:8080/"
        },
        "id": "OGoxZjpoHpw7",
        "outputId": "70d04442-2d5a-457b-c334-d90456324de1"
      },
      "execution_count": 30,
      "outputs": [
        {
          "output_type": "execute_result",
          "data": {
            "text/plain": [
              "[1, 2, 3, 2, 5, 3, 3, 5, 6, 3, 4, 5, 7]"
            ]
          },
          "metadata": {},
          "execution_count": 30
        }
      ]
    },
    {
      "cell_type": "code",
      "source": [
        "numbers.index(3)"
      ],
      "metadata": {
        "colab": {
          "base_uri": "https://localhost:8080/"
        },
        "id": "MITidYM8SZPa",
        "outputId": "4b203f44-699e-42ce-cd14-f265237c6e65"
      },
      "execution_count": 31,
      "outputs": [
        {
          "output_type": "execute_result",
          "data": {
            "text/plain": [
              "2"
            ]
          },
          "metadata": {},
          "execution_count": 31
        }
      ]
    },
    {
      "cell_type": "code",
      "source": [
        "[i for i,j in enumerate(numbers) if j==3]"
      ],
      "metadata": {
        "colab": {
          "base_uri": "https://localhost:8080/"
        },
        "id": "y-uRyZAzSZUL",
        "outputId": "4837bec3-dc85-4645-9c49-eca1582d29d6"
      },
      "execution_count": 32,
      "outputs": [
        {
          "output_type": "execute_result",
          "data": {
            "text/plain": [
              "[2, 5, 6, 9]"
            ]
          },
          "metadata": {},
          "execution_count": 32
        }
      ]
    },
    {
      "cell_type": "code",
      "source": [
        "from more_itertools import locate"
      ],
      "metadata": {
        "id": "PY7XIWXhSft_"
      },
      "execution_count": 37,
      "outputs": []
    },
    {
      "cell_type": "code",
      "source": [
        "def fun(iterable,value):\n",
        "   idx=locate(iterable,lambda x:x==value)\n",
        "   return list(idx)\n",
        "\n"
      ],
      "metadata": {
        "id": "ytc5twshStm0"
      },
      "execution_count": 49,
      "outputs": []
    },
    {
      "cell_type": "code",
      "source": [
        "fun(numbers,3)"
      ],
      "metadata": {
        "colab": {
          "base_uri": "https://localhost:8080/"
        },
        "id": "00xbgpe1Strf",
        "outputId": "75f25ee3-6ebf-49c3-8a33-f99a26bfeead"
      },
      "execution_count": 50,
      "outputs": [
        {
          "output_type": "execute_result",
          "data": {
            "text/plain": [
              "[2, 5, 6, 9]"
            ]
          },
          "metadata": {},
          "execution_count": 50
        }
      ]
    },
    {
      "cell_type": "code",
      "source": [
        "#How to Remove Duplicates in a List of Lists in Python\n",
        "# Remove Duplicates from a List of Lists in Python\n",
        "list_of_lists = [[1,2,3], [1,2], [2,3], [1,2,3], [2,3], [1,2,3,4]]\n"
      ],
      "metadata": {
        "id": "O0P0nWv2Tgab"
      },
      "execution_count": 51,
      "outputs": []
    },
    {
      "cell_type": "code",
      "source": [
        "list_of_lists.sort(key=len,reverse=True)"
      ],
      "metadata": {
        "id": "5tk3UHrPSfyN"
      },
      "execution_count": 54,
      "outputs": []
    },
    {
      "cell_type": "code",
      "source": [
        "list_of_lists"
      ],
      "metadata": {
        "colab": {
          "base_uri": "https://localhost:8080/"
        },
        "id": "xVlP_00nV7ra",
        "outputId": "fe0d488f-f39b-4905-87aa-96331bb9927e"
      },
      "execution_count": 55,
      "outputs": [
        {
          "output_type": "execute_result",
          "data": {
            "text/plain": [
              "[[1, 2, 3, 4], [1, 2, 3], [1, 2, 3], [1, 2], [2, 3], [2, 3]]"
            ]
          },
          "metadata": {},
          "execution_count": 55
        }
      ]
    },
    {
      "cell_type": "code",
      "source": [
        "list_of_lists.sort(key=lambda x:len(x))"
      ],
      "metadata": {
        "id": "pNitvAyTV7wE"
      },
      "execution_count": 57,
      "outputs": []
    },
    {
      "cell_type": "code",
      "source": [
        "list_of_lists"
      ],
      "metadata": {
        "colab": {
          "base_uri": "https://localhost:8080/"
        },
        "id": "B5m0jhATWInF",
        "outputId": "9c5d8e31-1567-443b-d7d0-d740b359ef82"
      },
      "execution_count": 58,
      "outputs": [
        {
          "output_type": "execute_result",
          "data": {
            "text/plain": [
              "[[1, 2], [2, 3], [2, 3], [1, 2, 3], [1, 2, 3], [1, 2, 3, 4]]"
            ]
          },
          "metadata": {},
          "execution_count": 58
        }
      ]
    },
    {
      "cell_type": "code",
      "source": [
        "unique_sublist=[]\n",
        "for i in list_of_lists:\n",
        "  if i not in unique_sublist:\n",
        "    unique_sublist.append(i)\n"
      ],
      "metadata": {
        "id": "iJZSDvd-V7zo"
      },
      "execution_count": 59,
      "outputs": []
    },
    {
      "cell_type": "code",
      "source": [
        "unique_sublist"
      ],
      "metadata": {
        "colab": {
          "base_uri": "https://localhost:8080/"
        },
        "id": "8_Tr5CIaWXow",
        "outputId": "67a3ab6a-3420-458b-e366-de051d1940a2"
      },
      "execution_count": 60,
      "outputs": [
        {
          "output_type": "execute_result",
          "data": {
            "text/plain": [
              "[[1, 2], [2, 3], [1, 2, 3], [1, 2, 3, 4]]"
            ]
          },
          "metadata": {},
          "execution_count": 60
        }
      ]
    },
    {
      "cell_type": "code",
      "source": [
        ""
      ],
      "metadata": {
        "id": "rq6WeJTeWXtf"
      },
      "execution_count": null,
      "outputs": []
    },
    {
      "cell_type": "code",
      "source": [
        ""
      ],
      "metadata": {
        "id": "VA0wmR1UWXyQ"
      },
      "execution_count": null,
      "outputs": []
    },
    {
      "cell_type": "code",
      "source": [
        ""
      ],
      "metadata": {
        "id": "gKz0tAjcV72a"
      },
      "execution_count": null,
      "outputs": []
    },
    {
      "cell_type": "code",
      "source": [
        ""
      ],
      "metadata": {
        "id": "aADSu3hEV7FZ"
      },
      "execution_count": null,
      "outputs": []
    },
    {
      "cell_type": "code",
      "source": [
        ""
      ],
      "metadata": {
        "id": "lJ4pv5_mSZYZ"
      },
      "execution_count": null,
      "outputs": []
    }
  ]
}