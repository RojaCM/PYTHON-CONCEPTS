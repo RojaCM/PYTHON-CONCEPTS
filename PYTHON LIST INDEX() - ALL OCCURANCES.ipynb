{
  "nbformat": 4,
  "nbformat_minor": 0,
  "metadata": {
    "colab": {
      "name": "Untitled178.ipynb",
      "provenance": [],
      "authorship_tag": "ABX9TyNAyqclsArJpQ+nq2zTBwJJ",
      "include_colab_link": true
    },
    "kernelspec": {
      "name": "python3",
      "display_name": "Python 3"
    },
    "language_info": {
      "name": "python"
    }
  },
  "cells": [
    {
      "cell_type": "markdown",
      "metadata": {
        "id": "view-in-github",
        "colab_type": "text"
      },
      "source": [
        "<a href=\"https://colab.research.google.com/github/RojaCM/PYTHON-CONCEPTS/blob/main/PYTHON%20LIST%20INDEX()%20-%20ALL%20OCCURANCES.ipynb\" target=\"_parent\"><img src=\"https://colab.research.google.com/assets/colab-badge.svg\" alt=\"Open In Colab\"/></a>"
      ]
    },
    {
      "cell_type": "code",
      "execution_count": null,
      "metadata": {
        "id": "fjcOBSm6spz_"
      },
      "outputs": [],
      "source": [
        "l1=[1,2,3,4,5]\n",
        "l2=[7,8]"
      ]
    },
    {
      "cell_type": "code",
      "source": [
        "l1.extend([9])"
      ],
      "metadata": {
        "id": "wWXV7UBfsr3a"
      },
      "execution_count": null,
      "outputs": []
    },
    {
      "cell_type": "code",
      "source": [
        "l1"
      ],
      "metadata": {
        "colab": {
          "base_uri": "https://localhost:8080/"
        },
        "id": "hBgZphiZsyOm",
        "outputId": "91d8ef74-0889-4f91-e094-3c88e5b962b2"
      },
      "execution_count": null,
      "outputs": [
        {
          "output_type": "execute_result",
          "data": {
            "text/plain": [
              "[1, 2, 3, 4, 5, 9]"
            ]
          },
          "metadata": {},
          "execution_count": 6
        }
      ]
    },
    {
      "cell_type": "code",
      "source": [
        "l2.append(8)"
      ],
      "metadata": {
        "id": "5JN0BlY2s9Qv"
      },
      "execution_count": null,
      "outputs": []
    },
    {
      "cell_type": "code",
      "source": [
        "l2"
      ],
      "metadata": {
        "colab": {
          "base_uri": "https://localhost:8080/"
        },
        "id": "1p1VK1Kws9r_",
        "outputId": "b291278d-6e2b-4470-f983-ca85a89c79e2"
      },
      "execution_count": null,
      "outputs": [
        {
          "output_type": "execute_result",
          "data": {
            "text/plain": [
              "[7, 8, 8]"
            ]
          },
          "metadata": {},
          "execution_count": 8
        }
      ]
    },
    {
      "cell_type": "code",
      "source": [
        "l2.append([55,66])"
      ],
      "metadata": {
        "id": "y4tq80XbtA7F"
      },
      "execution_count": null,
      "outputs": []
    },
    {
      "cell_type": "code",
      "source": [
        "l2"
      ],
      "metadata": {
        "colab": {
          "base_uri": "https://localhost:8080/"
        },
        "id": "MLhyJa_atKeH",
        "outputId": "d42bff74-f5f3-4edd-cf6d-0efde0d8e041"
      },
      "execution_count": null,
      "outputs": [
        {
          "output_type": "execute_result",
          "data": {
            "text/plain": [
              "[7, 8, 8, [55, 66]]"
            ]
          },
          "metadata": {},
          "execution_count": 10
        }
      ]
    },
    {
      "cell_type": "code",
      "source": [
        "l1.extend([55,66])"
      ],
      "metadata": {
        "id": "dQ7aBQgNtK5t"
      },
      "execution_count": null,
      "outputs": []
    },
    {
      "cell_type": "code",
      "source": [
        "l1"
      ],
      "metadata": {
        "colab": {
          "base_uri": "https://localhost:8080/"
        },
        "id": "gaV-URhYtQXF",
        "outputId": "d2f7b707-5aa9-41d1-ee15-93300c20f1b4"
      },
      "execution_count": null,
      "outputs": [
        {
          "output_type": "execute_result",
          "data": {
            "text/plain": [
              "[1, 2, 3, 4, 5, 9, 55, 66]"
            ]
          },
          "metadata": {},
          "execution_count": 12
        }
      ]
    },
    {
      "cell_type": "code",
      "source": [
        "l2=[1,2,3,4,5,6]"
      ],
      "metadata": {
        "id": "3Byt8uo5tQrR"
      },
      "execution_count": null,
      "outputs": []
    },
    {
      "cell_type": "code",
      "source": [
        "['even' if i%2==0 else 'odd' for i in l2]"
      ],
      "metadata": {
        "colab": {
          "base_uri": "https://localhost:8080/"
        },
        "id": "EKG8gIGyteyR",
        "outputId": "60e07a45-89aa-4e4b-fceb-99727d3b7dea"
      },
      "execution_count": null,
      "outputs": [
        {
          "output_type": "execute_result",
          "data": {
            "text/plain": [
              "['odd', 'even', 'odd', 'even', 'odd', 'even']"
            ]
          },
          "metadata": {},
          "execution_count": 14
        }
      ]
    },
    {
      "cell_type": "code",
      "source": [
        "[i for i in l2 if i%2==0]"
      ],
      "metadata": {
        "colab": {
          "base_uri": "https://localhost:8080/"
        },
        "id": "rLbFFwTvte0m",
        "outputId": "0775af32-350e-40c1-f09c-b4dfafc7f109"
      },
      "execution_count": null,
      "outputs": [
        {
          "output_type": "execute_result",
          "data": {
            "text/plain": [
              "[2, 4, 6]"
            ]
          },
          "metadata": {},
          "execution_count": 16
        }
      ]
    },
    {
      "cell_type": "markdown",
      "source": [
        "Python: Find List Index of All Occurences of an Element"
      ],
      "metadata": {
        "id": "5uzPkTuFte3B"
      }
    },
    {
      "cell_type": "markdown",
      "source": [
        "How to use list.index() method to find the index of all elements in a list"
      ],
      "metadata": {
        "id": "fCm-J44ote5S"
      }
    },
    {
      "cell_type": "markdown",
      "source": [
        "the list.index() method has 3 parameters\n",
        "1.value-the element which search for in a list\n",
        "2.start-the index to start at\n",
        "3.end- the index to search upto "
      ],
      "metadata": {
        "id": "lOyl_HSQte7b"
      }
    },
    {
      "cell_type": "code",
      "source": [
        "# Using the .index() Method\n",
        "a_list = [1,2,3,4,1,2,1,2,3,4]\n",
        "a_list.index(3)"
      ],
      "metadata": {
        "id": "4L-A__bOte_C",
        "colab": {
          "base_uri": "https://localhost:8080/"
        },
        "outputId": "ad80ddc1-b158-4ff6-cddf-3770666ed502"
      },
      "execution_count": null,
      "outputs": [
        {
          "output_type": "execute_result",
          "data": {
            "text/plain": [
              "2"
            ]
          },
          "metadata": {},
          "execution_count": 17
        }
      ]
    },
    {
      "cell_type": "markdown",
      "source": [
        "How to Get Index of All Occurrences of Element in a Python List with a For Loop and Enumerate\n",
        "\n",
        "One of the most basic ways to get the index positions of all occurrences of an element in a Python list is by using a for loop and the Python enumerate function. The enumerate function is used to iterate over an object and returns both the index and element."
      ],
      "metadata": {
        "id": "bTKF0naR4SYt"
      }
    },
    {
      "cell_type": "code",
      "source": [
        "#using enumerate methods to get the index of an occurance of an element in a list\n",
        "\n",
        "a_list = [1,2,3,4,1,2,1,2,3,4]\n",
        "def find_indices(list_to_check, item_to_find):\n",
        "    indices = []\n",
        "    for idx, value in enumerate(a_list):\n",
        "        if value == item_to_find:\n",
        "            indices.append(idx)\n",
        "    return indices\n",
        "\n",
        "print(find_indices(a_list, 3))"
      ],
      "metadata": {
        "colab": {
          "base_uri": "https://localhost:8080/"
        },
        "id": "a9TEmab-49Nh",
        "outputId": "51d2f13a-8622-4e29-bebd-e7c93515b49e"
      },
      "execution_count": null,
      "outputs": [
        {
          "output_type": "stream",
          "name": "stdout",
          "text": [
            "[2, 8]\n"
          ]
        }
      ]
    },
    {
      "cell_type": "code",
      "source": [
        "index1"
      ],
      "metadata": {
        "colab": {
          "base_uri": "https://localhost:8080/"
        },
        "id": "A4BVQSKG49QK",
        "outputId": "cca420eb-5766-4da0-8f87-2ab0439e0428"
      },
      "execution_count": null,
      "outputs": [
        {
          "output_type": "execute_result",
          "data": {
            "text/plain": [
              "[2]"
            ]
          },
          "metadata": {},
          "execution_count": 23
        }
      ]
    },
    {
      "cell_type": "markdown",
      "source": [
        "How to Get Index of All Occurrences of Element in a Python List with more_itertools\n",
        "\n",
        "Locate function :\n",
        "The built-in more_itertools library comes with a number of helpful functions. One of these functions is the locate() function that takes an iterable and a function to evaluate against.\n",
        "\n",
        "locate(iterable,function)\n"
      ],
      "metadata": {
        "id": "06S8ZqUw49S0"
      }
    },
    {
      "cell_type": "code",
      "source": [
        "#using more iter_tools to find the all occurances of an element.\n",
        "\n",
        "from more_itertools import locate\n",
        "a_list = [1,2,3,4,1,2,1,2,3,4]\n",
        "def find_index(list1,element):\n",
        "  indices1=locate(list1,lambda x:x==element)\n",
        "  return list(indices1)\n",
        "\n",
        "find_index(a_list,3)"
      ],
      "metadata": {
        "colab": {
          "base_uri": "https://localhost:8080/"
        },
        "id": "oYI_By5m49Vp",
        "outputId": "6cc9f51f-7742-44ae-9b08-7ff69a2916f6"
      },
      "execution_count": null,
      "outputs": [
        {
          "output_type": "execute_result",
          "data": {
            "text/plain": [
              "[2, 8]"
            ]
          },
          "metadata": {},
          "execution_count": 29
        }
      ]
    },
    {
      "cell_type": "markdown",
      "source": [
        "HOW TO GET INDEX of ALL Occurrences OF AN ELEMENT USING NUMPY :\n",
        "\n",
        "NumPy makes the process of finding all index positions of an element in a list very easy and fast. This can be done by using the where() function. The where() function returns the index positions of all items in an array that match a given value.\n"
      ],
      "metadata": {
        "id": "zder7HI749YA"
      }
    },
    {
      "cell_type": "code",
      "source": [
        "# USING NUMPY TO GET ALL INDEX OF AN ELEMENT\n",
        "import numpy as np\n",
        "a_list=np.array(a_list)\n",
        "idx=np.where(a_list==2)[0]"
      ],
      "metadata": {
        "id": "Sb86aW3QAAog"
      },
      "execution_count": null,
      "outputs": []
    },
    {
      "cell_type": "code",
      "source": [
        "idx"
      ],
      "metadata": {
        "colab": {
          "base_uri": "https://localhost:8080/"
        },
        "id": "H-MH7nLMAAr-",
        "outputId": "bee7ad9e-44bd-4d0d-c65a-2e220f5f451e"
      },
      "execution_count": null,
      "outputs": [
        {
          "output_type": "execute_result",
          "data": {
            "text/plain": [
              "array([1, 5, 7])"
            ]
          },
          "metadata": {},
          "execution_count": 36
        }
      ]
    },
    {
      "cell_type": "code",
      "source": [
        "#How to get index of all occurances of an element in a python list using list comprehension\n",
        "\n",
        "# Using a List Comprehension to Find All Occurrences of an Element\n",
        "a_list1 = [1,2,3,4,1,2,1,2,3,4]\n",
        "def find_indices(list_to_check, item_to_find):\n",
        "    return [idx for idx, value in enumerate(list_to_check) if value == item_to_find]\n",
        "\n",
        "find_indices(a_list1, 1)\n",
        "\n",
        "  "
      ],
      "metadata": {
        "colab": {
          "base_uri": "https://localhost:8080/"
        },
        "id": "g2y1QsfhAAyp",
        "outputId": "73c76ece-0c83-464c-9508-f080fc7af202"
      },
      "execution_count": null,
      "outputs": [
        {
          "output_type": "execute_result",
          "data": {
            "text/plain": [
              "[0, 4, 6]"
            ]
          },
          "metadata": {},
          "execution_count": 49
        }
      ]
    },
    {
      "cell_type": "markdown",
      "source": [
        "Which Method is Fastest To Get Index of All Occurrences of an Element in a Python List\n",
        "The table below breaks down how long each method took to find the indices of all occurrences in a list of one hundred million elements:"
      ],
      "metadata": {
        "id": "q6VCrYk_DeKP"
      }
    },
    {
      "cell_type": "markdown",
      "source": [
        "Method\tTime to execute\n",
        "For loop and enumerate()\t4.97 seconds\n",
        "\n",
        "more_itertools locate()\t7.08 seconds\n",
        "\n",
        "numpy where()\t6.05 seconds\n",
        "\n",
        "List Comprehension and enumerate()\t4.69 seconds"
      ],
      "metadata": {
        "id": "DFpoLJK5DePD"
      }
    },
    {
      "cell_type": "markdown",
      "source": [
        "Python List Index: Find First, Last or All Occurrences :LIST.INDEX() method"
      ],
      "metadata": {
        "id": "v9oGsBM-DeSh"
      }
    },
    {
      "cell_type": "code",
      "source": [
        ""
      ],
      "metadata": {
        "id": "qjL9FKhvnDGY"
      },
      "execution_count": null,
      "outputs": []
    },
    {
      "cell_type": "markdown",
      "source": [
        "The Python list.index() method returns the index of the item specified in the list. The method will return only the first instance of that item. It will raise a ValueError is that item is not present in the list.\n",
        "\n",
        "# The list.index() Method Explained\n",
        "list.index(\n",
        "    element,    # The element to search for\n",
        "\n",
        "    start,      # The index to start searching at\n",
        "    \n",
        "    end         # The index to end searching at\n",
        ")"
      ],
      "metadata": {
        "id": "0YFBcAq2lzfL"
      }
    },
    {
      "cell_type": "code",
      "source": [
        "#Find the Index Position of an Item in a Python List :\n",
        "# Finding the index of an item in a list\n",
        "a_list = ['datagy', 'twitter', 'facebook', 'twitter', 'tiktok', 'youtube']\n",
        "a_list.index('datagy')"
      ],
      "metadata": {
        "id": "UBQyUNX_lzjG",
        "outputId": "e1a32ca3-2d1e-4326-e65a-9f6ab777a3df",
        "colab": {
          "base_uri": "https://localhost:8080/"
        }
      },
      "execution_count": 2,
      "outputs": [
        {
          "output_type": "execute_result",
          "data": {
            "text/plain": [
              "0"
            ]
          },
          "metadata": {},
          "execution_count": 2
        }
      ]
    },
    {
      "cell_type": "code",
      "source": [
        "def func(a_list,item):\n",
        "    return [idx for idx,value in enumerate(a_list) if value==item]\n",
        "\n",
        "func(a_list,'twitter')"
      ],
      "metadata": {
        "id": "B6pd-QdglzpF",
        "outputId": "2f3abcbc-4de2-4be0-9a4e-71faac261995",
        "colab": {
          "base_uri": "https://localhost:8080/"
        }
      },
      "execution_count": 3,
      "outputs": [
        {
          "output_type": "execute_result",
          "data": {
            "text/plain": [
              "[1, 3]"
            ]
          },
          "metadata": {},
          "execution_count": 3
        }
      ]
    },
    {
      "cell_type": "markdown",
      "source": [
        "Find the Last Index Position of an Item in a Python List :\n",
        "\n",
        "In this section, you’ll learn how to find the last index position of an item in a list. There are different ways to approach this. Depending on the size of your list, you may want to choose one approach over the other.\n",
        "\n",
        "For smaller lists, let’s use this simpler approach:"
      ],
      "metadata": {
        "id": "lAZwiXmNlztV"
      }
    },
    {
      "cell_type": "code",
      "source": [
        "# Finding the last index position of an item in a list\n",
        "\n",
        "def last_index(list1,item):\n",
        "  return len(list1)-1-a_list[::-1].index(item)\n",
        "\n",
        "last_index(a_list,'twitter')"
      ],
      "metadata": {
        "id": "vcNhabRMqHmf",
        "outputId": "9ffe13f5-9228-4c33-8d6e-bca6d1719c9f",
        "colab": {
          "base_uri": "https://localhost:8080/"
        }
      },
      "execution_count": 8,
      "outputs": [
        {
          "output_type": "execute_result",
          "data": {
            "text/plain": [
              "3"
            ]
          },
          "metadata": {},
          "execution_count": 8
        }
      ]
    },
    {
      "cell_type": "code",
      "source": [
        "len(a_list)-1 - a_list[::-1].index('tiktok')"
      ],
      "metadata": {
        "id": "tV5fIKDWqHqn",
        "outputId": "1de6d524-255c-4326-c255-1d8acfc95d2d",
        "colab": {
          "base_uri": "https://localhost:8080/"
        }
      },
      "execution_count": 9,
      "outputs": [
        {
          "output_type": "execute_result",
          "data": {
            "text/plain": [
              "4"
            ]
          },
          "metadata": {},
          "execution_count": 9
        }
      ]
    },
    {
      "cell_type": "code",
      "source": [
        "len(a_list)"
      ],
      "metadata": {
        "id": "h-MYKVsmqHvZ",
        "outputId": "67869ee8-3b03-446d-c719-7ca997176a9b",
        "colab": {
          "base_uri": "https://localhost:8080/"
        }
      },
      "execution_count": 10,
      "outputs": [
        {
          "output_type": "execute_result",
          "data": {
            "text/plain": [
              "6"
            ]
          },
          "metadata": {},
          "execution_count": 10
        }
      ]
    },
    {
      "cell_type": "code",
      "source": [
        "a_list"
      ],
      "metadata": {
        "id": "sNciDdlprND0",
        "outputId": "261217e6-2aa3-4ff2-aec1-0c827eb728f6",
        "colab": {
          "base_uri": "https://localhost:8080/"
        }
      },
      "execution_count": 11,
      "outputs": [
        {
          "output_type": "execute_result",
          "data": {
            "text/plain": [
              "['datagy', 'twitter', 'facebook', 'twitter', 'tiktok', 'youtube']"
            ]
          },
          "metadata": {},
          "execution_count": 11
        }
      ]
    },
    {
      "cell_type": "code",
      "source": [
        "# A less simple, but more memory efficient way of finding the last index of an item \n",
        "def find_index(list1,element):\n",
        "  i=len(list1)-1\n",
        "  while(i>=0):\n",
        "    if list1[i]==element:\n",
        "      return i\n",
        "    else:\n",
        "      i=i-1\n",
        "\n",
        "\n",
        "find_index(l3,2)"
      ],
      "metadata": {
        "id": "8ry2bqzasbB1",
        "outputId": "5f1798d4-9f08-47d0-fca8-24115bb8e8f5",
        "colab": {
          "base_uri": "https://localhost:8080/"
        }
      },
      "execution_count": 14,
      "outputs": [
        {
          "output_type": "execute_result",
          "data": {
            "text/plain": [
              "12"
            ]
          },
          "metadata": {},
          "execution_count": 14
        }
      ]
    },
    {
      "cell_type": "code",
      "source": [
        "l3=[1,2,3,4,5,6,4,5,6,2,3,3,2,4,7]\n",
        "len(l3)"
      ],
      "metadata": {
        "id": "6pMhve5-zi4P",
        "outputId": "efed37d3-dc9c-4f3e-c059-3776f43ea0f4",
        "colab": {
          "base_uri": "https://localhost:8080/"
        }
      },
      "execution_count": 15,
      "outputs": [
        {
          "output_type": "execute_result",
          "data": {
            "text/plain": [
              "15"
            ]
          },
          "metadata": {},
          "execution_count": 15
        }
      ]
    },
    {
      "cell_type": "markdown",
      "source": [
        "Index of an Element Not Present in a Python List\n",
        "By default, the Python list.index() method will raise a ValueError if an item is not present in a list. Let’s see what this looks like. We’ll search for the term 'pinterest' in our list:"
      ],
      "metadata": {
        "id": "6rHzegTO1DPD"
      }
    },
    {
      "cell_type": "code",
      "source": [
        "# Searching for an item that doesn't exist\n",
        "a_list = ['datagy', 'twitter', 'facebook', 'twitter', 'tiktok', 'youtube']\n",
        "a_list.index('mynthra')"
      ],
      "metadata": {
        "id": "95lUHuhZ1QJQ",
        "outputId": "e8964ca3-4179-4b00-f3ee-7071ed8b933a",
        "colab": {
          "base_uri": "https://localhost:8080/",
          "height": 207
        }
      },
      "execution_count": 16,
      "outputs": [
        {
          "output_type": "error",
          "ename": "ValueError",
          "evalue": "ignored",
          "traceback": [
            "\u001b[0;31m---------------------------------------------------------------------------\u001b[0m",
            "\u001b[0;31mValueError\u001b[0m                                Traceback (most recent call last)",
            "\u001b[0;32m<ipython-input-16-9b962a685616>\u001b[0m in \u001b[0;36m<module>\u001b[0;34m()\u001b[0m\n\u001b[1;32m      1\u001b[0m \u001b[0;31m# Searching for an item that doesn't exist\u001b[0m\u001b[0;34m\u001b[0m\u001b[0;34m\u001b[0m\u001b[0;34m\u001b[0m\u001b[0m\n\u001b[1;32m      2\u001b[0m \u001b[0ma_list\u001b[0m \u001b[0;34m=\u001b[0m \u001b[0;34m[\u001b[0m\u001b[0;34m'datagy'\u001b[0m\u001b[0;34m,\u001b[0m \u001b[0;34m'twitter'\u001b[0m\u001b[0;34m,\u001b[0m \u001b[0;34m'facebook'\u001b[0m\u001b[0;34m,\u001b[0m \u001b[0;34m'twitter'\u001b[0m\u001b[0;34m,\u001b[0m \u001b[0;34m'tiktok'\u001b[0m\u001b[0;34m,\u001b[0m \u001b[0;34m'youtube'\u001b[0m\u001b[0;34m]\u001b[0m\u001b[0;34m\u001b[0m\u001b[0;34m\u001b[0m\u001b[0m\n\u001b[0;32m----> 3\u001b[0;31m \u001b[0ma_list\u001b[0m\u001b[0;34m.\u001b[0m\u001b[0mindex\u001b[0m\u001b[0;34m(\u001b[0m\u001b[0;34m'mynthra'\u001b[0m\u001b[0;34m)\u001b[0m\u001b[0;34m\u001b[0m\u001b[0;34m\u001b[0m\u001b[0m\n\u001b[0m",
            "\u001b[0;31mValueError\u001b[0m: 'mynthra' is not in list"
          ]
        }
      ]
    },
    {
      "cell_type": "code",
      "source": [
        "#When Python raises this error, the entire program stops. We can work around this by nesting it in a try-except block.\n",
        "\n",
        "# Handling an error when an item doesn't exist\n",
        "\n",
        "try:\n",
        "  a_list.index('roja')\n",
        "except ValueError:\n",
        "  print('item does not exist')\n",
        "\n",
        "\n",
        "\n"
      ],
      "metadata": {
        "id": "mRUlaDM-1QN8",
        "outputId": "7f174130-278f-4efe-e07f-3ece638ed0e6",
        "colab": {
          "base_uri": "https://localhost:8080/"
        }
      },
      "execution_count": 17,
      "outputs": [
        {
          "output_type": "stream",
          "name": "stdout",
          "text": [
            "item does not exist\n"
          ]
        }
      ]
    },
    {
      "cell_type": "markdown",
      "source": [
        "#Working with List Index Method Parameters\n",
        "The Python list.index() method also provides two additional parameters, start= and stop=. These parameters, respectively, indicate the positions at which to start and stop searching.\n",
        "\n",
        "Let’s say that we wanted to start searching at the second index and stop at the sixth, we could write:"
      ],
      "metadata": {
        "id": "kI1F49421DSa"
      }
    },
    {
      "cell_type": "code",
      "source": [
        "a_list.index('twitter',2,5)"
      ],
      "metadata": {
        "id": "F6l8Prakzi7O",
        "outputId": "354fb52d-97a6-46d3-8f3f-5a737d7eb32e",
        "colab": {
          "base_uri": "https://localhost:8080/"
        }
      },
      "execution_count": 19,
      "outputs": [
        {
          "output_type": "execute_result",
          "data": {
            "text/plain": [
              "3"
            ]
          },
          "metadata": {},
          "execution_count": 19
        }
      ]
    },
    {
      "cell_type": "markdown",
      "source": [
        "#Finding All Indices of Items Matching a Condition\n",
        "In this final section, we’ll explore how to find the index positions of all items that match a condition. Let’s say, for example, that we wanted to find all the index positions of items that contain the letter 'y'. We could use emulate the approach above where we find the index position of all items. However, we’ll add in an extra condition to our check:"
      ],
      "metadata": {
        "id": "xkm55-NDzjBC"
      }
    },
    {
      "cell_type": "code",
      "source": [
        "#Finding Indices of Items Matching a Condition\n",
        "\n",
        "l5=['roja','mce','hassan','hnpura','banglore']\n",
        "\n",
        "#written the index of items that contain letter 'r'\n",
        "\n",
        "def searchidx(list1,item):\n",
        "  return [idx for idx,value in enumerate(list1) if item in value]\n",
        "\n",
        "\n",
        "searchidx(l5,'r')"
      ],
      "metadata": {
        "id": "_U-lGDxX5EQR",
        "outputId": "c8acb1ae-3f82-471b-b2ab-8979c4b047a1",
        "colab": {
          "base_uri": "https://localhost:8080/"
        }
      },
      "execution_count": 21,
      "outputs": [
        {
          "output_type": "execute_result",
          "data": {
            "text/plain": [
              "[0, 3, 4]"
            ]
          },
          "metadata": {},
          "execution_count": 21
        }
      ]
    },
    {
      "cell_type": "code",
      "source": [
        ""
      ],
      "metadata": {
        "id": "BUxgFu6E5EUi"
      },
      "execution_count": null,
      "outputs": []
    },
    {
      "cell_type": "code",
      "source": [
        ""
      ],
      "metadata": {
        "id": "Xwd9hYOh5EYv"
      },
      "execution_count": null,
      "outputs": []
    },
    {
      "cell_type": "code",
      "source": [
        ""
      ],
      "metadata": {
        "id": "M7pawLFo5y9T"
      },
      "execution_count": null,
      "outputs": []
    },
    {
      "cell_type": "code",
      "source": [
        ""
      ],
      "metadata": {
        "id": "0rZwGBum5y_u"
      },
      "execution_count": null,
      "outputs": []
    },
    {
      "cell_type": "code",
      "source": [
        ""
      ],
      "metadata": {
        "id": "mvAu53mY5zCw"
      },
      "execution_count": null,
      "outputs": []
    },
    {
      "cell_type": "code",
      "source": [
        ""
      ],
      "metadata": {
        "id": "plmBJZUE5zGH"
      },
      "execution_count": null,
      "outputs": []
    },
    {
      "cell_type": "code",
      "source": [
        ""
      ],
      "metadata": {
        "id": "Te55JBWCzjFU"
      },
      "execution_count": null,
      "outputs": []
    },
    {
      "cell_type": "code",
      "source": [
        ""
      ],
      "metadata": {
        "id": "E9uwrmEwzjKp"
      },
      "execution_count": null,
      "outputs": []
    },
    {
      "cell_type": "code",
      "source": [
        ""
      ],
      "metadata": {
        "id": "JB9veIWAzjPX"
      },
      "execution_count": null,
      "outputs": []
    }
  ]
}