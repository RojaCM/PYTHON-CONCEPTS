{
  "nbformat": 4,
  "nbformat_minor": 0,
  "metadata": {
    "colab": {
      "name": "Untitled178.ipynb",
      "provenance": [],
      "authorship_tag": "ABX9TyOkhnMjrJlp8iGC8kUqiKWA",
      "include_colab_link": true
    },
    "kernelspec": {
      "name": "python3",
      "display_name": "Python 3"
    },
    "language_info": {
      "name": "python"
    }
  },
  "cells": [
    {
      "cell_type": "markdown",
      "metadata": {
        "id": "view-in-github",
        "colab_type": "text"
      },
      "source": [
        "<a href=\"https://colab.research.google.com/github/RojaCM/PYTHON-CONCEPTS/blob/main/PYTHON%20LIST%20INDEX()%20-%20ALL%20OCCURANCES.ipynb\" target=\"_parent\"><img src=\"https://colab.research.google.com/assets/colab-badge.svg\" alt=\"Open In Colab\"/></a>"
      ]
    },
    {
      "cell_type": "code",
      "execution_count": null,
      "metadata": {
        "id": "fjcOBSm6spz_"
      },
      "outputs": [],
      "source": [
        "l1=[1,2,3,4,5]\n",
        "l2=[7,8]"
      ]
    },
    {
      "cell_type": "code",
      "source": [
        "l1.extend([9])"
      ],
      "metadata": {
        "id": "wWXV7UBfsr3a"
      },
      "execution_count": null,
      "outputs": []
    },
    {
      "cell_type": "code",
      "source": [
        "l1"
      ],
      "metadata": {
        "colab": {
          "base_uri": "https://localhost:8080/"
        },
        "id": "hBgZphiZsyOm",
        "outputId": "91d8ef74-0889-4f91-e094-3c88e5b962b2"
      },
      "execution_count": null,
      "outputs": [
        {
          "output_type": "execute_result",
          "data": {
            "text/plain": [
              "[1, 2, 3, 4, 5, 9]"
            ]
          },
          "metadata": {},
          "execution_count": 6
        }
      ]
    },
    {
      "cell_type": "code",
      "source": [
        "l2.append(8)"
      ],
      "metadata": {
        "id": "5JN0BlY2s9Qv"
      },
      "execution_count": null,
      "outputs": []
    },
    {
      "cell_type": "code",
      "source": [
        "l2"
      ],
      "metadata": {
        "colab": {
          "base_uri": "https://localhost:8080/"
        },
        "id": "1p1VK1Kws9r_",
        "outputId": "b291278d-6e2b-4470-f983-ca85a89c79e2"
      },
      "execution_count": null,
      "outputs": [
        {
          "output_type": "execute_result",
          "data": {
            "text/plain": [
              "[7, 8, 8]"
            ]
          },
          "metadata": {},
          "execution_count": 8
        }
      ]
    },
    {
      "cell_type": "code",
      "source": [
        "l2.append([55,66])"
      ],
      "metadata": {
        "id": "y4tq80XbtA7F"
      },
      "execution_count": null,
      "outputs": []
    },
    {
      "cell_type": "code",
      "source": [
        "l2"
      ],
      "metadata": {
        "colab": {
          "base_uri": "https://localhost:8080/"
        },
        "id": "MLhyJa_atKeH",
        "outputId": "d42bff74-f5f3-4edd-cf6d-0efde0d8e041"
      },
      "execution_count": null,
      "outputs": [
        {
          "output_type": "execute_result",
          "data": {
            "text/plain": [
              "[7, 8, 8, [55, 66]]"
            ]
          },
          "metadata": {},
          "execution_count": 10
        }
      ]
    },
    {
      "cell_type": "code",
      "source": [
        "l1.extend([55,66])"
      ],
      "metadata": {
        "id": "dQ7aBQgNtK5t"
      },
      "execution_count": null,
      "outputs": []
    },
    {
      "cell_type": "code",
      "source": [
        "l1"
      ],
      "metadata": {
        "colab": {
          "base_uri": "https://localhost:8080/"
        },
        "id": "gaV-URhYtQXF",
        "outputId": "d2f7b707-5aa9-41d1-ee15-93300c20f1b4"
      },
      "execution_count": null,
      "outputs": [
        {
          "output_type": "execute_result",
          "data": {
            "text/plain": [
              "[1, 2, 3, 4, 5, 9, 55, 66]"
            ]
          },
          "metadata": {},
          "execution_count": 12
        }
      ]
    },
    {
      "cell_type": "code",
      "source": [
        "l2=[1,2,3,4,5,6]"
      ],
      "metadata": {
        "id": "3Byt8uo5tQrR"
      },
      "execution_count": null,
      "outputs": []
    },
    {
      "cell_type": "code",
      "source": [
        "['even' if i%2==0 else 'odd' for i in l2]"
      ],
      "metadata": {
        "colab": {
          "base_uri": "https://localhost:8080/"
        },
        "id": "EKG8gIGyteyR",
        "outputId": "60e07a45-89aa-4e4b-fceb-99727d3b7dea"
      },
      "execution_count": null,
      "outputs": [
        {
          "output_type": "execute_result",
          "data": {
            "text/plain": [
              "['odd', 'even', 'odd', 'even', 'odd', 'even']"
            ]
          },
          "metadata": {},
          "execution_count": 14
        }
      ]
    },
    {
      "cell_type": "code",
      "source": [
        "[i for i in l2 if i%2==0]"
      ],
      "metadata": {
        "colab": {
          "base_uri": "https://localhost:8080/"
        },
        "id": "rLbFFwTvte0m",
        "outputId": "0775af32-350e-40c1-f09c-b4dfafc7f109"
      },
      "execution_count": null,
      "outputs": [
        {
          "output_type": "execute_result",
          "data": {
            "text/plain": [
              "[2, 4, 6]"
            ]
          },
          "metadata": {},
          "execution_count": 16
        }
      ]
    },
    {
      "cell_type": "markdown",
      "source": [
        "Python: Find List Index of All Occurences of an Element"
      ],
      "metadata": {
        "id": "5uzPkTuFte3B"
      }
    },
    {
      "cell_type": "markdown",
      "source": [
        "How to use list.index() method to find the index of all elements in a list"
      ],
      "metadata": {
        "id": "fCm-J44ote5S"
      }
    },
    {
      "cell_type": "markdown",
      "source": [
        "the list.index() method has 3 parameters\n",
        "1.value-the element which search for in a list\n",
        "2.start-the index to start at\n",
        "3.end- the index to search upto "
      ],
      "metadata": {
        "id": "lOyl_HSQte7b"
      }
    },
    {
      "cell_type": "code",
      "source": [
        "# Using the .index() Method\n",
        "a_list = [1,2,3,4,1,2,1,2,3,4]\n",
        "a_list.index(3)"
      ],
      "metadata": {
        "id": "4L-A__bOte_C",
        "colab": {
          "base_uri": "https://localhost:8080/"
        },
        "outputId": "ad80ddc1-b158-4ff6-cddf-3770666ed502"
      },
      "execution_count": 17,
      "outputs": [
        {
          "output_type": "execute_result",
          "data": {
            "text/plain": [
              "2"
            ]
          },
          "metadata": {},
          "execution_count": 17
        }
      ]
    },
    {
      "cell_type": "markdown",
      "source": [
        "How to Get Index of All Occurrences of Element in a Python List with a For Loop and Enumerate\n",
        "\n",
        "One of the most basic ways to get the index positions of all occurrences of an element in a Python list is by using a for loop and the Python enumerate function. The enumerate function is used to iterate over an object and returns both the index and element."
      ],
      "metadata": {
        "id": "bTKF0naR4SYt"
      }
    },
    {
      "cell_type": "code",
      "source": [
        "#using enumerate methods to get the index of an occurance of an element in a list\n",
        "\n",
        "a_list = [1,2,3,4,1,2,1,2,3,4]\n",
        "def find_indices(list_to_check, item_to_find):\n",
        "    indices = []\n",
        "    for idx, value in enumerate(a_list):\n",
        "        if value == item_to_find:\n",
        "            indices.append(idx)\n",
        "    return indices\n",
        "\n",
        "print(find_indices(a_list, 3))"
      ],
      "metadata": {
        "colab": {
          "base_uri": "https://localhost:8080/"
        },
        "id": "a9TEmab-49Nh",
        "outputId": "51d2f13a-8622-4e29-bebd-e7c93515b49e"
      },
      "execution_count": 28,
      "outputs": [
        {
          "output_type": "stream",
          "name": "stdout",
          "text": [
            "[2, 8]\n"
          ]
        }
      ]
    },
    {
      "cell_type": "code",
      "source": [
        "index1"
      ],
      "metadata": {
        "colab": {
          "base_uri": "https://localhost:8080/"
        },
        "id": "A4BVQSKG49QK",
        "outputId": "cca420eb-5766-4da0-8f87-2ab0439e0428"
      },
      "execution_count": 23,
      "outputs": [
        {
          "output_type": "execute_result",
          "data": {
            "text/plain": [
              "[2]"
            ]
          },
          "metadata": {},
          "execution_count": 23
        }
      ]
    },
    {
      "cell_type": "markdown",
      "source": [
        "How to Get Index of All Occurrences of Element in a Python List with more_itertools\n",
        "\n",
        "Locate function :\n",
        "The built-in more_itertools library comes with a number of helpful functions. One of these functions is the locate() function that takes an iterable and a function to evaluate against.\n",
        "\n",
        "locate(iterable,function)\n"
      ],
      "metadata": {
        "id": "06S8ZqUw49S0"
      }
    },
    {
      "cell_type": "code",
      "source": [
        "#using more iter_tools to find the all occurances of an element.\n",
        "\n",
        "from more_itertools import locate\n",
        "a_list = [1,2,3,4,1,2,1,2,3,4]\n",
        "def find_index(list1,element):\n",
        "  indices1=locate(list1,lambda x:x==element)\n",
        "  return list(indices1)\n",
        "\n",
        "find_index(a_list,3)"
      ],
      "metadata": {
        "colab": {
          "base_uri": "https://localhost:8080/"
        },
        "id": "oYI_By5m49Vp",
        "outputId": "6cc9f51f-7742-44ae-9b08-7ff69a2916f6"
      },
      "execution_count": 29,
      "outputs": [
        {
          "output_type": "execute_result",
          "data": {
            "text/plain": [
              "[2, 8]"
            ]
          },
          "metadata": {},
          "execution_count": 29
        }
      ]
    },
    {
      "cell_type": "markdown",
      "source": [
        "HOW TO GET INDEX of ALL Occurrences OF AN ELEMENT USING NUMPY :\n",
        "\n",
        "NumPy makes the process of finding all index positions of an element in a list very easy and fast. This can be done by using the where() function. The where() function returns the index positions of all items in an array that match a given value.\n"
      ],
      "metadata": {
        "id": "zder7HI749YA"
      }
    },
    {
      "cell_type": "code",
      "source": [
        "# USING NUMPY TO GET ALL INDEX OF AN ELEMENT\n",
        "import numpy as np\n",
        "a_list=np.array(a_list)\n",
        "idx=np.where(a_list==2)[0]"
      ],
      "metadata": {
        "id": "Sb86aW3QAAog"
      },
      "execution_count": 35,
      "outputs": []
    },
    {
      "cell_type": "code",
      "source": [
        "idx"
      ],
      "metadata": {
        "colab": {
          "base_uri": "https://localhost:8080/"
        },
        "id": "H-MH7nLMAAr-",
        "outputId": "bee7ad9e-44bd-4d0d-c65a-2e220f5f451e"
      },
      "execution_count": 36,
      "outputs": [
        {
          "output_type": "execute_result",
          "data": {
            "text/plain": [
              "array([1, 5, 7])"
            ]
          },
          "metadata": {},
          "execution_count": 36
        }
      ]
    },
    {
      "cell_type": "code",
      "source": [
        "#How to get index of all occurances of an element in a python list using list comprehension\n",
        "\n",
        "# Using a List Comprehension to Find All Occurrences of an Element\n",
        "a_list1 = [1,2,3,4,1,2,1,2,3,4]\n",
        "def find_indices(list_to_check, item_to_find):\n",
        "    return [idx for idx, value in enumerate(list_to_check) if value == item_to_find]\n",
        "\n",
        "find_indices(a_list1, 1)\n",
        "\n",
        "  "
      ],
      "metadata": {
        "colab": {
          "base_uri": "https://localhost:8080/"
        },
        "id": "g2y1QsfhAAyp",
        "outputId": "73c76ece-0c83-464c-9508-f080fc7af202"
      },
      "execution_count": 49,
      "outputs": [
        {
          "output_type": "execute_result",
          "data": {
            "text/plain": [
              "[0, 4, 6]"
            ]
          },
          "metadata": {},
          "execution_count": 49
        }
      ]
    },
    {
      "cell_type": "markdown",
      "source": [
        "Which Method is Fastest To Get Index of All Occurrences of an Element in a Python List\n",
        "The table below breaks down how long each method took to find the indices of all occurrences in a list of one hundred million elements:"
      ],
      "metadata": {
        "id": "q6VCrYk_DeKP"
      }
    },
    {
      "cell_type": "markdown",
      "source": [
        "Method\tTime to execute\n",
        "For loop and enumerate()\t4.97 seconds\n",
        "\n",
        "more_itertools locate()\t7.08 seconds\n",
        "\n",
        "numpy where()\t6.05 seconds\n",
        "\n",
        "List Comprehension and enumerate()\t4.69 seconds"
      ],
      "metadata": {
        "id": "DFpoLJK5DePD"
      }
    },
    {
      "cell_type": "code",
      "source": [
        ""
      ],
      "metadata": {
        "id": "v9oGsBM-DeSh"
      },
      "execution_count": null,
      "outputs": []
    }
  ]
}