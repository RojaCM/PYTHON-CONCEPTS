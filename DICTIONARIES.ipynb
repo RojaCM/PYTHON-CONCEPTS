{
  "nbformat": 4,
  "nbformat_minor": 0,
  "metadata": {
    "colab": {
      "name": "Untitled193.ipynb",
      "provenance": [],
      "authorship_tag": "ABX9TyPKfm6osxNia/8KCgh7du/V",
      "include_colab_link": true
    },
    "kernelspec": {
      "name": "python3",
      "display_name": "Python 3"
    },
    "language_info": {
      "name": "python"
    }
  },
  "cells": [
    {
      "cell_type": "markdown",
      "metadata": {
        "id": "view-in-github",
        "colab_type": "text"
      },
      "source": [
        "<a href=\"https://colab.research.google.com/github/RojaCM/PYTHON-CONCEPTS/blob/main/DICTIONARIES.ipynb\" target=\"_parent\"><img src=\"https://colab.research.google.com/assets/colab-badge.svg\" alt=\"Open In Colab\"/></a>"
      ]
    },
    {
      "cell_type": "markdown",
      "source": [
        "#PYTHON DICTIONARIES\n",
        "Python dictionaries are container data types, like Python lists. Dictionaries use a key-value pair mapping, allowing you to retrieve a value by looking up its corresponding key."
      ],
      "metadata": {
        "id": "2UYtR3pg5eVa"
      }
    },
    {
      "cell_type": "markdown",
      "source": [
        "#Because Python dictionaries aren’t a sequence data type, we can’t simply access, say, the first item. In order to access a particular value in a Python dictionary, we use a key in the dictionary to access the value.\n",
        "\n",
        "Unique – a given key can only exist a single time\n",
        "Immutable – meaning that keys must be of data types that cannot be altered, such as strings\n",
        "Think of Python dictionaries as, well, dictionaries. You can look up the value of a word (i.e., a key) and it’ll give you the corresponding definition (i.e., its value)."
      ],
      "metadata": {
        "id": "yfm67kNF54PR"
      }
    },
    {
      "cell_type": "code",
      "source": [
        "#CREATING PYTHON EMPTY DICTIONARY\n",
        "d={}\n",
        "d1=dict()\n",
        "\n",
        "#check the type of dictionaries created\n",
        "type(d)\n",
        "type(d1)\n"
      ],
      "metadata": {
        "colab": {
          "base_uri": "https://localhost:8080/"
        },
        "id": "xV68hpYB54Rl",
        "outputId": "5beb47a8-ced4-4112-adff-f2e9e7df9cef"
      },
      "execution_count": 3,
      "outputs": [
        {
          "output_type": "execute_result",
          "data": {
            "text/plain": [
              "dict"
            ]
          },
          "metadata": {},
          "execution_count": 3
        }
      ]
    },
    {
      "cell_type": "code",
      "source": [
        "#simple dictionary\n",
        "d2={'name':'roja',\n",
        "    'age':25,\n",
        "    'company':'legato',\n",
        "    'hobbies':['travelling','lsitining music','cooking']}"
      ],
      "metadata": {
        "id": "7iaZcsKG54T-"
      },
      "execution_count": 4,
      "outputs": []
    },
    {
      "cell_type": "code",
      "source": [
        "d2"
      ],
      "metadata": {
        "colab": {
          "base_uri": "https://localhost:8080/"
        },
        "id": "saJfpDIx9GwO",
        "outputId": "722ef25e-52bc-4e64-dede-aa1de20c66e3"
      },
      "execution_count": 5,
      "outputs": [
        {
          "output_type": "execute_result",
          "data": {
            "text/plain": [
              "{'age': 25,\n",
              " 'company': 'legato',\n",
              " 'hobbies': ['travelling', 'lsitining music', 'cooking'],\n",
              " 'name': 'roja'}"
            ]
          },
          "metadata": {},
          "execution_count": 5
        }
      ]
    },
    {
      "cell_type": "code",
      "source": [
        "sorted(d2.items(),key=len,reverse=True)"
      ],
      "metadata": {
        "colab": {
          "base_uri": "https://localhost:8080/"
        },
        "id": "Gz73ILvE9G0l",
        "outputId": "84a027d9-06c1-4316-dccf-70e5f5ca66ab"
      },
      "execution_count": 11,
      "outputs": [
        {
          "output_type": "execute_result",
          "data": {
            "text/plain": [
              "[('name', 'roja'),\n",
              " ('age', 25),\n",
              " ('company', 'legato'),\n",
              " ('hobbies', ['travelling', 'lsitining music', 'cooking'])]"
            ]
          },
          "metadata": {},
          "execution_count": 11
        }
      ]
    },
    {
      "cell_type": "markdown",
      "source": [
        "#Working with Python Dictionaries\n",
        "Being able to create Python dictionaries is one thing, but you also need to know how to work with them. In this section, you’ll learn different ways of accessing dictionary items, modify items, and how to add and remove items. There are different ways in which to accomplish all of this but you’ll learn the safest and most common ways of accomplish this."
      ],
      "metadata": {
        "id": "AJIJdJL6-bm1"
      }
    },
    {
      "cell_type": "markdown",
      "source": [
        "#accessing the items in python dictionaries\n",
        " we have two methods to access the python dictionary \n",
        " 1.we can use []\n",
        " 2.We can use get() method"
      ],
      "metadata": {
        "id": "_reteALW_ECW"
      }
    },
    {
      "cell_type": "code",
      "source": [
        "# Accessing Dictionary Items with Square Brackets\n",
        "info = {'name': 'Nik', 'age': 33, 'location': 'Toronto'}\n",
        "info['name']"
      ],
      "metadata": {
        "colab": {
          "base_uri": "https://localhost:8080/",
          "height": 36
        },
        "id": "_0m9hSwA_EFC",
        "outputId": "18b7d404-0c90-4c51-be05-ac2f900bdf14"
      },
      "execution_count": 13,
      "outputs": [
        {
          "output_type": "execute_result",
          "data": {
            "text/plain": [
              "'Nik'"
            ],
            "application/vnd.google.colaboratory.intrinsic+json": {
              "type": "string"
            }
          },
          "metadata": {},
          "execution_count": 13
        }
      ]
    },
    {
      "cell_type": "code",
      "source": [
        "info['age']"
      ],
      "metadata": {
        "colab": {
          "base_uri": "https://localhost:8080/"
        },
        "id": "62LvpFas-bp_",
        "outputId": "0dc7f1d7-6245-49d6-fbd7-0f2694e8e535"
      },
      "execution_count": 14,
      "outputs": [
        {
          "output_type": "execute_result",
          "data": {
            "text/plain": [
              "33"
            ]
          },
          "metadata": {},
          "execution_count": 14
        }
      ]
    },
    {
      "cell_type": "code",
      "source": [
        "info['location']"
      ],
      "metadata": {
        "colab": {
          "base_uri": "https://localhost:8080/",
          "height": 36
        },
        "id": "VQEzB0xZAZ80",
        "outputId": "132baa6e-d326-499a-e548-ab677e6ce97e"
      },
      "execution_count": 17,
      "outputs": [
        {
          "output_type": "execute_result",
          "data": {
            "text/plain": [
              "'Toronto'"
            ],
            "application/vnd.google.colaboratory.intrinsic+json": {
              "type": "string"
            }
          },
          "metadata": {},
          "execution_count": 17
        }
      ]
    },
    {
      "cell_type": "code",
      "source": [
        "#That was easy! One of the quirks of using the square brackets method of accessing items is that it doesn’t work well with items that don’t exist.\n",
        "info['hobbies']"
      ],
      "metadata": {
        "colab": {
          "base_uri": "https://localhost:8080/",
          "height": 182
        },
        "id": "jLKrYDiKAaAV",
        "outputId": "17eefb45-1a0a-4599-81f2-5c3007e1857f"
      },
      "execution_count": 18,
      "outputs": [
        {
          "output_type": "error",
          "ename": "KeyError",
          "evalue": "ignored",
          "traceback": [
            "\u001b[0;31m---------------------------------------------------------------------------\u001b[0m",
            "\u001b[0;31mKeyError\u001b[0m                                  Traceback (most recent call last)",
            "\u001b[0;32m<ipython-input-18-fab6ff8ee848>\u001b[0m in \u001b[0;36m<module>\u001b[0;34m()\u001b[0m\n\u001b[1;32m      1\u001b[0m \u001b[0;31m#That was easy! One of the quirks of using the square brackets method of accessing items is that it doesn’t work well with items that don’t exist.\u001b[0m\u001b[0;34m\u001b[0m\u001b[0;34m\u001b[0m\u001b[0;34m\u001b[0m\u001b[0m\n\u001b[0;32m----> 2\u001b[0;31m \u001b[0minfo\u001b[0m\u001b[0;34m[\u001b[0m\u001b[0;34m'hobbies'\u001b[0m\u001b[0;34m]\u001b[0m\u001b[0;34m\u001b[0m\u001b[0;34m\u001b[0m\u001b[0m\n\u001b[0m",
            "\u001b[0;31mKeyError\u001b[0m: 'hobbies'"
          ]
        }
      ]
    },
    {
      "cell_type": "markdown",
      "source": [
        "#We can see that when we try to access an item that doesn’t exist that a KeyError is thrown. This indicates to us that a key doesn’t exist. What’s worse is that this actually crashes our program (unless we explicitly handle that error).\n",
        "\n",
        "One way that we can work around this is by using the .get() method. The .get() method will simply return the None value when a key doesn’t exist.\n",
        "\n",
        "The method works by applying it to a dictionary and passing in the key for which we want to return the value."
      ],
      "metadata": {
        "id": "k4KCV7PcAasM"
      }
    },
    {
      "cell_type": "code",
      "source": [
        "info"
      ],
      "metadata": {
        "colab": {
          "base_uri": "https://localhost:8080/"
        },
        "id": "7eMJRSvNBTlb",
        "outputId": "6423a6a7-bfea-4176-84d1-955a38adc229"
      },
      "execution_count": 19,
      "outputs": [
        {
          "output_type": "execute_result",
          "data": {
            "text/plain": [
              "{'age': 33, 'location': 'Toronto', 'name': 'Nik'}"
            ]
          },
          "metadata": {},
          "execution_count": 19
        }
      ]
    },
    {
      "cell_type": "code",
      "source": [
        "info.get('name')"
      ],
      "metadata": {
        "colab": {
          "base_uri": "https://localhost:8080/",
          "height": 36
        },
        "id": "unlzCxV7BTrD",
        "outputId": "45c66d2b-2108-427d-efe4-cefb49c737ec"
      },
      "execution_count": 20,
      "outputs": [
        {
          "output_type": "execute_result",
          "data": {
            "text/plain": [
              "'Nik'"
            ],
            "application/vnd.google.colaboratory.intrinsic+json": {
              "type": "string"
            }
          },
          "metadata": {},
          "execution_count": 20
        }
      ]
    },
    {
      "cell_type": "code",
      "source": [
        "info.get('age')"
      ],
      "metadata": {
        "colab": {
          "base_uri": "https://localhost:8080/"
        },
        "id": "MOhCIhOsAaxP",
        "outputId": "f1a94201-717c-4487-9168-f33c5b17ef77"
      },
      "execution_count": 21,
      "outputs": [
        {
          "output_type": "execute_result",
          "data": {
            "text/plain": [
              "33"
            ]
          },
          "metadata": {},
          "execution_count": 21
        }
      ]
    },
    {
      "cell_type": "code",
      "source": [
        "info.get('hobbies')"
      ],
      "metadata": {
        "id": "x6iNu2NBB2JW"
      },
      "execution_count": 23,
      "outputs": []
    },
    {
      "cell_type": "markdown",
      "source": [
        "#One of the perks of using the .get() method is that we can even pass in a default value that we want returned when a key doesn’t exist. For example, say we had intended to have a key named 'hobbies' which would contain a list of different hobbies. Instead of returning None, we could ask Python to return an empty list."
      ],
      "metadata": {
        "id": "xnYLWWFRB7Lv"
      }
    },
    {
      "cell_type": "code",
      "source": [
        "info"
      ],
      "metadata": {
        "colab": {
          "base_uri": "https://localhost:8080/"
        },
        "id": "j_WTTKu2B-lo",
        "outputId": "3ab46da1-a588-4d20-ad5c-0e8ecdacd906"
      },
      "execution_count": 24,
      "outputs": [
        {
          "output_type": "execute_result",
          "data": {
            "text/plain": [
              "{'age': 33, 'location': 'Toronto', 'name': 'Nik'}"
            ]
          },
          "metadata": {},
          "execution_count": 24
        }
      ]
    },
    {
      "cell_type": "code",
      "source": [
        "info.get('hobbies',['singing'])"
      ],
      "metadata": {
        "colab": {
          "base_uri": "https://localhost:8080/"
        },
        "id": "nQUr9NMiB-ro",
        "outputId": "ca29f500-35f9-40d1-cd03-ba7e7df0f430"
      },
      "execution_count": 26,
      "outputs": [
        {
          "output_type": "execute_result",
          "data": {
            "text/plain": [
              "['singing']"
            ]
          },
          "metadata": {},
          "execution_count": 26
        }
      ]
    },
    {
      "cell_type": "code",
      "source": [
        "#Adding Items to Python Dictionaries\n"
      ],
      "metadata": {
        "id": "dLQXT1pcB7QW"
      },
      "execution_count": null,
      "outputs": []
    },
    {
      "cell_type": "markdown",
      "source": [
        "Adding items to a Python dictionary is incredibly easy! We can simply directly assign a key:value pair onto the dictionary."
      ],
      "metadata": {
        "id": "jTb5fLXLC6Wo"
      }
    },
    {
      "cell_type": "code",
      "source": [
        "info"
      ],
      "metadata": {
        "colab": {
          "base_uri": "https://localhost:8080/"
        },
        "id": "c5ob718xC6bw",
        "outputId": "ae23e040-be1b-469d-d255-805b346a7359"
      },
      "execution_count": 28,
      "outputs": [
        {
          "output_type": "execute_result",
          "data": {
            "text/plain": [
              "{'age': 33, 'location': 'Toronto', 'name': 'Nik'}"
            ]
          },
          "metadata": {},
          "execution_count": 28
        }
      ]
    },
    {
      "cell_type": "code",
      "source": [
        "info['hobbies']=['travelling','cooking']"
      ],
      "metadata": {
        "id": "KpNHUn8eC6gj"
      },
      "execution_count": 29,
      "outputs": []
    },
    {
      "cell_type": "code",
      "source": [
        "info"
      ],
      "metadata": {
        "colab": {
          "base_uri": "https://localhost:8080/"
        },
        "id": "1IDF0sK9C6lY",
        "outputId": "66369473-e559-45d3-d59c-5845356d59d7"
      },
      "execution_count": 30,
      "outputs": [
        {
          "output_type": "execute_result",
          "data": {
            "text/plain": [
              "{'age': 33,\n",
              " 'hobbies': ['travelling', 'cooking'],\n",
              " 'location': 'Toronto',\n",
              " 'name': 'Nik'}"
            ]
          },
          "metadata": {},
          "execution_count": 30
        }
      ]
    },
    {
      "cell_type": "markdown",
      "source": [
        "Python also provides a number of ways to merge two dictionaries together. This can be incredibly helpful if data has been collected separately and you don’t want to manually update items in one dictionary with the items of another.\n",
        "\n",
        "For this, we can use the .update() method. Similarly, we can use the | operator in Python 3.8+. Both these methods work in the same way, in that the dictionary on the right will merge into the dictionary on the left. Any new key-value pairs will be added, while any existing keys in the left dictionary will be updated with values on the right."
      ],
      "metadata": {
        "id": "nFAIoLcCB2OO"
      }
    },
    {
      "cell_type": "code",
      "source": [
        "#merging 2 dictionaries in python\n",
        "dict1={'name':'roja','age':25}\n",
        "dict2={'name':'roja cm','company':'altimetrik'}"
      ],
      "metadata": {
        "id": "0Hg6EVgbHIsP"
      },
      "execution_count": 34,
      "outputs": []
    },
    {
      "cell_type": "code",
      "source": [
        "dict1.update(dict2)"
      ],
      "metadata": {
        "id": "c2IO1XJ8HIx_"
      },
      "execution_count": 35,
      "outputs": []
    },
    {
      "cell_type": "code",
      "source": [
        "dict1"
      ],
      "metadata": {
        "colab": {
          "base_uri": "https://localhost:8080/"
        },
        "id": "v32AGbzrHI3D",
        "outputId": "6d0cbf75-7da2-403d-ebda-a1392cb6a36f"
      },
      "execution_count": 36,
      "outputs": [
        {
          "output_type": "execute_result",
          "data": {
            "text/plain": [
              "{'age': 25, 'company': 'altimetrik', 'name': 'roja cm'}"
            ]
          },
          "metadata": {},
          "execution_count": 36
        }
      ]
    },
    {
      "cell_type": "markdown",
      "source": [
        "#One important distinction between the .update() method and the | union operator is that the .update() method occurs in place while the union operation does not.\n",
        "\n",
        "Because of this, we need to re-assign the dictionary to itself (or to something else) for the update to occur."
      ],
      "metadata": {
        "id": "1PYaSExUHI72"
      }
    },
    {
      "cell_type": "markdown",
      "source": [
        "#Modifying Existing Python Dictionary Items\n",
        "Modifying existing items works the same as adding new ones! We can simply directly assign a value to an existing key and update its value. The added benefit of this is that if an item doesn’t exist, that a new one gets added."
      ],
      "metadata": {
        "id": "I6XHAyUuIrG7"
      }
    },
    {
      "cell_type": "code",
      "source": [
        "info"
      ],
      "metadata": {
        "colab": {
          "base_uri": "https://localhost:8080/"
        },
        "id": "rGelbbaIIrLT",
        "outputId": "30304f67-2ea8-4374-e760-1a7eaf115cf4"
      },
      "execution_count": 37,
      "outputs": [
        {
          "output_type": "execute_result",
          "data": {
            "text/plain": [
              "{'age': 33,\n",
              " 'hobbies': ['travelling', 'cooking'],\n",
              " 'location': 'Toronto',\n",
              " 'name': 'Nik'}"
            ]
          },
          "metadata": {},
          "execution_count": 37
        }
      ]
    },
    {
      "cell_type": "code",
      "source": [
        "info['location']='Paris'"
      ],
      "metadata": {
        "id": "_4gohlDtIrO_"
      },
      "execution_count": 38,
      "outputs": []
    },
    {
      "cell_type": "code",
      "source": [
        "info"
      ],
      "metadata": {
        "colab": {
          "base_uri": "https://localhost:8080/"
        },
        "id": "GUOQlBBmIrSC",
        "outputId": "5f1cdefb-1d22-4a3e-aabb-d5b1f808e03f"
      },
      "execution_count": 39,
      "outputs": [
        {
          "output_type": "execute_result",
          "data": {
            "text/plain": [
              "{'age': 33,\n",
              " 'hobbies': ['travelling', 'cooking'],\n",
              " 'location': 'Paris',\n",
              " 'name': 'Nik'}"
            ]
          },
          "metadata": {},
          "execution_count": 39
        }
      ]
    },
    {
      "cell_type": "code",
      "source": [
        "info['country']='England'"
      ],
      "metadata": {
        "id": "aDzH4zOEHJAv"
      },
      "execution_count": 40,
      "outputs": []
    },
    {
      "cell_type": "code",
      "source": [
        "info"
      ],
      "metadata": {
        "colab": {
          "base_uri": "https://localhost:8080/"
        },
        "id": "g30oE8CmHJM1",
        "outputId": "27e98579-4bbd-4ba7-8969-a8fd06e0e915"
      },
      "execution_count": 41,
      "outputs": [
        {
          "output_type": "execute_result",
          "data": {
            "text/plain": [
              "{'age': 33,\n",
              " 'country': 'England',\n",
              " 'hobbies': ['travelling', 'cooking'],\n",
              " 'location': 'Paris',\n",
              " 'name': 'Nik'}"
            ]
          },
          "metadata": {},
          "execution_count": 41
        }
      ]
    },
    {
      "cell_type": "markdown",
      "source": [
        "#Removing Items from Python Dictionaries\n",
        "Removing Items from Python Dictionaries\n",
        "Similar to lists, Python provides a number of different ways to remove items from dictionaries. The first approach we’ll take a look at is the del keyword. The keyword accepts a dictionary item and removes the item from the dictionary."
      ],
      "metadata": {
        "id": "K8sBywnIHJSv"
      }
    },
    {
      "cell_type": "code",
      "source": [
        "#deleting the items from a dictionary\n",
        "info"
      ],
      "metadata": {
        "colab": {
          "base_uri": "https://localhost:8080/"
        },
        "id": "vcEM7t9mGU0i",
        "outputId": "1a999c57-0264-4e63-b352-4be0041edc96"
      },
      "execution_count": 42,
      "outputs": [
        {
          "output_type": "execute_result",
          "data": {
            "text/plain": [
              "{'age': 33,\n",
              " 'country': 'England',\n",
              " 'hobbies': ['travelling', 'cooking'],\n",
              " 'location': 'Paris',\n",
              " 'name': 'Nik'}"
            ]
          },
          "metadata": {},
          "execution_count": 42
        }
      ]
    },
    {
      "cell_type": "code",
      "source": [
        "del info['age']"
      ],
      "metadata": {
        "id": "R5YVkiQ6Kla8"
      },
      "execution_count": 43,
      "outputs": []
    },
    {
      "cell_type": "code",
      "source": [
        "info"
      ],
      "metadata": {
        "colab": {
          "base_uri": "https://localhost:8080/"
        },
        "id": "OO8odRGkKp7i",
        "outputId": "b9c464e3-9073-4f57-bf95-bb194a6b46f0"
      },
      "execution_count": 44,
      "outputs": [
        {
          "output_type": "execute_result",
          "data": {
            "text/plain": [
              "{'country': 'England',\n",
              " 'hobbies': ['travelling', 'cooking'],\n",
              " 'location': 'Paris',\n",
              " 'name': 'Nik'}"
            ]
          },
          "metadata": {},
          "execution_count": 44
        }
      ]
    },
    {
      "cell_type": "markdown",
      "source": [
        "We can also use the Python .pop() method to remove an item from a dictionary. The benefit of this approach is that it returns the value before removing the key-value pair. Let’s see what this looks like:"
      ],
      "metadata": {
        "id": "D_ec8r9fKqAN"
      }
    },
    {
      "cell_type": "code",
      "source": [
        "dict1"
      ],
      "metadata": {
        "colab": {
          "base_uri": "https://localhost:8080/"
        },
        "id": "XAE37bOfKqE9",
        "outputId": "36b4da82-f2ff-47bd-9381-b4f20c1a082c"
      },
      "execution_count": 45,
      "outputs": [
        {
          "output_type": "execute_result",
          "data": {
            "text/plain": [
              "{'age': 25, 'company': 'altimetrik', 'name': 'roja cm'}"
            ]
          },
          "metadata": {},
          "execution_count": 45
        }
      ]
    },
    {
      "cell_type": "code",
      "source": [
        "dict1.pop('age')"
      ],
      "metadata": {
        "colab": {
          "base_uri": "https://localhost:8080/"
        },
        "id": "B3sqK9iNKlfY",
        "outputId": "5635f50b-1b06-412d-ab40-9b9f11a89161"
      },
      "execution_count": 46,
      "outputs": [
        {
          "output_type": "execute_result",
          "data": {
            "text/plain": [
              "25"
            ]
          },
          "metadata": {},
          "execution_count": 46
        }
      ]
    },
    {
      "cell_type": "code",
      "source": [
        "dict1"
      ],
      "metadata": {
        "colab": {
          "base_uri": "https://localhost:8080/"
        },
        "id": "f0Y-yJumKljd",
        "outputId": "891eecc1-d92f-4723-8c3c-4ccecbc29804"
      },
      "execution_count": 47,
      "outputs": [
        {
          "output_type": "execute_result",
          "data": {
            "text/plain": [
              "{'company': 'altimetrik', 'name': 'roja cm'}"
            ]
          },
          "metadata": {},
          "execution_count": 47
        }
      ]
    },
    {
      "cell_type": "code",
      "source": [
        "dict2"
      ],
      "metadata": {
        "colab": {
          "base_uri": "https://localhost:8080/"
        },
        "id": "2YFumAgaKlmy",
        "outputId": "47ab552c-bcc9-4b02-b8e2-424699b09981"
      },
      "execution_count": 48,
      "outputs": [
        {
          "output_type": "execute_result",
          "data": {
            "text/plain": [
              "{'company': 'altimetrik', 'name': 'roja cm'}"
            ]
          },
          "metadata": {},
          "execution_count": 48
        }
      ]
    },
    {
      "cell_type": "code",
      "source": [
        "dict2.pop()"
      ],
      "metadata": {
        "colab": {
          "base_uri": "https://localhost:8080/",
          "height": 165
        },
        "id": "87AYTP_GGU5C",
        "outputId": "0d0f7873-2fa6-4f3f-df2f-db4523ad0581"
      },
      "execution_count": 50,
      "outputs": [
        {
          "output_type": "error",
          "ename": "TypeError",
          "evalue": "ignored",
          "traceback": [
            "\u001b[0;31m---------------------------------------------------------------------------\u001b[0m",
            "\u001b[0;31mTypeError\u001b[0m                                 Traceback (most recent call last)",
            "\u001b[0;32m<ipython-input-50-a0be344b26cb>\u001b[0m in \u001b[0;36m<module>\u001b[0;34m()\u001b[0m\n\u001b[0;32m----> 1\u001b[0;31m \u001b[0mdict2\u001b[0m\u001b[0;34m.\u001b[0m\u001b[0mpop\u001b[0m\u001b[0;34m(\u001b[0m\u001b[0;34m)\u001b[0m\u001b[0;34m\u001b[0m\u001b[0;34m\u001b[0m\u001b[0m\n\u001b[0m",
            "\u001b[0;31mTypeError\u001b[0m: pop expected at least 1 arguments, got 0"
          ]
        }
      ]
    },
    {
      "cell_type": "markdown",
      "source": [
        "#With both of these methods, we need to be careful to not remove keys that don’t exist. Both of these methods will return a KeyError if we try to delete a key that doesn’t exist. Let’s confirm this:"
      ],
      "metadata": {
        "id": "SyYYYCz4GU9M"
      }
    },
    {
      "cell_type": "code",
      "source": [
        "dict1"
      ],
      "metadata": {
        "colab": {
          "base_uri": "https://localhost:8080/"
        },
        "id": "6rsx_xe2Aa19",
        "outputId": "94f46d09-2113-4899-b440-309b5c233bd4"
      },
      "execution_count": 51,
      "outputs": [
        {
          "output_type": "execute_result",
          "data": {
            "text/plain": [
              "{'company': 'altimetrik', 'name': 'roja cm'}"
            ]
          },
          "metadata": {},
          "execution_count": 51
        }
      ]
    },
    {
      "cell_type": "code",
      "source": [
        "del dict1['age']"
      ],
      "metadata": {
        "colab": {
          "base_uri": "https://localhost:8080/",
          "height": 165
        },
        "id": "LnNsJzr8AV_b",
        "outputId": "929ba3cb-feda-4e54-98a3-cb0c785308bd"
      },
      "execution_count": 53,
      "outputs": [
        {
          "output_type": "error",
          "ename": "KeyError",
          "evalue": "ignored",
          "traceback": [
            "\u001b[0;31m---------------------------------------------------------------------------\u001b[0m",
            "\u001b[0;31mKeyError\u001b[0m                                  Traceback (most recent call last)",
            "\u001b[0;32m<ipython-input-53-293677422188>\u001b[0m in \u001b[0;36m<module>\u001b[0;34m()\u001b[0m\n\u001b[0;32m----> 1\u001b[0;31m \u001b[0;32mdel\u001b[0m \u001b[0mdict1\u001b[0m\u001b[0;34m[\u001b[0m\u001b[0;34m'age'\u001b[0m\u001b[0;34m]\u001b[0m\u001b[0;34m\u001b[0m\u001b[0;34m\u001b[0m\u001b[0m\n\u001b[0m",
            "\u001b[0;31mKeyError\u001b[0m: 'age'"
          ]
        }
      ]
    },
    {
      "cell_type": "code",
      "source": [
        "dict1.pop('age')"
      ],
      "metadata": {
        "colab": {
          "base_uri": "https://localhost:8080/",
          "height": 165
        },
        "id": "a8S4fBjXAZEC",
        "outputId": "c663a792-83f1-4643-ebe4-34459139a941"
      },
      "execution_count": 55,
      "outputs": [
        {
          "output_type": "error",
          "ename": "KeyError",
          "evalue": "ignored",
          "traceback": [
            "\u001b[0;31m---------------------------------------------------------------------------\u001b[0m",
            "\u001b[0;31mKeyError\u001b[0m                                  Traceback (most recent call last)",
            "\u001b[0;32m<ipython-input-55-d354baae24db>\u001b[0m in \u001b[0;36m<module>\u001b[0;34m()\u001b[0m\n\u001b[0;32m----> 1\u001b[0;31m \u001b[0mdict1\u001b[0m\u001b[0;34m.\u001b[0m\u001b[0mpop\u001b[0m\u001b[0;34m(\u001b[0m\u001b[0;34m'age'\u001b[0m\u001b[0;34m)\u001b[0m\u001b[0;34m\u001b[0m\u001b[0;34m\u001b[0m\u001b[0m\n\u001b[0m",
            "\u001b[0;31mKeyError\u001b[0m: 'age'"
          ]
        }
      ]
    },
    {
      "cell_type": "markdown",
      "source": [
        "#The .pop() method does allow us to provide a default value so that your program doesn’t crash when a key doesn’t exist. This allows us to run the program more safely.\n",
        "\n",
        "Let’s see how this works:"
      ],
      "metadata": {
        "id": "R2N0ivNgAZI0"
      }
    },
    {
      "cell_type": "code",
      "source": [
        "info"
      ],
      "metadata": {
        "colab": {
          "base_uri": "https://localhost:8080/"
        },
        "id": "6ipvW6qQAWDw",
        "outputId": "17449dad-42da-411a-9fa3-b8134a0ad28c"
      },
      "execution_count": 56,
      "outputs": [
        {
          "output_type": "execute_result",
          "data": {
            "text/plain": [
              "{'country': 'England',\n",
              " 'hobbies': ['travelling', 'cooking'],\n",
              " 'location': 'Paris',\n",
              " 'name': 'Nik'}"
            ]
          },
          "metadata": {},
          "execution_count": 56
        }
      ]
    },
    {
      "cell_type": "code",
      "source": [
        "info.pop('age',25)"
      ],
      "metadata": {
        "colab": {
          "base_uri": "https://localhost:8080/"
        },
        "id": "gzvhgLXYAWIS",
        "outputId": "37161692-0574-49fc-93ee-22bb3ad95c36"
      },
      "execution_count": 57,
      "outputs": [
        {
          "output_type": "execute_result",
          "data": {
            "text/plain": [
              "25"
            ]
          },
          "metadata": {},
          "execution_count": 57
        }
      ]
    },
    {
      "cell_type": "markdown",
      "source": [
        "#Python Dictionary Methods\n",
        "We can use the .items() method to easily retrieve all of the items in a dictionary. Applying this method returns a list-like object that contains tuples containing the key and the value of each item in the dictionary.\n",
        "\n",
        "This can be incredibly helpful if you want to loop over the keys and the values."
      ],
      "metadata": {
        "id": "LaFs0qC6-d9b"
      }
    },
    {
      "cell_type": "code",
      "source": [
        "# Getting items from a dictionary with .items()\n",
        "info1 = {'name': 'Nik', 'age': 33, 'location': 'Toronto'}"
      ],
      "metadata": {
        "id": "DTzFrnst-eC7"
      },
      "execution_count": 58,
      "outputs": []
    },
    {
      "cell_type": "code",
      "source": [
        "a=info1.items()"
      ],
      "metadata": {
        "id": "HlT-Fuc1-dAq"
      },
      "execution_count": 60,
      "outputs": []
    },
    {
      "cell_type": "code",
      "source": [
        "a"
      ],
      "metadata": {
        "colab": {
          "base_uri": "https://localhost:8080/"
        },
        "id": "NmCcxOp7-dF9",
        "outputId": "b2ba5469-cfce-47c0-b84e-12f2c074a15e"
      },
      "execution_count": 61,
      "outputs": [
        {
          "output_type": "execute_result",
          "data": {
            "text/plain": [
              "dict_items([('name', 'Nik'), ('age', 33), ('location', 'Toronto')])"
            ]
          },
          "metadata": {},
          "execution_count": 61
        }
      ]
    },
    {
      "cell_type": "code",
      "source": [
        "for i in a:\n",
        "  print(i)"
      ],
      "metadata": {
        "colab": {
          "base_uri": "https://localhost:8080/"
        },
        "id": "rgQgGGHC-dKr",
        "outputId": "3a2d7990-9e6b-48e5-dec3-9776715316ef"
      },
      "execution_count": 62,
      "outputs": [
        {
          "output_type": "stream",
          "name": "stdout",
          "text": [
            "('name', 'Nik')\n",
            "('age', 33)\n",
            "('location', 'Toronto')\n"
          ]
        }
      ]
    },
    {
      "cell_type": "markdown",
      "source": [
        "#Accessing Dictionary Keys with .keys()\n",
        "We can easily access all the keys in a dictionary by using the .keys() method. This returns a list-like object that contains allow of the keys."
      ],
      "metadata": {
        "id": "6UK7MO-S-dPR"
      }
    },
    {
      "cell_type": "code",
      "source": [
        "info1"
      ],
      "metadata": {
        "colab": {
          "base_uri": "https://localhost:8080/"
        },
        "id": "LC61clFn-dTC",
        "outputId": "37c93d37-08f8-4d2d-99b5-8e85289f5bfd"
      },
      "execution_count": 63,
      "outputs": [
        {
          "output_type": "execute_result",
          "data": {
            "text/plain": [
              "{'age': 33, 'location': 'Toronto', 'name': 'Nik'}"
            ]
          },
          "metadata": {},
          "execution_count": 63
        }
      ]
    },
    {
      "cell_type": "code",
      "source": [
        "info1.keys()"
      ],
      "metadata": {
        "colab": {
          "base_uri": "https://localhost:8080/"
        },
        "id": "DsqfOllg-bv3",
        "outputId": "0bd3d8f3-cd4d-45a7-8327-0d3d41ca82c4"
      },
      "execution_count": 64,
      "outputs": [
        {
          "output_type": "execute_result",
          "data": {
            "text/plain": [
              "dict_keys(['name', 'age', 'location'])"
            ]
          },
          "metadata": {},
          "execution_count": 64
        }
      ]
    },
    {
      "cell_type": "markdown",
      "source": [
        "#Accessing Dictionary Values with .values()\n",
        "Similar to the .keys() method, we’re able to access all the values in a Python dictionary using the .values() method. This also returns a list-like object that contains the values of all keys in a dictionary."
      ],
      "metadata": {
        "id": "tNqs-Ohp-b06"
      }
    },
    {
      "cell_type": "code",
      "source": [
        "info1"
      ],
      "metadata": {
        "colab": {
          "base_uri": "https://localhost:8080/"
        },
        "id": "wylKO4169G4Y",
        "outputId": "eb6e7d7a-f89c-4b7d-b845-05cf8d661291"
      },
      "execution_count": 65,
      "outputs": [
        {
          "output_type": "execute_result",
          "data": {
            "text/plain": [
              "{'age': 33, 'location': 'Toronto', 'name': 'Nik'}"
            ]
          },
          "metadata": {},
          "execution_count": 65
        }
      ]
    },
    {
      "cell_type": "code",
      "source": [
        "info1.values()"
      ],
      "metadata": {
        "colab": {
          "base_uri": "https://localhost:8080/"
        },
        "id": "7aJFiq4854WU",
        "outputId": "e7eb880e-6e24-4daa-cf17-3748e14b6901"
      },
      "execution_count": 67,
      "outputs": [
        {
          "output_type": "execute_result",
          "data": {
            "text/plain": [
              "dict_values(['Nik', 33, 'Toronto'])"
            ]
          },
          "metadata": {},
          "execution_count": 67
        }
      ]
    },
    {
      "cell_type": "markdown",
      "source": [
        "#Checking Membership in Python Dictionaries\n",
        "We can easily check for membership in a Python dictionary by using the in keyword. Let’s see how we can see if a key exists in a Python dictionary by using the .keys() method:"
      ],
      "metadata": {
        "id": "gCGs3glb54Yk"
      }
    },
    {
      "cell_type": "code",
      "source": [
        "# Check if a key exists in a dictionary\n",
        "info1 = {'name': 'Nik', 'age': 33, 'location': 'Toronto'}"
      ],
      "metadata": {
        "id": "M9qN9N4c54ar"
      },
      "execution_count": 68,
      "outputs": []
    },
    {
      "cell_type": "code",
      "source": [
        "if 'name' in info1.keys():\n",
        "  print('exists')\n",
        "else:\n",
        "  print('not exists')"
      ],
      "metadata": {
        "colab": {
          "base_uri": "https://localhost:8080/"
        },
        "id": "a1iY_HMh54dS",
        "outputId": "5c7ce955-3ce3-4e9a-c953-a31f926e7702"
      },
      "execution_count": 69,
      "outputs": [
        {
          "output_type": "stream",
          "name": "stdout",
          "text": [
            "exists\n"
          ]
        }
      ]
    },
    {
      "cell_type": "code",
      "source": [
        "if 'salary' in info.keys():\n",
        "  print('exists')\n",
        "else:\n",
        "  print('not exist')"
      ],
      "metadata": {
        "colab": {
          "base_uri": "https://localhost:8080/"
        },
        "id": "OmnW00hU54gm",
        "outputId": "f39a4399-3943-41fa-c316-e7c970030a1d"
      },
      "execution_count": 71,
      "outputs": [
        {
          "output_type": "stream",
          "name": "stdout",
          "text": [
            "not exist\n"
          ]
        }
      ]
    },
    {
      "cell_type": "markdown",
      "source": [
        "#We can actually simplify this process by not using the .keys() method. By default, Python will check for membership in the keys of a dictionary. Because of this, we can even drop the method from our membership check"
      ],
      "metadata": {
        "id": "usx1ihs2P8p1"
      }
    },
    {
      "cell_type": "code",
      "source": [
        "if 'age' in info1:\n",
        "  print('exists')\n",
        "else:\n",
        "  print('not exist')"
      ],
      "metadata": {
        "colab": {
          "base_uri": "https://localhost:8080/"
        },
        "id": "LBZY16GaP8vF",
        "outputId": "6700374f-e82e-4ce8-b169-e243dc84b1db"
      },
      "execution_count": 72,
      "outputs": [
        {
          "output_type": "stream",
          "name": "stdout",
          "text": [
            "exists\n"
          ]
        }
      ]
    },
    {
      "cell_type": "code",
      "source": [
        "if 'salary' in info1:\n",
        "  print('exists')\n",
        "else:\n",
        "  print('not exist')"
      ],
      "metadata": {
        "colab": {
          "base_uri": "https://localhost:8080/"
        },
        "id": "goo6T8ceP8zt",
        "outputId": "6f7366fd-8ed6-49fb-b6f0-9c6b9e0a50a5"
      },
      "execution_count": 73,
      "outputs": [
        {
          "output_type": "stream",
          "name": "stdout",
          "text": [
            "not exist\n"
          ]
        }
      ]
    },
    {
      "cell_type": "markdown",
      "source": [
        "#Iterating through Python Dictionaries\n",
        "Because the .items(), .keys(), and .values() methods all return list-like objects, we can iterate over them directly. "
      ],
      "metadata": {
        "id": "ArLuo7pmQqoK"
      }
    },
    {
      "cell_type": "code",
      "source": [
        "# Iterating over all keys in a dictionary\n",
        "info2 = {'name': 'Nik', 'age': 33, 'location': 'Toronto'}"
      ],
      "metadata": {
        "id": "18v5-WtPQqtg"
      },
      "execution_count": 74,
      "outputs": []
    },
    {
      "cell_type": "code",
      "source": [
        "for i in info2.keys():\n",
        "  print(i)"
      ],
      "metadata": {
        "colab": {
          "base_uri": "https://localhost:8080/"
        },
        "id": "CeNVAVFbQqwN",
        "outputId": "9155109e-8168-4151-a91a-7ab5f2e68249"
      },
      "execution_count": 75,
      "outputs": [
        {
          "output_type": "stream",
          "name": "stdout",
          "text": [
            "name\n",
            "age\n",
            "location\n"
          ]
        }
      ]
    },
    {
      "cell_type": "code",
      "source": [
        "for i in info2.values():\n",
        "  print(i)"
      ],
      "metadata": {
        "colab": {
          "base_uri": "https://localhost:8080/"
        },
        "id": "8n44rGXoQqzQ",
        "outputId": "60e932b4-b54b-4e8f-fe90-b10839fae7b9"
      },
      "execution_count": 76,
      "outputs": [
        {
          "output_type": "stream",
          "name": "stdout",
          "text": [
            "Nik\n",
            "33\n",
            "Toronto\n"
          ]
        }
      ]
    },
    {
      "cell_type": "code",
      "source": [
        "for i in info2.items():\n",
        "  print(i)"
      ],
      "metadata": {
        "colab": {
          "base_uri": "https://localhost:8080/"
        },
        "id": "-wO7qDz8Qq3B",
        "outputId": "0d7fa5ff-74c2-4ada-f4e9-dd45d41d9641"
      },
      "execution_count": 77,
      "outputs": [
        {
          "output_type": "stream",
          "name": "stdout",
          "text": [
            "('name', 'Nik')\n",
            "('age', 33)\n",
            "('location', 'Toronto')\n"
          ]
        }
      ]
    },
    {
      "cell_type": "code",
      "source": [
        "for i,j in info2.items():\n",
        "  print(i,j)"
      ],
      "metadata": {
        "colab": {
          "base_uri": "https://localhost:8080/"
        },
        "id": "CcXoLqbFQq6E",
        "outputId": "9f2249e2-218e-4a31-eabc-216f24134e3d"
      },
      "execution_count": 78,
      "outputs": [
        {
          "output_type": "stream",
          "name": "stdout",
          "text": [
            "name Nik\n",
            "age 33\n",
            "location Toronto\n"
          ]
        }
      ]
    },
    {
      "cell_type": "markdown",
      "source": [
        "Below, you’ll find a quick recap of everything you learned about Python dictionaries:\n",
        "\n",
        "Dictionaries are an associative array of values containing key-value pairs\n",
        "Keys must be immutable and unique\n",
        "Values can be any type of value and can be duplicated\n",
        "You can create dictionaries with the use of the dict() function or curly braces {}\n",
        "Dictionaries are similar to the JSON format which is often used to store data on the internet\n",
        "We can add items by simply assigning a value to a key\n",
        "We can delete items using del or .pop()\n",
        "The .pop() method allows us to pass in a default value which allows our program to run safely if a key doesn’t exist\n",
        "We can access items using the .items(), .keys(), and .values() methods"
      ],
      "metadata": {
        "id": "3xk4Cn0qRpp0"
      }
    },
    {
      "cell_type": "code",
      "source": [
        ""
      ],
      "metadata": {
        "id": "DYhAV50rRpt6"
      },
      "execution_count": null,
      "outputs": []
    },
    {
      "cell_type": "code",
      "source": [
        ""
      ],
      "metadata": {
        "id": "9vmZi0KkRzj5"
      },
      "execution_count": null,
      "outputs": []
    },
    {
      "cell_type": "code",
      "source": [
        ""
      ],
      "metadata": {
        "id": "qjwNifHsRzoV"
      },
      "execution_count": null,
      "outputs": []
    },
    {
      "cell_type": "code",
      "source": [
        ""
      ],
      "metadata": {
        "id": "1VMmUFU2Rzsv"
      },
      "execution_count": null,
      "outputs": []
    },
    {
      "cell_type": "code",
      "source": [
        ""
      ],
      "metadata": {
        "id": "8KYygUcqRzxp"
      },
      "execution_count": null,
      "outputs": []
    }
  ]
}