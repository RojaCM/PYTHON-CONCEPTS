{
  "nbformat": 4,
  "nbformat_minor": 0,
  "metadata": {
    "colab": {
      "name": "Untitled171.ipynb",
      "provenance": [],
      "authorship_tag": "ABX9TyPfACTMOhuW/dP5EZR1ux4w",
      "include_colab_link": true
    },
    "kernelspec": {
      "name": "python3",
      "display_name": "Python 3"
    },
    "language_info": {
      "name": "python"
    }
  },
  "cells": [
    {
      "cell_type": "markdown",
      "metadata": {
        "id": "view-in-github",
        "colab_type": "text"
      },
      "source": [
        "<a href=\"https://colab.research.google.com/github/RojaCM/PYTHON-CONCEPTS/blob/main/LIST%20comprehensions.ipynb\" target=\"_parent\"><img src=\"https://colab.research.google.com/assets/colab-badge.svg\" alt=\"Open In Colab\"/></a>"
      ]
    },
    {
      "cell_type": "markdown",
      "source": [
        "LIST is a data structure in python which are mutable,ordered structures(elements having a specific index)\n",
        "LIST compherension is a elegant way to create,modify and filter lists \n",
        "\n",
        "[expression for item in iterable]\n",
        "\n",
        "iterable are list,tuple,dict"
      ],
      "metadata": {
        "id": "TX_MYQSnyHCu"
      }
    },
    {
      "cell_type": "code",
      "source": [
        "squares=[i**2 for i in [1,2,3,4,5]]"
      ],
      "metadata": {
        "id": "UgaPQA_0zfNM"
      },
      "execution_count": null,
      "outputs": []
    },
    {
      "cell_type": "code",
      "source": [
        "squares"
      ],
      "metadata": {
        "colab": {
          "base_uri": "https://localhost:8080/"
        },
        "id": "VPbjcbW-zlKx",
        "outputId": "68dd0d4f-d9a1-41aa-e12a-22f1397d59b4"
      },
      "execution_count": null,
      "outputs": [
        {
          "output_type": "execute_result",
          "data": {
            "text/plain": [
              "[1, 4, 9, 16, 25]"
            ]
          },
          "metadata": {},
          "execution_count": 3
        }
      ]
    },
    {
      "cell_type": "markdown",
      "source": [
        "list compherensions v/s map/lambda functions \n"
      ],
      "metadata": {
        "id": "aJDLQlwrzm_U"
      }
    },
    {
      "cell_type": "markdown",
      "source": [
        "lambda function is an anonomys function ,it is used along with map function to alter the list"
      ],
      "metadata": {
        "id": "oPQ1vzud9YA6"
      }
    },
    {
      "cell_type": "code",
      "source": [
        "a=[1,4,5,7,8,9]"
      ],
      "metadata": {
        "id": "n8YRRsR99YFu"
      },
      "execution_count": null,
      "outputs": []
    },
    {
      "cell_type": "code",
      "source": [
        "b=list(map(lambda x:x*2.2,a))"
      ],
      "metadata": {
        "id": "8K-IoXCT9YIc"
      },
      "execution_count": null,
      "outputs": []
    },
    {
      "cell_type": "code",
      "source": [
        "b"
      ],
      "metadata": {
        "colab": {
          "base_uri": "https://localhost:8080/"
        },
        "id": "im05hC5C9YLo",
        "outputId": "8cfc9081-eb1b-41fd-d2ba-2667f1c707b3"
      },
      "execution_count": null,
      "outputs": [
        {
          "output_type": "execute_result",
          "data": {
            "text/plain": [
              "[2.2, 8.8, 11.0, 15.400000000000002, 17.6, 19.8]"
            ]
          },
          "metadata": {},
          "execution_count": 6
        }
      ]
    },
    {
      "cell_type": "code",
      "source": [
        "c=[x*2.2 for x in a]"
      ],
      "metadata": {
        "id": "haWZnzJg-8v0"
      },
      "execution_count": null,
      "outputs": []
    },
    {
      "cell_type": "code",
      "source": [
        "c"
      ],
      "metadata": {
        "colab": {
          "base_uri": "https://localhost:8080/"
        },
        "id": "ECPCabYo-9SY",
        "outputId": "37445d06-0520-442f-dd93-9dae5ca30333"
      },
      "execution_count": null,
      "outputs": [
        {
          "output_type": "execute_result",
          "data": {
            "text/plain": [
              "[2.2, 8.8, 11.0, 15.400000000000002, 17.6, 19.8]"
            ]
          },
          "metadata": {},
          "execution_count": 10
        }
      ]
    },
    {
      "cell_type": "markdown",
      "source": [
        "Python List Comprehension If Else (Conditionals)\n",
        "1.to filter the data\n",
        "2.to modify the data\n",
        "\n",
        "if you want to modify the lists the conditional statements goes infront of the list comphresnsion \n",
        "\n",
        "[expression (if statement) for i in iterable]"
      ],
      "metadata": {
        "id": "vEWgzLkd-9XF"
      }
    },
    {
      "cell_type": "code",
      "source": [
        "e=[2,3,6,8,7,4,6,2]"
      ],
      "metadata": {
        "id": "RVeB-bhx_MW8"
      },
      "execution_count": null,
      "outputs": []
    },
    {
      "cell_type": "code",
      "source": [
        "new_list = ['even' if x % 2 == 0 else 'odd' for x in e]"
      ],
      "metadata": {
        "id": "Vj0mi24G_WB8"
      },
      "execution_count": null,
      "outputs": []
    },
    {
      "cell_type": "code",
      "source": [
        "f=['even' if x % 2 ==0 else 'odd' for x in e]"
      ],
      "metadata": {
        "id": "1Gssd9xg_WFQ"
      },
      "execution_count": null,
      "outputs": []
    },
    {
      "cell_type": "code",
      "source": [
        "b"
      ],
      "metadata": {
        "id": "SuvoFMBjGG9B"
      },
      "execution_count": null,
      "outputs": []
    },
    {
      "cell_type": "code",
      "source": [
        "f"
      ],
      "metadata": {
        "colab": {
          "base_uri": "https://localhost:8080/"
        },
        "id": "N4wnQPLo_WLa",
        "outputId": "3b4c8be5-f3fd-4154-e5e9-2776c4422d9a"
      },
      "execution_count": null,
      "outputs": [
        {
          "output_type": "execute_result",
          "data": {
            "text/plain": [
              "['even', 'odd', 'even', 'even', 'odd', 'even', 'even', 'even']"
            ]
          },
          "metadata": {},
          "execution_count": 29
        }
      ]
    },
    {
      "cell_type": "code",
      "source": [
        "3%2"
      ],
      "metadata": {
        "colab": {
          "base_uri": "https://localhost:8080/"
        },
        "id": "-gqJWct9_Mct",
        "outputId": "946743e8-3ec4-4e81-f1ca-76a05a63e6d0"
      },
      "execution_count": null,
      "outputs": [
        {
          "output_type": "execute_result",
          "data": {
            "text/plain": [
              "1"
            ]
          },
          "metadata": {},
          "execution_count": 23
        }
      ]
    },
    {
      "cell_type": "code",
      "source": [
        "b"
      ],
      "metadata": {
        "id": "MLVDW28cBTZy"
      },
      "execution_count": null,
      "outputs": []
    },
    {
      "cell_type": "code",
      "source": [
        "4%6"
      ],
      "metadata": {
        "colab": {
          "base_uri": "https://localhost:8080/"
        },
        "id": "WWjyn6-F_Jgb",
        "outputId": "472974a1-ee7f-4493-fba8-822aade1df91"
      },
      "execution_count": null,
      "outputs": [
        {
          "output_type": "execute_result",
          "data": {
            "text/plain": [
              "4"
            ]
          },
          "metadata": {},
          "execution_count": 24
        }
      ]
    },
    {
      "cell_type": "code",
      "source": [
        "7%2"
      ],
      "metadata": {
        "colab": {
          "base_uri": "https://localhost:8080/"
        },
        "id": "IFU3pWE4AmNL",
        "outputId": "09ccd7b8-3f68-49ed-9a49-710056471994"
      },
      "execution_count": null,
      "outputs": [
        {
          "output_type": "execute_result",
          "data": {
            "text/plain": [
              "1"
            ]
          },
          "metadata": {},
          "execution_count": 25
        }
      ]
    },
    {
      "cell_type": "markdown",
      "source": [
        "\n",
        "Filtering a List with List Comprehension If Statement"
      ],
      "metadata": {
        "id": "rwRWTzDZAqMd"
      }
    },
    {
      "cell_type": "markdown",
      "source": [
        "if we want to filter the list,the condition goes to the end of the list compherension \n",
        "\n",
        "[expression for i in iterable (if condition)]"
      ],
      "metadata": {
        "id": "ApvhPFxZAx73"
      }
    },
    {
      "cell_type": "code",
      "source": [
        "g=[2,3,6,5,7,10,20]\n",
        "\n",
        "h=[i for i in g if i%2==1 ]\n"
      ],
      "metadata": {
        "id": "renWoMPvAx_Q"
      },
      "execution_count": null,
      "outputs": []
    },
    {
      "cell_type": "code",
      "source": [
        "h"
      ],
      "metadata": {
        "colab": {
          "base_uri": "https://localhost:8080/"
        },
        "id": "LYKguSfVAmRl",
        "outputId": "697f6689-a22b-4c51-abcc-c6e3af6ede89"
      },
      "execution_count": null,
      "outputs": [
        {
          "output_type": "execute_result",
          "data": {
            "text/plain": [
              "[3, 5, 7]"
            ]
          },
          "metadata": {},
          "execution_count": 31
        }
      ]
    },
    {
      "cell_type": "markdown",
      "source": [
        "Multiple If Conditions in List Comprehensions"
      ],
      "metadata": {
        "id": "5Dmpl_0Z_Jk4"
      }
    },
    {
      "cell_type": "code",
      "source": [
        "new_list=[]\n",
        "for i in range(1,101):\n",
        "  if i%2==0:\n",
        "    if i%5==0:\n",
        "      new_list.append(i)\n",
        "\n",
        "print(new_list)"
      ],
      "metadata": {
        "id": "lDJT2hCwKtHL",
        "colab": {
          "base_uri": "https://localhost:8080/"
        },
        "outputId": "097e288c-a19f-4393-8a26-9ca0fe33e225"
      },
      "execution_count": 3,
      "outputs": [
        {
          "output_type": "stream",
          "name": "stdout",
          "text": [
            "[10, 20, 30, 40, 50, 60, 70, 80, 90, 100]\n"
          ]
        }
      ]
    },
    {
      "cell_type": "code",
      "source": [
        "l1=[i for i in range(1,101) if i%2==0 if i%5==0]"
      ],
      "metadata": {
        "id": "nJWFawCtKtMr"
      },
      "execution_count": 4,
      "outputs": []
    },
    {
      "cell_type": "code",
      "source": [
        "l1"
      ],
      "metadata": {
        "id": "CC4I4JLtKtQK",
        "colab": {
          "base_uri": "https://localhost:8080/"
        },
        "outputId": "08219731-dfba-4e52-ae74-4d4a5ea59792"
      },
      "execution_count": 5,
      "outputs": [
        {
          "output_type": "execute_result",
          "data": {
            "text/plain": [
              "[10, 20, 30, 40, 50, 60, 70, 80, 90, 100]"
            ]
          },
          "metadata": {},
          "execution_count": 5
        }
      ]
    },
    {
      "cell_type": "markdown",
      "source": [
        "NESTED LIST COMPHERENSION"
      ],
      "metadata": {
        "id": "OLQNT7yMqQkY"
      }
    },
    {
      "cell_type": "code",
      "source": [
        "nl=[[1,2,3],[4,5,6],[7,8,9]]"
      ],
      "metadata": {
        "id": "PZjMFm0hqRMu"
      },
      "execution_count": 6,
      "outputs": []
    },
    {
      "cell_type": "code",
      "source": [
        "n2=[]\n",
        "for i in nl:\n",
        "  for j in i:\n",
        "    n2.append(j)\n",
        "\n",
        "print(n2)"
      ],
      "metadata": {
        "colab": {
          "base_uri": "https://localhost:8080/"
        },
        "id": "bJgFbaDcqRSV",
        "outputId": "9120c1f1-f2b3-4561-88ad-4bf38fb05ba6"
      },
      "execution_count": 8,
      "outputs": [
        {
          "output_type": "stream",
          "name": "stdout",
          "text": [
            "[1, 2, 3, 4, 5, 6, 7, 8, 9]\n"
          ]
        }
      ]
    },
    {
      "cell_type": "code",
      "source": [
        "n3=[j for i in nl for j in i]"
      ],
      "metadata": {
        "id": "wffO2vPoqRW8"
      },
      "execution_count": 9,
      "outputs": []
    },
    {
      "cell_type": "code",
      "source": [
        "n3"
      ],
      "metadata": {
        "colab": {
          "base_uri": "https://localhost:8080/"
        },
        "id": "Qth1QqYitz3n",
        "outputId": "f3bd0827-9003-4496-f24f-3190cea7e6e4"
      },
      "execution_count": 10,
      "outputs": [
        {
          "output_type": "execute_result",
          "data": {
            "text/plain": [
              "[1, 2, 3, 4, 5, 6, 7, 8, 9]"
            ]
          },
          "metadata": {},
          "execution_count": 10
        }
      ]
    },
    {
      "cell_type": "markdown",
      "source": [
        "FIND OUT THE COMMON ITEMS IN TWO LISTS USING LIST COMPHERENSION "
      ],
      "metadata": {
        "id": "tskJYRdjt0Pl"
      }
    },
    {
      "cell_type": "code",
      "source": [
        "ll1=[1,4,5,6,7,8]\n",
        "ll2=[4,6,9,55,66,8]\n"
      ],
      "metadata": {
        "id": "69ZpqbIBt0ju"
      },
      "execution_count": 11,
      "outputs": []
    },
    {
      "cell_type": "code",
      "source": [
        "ll3=[]\n",
        "for i in ll1:\n",
        "  for j in ll2:\n",
        "    if i==j:\n",
        "      ll3.append(i)"
      ],
      "metadata": {
        "id": "NA08OHFJt0pD"
      },
      "execution_count": 14,
      "outputs": []
    },
    {
      "cell_type": "code",
      "source": [
        "ll3"
      ],
      "metadata": {
        "colab": {
          "base_uri": "https://localhost:8080/"
        },
        "id": "8uo7-klHwzrn",
        "outputId": "60f06a65-c981-4bb3-f44c-a0e3913ce926"
      },
      "execution_count": 15,
      "outputs": [
        {
          "output_type": "execute_result",
          "data": {
            "text/plain": [
              "[4, 6, 8]"
            ]
          },
          "metadata": {},
          "execution_count": 15
        }
      ]
    },
    {
      "cell_type": "code",
      "source": [
        "ll4=[i for i in ll1 if i in ll2 ]"
      ],
      "metadata": {
        "id": "AjG41Enuw6ik"
      },
      "execution_count": 16,
      "outputs": []
    },
    {
      "cell_type": "code",
      "source": [
        "ll4"
      ],
      "metadata": {
        "colab": {
          "base_uri": "https://localhost:8080/"
        },
        "id": "Y0hABEMtw7yQ",
        "outputId": "dfb4e1b8-56b6-4a38-dbe6-cb3336a93bda"
      },
      "execution_count": 17,
      "outputs": [
        {
          "output_type": "execute_result",
          "data": {
            "text/plain": [
              "[4, 6, 8]"
            ]
          },
          "metadata": {},
          "execution_count": 17
        }
      ]
    },
    {
      "cell_type": "code",
      "source": [
        ""
      ],
      "metadata": {
        "id": "1jAaUqQkw74m"
      },
      "execution_count": null,
      "outputs": []
    },
    {
      "cell_type": "code",
      "source": [
        ""
      ],
      "metadata": {
        "id": "-kiu0B5xxNuY"
      },
      "execution_count": null,
      "outputs": []
    },
    {
      "cell_type": "code",
      "source": [
        ""
      ],
      "metadata": {
        "id": "wfOLkfYkxNxh"
      },
      "execution_count": null,
      "outputs": []
    }
  ]
}