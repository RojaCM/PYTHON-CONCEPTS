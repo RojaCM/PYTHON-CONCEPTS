{
  "nbformat": 4,
  "nbformat_minor": 0,
  "metadata": {
    "colab": {
      "name": "Untitled204.ipynb",
      "provenance": [],
      "authorship_tag": "ABX9TyNE4712RDlJvw3cONEiUQ2u",
      "include_colab_link": true
    },
    "kernelspec": {
      "name": "python3",
      "display_name": "Python 3"
    },
    "language_info": {
      "name": "python"
    }
  },
  "cells": [
    {
      "cell_type": "markdown",
      "metadata": {
        "id": "view-in-github",
        "colab_type": "text"
      },
      "source": [
        "<a href=\"https://colab.research.google.com/github/RojaCM/PYTHON-CONCEPTS/blob/main/pop%2Cremove%2Cdel%2Cclear%2Creverse%2Crevsered.ipynb\" target=\"_parent\"><img src=\"https://colab.research.google.com/assets/colab-badge.svg\" alt=\"Open In Colab\"/></a>"
      ]
    },
    {
      "cell_type": "markdown",
      "source": [
        "Remove an Item from a Python List (pop, remove, del, clear)"
      ],
      "metadata": {
        "id": "yi-M44BnhEZ0"
      }
    },
    {
      "cell_type": "markdown",
      "source": [
        "Method\tWhat it does\n",
        "list.pop()\tRemoves an item at an index position and returns it\n",
        "\n",
        "list.remove()\tRemoves the first item matching a value\n",
        "\n",
        "slicing\tCan be used to delete non-matching ranges of data\n",
        "\n",
        "del statement\tRemoves an item at an index position and doesn’t return it\n",
        "\n",
        "list.clear()\tRemoves all items in a Python list"
      ],
      "metadata": {
        "id": "wDag0OtUhGA8"
      }
    },
    {
      "cell_type": "markdown",
      "source": [
        "#delete an item from a list\n",
        "\n",
        "del - removes an item by an index position\n",
        "\n",
        "pop - removes an item by an index position\n",
        "\n",
        "remove - removes an item by its value"
      ],
      "metadata": {
        "id": "BlgKuf-fhGDK"
      }
    },
    {
      "cell_type": "markdown",
      "source": [
        "PYTHON REMOVE METHOD TO REMOVE THE LIST ITEM BASED ON ITS VALUE"
      ],
      "metadata": {
        "id": "YNBVLXHshGFg"
      }
    },
    {
      "cell_type": "markdown",
      "source": [
        "Python makes it easy to delete a list item based on its value by using the Python list remove method. The method scans a list for the first instance of that value and removes the first instance of that value.\n",
        "\n",
        "Let’s see how we can use the .remove() list method to remove an item from a list:"
      ],
      "metadata": {
        "id": "CHSRyb_Hklma"
      }
    },
    {
      "cell_type": "code",
      "source": [
        "# Remove a list item by value using .remove()\n",
        "values = ['datagy', 1, 2, 3, 'datagy']\n",
        "values.remove(1)"
      ],
      "metadata": {
        "id": "0hmsr_F4klo-"
      },
      "execution_count": null,
      "outputs": []
    },
    {
      "cell_type": "code",
      "source": [
        "values"
      ],
      "metadata": {
        "colab": {
          "base_uri": "https://localhost:8080/"
        },
        "id": "o_pAq1v3klrm",
        "outputId": "713b4cca-ce0e-472c-8cf8-8e25f0574ea9"
      },
      "execution_count": null,
      "outputs": [
        {
          "output_type": "execute_result",
          "data": {
            "text/plain": [
              "['datagy', 2, 3, 'datagy']"
            ]
          },
          "metadata": {},
          "execution_count": 2
        }
      ]
    },
    {
      "cell_type": "code",
      "source": [
        "#But what happens if we try to remove an item that doesn’t exist? Let’s see what happens when we try to run the code below:\n",
        "\n",
        "values.remove(9)"
      ],
      "metadata": {
        "colab": {
          "base_uri": "https://localhost:8080/",
          "height": 207
        },
        "id": "mep9RCU5kluC",
        "outputId": "830a9bd2-6b00-46fb-88cf-75c468b1f95d"
      },
      "execution_count": null,
      "outputs": [
        {
          "output_type": "error",
          "ename": "ValueError",
          "evalue": "ignored",
          "traceback": [
            "\u001b[0;31m---------------------------------------------------------------------------\u001b[0m",
            "\u001b[0;31mValueError\u001b[0m                                Traceback (most recent call last)",
            "\u001b[0;32m<ipython-input-3-2233e2e70551>\u001b[0m in \u001b[0;36m<module>\u001b[0;34m()\u001b[0m\n\u001b[1;32m      1\u001b[0m \u001b[0;31m#But what happens if we try to remove an item that doesn’t exist? Let’s see what happens when we try to run the code below:\u001b[0m\u001b[0;34m\u001b[0m\u001b[0;34m\u001b[0m\u001b[0;34m\u001b[0m\u001b[0m\n\u001b[1;32m      2\u001b[0m \u001b[0;34m\u001b[0m\u001b[0m\n\u001b[0;32m----> 3\u001b[0;31m \u001b[0mvalues\u001b[0m\u001b[0;34m.\u001b[0m\u001b[0mremove\u001b[0m\u001b[0;34m(\u001b[0m\u001b[0;36m9\u001b[0m\u001b[0;34m)\u001b[0m\u001b[0;34m\u001b[0m\u001b[0;34m\u001b[0m\u001b[0m\n\u001b[0m",
            "\u001b[0;31mValueError\u001b[0m: list.remove(x): x not in list"
          ]
        }
      ]
    },
    {
      "cell_type": "markdown",
      "source": [
        "We can see that when we try to use the remove method to remove an item that doesn’t exist, then a ValueError is returned. If you’re not sure if a value exists in a list and don’t want your program to crash, you can wrap the method in a try-except block."
      ],
      "metadata": {
        "id": "RN7CIe3ymtLu"
      }
    },
    {
      "cell_type": "code",
      "source": [
        "try:\n",
        "  values.remove(9)\n",
        "except ValueError:\n",
        "  print('value not present in a list')"
      ],
      "metadata": {
        "colab": {
          "base_uri": "https://localhost:8080/"
        },
        "id": "txb5rNbbnHDE",
        "outputId": "3b7dd1c8-90e7-45bf-9bf2-0e887d2d7608"
      },
      "execution_count": null,
      "outputs": [
        {
          "output_type": "stream",
          "name": "stdout",
          "text": [
            "value not present in a list\n"
          ]
        }
      ]
    },
    {
      "cell_type": "markdown",
      "source": [
        "As shown below, the Python .remove() method only removes the first instance of that item in a list. What if you wanted to remove all instances of that item in a list? In order to accomplish this, we can use a while loop in order to repeat an action while a statement continues to be true.\n",
        "\n",
        "In particular, our while loop will continue to remove the item from our list while the item still exists in our list. "
      ],
      "metadata": {
        "id": "yu3eNudlnjWa"
      }
    },
    {
      "cell_type": "code",
      "source": [
        "# Remove all list items by value using .remove() \n",
        "\n",
        "l1=[1,2,1,3,4,5,1,6]"
      ],
      "metadata": {
        "id": "C8MW3aR1njbA"
      },
      "execution_count": null,
      "outputs": []
    },
    {
      "cell_type": "code",
      "source": [
        "while 1 in l1:\n",
        "  l1.remove(1)\n",
        "\n",
        "print(l1)"
      ],
      "metadata": {
        "colab": {
          "base_uri": "https://localhost:8080/"
        },
        "id": "gZI64ogFnjf0",
        "outputId": "1e933897-2d76-4c74-a7ff-63002d023926"
      },
      "execution_count": null,
      "outputs": [
        {
          "output_type": "stream",
          "name": "stdout",
          "text": [
            "[2, 3, 4, 5, 6]\n"
          ]
        }
      ]
    },
    {
      "cell_type": "code",
      "source": [
        "l1.remove(min(l1))"
      ],
      "metadata": {
        "id": "vmoi0lbNnjj-"
      },
      "execution_count": null,
      "outputs": []
    },
    {
      "cell_type": "code",
      "source": [
        "l1"
      ],
      "metadata": {
        "colab": {
          "base_uri": "https://localhost:8080/"
        },
        "id": "wlF_qbbNnjo3",
        "outputId": "44bb5ad5-907b-442a-aa0e-58b2c2da4fb5"
      },
      "execution_count": null,
      "outputs": [
        {
          "output_type": "execute_result",
          "data": {
            "text/plain": [
              "[3, 4, 5, 6]"
            ]
          },
          "metadata": {},
          "execution_count": 8
        }
      ]
    },
    {
      "cell_type": "code",
      "source": [
        "l2=[3,2,5,6,7,8,3,5,3]"
      ],
      "metadata": {
        "id": "rRRqKLYYnjtN"
      },
      "execution_count": null,
      "outputs": []
    },
    {
      "cell_type": "code",
      "source": [
        "[i for i in l2 if i!=3]"
      ],
      "metadata": {
        "colab": {
          "base_uri": "https://localhost:8080/"
        },
        "id": "s-n2o-bCpPkC",
        "outputId": "b496c04c-7559-476c-b4a7-bb3d4953e82f"
      },
      "execution_count": null,
      "outputs": [
        {
          "output_type": "execute_result",
          "data": {
            "text/plain": [
              "[2, 5, 6, 7, 8, 5]"
            ]
          },
          "metadata": {},
          "execution_count": 11
        }
      ]
    },
    {
      "cell_type": "markdown",
      "source": [
        "PYTHON POP METHOD TO Remove THE ITEM BASED ON INDEX POSITION"
      ],
      "metadata": {
        "id": "c3uPMkg1pPox"
      }
    },
    {
      "cell_type": "markdown",
      "source": [
        "The Python pop method is a commonly used list method that removes an item from a list and returns it. While the remove method remove an item based on its value, the pop method removes an item based on its index. When you the pop method, we specify the item’s index and pop it, meaning that we return the item and remove it from the list."
      ],
      "metadata": {
        "id": "SUPpQTOErXA-"
      }
    },
    {
      "cell_type": "code",
      "source": [
        "L4=[4,5,6,7,8,9,4,5,4]"
      ],
      "metadata": {
        "id": "kl2ZgjKvrXF3"
      },
      "execution_count": null,
      "outputs": []
    },
    {
      "cell_type": "code",
      "source": [
        "L4.pop(3)"
      ],
      "metadata": {
        "colab": {
          "base_uri": "https://localhost:8080/"
        },
        "id": "cK_2QQ_FrXKS",
        "outputId": "1e4ee1e1-8e22-4d02-b856-192d0193058c"
      },
      "execution_count": null,
      "outputs": [
        {
          "output_type": "execute_result",
          "data": {
            "text/plain": [
              "7"
            ]
          },
          "metadata": {},
          "execution_count": 13
        }
      ]
    },
    {
      "cell_type": "code",
      "source": [
        "#Let’s see what happens when we try to apply the pop method on an item that doesn’t exist:\n",
        "\n",
        "L4.pop(9)\n"
      ],
      "metadata": {
        "colab": {
          "base_uri": "https://localhost:8080/",
          "height": 207
        },
        "id": "6IwAypXjrXOv",
        "outputId": "95f60261-2be5-4c0b-8bf6-12754f676458"
      },
      "execution_count": null,
      "outputs": [
        {
          "output_type": "error",
          "ename": "IndexError",
          "evalue": "ignored",
          "traceback": [
            "\u001b[0;31m---------------------------------------------------------------------------\u001b[0m",
            "\u001b[0;31mIndexError\u001b[0m                                Traceback (most recent call last)",
            "\u001b[0;32m<ipython-input-14-e7560cdb153d>\u001b[0m in \u001b[0;36m<module>\u001b[0;34m()\u001b[0m\n\u001b[1;32m      1\u001b[0m \u001b[0;31m#Let’s see what happens when we try to apply the pop method on an item that doesn’t exist:\u001b[0m\u001b[0;34m\u001b[0m\u001b[0;34m\u001b[0m\u001b[0;34m\u001b[0m\u001b[0m\n\u001b[1;32m      2\u001b[0m \u001b[0;34m\u001b[0m\u001b[0m\n\u001b[0;32m----> 3\u001b[0;31m \u001b[0mL4\u001b[0m\u001b[0;34m.\u001b[0m\u001b[0mpop\u001b[0m\u001b[0;34m(\u001b[0m\u001b[0;36m9\u001b[0m\u001b[0;34m)\u001b[0m\u001b[0;34m\u001b[0m\u001b[0;34m\u001b[0m\u001b[0m\n\u001b[0m",
            "\u001b[0;31mIndexError\u001b[0m: pop index out of range"
          ]
        }
      ]
    },
    {
      "cell_type": "markdown",
      "source": [
        "PYTHON DEL METHOD TO REMOVE AN ITEM FROM A LIST BASED ON IDEX POSTION AND DONT REURN THE ELEMENT"
      ],
      "metadata": {
        "id": "uGVW8GLSserc"
      }
    },
    {
      "cell_type": "code",
      "source": [
        "l5=[4,5,2,3,4,5,4,7]"
      ],
      "metadata": {
        "id": "E0ExpkY1sewB"
      },
      "execution_count": null,
      "outputs": []
    },
    {
      "cell_type": "code",
      "source": [
        "del l5[5]"
      ],
      "metadata": {
        "id": "pcEc3B_ise0d"
      },
      "execution_count": null,
      "outputs": []
    },
    {
      "cell_type": "code",
      "source": [
        "l5"
      ],
      "metadata": {
        "colab": {
          "base_uri": "https://localhost:8080/"
        },
        "id": "W5ZHEJdKse5G",
        "outputId": "0f720cea-f94d-4198-e5f5-0c2a848a079a"
      },
      "execution_count": null,
      "outputs": [
        {
          "output_type": "execute_result",
          "data": {
            "text/plain": [
              "[4, 5, 2, 3, 4, 4, 7]"
            ]
          },
          "metadata": {},
          "execution_count": 18
        }
      ]
    },
    {
      "cell_type": "code",
      "source": [
        "del l5[1:3]"
      ],
      "metadata": {
        "id": "z_zqB9tgse-U"
      },
      "execution_count": null,
      "outputs": []
    },
    {
      "cell_type": "code",
      "source": [
        "l5"
      ],
      "metadata": {
        "colab": {
          "base_uri": "https://localhost:8080/"
        },
        "id": "U7VqFL41xfsl",
        "outputId": "85528767-895b-440c-f5fb-963dd67efee8"
      },
      "execution_count": null,
      "outputs": [
        {
          "output_type": "execute_result",
          "data": {
            "text/plain": [
              "[4, 3, 4, 4, 7]"
            ]
          },
          "metadata": {},
          "execution_count": 20
        }
      ]
    },
    {
      "cell_type": "code",
      "source": [
        "del l5[10]"
      ],
      "metadata": {
        "colab": {
          "base_uri": "https://localhost:8080/",
          "height": 171
        },
        "id": "QAnXNw5sxfzT",
        "outputId": "67977f6b-ae61-4631-c461-0b31067455a0"
      },
      "execution_count": null,
      "outputs": [
        {
          "output_type": "error",
          "ename": "IndexError",
          "evalue": "ignored",
          "traceback": [
            "\u001b[0;31m---------------------------------------------------------------------------\u001b[0m",
            "\u001b[0;31mIndexError\u001b[0m                                Traceback (most recent call last)",
            "\u001b[0;32m<ipython-input-21-d57e0adbd9be>\u001b[0m in \u001b[0;36m<module>\u001b[0;34m()\u001b[0m\n\u001b[0;32m----> 1\u001b[0;31m \u001b[0;32mdel\u001b[0m \u001b[0ml5\u001b[0m\u001b[0;34m[\u001b[0m\u001b[0;36m10\u001b[0m\u001b[0;34m]\u001b[0m\u001b[0;34m\u001b[0m\u001b[0;34m\u001b[0m\u001b[0m\n\u001b[0m",
            "\u001b[0;31mIndexError\u001b[0m: list assignment index out of range"
          ]
        }
      ]
    },
    {
      "cell_type": "markdown",
      "source": [
        "REMOVES ALL THE ITEMS FROM A LIST USING CLEAR"
      ],
      "metadata": {
        "id": "KjxcgSv8sfDS"
      }
    },
    {
      "cell_type": "code",
      "source": [
        "L8=[1,2,3,4,5,4,3,2,8]"
      ],
      "metadata": {
        "id": "bZhOQsgpxrS2"
      },
      "execution_count": null,
      "outputs": []
    },
    {
      "cell_type": "code",
      "source": [
        "L8.clear()"
      ],
      "metadata": {
        "id": "yyzVnH-oxrXX"
      },
      "execution_count": null,
      "outputs": []
    },
    {
      "cell_type": "code",
      "source": [
        "L8"
      ],
      "metadata": {
        "colab": {
          "base_uri": "https://localhost:8080/"
        },
        "id": "njtCn9M0xrbn",
        "outputId": "e02eac20-6f25-4a61-8881-7fc8d93e06b6"
      },
      "execution_count": null,
      "outputs": [
        {
          "output_type": "execute_result",
          "data": {
            "text/plain": [
              "[]"
            ]
          },
          "metadata": {},
          "execution_count": 26
        }
      ]
    },
    {
      "cell_type": "markdown",
      "source": [
        "REMOVE ITEMS FROM A PYTHON LIST BASED UPON A CONDITION"
      ],
      "metadata": {
        "id": "Axz-15lMxrgA"
      }
    },
    {
      "cell_type": "code",
      "source": [
        "# Delete items from a list conditionally\n",
        "values = ['datagy', 1, 2, 3, 'datagy']\n",
        "\n",
        "[i for i in values if str(i).isdigit()]"
      ],
      "metadata": {
        "id": "hYUZIh2yxrlK",
        "colab": {
          "base_uri": "https://localhost:8080/"
        },
        "outputId": "5b2de479-f173-40ad-ba3b-e5bd52768856"
      },
      "execution_count": 27,
      "outputs": [
        {
          "output_type": "execute_result",
          "data": {
            "text/plain": [
              "[1, 2, 3]"
            ]
          },
          "metadata": {},
          "execution_count": 27
        }
      ]
    },
    {
      "cell_type": "markdown",
      "source": [
        "Here we loop over our list and evaluate if the item is a numeric value. If it is, then it’s added into our list. If it’s not, then we don’t include it."
      ],
      "metadata": {
        "id": "ddwU77n_sfIV"
      }
    },
    {
      "cell_type": "code",
      "source": [
        "# Delete items from a list conditionally\n",
        "values = [1, 2, 3, 4, 5, 6]\n",
        "\n",
        "[i for i in values if i%2==0]"
      ],
      "metadata": {
        "id": "0lj7sPj-sfOp",
        "colab": {
          "base_uri": "https://localhost:8080/"
        },
        "outputId": "2b258d70-a964-468e-ef8f-6f68a5ff7b67"
      },
      "execution_count": 28,
      "outputs": [
        {
          "output_type": "execute_result",
          "data": {
            "text/plain": [
              "[2, 4, 6]"
            ]
          },
          "metadata": {},
          "execution_count": 28
        }
      ]
    },
    {
      "cell_type": "markdown",
      "source": [
        "Python: Reverse a List (6 Easy Ways)"
      ],
      "metadata": {
        "id": "4Y9v7xv3rXTK"
      }
    },
    {
      "cell_type": "code",
      "source": [
        "#reverse method\n",
        "m1=[1,2,3,4,5,6,7,8,9]"
      ],
      "metadata": {
        "id": "vciXPR2c2ySP"
      },
      "execution_count": 29,
      "outputs": []
    },
    {
      "cell_type": "code",
      "source": [
        "m1.reverse()"
      ],
      "metadata": {
        "id": "C79_kAIz2yWf"
      },
      "execution_count": 30,
      "outputs": []
    },
    {
      "cell_type": "code",
      "source": [
        "m1"
      ],
      "metadata": {
        "colab": {
          "base_uri": "https://localhost:8080/"
        },
        "id": "iT9hUHcH2ya-",
        "outputId": "3b413e36-c0ca-40c8-a08b-56cd1f9758c1"
      },
      "execution_count": 31,
      "outputs": [
        {
          "output_type": "execute_result",
          "data": {
            "text/plain": [
              "[9, 8, 7, 6, 5, 4, 3, 2, 1]"
            ]
          },
          "metadata": {},
          "execution_count": 31
        }
      ]
    },
    {
      "cell_type": "markdown",
      "source": [
        "HOW DOES LIST INDEXING WORK IN PYTHON"
      ],
      "metadata": {
        "id": "3dbeX1wArXXw"
      }
    },
    {
      "cell_type": "markdown",
      "source": [
        "REVERSE A PYTHON LIST USING REVERSED FUNCTION:\n",
        "\n",
        "REVERSED(ITERABLE)"
      ],
      "metadata": {
        "id": "N4bvIHYkrXcW"
      }
    },
    {
      "cell_type": "code",
      "source": [
        "m1"
      ],
      "metadata": {
        "id": "-0cLaPkorXhH",
        "colab": {
          "base_uri": "https://localhost:8080/"
        },
        "outputId": "9b77319d-b688-4065-c010-eb739409ea0c"
      },
      "execution_count": 32,
      "outputs": [
        {
          "output_type": "execute_result",
          "data": {
            "text/plain": [
              "[9, 8, 7, 6, 5, 4, 3, 2, 1]"
            ]
          },
          "metadata": {},
          "execution_count": 32
        }
      ]
    },
    {
      "cell_type": "code",
      "source": [
        "m2=reversed(m1)"
      ],
      "metadata": {
        "id": "cKFH6KuB9nQg"
      },
      "execution_count": 36,
      "outputs": []
    },
    {
      "cell_type": "code",
      "source": [
        "m2"
      ],
      "metadata": {
        "colab": {
          "base_uri": "https://localhost:8080/"
        },
        "id": "ri4swEzF9nU8",
        "outputId": "d6effe68-c582-4526-fd4a-a2d8b71b0fea"
      },
      "execution_count": 37,
      "outputs": [
        {
          "output_type": "execute_result",
          "data": {
            "text/plain": [
              "<list_reverseiterator at 0x7fb7befc2050>"
            ]
          },
          "metadata": {},
          "execution_count": 37
        }
      ]
    },
    {
      "cell_type": "code",
      "source": [
        "list(m2)"
      ],
      "metadata": {
        "colab": {
          "base_uri": "https://localhost:8080/"
        },
        "id": "a_yCdESA9nZW",
        "outputId": "3732b3c6-9ad8-4aed-de8c-aecb02426116"
      },
      "execution_count": 38,
      "outputs": [
        {
          "output_type": "execute_result",
          "data": {
            "text/plain": [
              "[1, 2, 3, 4, 5, 6, 7, 8, 9]"
            ]
          },
          "metadata": {},
          "execution_count": 38
        }
      ]
    },
    {
      "cell_type": "code",
      "source": [
        "m3=[4,5,6,7,8,9,4,5,3]"
      ],
      "metadata": {
        "id": "Ev0uA9ZG9ndw"
      },
      "execution_count": 39,
      "outputs": []
    },
    {
      "cell_type": "code",
      "source": [
        "m3[::2]"
      ],
      "metadata": {
        "colab": {
          "base_uri": "https://localhost:8080/"
        },
        "id": "0mqUp-U99nh8",
        "outputId": "d2673beb-3e7f-4332-9af6-5dd996917b74"
      },
      "execution_count": 40,
      "outputs": [
        {
          "output_type": "execute_result",
          "data": {
            "text/plain": [
              "[4, 6, 8, 4, 3]"
            ]
          },
          "metadata": {},
          "execution_count": 40
        }
      ]
    },
    {
      "cell_type": "code",
      "source": [
        "m3[::-1]"
      ],
      "metadata": {
        "colab": {
          "base_uri": "https://localhost:8080/"
        },
        "id": "4yGl37DR9nms",
        "outputId": "06a29084-6420-400c-edad-7bd8f6de21e4"
      },
      "execution_count": 41,
      "outputs": [
        {
          "output_type": "execute_result",
          "data": {
            "text/plain": [
              "[3, 5, 4, 9, 8, 7, 6, 5, 4]"
            ]
          },
          "metadata": {},
          "execution_count": 41
        }
      ]
    },
    {
      "cell_type": "markdown",
      "source": [
        "#indexing\n",
        "[start:stop:step]"
      ],
      "metadata": {
        "id": "79VzyQl29nrF"
      }
    },
    {
      "cell_type": "markdown",
      "source": [
        "#reverse python list using for loop\n"
      ],
      "metadata": {
        "id": "4lzh5DhCAJe9"
      }
    },
    {
      "cell_type": "code",
      "source": [
        "m3"
      ],
      "metadata": {
        "colab": {
          "base_uri": "https://localhost:8080/"
        },
        "id": "j4OVsyzCAJja",
        "outputId": "446f6344-3890-44ff-b3bf-38d897232088"
      },
      "execution_count": 43,
      "outputs": [
        {
          "output_type": "execute_result",
          "data": {
            "text/plain": [
              "[4, 5, 6, 7, 8, 9, 4, 5, 3]"
            ]
          },
          "metadata": {},
          "execution_count": 43
        }
      ]
    },
    {
      "cell_type": "code",
      "source": [
        "m4=[]\n",
        "\n",
        "for i in reversed(m3):\n",
        "  m4.append(i)"
      ],
      "metadata": {
        "id": "KIRPH4eDAJnK"
      },
      "execution_count": 44,
      "outputs": []
    },
    {
      "cell_type": "code",
      "source": [
        "m4"
      ],
      "metadata": {
        "colab": {
          "base_uri": "https://localhost:8080/"
        },
        "id": "ZP7Ushcz9nvv",
        "outputId": "5273fce9-a3cc-4340-fe50-08e8ec315e7d"
      },
      "execution_count": 45,
      "outputs": [
        {
          "output_type": "execute_result",
          "data": {
            "text/plain": [
              "[3, 5, 4, 9, 8, 7, 6, 5, 4]"
            ]
          },
          "metadata": {},
          "execution_count": 45
        }
      ]
    },
    {
      "cell_type": "code",
      "source": [
        "m4.count(4)"
      ],
      "metadata": {
        "colab": {
          "base_uri": "https://localhost:8080/"
        },
        "id": "PY_N252g9n0I",
        "outputId": "096c34cf-cf9e-432d-ad9e-124b8a5af9b7"
      },
      "execution_count": 46,
      "outputs": [
        {
          "output_type": "execute_result",
          "data": {
            "text/plain": [
              "2"
            ]
          },
          "metadata": {},
          "execution_count": 46
        }
      ]
    },
    {
      "cell_type": "code",
      "source": [
        ""
      ],
      "metadata": {
        "id": "IFOJjHqf9n4o"
      },
      "execution_count": null,
      "outputs": []
    },
    {
      "cell_type": "code",
      "source": [
        ""
      ],
      "metadata": {
        "id": "wkbcoOLI9n9K"
      },
      "execution_count": null,
      "outputs": []
    },
    {
      "cell_type": "code",
      "source": [
        ""
      ],
      "metadata": {
        "id": "y3mLFKfn9oAt"
      },
      "execution_count": null,
      "outputs": []
    },
    {
      "cell_type": "code",
      "source": [
        ""
      ],
      "metadata": {
        "id": "awd_AHC-rXlz"
      },
      "execution_count": null,
      "outputs": []
    },
    {
      "cell_type": "code",
      "source": [
        ""
      ],
      "metadata": {
        "id": "zBnHgh_6pPuD"
      },
      "execution_count": null,
      "outputs": []
    },
    {
      "cell_type": "code",
      "source": [
        ""
      ],
      "metadata": {
        "id": "K2BStJpvpP1L"
      },
      "execution_count": null,
      "outputs": []
    },
    {
      "cell_type": "code",
      "source": [
        ""
      ],
      "metadata": {
        "id": "kIHt5zMRnjxK"
      },
      "execution_count": null,
      "outputs": []
    },
    {
      "cell_type": "code",
      "source": [
        ""
      ],
      "metadata": {
        "id": "KtoVEKGunHHr"
      },
      "execution_count": null,
      "outputs": []
    },
    {
      "cell_type": "code",
      "source": [
        ""
      ],
      "metadata": {
        "id": "V-wRaoVvnHM7"
      },
      "execution_count": null,
      "outputs": []
    },
    {
      "cell_type": "code",
      "source": [
        ""
      ],
      "metadata": {
        "id": "bbsF8ss2mtQf"
      },
      "execution_count": null,
      "outputs": []
    },
    {
      "cell_type": "code",
      "source": [
        ""
      ],
      "metadata": {
        "id": "TWyFoizCmtVP"
      },
      "execution_count": null,
      "outputs": []
    },
    {
      "cell_type": "code",
      "source": [
        ""
      ],
      "metadata": {
        "id": "ZnFDYkqVmta_"
      },
      "execution_count": null,
      "outputs": []
    },
    {
      "cell_type": "code",
      "source": [
        ""
      ],
      "metadata": {
        "id": "HkQbP8oPm2Wv"
      },
      "execution_count": null,
      "outputs": []
    },
    {
      "cell_type": "code",
      "source": [
        ""
      ],
      "metadata": {
        "id": "5qaM2gl0m2bX"
      },
      "execution_count": null,
      "outputs": []
    },
    {
      "cell_type": "code",
      "source": [
        ""
      ],
      "metadata": {
        "id": "Ch7Shf_Nm2ft"
      },
      "execution_count": null,
      "outputs": []
    },
    {
      "cell_type": "code",
      "source": [
        ""
      ],
      "metadata": {
        "id": "5b3KRAWkm2kd"
      },
      "execution_count": null,
      "outputs": []
    },
    {
      "cell_type": "code",
      "source": [
        ""
      ],
      "metadata": {
        "id": "Si-j3pG6klww"
      },
      "execution_count": null,
      "outputs": []
    },
    {
      "cell_type": "code",
      "source": [
        ""
      ],
      "metadata": {
        "id": "78vsvWvIklzQ"
      },
      "execution_count": null,
      "outputs": []
    },
    {
      "cell_type": "code",
      "source": [
        ""
      ],
      "metadata": {
        "id": "bQQhejF4kl2G"
      },
      "execution_count": null,
      "outputs": []
    },
    {
      "cell_type": "code",
      "source": [
        ""
      ],
      "metadata": {
        "id": "5ZygME30kl47"
      },
      "execution_count": null,
      "outputs": []
    },
    {
      "cell_type": "code",
      "source": [
        ""
      ],
      "metadata": {
        "id": "inXlIxLVkl8g"
      },
      "execution_count": null,
      "outputs": []
    },
    {
      "cell_type": "code",
      "source": [
        ""
      ],
      "metadata": {
        "id": "qUkVOlhokmCk"
      },
      "execution_count": null,
      "outputs": []
    },
    {
      "cell_type": "code",
      "source": [
        ""
      ],
      "metadata": {
        "id": "7HgL63BykmNK"
      },
      "execution_count": null,
      "outputs": []
    },
    {
      "cell_type": "code",
      "source": [
        ""
      ],
      "metadata": {
        "id": "nlv0xDI9hGHt"
      },
      "execution_count": null,
      "outputs": []
    },
    {
      "cell_type": "code",
      "source": [
        ""
      ],
      "metadata": {
        "id": "yTBjORoThGKB"
      },
      "execution_count": null,
      "outputs": []
    },
    {
      "cell_type": "code",
      "source": [
        ""
      ],
      "metadata": {
        "id": "KCZ_IaYshGMV"
      },
      "execution_count": null,
      "outputs": []
    },
    {
      "cell_type": "code",
      "source": [
        ""
      ],
      "metadata": {
        "id": "dmTVVv04hGO9"
      },
      "execution_count": null,
      "outputs": []
    },
    {
      "cell_type": "code",
      "source": [
        ""
      ],
      "metadata": {
        "id": "UKeaMKWWhGRa"
      },
      "execution_count": null,
      "outputs": []
    },
    {
      "cell_type": "code",
      "source": [
        ""
      ],
      "metadata": {
        "id": "1D1qETVyhGTy"
      },
      "execution_count": null,
      "outputs": []
    },
    {
      "cell_type": "code",
      "source": [
        ""
      ],
      "metadata": {
        "id": "oHxTJMA3hGWH"
      },
      "execution_count": null,
      "outputs": []
    },
    {
      "cell_type": "code",
      "source": [
        ""
      ],
      "metadata": {
        "id": "K5nSUDs0hGZk"
      },
      "execution_count": null,
      "outputs": []
    }
  ]
}