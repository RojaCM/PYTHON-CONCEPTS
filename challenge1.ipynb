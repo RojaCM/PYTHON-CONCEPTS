{
  "nbformat": 4,
  "nbformat_minor": 0,
  "metadata": {
    "colab": {
      "provenance": [],
      "authorship_tag": "ABX9TyN3QZPVFzoxMlG3nAhlJ+CM",
      "include_colab_link": true
    },
    "kernelspec": {
      "name": "python3",
      "display_name": "Python 3"
    },
    "language_info": {
      "name": "python"
    }
  },
  "cells": [
    {
      "cell_type": "markdown",
      "metadata": {
        "id": "view-in-github",
        "colab_type": "text"
      },
      "source": [
        "<a href=\"https://colab.research.google.com/github/RojaCM/PYTHON-CONCEPTS/blob/main/challenge1.ipynb\" target=\"_parent\"><img src=\"https://colab.research.google.com/assets/colab-badge.svg\" alt=\"Open In Colab\"/></a>"
      ]
    },
    {
      "cell_type": "code",
      "execution_count": 2,
      "metadata": {
        "colab": {
          "base_uri": "https://localhost:8080/"
        },
        "id": "lgcASmEX94Bo",
        "outputId": "785cb8ad-849b-4dee-8e99-2729c015c248"
      },
      "outputs": [
        {
          "output_type": "execute_result",
          "data": {
            "text/plain": [
              "8"
            ]
          },
          "metadata": {},
          "execution_count": 2
        }
      ],
      "source": [
        "#1. Write a function that takes two integers as input and returns their sum.\n",
        "\n",
        "def sum_fun(a,b):\n",
        "  return a+b\n",
        "\n",
        "\n",
        "sum_fun(3,5)"
      ]
    },
    {
      "cell_type": "code",
      "source": [
        "#2. Write a function that takes a string as input and returns the string in reverse order.\n",
        "\n",
        "def fun1(): \n",
        "   a=input('enter a string')\n",
        "   return a[::-1]"
      ],
      "metadata": {
        "id": "dg5xtnPS-TyV"
      },
      "execution_count": 4,
      "outputs": []
    },
    {
      "cell_type": "code",
      "source": [
        "fun1()"
      ],
      "metadata": {
        "colab": {
          "base_uri": "https://localhost:8080/",
          "height": 54
        },
        "id": "YHQv9gPO-T0m",
        "outputId": "56333c43-8a7e-4351-9c4e-23fccdc44a8c"
      },
      "execution_count": 5,
      "outputs": [
        {
          "name": "stdout",
          "output_type": "stream",
          "text": [
            "enter a stringroja\n"
          ]
        },
        {
          "output_type": "execute_result",
          "data": {
            "text/plain": [
              "'ajor'"
            ],
            "application/vnd.google.colaboratory.intrinsic+json": {
              "type": "string"
            }
          },
          "metadata": {},
          "execution_count": 5
        }
      ]
    },
    {
      "cell_type": "code",
      "source": [
        "#Write a function that takes a list of numbers and returns the sum of all the numbers in the list.\n",
        "\n",
        "def func2():\n",
        "  n=5\n",
        "  c=[]\n",
        "  for i in range(5):\n",
        "    b=int(input('enter a number'))\n",
        "    c.append(b)\n",
        "\n",
        "  return sum(c)\n"
      ],
      "metadata": {
        "id": "hPz1OqJ2-T3A"
      },
      "execution_count": 8,
      "outputs": []
    },
    {
      "cell_type": "code",
      "source": [
        "func2()"
      ],
      "metadata": {
        "colab": {
          "base_uri": "https://localhost:8080/"
        },
        "id": "0wjfrXsUCGVB",
        "outputId": "19866c77-e8a4-4b49-a1f8-9f729a1801ef"
      },
      "execution_count": 9,
      "outputs": [
        {
          "name": "stdout",
          "output_type": "stream",
          "text": [
            "enter a number1\n",
            "enter a number2\n",
            "enter a number3\n",
            "enter a number4\n",
            "enter a number5\n"
          ]
        },
        {
          "output_type": "execute_result",
          "data": {
            "text/plain": [
              "15"
            ]
          },
          "metadata": {},
          "execution_count": 9
        }
      ]
    },
    {
      "cell_type": "code",
      "source": [
        "#4. Write a function that takes a list of strings and returns a new list containing the length of each string.\n",
        "\n",
        "d=[]\n",
        "n1=4\n",
        "\n",
        "for i in range(n1):\n",
        "  st1=input('enter a string')\n",
        "  d.append(st1)"
      ],
      "metadata": {
        "colab": {
          "base_uri": "https://localhost:8080/"
        },
        "id": "gaSCzqdlCHVO",
        "outputId": "5b239734-4462-42e5-9ab9-758a714d9042"
      },
      "execution_count": 11,
      "outputs": [
        {
          "name": "stdout",
          "output_type": "stream",
          "text": [
            "enter a stringroja\n",
            "enter a stringpooja\n",
            "enter a stringja\n",
            "enter a stringmanju\n"
          ]
        }
      ]
    },
    {
      "cell_type": "code",
      "source": [
        "d"
      ],
      "metadata": {
        "colab": {
          "base_uri": "https://localhost:8080/"
        },
        "id": "8P67CbiKCoKU",
        "outputId": "7a1385f0-3478-43b1-9dd7-8800c9f088f8"
      },
      "execution_count": 12,
      "outputs": [
        {
          "output_type": "execute_result",
          "data": {
            "text/plain": [
              "['roja', 'pooja', 'ja', 'manju']"
            ]
          },
          "metadata": {},
          "execution_count": 12
        }
      ]
    },
    {
      "cell_type": "code",
      "source": [
        "def func4(a):\n",
        "\n",
        "  return len(a)"
      ],
      "metadata": {
        "id": "v3JL9vcLCuga"
      },
      "execution_count": 13,
      "outputs": []
    },
    {
      "cell_type": "code",
      "source": [
        "list(map(func4,d))"
      ],
      "metadata": {
        "colab": {
          "base_uri": "https://localhost:8080/"
        },
        "id": "XmQcM1L9DCVh",
        "outputId": "0442549f-e210-4071-dc06-0400ed7d3a93"
      },
      "execution_count": 16,
      "outputs": [
        {
          "output_type": "execute_result",
          "data": {
            "text/plain": [
              "[4, 5, 2, 5]"
            ]
          },
          "metadata": {},
          "execution_count": 16
        }
      ]
    },
    {
      "cell_type": "code",
      "source": [],
      "metadata": {
        "id": "mbvqExr9DEkL"
      },
      "execution_count": null,
      "outputs": []
    },
    {
      "cell_type": "code",
      "source": [],
      "metadata": {
        "id": "gmFIqM8NDJrq"
      },
      "execution_count": null,
      "outputs": []
    },
    {
      "cell_type": "code",
      "source": [],
      "metadata": {
        "id": "f5Q-p9GtDJxz"
      },
      "execution_count": null,
      "outputs": []
    },
    {
      "cell_type": "code",
      "source": [],
      "metadata": {
        "id": "Uwi8VLvODJ3M"
      },
      "execution_count": null,
      "outputs": []
    },
    {
      "cell_type": "code",
      "source": [],
      "metadata": {
        "id": "qwxC2vR9DJ9R"
      },
      "execution_count": null,
      "outputs": []
    },
    {
      "cell_type": "code",
      "source": [],
      "metadata": {
        "id": "VkD2WdVZDKLc"
      },
      "execution_count": null,
      "outputs": []
    },
    {
      "cell_type": "code",
      "source": [],
      "metadata": {
        "id": "H1nzMWyUDKRP"
      },
      "execution_count": null,
      "outputs": []
    },
    {
      "cell_type": "code",
      "source": [],
      "metadata": {
        "id": "jg4qEh_pDKWy"
      },
      "execution_count": null,
      "outputs": []
    }
  ]
}